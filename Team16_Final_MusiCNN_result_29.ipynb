{
  "cells": [
    {
      "cell_type": "markdown",
      "metadata": {
        "id": "view-in-github",
        "colab_type": "text"
      },
      "source": [
        "<a href=\"https://colab.research.google.com/github/nsy033/CS376_TEAM16/blob/master/Team16_Final_MusiCNN_result_29.ipynb\" target=\"_parent\"><img src=\"https://colab.research.google.com/assets/colab-badge.svg\" alt=\"Open In Colab\"/></a>"
      ]
    },
    {
      "cell_type": "markdown",
      "metadata": {
        "id": "9q-RCFmn2yDG"
      },
      "source": [
        "##***CS376* Machine Learning Final Project**\n",
        "\n",
        "**Title** |  Music mood tagging model with multi label classification using music feature data and pre-labeled data\n",
        "\n",
        "----\n",
        "\n",
        "    Team 16\n",
        "    20190432 윤태양 Taeyang Yoon\n",
        "    20190606 정재령 Jaeryung Chung\n",
        "    20190656 최승연 Seungyeon Choi"
      ]
    },
    {
      "cell_type": "markdown",
      "source": [
        "###Basic Setup"
      ],
      "metadata": {
        "id": "I07kaTZhnfbV"
      }
    },
    {
      "cell_type": "markdown",
      "source": [
        "#####Install required packages."
      ],
      "metadata": {
        "id": "3G6xQAEnsHYj"
      }
    },
    {
      "cell_type": "code",
      "execution_count": null,
      "metadata": {
        "colab": {
          "base_uri": "https://localhost:8080/"
        },
        "id": "Cfh7GDQy2s14",
        "outputId": "8d1f37aa-5f56-4db0-f84b-8f9031e08452"
      },
      "outputs": [
        {
          "output_type": "stream",
          "name": "stdout",
          "text": [
            "Ubuntu 18.04.5 LTS\n",
            "processor\t: 0\n",
            "vendor_id\t: GenuineIntel\n",
            "cpu family\t: 6\n",
            "model\t\t: 79\n",
            "model name\t: Intel(R) Xeon(R) CPU @ 2.20GHz\n",
            "stepping\t: 0\n",
            "microcode\t: 0x1\n",
            "cpu MHz\t\t: 2199.998\n",
            "cache size\t: 56320 KB\n",
            "physical id\t: 0\n",
            "MemTotal:       26692024 kB\n",
            "MemFree:        24189692 kB\n",
            "MemAvailable:   25779216 kB\n",
            "Filesystem      Size  Used Avail Use% Mounted on\n",
            "overlay         226G   39G  188G  17% /\n",
            "tmpfs            64M     0   64M   0% /dev\n",
            "shm              13G     0   13G   0% /dev/shm\n",
            "/dev/root       2.0G  1.2G  812M  59% /sbin/docker-init\n",
            "tmpfs            13G   28K   13G   1% /var/colab\n",
            "/dev/sda1       233G   41G  192G  18% /etc/hosts\n",
            "tmpfs            13G     0   13G   0% /proc/acpi\n",
            "tmpfs            13G     0   13G   0% /proc/scsi\n",
            "tmpfs            13G     0   13G   0% /sys/firmware\n",
            "/content\n"
          ]
        }
      ],
      "source": [
        "# Check Colab System Spec.\n",
        "!cat /etc/issue.net       # Colab OS\n",
        "!head /proc/cpuinfo       # Colab CPU\n",
        "!head -n 3 /proc/meminfo  # Memory Spec.\n",
        "!df -h                    # Disk Spec.\n",
        "!pwd                      # Current Directory"
      ]
    },
    {
      "cell_type": "code",
      "execution_count": null,
      "metadata": {
        "colab": {
          "base_uri": "https://localhost:8080/"
        },
        "id": "zaKhfEG-26ou",
        "outputId": "b8a666d1-8636-42ec-9b45-b0568cc1ef2a"
      },
      "outputs": [
        {
          "output_type": "stream",
          "name": "stdout",
          "text": [
            "Looking in indexes: https://pypi.org/simple, https://us-python.pkg.dev/colab-wheels/public/simple/\n",
            "Requirement already satisfied: audioread in /usr/local/lib/python3.7/dist-packages (2.1.9)\n",
            "Looking in indexes: https://pypi.org/simple, https://us-python.pkg.dev/colab-wheels/public/simple/\n",
            "Collecting essentia\n",
            "  Downloading essentia-2.1b6.dev778-cp37-cp37m-manylinux_2_17_x86_64.manylinux2014_x86_64.whl (13.6 MB)\n",
            "\u001b[K     |████████████████████████████████| 13.6 MB 5.0 MB/s \n",
            "\u001b[?25hRequirement already satisfied: pyyaml in /usr/local/lib/python3.7/dist-packages (from essentia) (3.13)\n",
            "Requirement already satisfied: six in /usr/local/lib/python3.7/dist-packages (from essentia) (1.15.0)\n",
            "Requirement already satisfied: numpy>=1.8.2 in /usr/local/lib/python3.7/dist-packages (from essentia) (1.21.6)\n",
            "Installing collected packages: essentia\n",
            "Successfully installed essentia-2.1b6.dev778\n",
            "Looking in indexes: https://pypi.org/simple, https://us-python.pkg.dev/colab-wheels/public/simple/\n",
            "Collecting fire\n",
            "  Downloading fire-0.4.0.tar.gz (87 kB)\n",
            "\u001b[K     |████████████████████████████████| 87 kB 3.0 MB/s \n",
            "\u001b[?25hRequirement already satisfied: six in /usr/local/lib/python3.7/dist-packages (from fire) (1.15.0)\n",
            "Requirement already satisfied: termcolor in /usr/local/lib/python3.7/dist-packages (from fire) (1.1.0)\n",
            "Building wheels for collected packages: fire\n",
            "  Building wheel for fire (setup.py) ... \u001b[?25l\u001b[?25hdone\n",
            "  Created wheel for fire: filename=fire-0.4.0-py2.py3-none-any.whl size=115942 sha256=5b76198014dfd62832b9d8a1f713f02a9509ce589b7784addaa125b6ce241aa7\n",
            "  Stored in directory: /root/.cache/pip/wheels/8a/67/fb/2e8a12fa16661b9d5af1f654bd199366799740a85c64981226\n",
            "Successfully built fire\n",
            "Installing collected packages: fire\n",
            "Successfully installed fire-0.4.0\n",
            "Looking in indexes: https://pypi.org/simple, https://us-python.pkg.dev/colab-wheels/public/simple/\n",
            "Requirement already satisfied: grpcio in /usr/local/lib/python3.7/dist-packages (1.46.3)\n",
            "Requirement already satisfied: six>=1.5.2 in /usr/local/lib/python3.7/dist-packages (from grpcio) (1.15.0)\n",
            "Looking in indexes: https://pypi.org/simple, https://us-python.pkg.dev/colab-wheels/public/simple/\n",
            "Requirement already satisfied: h5py in /usr/local/lib/python3.7/dist-packages (3.1.0)\n",
            "Requirement already satisfied: numpy>=1.14.5 in /usr/local/lib/python3.7/dist-packages (from h5py) (1.21.6)\n",
            "Requirement already satisfied: cached-property in /usr/local/lib/python3.7/dist-packages (from h5py) (1.5.2)\n",
            "Looking in indexes: https://pypi.org/simple, https://us-python.pkg.dev/colab-wheels/public/simple/\n",
            "Requirement already satisfied: librosa in /usr/local/lib/python3.7/dist-packages (0.8.1)\n",
            "Requirement already satisfied: pooch>=1.0 in /usr/local/lib/python3.7/dist-packages (from librosa) (1.6.0)\n",
            "Requirement already satisfied: scikit-learn!=0.19.0,>=0.14.0 in /usr/local/lib/python3.7/dist-packages (from librosa) (1.0.2)\n",
            "Requirement already satisfied: decorator>=3.0.0 in /usr/local/lib/python3.7/dist-packages (from librosa) (4.4.2)\n",
            "Requirement already satisfied: scipy>=1.0.0 in /usr/local/lib/python3.7/dist-packages (from librosa) (1.4.1)\n",
            "Requirement already satisfied: numba>=0.43.0 in /usr/local/lib/python3.7/dist-packages (from librosa) (0.51.2)\n",
            "Requirement already satisfied: joblib>=0.14 in /usr/local/lib/python3.7/dist-packages (from librosa) (1.1.0)\n",
            "Requirement already satisfied: packaging>=20.0 in /usr/local/lib/python3.7/dist-packages (from librosa) (21.3)\n",
            "Requirement already satisfied: soundfile>=0.10.2 in /usr/local/lib/python3.7/dist-packages (from librosa) (0.10.3.post1)\n",
            "Requirement already satisfied: audioread>=2.0.0 in /usr/local/lib/python3.7/dist-packages (from librosa) (2.1.9)\n",
            "Requirement already satisfied: numpy>=1.15.0 in /usr/local/lib/python3.7/dist-packages (from librosa) (1.21.6)\n",
            "Requirement already satisfied: resampy>=0.2.2 in /usr/local/lib/python3.7/dist-packages (from librosa) (0.2.2)\n",
            "Requirement already satisfied: llvmlite<0.35,>=0.34.0.dev0 in /usr/local/lib/python3.7/dist-packages (from numba>=0.43.0->librosa) (0.34.0)\n",
            "Requirement already satisfied: setuptools in /usr/local/lib/python3.7/dist-packages (from numba>=0.43.0->librosa) (57.4.0)\n",
            "Requirement already satisfied: pyparsing!=3.0.5,>=2.0.2 in /usr/local/lib/python3.7/dist-packages (from packaging>=20.0->librosa) (3.0.9)\n",
            "Requirement already satisfied: requests>=2.19.0 in /usr/local/lib/python3.7/dist-packages (from pooch>=1.0->librosa) (2.23.0)\n",
            "Requirement already satisfied: appdirs>=1.3.0 in /usr/local/lib/python3.7/dist-packages (from pooch>=1.0->librosa) (1.4.4)\n",
            "Requirement already satisfied: urllib3!=1.25.0,!=1.25.1,<1.26,>=1.21.1 in /usr/local/lib/python3.7/dist-packages (from requests>=2.19.0->pooch>=1.0->librosa) (1.24.3)\n",
            "Requirement already satisfied: certifi>=2017.4.17 in /usr/local/lib/python3.7/dist-packages (from requests>=2.19.0->pooch>=1.0->librosa) (2022.5.18.1)\n",
            "Requirement already satisfied: chardet<4,>=3.0.2 in /usr/local/lib/python3.7/dist-packages (from requests>=2.19.0->pooch>=1.0->librosa) (3.0.4)\n",
            "Requirement already satisfied: idna<3,>=2.5 in /usr/local/lib/python3.7/dist-packages (from requests>=2.19.0->pooch>=1.0->librosa) (2.10)\n",
            "Requirement already satisfied: six>=1.3 in /usr/local/lib/python3.7/dist-packages (from resampy>=0.2.2->librosa) (1.15.0)\n",
            "Requirement already satisfied: threadpoolctl>=2.0.0 in /usr/local/lib/python3.7/dist-packages (from scikit-learn!=0.19.0,>=0.14.0->librosa) (3.1.0)\n",
            "Requirement already satisfied: cffi>=1.0 in /usr/local/lib/python3.7/dist-packages (from soundfile>=0.10.2->librosa) (1.15.0)\n",
            "Requirement already satisfied: pycparser in /usr/local/lib/python3.7/dist-packages (from cffi>=1.0->soundfile>=0.10.2->librosa) (2.21)\n",
            "Looking in indexes: https://pypi.org/simple, https://us-python.pkg.dev/colab-wheels/public/simple/\n",
            "Requirement already satisfied: llvmlite in /usr/local/lib/python3.7/dist-packages (0.34.0)\n",
            "Looking in indexes: https://pypi.org/simple, https://us-python.pkg.dev/colab-wheels/public/simple/\n",
            "Requirement already satisfied: matplotlib in /usr/local/lib/python3.7/dist-packages (3.2.2)\n",
            "Requirement already satisfied: numpy>=1.11 in /usr/local/lib/python3.7/dist-packages (from matplotlib) (1.21.6)\n",
            "Requirement already satisfied: kiwisolver>=1.0.1 in /usr/local/lib/python3.7/dist-packages (from matplotlib) (1.4.2)\n",
            "Requirement already satisfied: cycler>=0.10 in /usr/local/lib/python3.7/dist-packages (from matplotlib) (0.11.0)\n",
            "Requirement already satisfied: pyparsing!=2.0.4,!=2.1.2,!=2.1.6,>=2.0.1 in /usr/local/lib/python3.7/dist-packages (from matplotlib) (3.0.9)\n",
            "Requirement already satisfied: python-dateutil>=2.1 in /usr/local/lib/python3.7/dist-packages (from matplotlib) (2.8.2)\n",
            "Requirement already satisfied: typing-extensions in /usr/local/lib/python3.7/dist-packages (from kiwisolver>=1.0.1->matplotlib) (4.2.0)\n",
            "Requirement already satisfied: six>=1.5 in /usr/local/lib/python3.7/dist-packages (from python-dateutil>=2.1->matplotlib) (1.15.0)\n",
            "Looking in indexes: https://pypi.org/simple, https://us-python.pkg.dev/colab-wheels/public/simple/\n",
            "Requirement already satisfied: numba in /usr/local/lib/python3.7/dist-packages (0.51.2)\n",
            "Requirement already satisfied: llvmlite<0.35,>=0.34.0.dev0 in /usr/local/lib/python3.7/dist-packages (from numba) (0.34.0)\n",
            "Requirement already satisfied: numpy>=1.15 in /usr/local/lib/python3.7/dist-packages (from numba) (1.21.6)\n",
            "Requirement already satisfied: setuptools in /usr/local/lib/python3.7/dist-packages (from numba) (57.4.0)\n",
            "Looking in indexes: https://pypi.org/simple, https://us-python.pkg.dev/colab-wheels/public/simple/\n",
            "Requirement already satisfied: numpy in /usr/local/lib/python3.7/dist-packages (1.21.6)\n",
            "Looking in indexes: https://pypi.org/simple, https://us-python.pkg.dev/colab-wheels/public/simple/\n",
            "Requirement already satisfied: pandas in /usr/local/lib/python3.7/dist-packages (1.3.5)\n",
            "Requirement already satisfied: pytz>=2017.3 in /usr/local/lib/python3.7/dist-packages (from pandas) (2022.1)\n",
            "Requirement already satisfied: numpy>=1.17.3 in /usr/local/lib/python3.7/dist-packages (from pandas) (1.21.6)\n",
            "Requirement already satisfied: python-dateutil>=2.7.3 in /usr/local/lib/python3.7/dist-packages (from pandas) (2.8.2)\n",
            "Requirement already satisfied: six>=1.5 in /usr/local/lib/python3.7/dist-packages (from python-dateutil>=2.7.3->pandas) (1.15.0)\n",
            "Looking in indexes: https://pypi.org/simple, https://us-python.pkg.dev/colab-wheels/public/simple/\n",
            "Requirement already satisfied: scikit-learn in /usr/local/lib/python3.7/dist-packages (1.0.2)\n",
            "Requirement already satisfied: numpy>=1.14.6 in /usr/local/lib/python3.7/dist-packages (from scikit-learn) (1.21.6)\n",
            "Requirement already satisfied: scipy>=1.1.0 in /usr/local/lib/python3.7/dist-packages (from scikit-learn) (1.4.1)\n",
            "Requirement already satisfied: joblib>=0.11 in /usr/local/lib/python3.7/dist-packages (from scikit-learn) (1.1.0)\n",
            "Requirement already satisfied: threadpoolctl>=2.0.0 in /usr/local/lib/python3.7/dist-packages (from scikit-learn) (3.1.0)\n",
            "Looking in indexes: https://pypi.org/simple, https://us-python.pkg.dev/colab-wheels/public/simple/\n",
            "Requirement already satisfied: scipy in /usr/local/lib/python3.7/dist-packages (1.4.1)\n",
            "Requirement already satisfied: numpy>=1.13.3 in /usr/local/lib/python3.7/dist-packages (from scipy) (1.21.6)\n",
            "Looking in indexes: https://pypi.org/simple, https://us-python.pkg.dev/colab-wheels/public/simple/\n",
            "Requirement already satisfied: six in /usr/local/lib/python3.7/dist-packages (1.15.0)\n",
            "Looking in indexes: https://pypi.org/simple, https://us-python.pkg.dev/colab-wheels/public/simple/\n",
            "Requirement already satisfied: SoundFile in /usr/local/lib/python3.7/dist-packages (0.10.3.post1)\n",
            "Requirement already satisfied: cffi>=1.0 in /usr/local/lib/python3.7/dist-packages (from SoundFile) (1.15.0)\n",
            "Requirement already satisfied: pycparser in /usr/local/lib/python3.7/dist-packages (from cffi>=1.0->SoundFile) (2.21)\n",
            "Looking in indexes: https://pypi.org/simple, https://us-python.pkg.dev/colab-wheels/public/simple/\n",
            "Collecting sox\n",
            "  Downloading sox-1.4.1-py2.py3-none-any.whl (39 kB)\n",
            "Requirement already satisfied: numpy>=1.9.0 in /usr/local/lib/python3.7/dist-packages (from sox) (1.21.6)\n",
            "Installing collected packages: sox\n",
            "Successfully installed sox-1.4.1\n",
            "Looking in indexes: https://pypi.org/simple, https://us-python.pkg.dev/colab-wheels/public/simple/\n",
            "Requirement already satisfied: tensorboard in /usr/local/lib/python3.7/dist-packages (2.8.0)\n",
            "Requirement already satisfied: grpcio>=1.24.3 in /usr/local/lib/python3.7/dist-packages (from tensorboard) (1.46.3)\n",
            "Requirement already satisfied: markdown>=2.6.8 in /usr/local/lib/python3.7/dist-packages (from tensorboard) (3.3.7)\n",
            "Requirement already satisfied: google-auth<3,>=1.6.3 in /usr/local/lib/python3.7/dist-packages (from tensorboard) (1.35.0)\n",
            "Requirement already satisfied: setuptools>=41.0.0 in /usr/local/lib/python3.7/dist-packages (from tensorboard) (57.4.0)\n",
            "Requirement already satisfied: werkzeug>=0.11.15 in /usr/local/lib/python3.7/dist-packages (from tensorboard) (1.0.1)\n",
            "Requirement already satisfied: google-auth-oauthlib<0.5,>=0.4.1 in /usr/local/lib/python3.7/dist-packages (from tensorboard) (0.4.6)\n",
            "Requirement already satisfied: wheel>=0.26 in /usr/local/lib/python3.7/dist-packages (from tensorboard) (0.37.1)\n",
            "Requirement already satisfied: tensorboard-plugin-wit>=1.6.0 in /usr/local/lib/python3.7/dist-packages (from tensorboard) (1.8.1)\n",
            "Requirement already satisfied: numpy>=1.12.0 in /usr/local/lib/python3.7/dist-packages (from tensorboard) (1.21.6)\n",
            "Requirement already satisfied: tensorboard-data-server<0.7.0,>=0.6.0 in /usr/local/lib/python3.7/dist-packages (from tensorboard) (0.6.1)\n",
            "Requirement already satisfied: protobuf>=3.6.0 in /usr/local/lib/python3.7/dist-packages (from tensorboard) (3.17.3)\n",
            "Requirement already satisfied: requests<3,>=2.21.0 in /usr/local/lib/python3.7/dist-packages (from tensorboard) (2.23.0)\n",
            "Requirement already satisfied: absl-py>=0.4 in /usr/local/lib/python3.7/dist-packages (from tensorboard) (1.0.0)\n",
            "Requirement already satisfied: six in /usr/local/lib/python3.7/dist-packages (from absl-py>=0.4->tensorboard) (1.15.0)\n",
            "Requirement already satisfied: pyasn1-modules>=0.2.1 in /usr/local/lib/python3.7/dist-packages (from google-auth<3,>=1.6.3->tensorboard) (0.2.8)\n",
            "Requirement already satisfied: rsa<5,>=3.1.4 in /usr/local/lib/python3.7/dist-packages (from google-auth<3,>=1.6.3->tensorboard) (4.8)\n",
            "Requirement already satisfied: cachetools<5.0,>=2.0.0 in /usr/local/lib/python3.7/dist-packages (from google-auth<3,>=1.6.3->tensorboard) (4.2.4)\n",
            "Requirement already satisfied: requests-oauthlib>=0.7.0 in /usr/local/lib/python3.7/dist-packages (from google-auth-oauthlib<0.5,>=0.4.1->tensorboard) (1.3.1)\n",
            "Requirement already satisfied: importlib-metadata>=4.4 in /usr/local/lib/python3.7/dist-packages (from markdown>=2.6.8->tensorboard) (4.11.4)\n",
            "Requirement already satisfied: zipp>=0.5 in /usr/local/lib/python3.7/dist-packages (from importlib-metadata>=4.4->markdown>=2.6.8->tensorboard) (3.8.0)\n",
            "Requirement already satisfied: typing-extensions>=3.6.4 in /usr/local/lib/python3.7/dist-packages (from importlib-metadata>=4.4->markdown>=2.6.8->tensorboard) (4.2.0)\n",
            "Requirement already satisfied: pyasn1<0.5.0,>=0.4.6 in /usr/local/lib/python3.7/dist-packages (from pyasn1-modules>=0.2.1->google-auth<3,>=1.6.3->tensorboard) (0.4.8)\n",
            "Requirement already satisfied: chardet<4,>=3.0.2 in /usr/local/lib/python3.7/dist-packages (from requests<3,>=2.21.0->tensorboard) (3.0.4)\n",
            "Requirement already satisfied: urllib3!=1.25.0,!=1.25.1,<1.26,>=1.21.1 in /usr/local/lib/python3.7/dist-packages (from requests<3,>=2.21.0->tensorboard) (1.24.3)\n",
            "Requirement already satisfied: idna<3,>=2.5 in /usr/local/lib/python3.7/dist-packages (from requests<3,>=2.21.0->tensorboard) (2.10)\n",
            "Requirement already satisfied: certifi>=2017.4.17 in /usr/local/lib/python3.7/dist-packages (from requests<3,>=2.21.0->tensorboard) (2022.5.18.1)\n",
            "Requirement already satisfied: oauthlib>=3.0.0 in /usr/local/lib/python3.7/dist-packages (from requests-oauthlib>=0.7.0->google-auth-oauthlib<0.5,>=0.4.1->tensorboard) (3.2.0)\n",
            "Looking in indexes: https://pypi.org/simple, https://us-python.pkg.dev/colab-wheels/public/simple/\n",
            "Requirement already satisfied: tensorflow-estimator in /usr/local/lib/python3.7/dist-packages (2.8.0)\n",
            "Looking in indexes: https://pypi.org/simple, https://us-python.pkg.dev/colab-wheels/public/simple/\n",
            "Requirement already satisfied: termcolor in /usr/local/lib/python3.7/dist-packages (1.1.0)\n",
            "Looking in indexes: https://pypi.org/simple, https://us-python.pkg.dev/colab-wheels/public/simple/\n",
            "Requirement already satisfied: torch in /usr/local/lib/python3.7/dist-packages (1.11.0+cu113)\n",
            "Requirement already satisfied: typing-extensions in /usr/local/lib/python3.7/dist-packages (from torch) (4.2.0)\n",
            "Looking in indexes: https://pypi.org/simple, https://us-python.pkg.dev/colab-wheels/public/simple/\n",
            "Requirement already satisfied: torchaudio in /usr/local/lib/python3.7/dist-packages (0.11.0+cu113)\n",
            "Requirement already satisfied: torch==1.11.0 in /usr/local/lib/python3.7/dist-packages (from torchaudio) (1.11.0+cu113)\n",
            "Requirement already satisfied: typing-extensions in /usr/local/lib/python3.7/dist-packages (from torch==1.11.0->torchaudio) (4.2.0)\n",
            "Looking in indexes: https://pypi.org/simple, https://us-python.pkg.dev/colab-wheels/public/simple/\n",
            "Requirement already satisfied: tqdm in /usr/local/lib/python3.7/dist-packages (4.64.0)\n",
            "Reading package lists... Done\n",
            "Building dependency tree       \n",
            "Reading state information... Done\n",
            "ffmpeg is already the newest version (7:3.4.8-0ubuntu0.2).\n",
            "The following package was automatically installed and is no longer required:\n",
            "  libnvidia-common-460\n",
            "Use 'apt autoremove' to remove it.\n",
            "0 upgraded, 0 newly installed, 0 to remove and 45 not upgraded.\n",
            "\u001b[K     \\ 3.0 kB 1.9 MB/s\n",
            "\u001b[?25h  Building wheel for Deep-Learning-Colab-Notebook-Utils (setup.py) ... \u001b[?25l\u001b[?25hdone\n"
          ]
        }
      ],
      "source": [
        "# Install Required packages\n",
        "!pip install audioread\n",
        "!pip install essentia\n",
        "!pip install fire\n",
        "!pip install grpcio\n",
        "!pip install h5py\n",
        "!pip install librosa\n",
        "!pip install llvmlite\n",
        "!pip install matplotlib\n",
        "!pip install numba\n",
        "!pip install numpy\n",
        "!pip install pandas\n",
        "!pip install scikit-learn\n",
        "!pip install scipy\n",
        "!pip install six\n",
        "!pip install SoundFile\n",
        "!pip install sox\n",
        "!pip install tensorboard\n",
        "!pip install tensorflow-estimator\n",
        "!pip install termcolor\n",
        "!pip install torch\n",
        "!pip install torchaudio\n",
        "!pip install tqdm\n",
        "\n",
        "!apt install ffmpeg\n",
        "!pip install -q https://github.com/tugstugi/dl-colab-notebooks/archive/colab_utils.zip"
      ]
    },
    {
      "cell_type": "markdown",
      "source": [
        "#####Import necessary libraries."
      ],
      "metadata": {
        "id": "OkBpQY5QsB_4"
      }
    },
    {
      "cell_type": "code",
      "source": [
        "# Setup Dependency\n",
        "import os\n",
        "import sys\n",
        "import numpy as np\n",
        "import pandas as pd\n",
        "import zipfile\n",
        "import math\n",
        "import matplotlib.pyplot as plt\n",
        "import random\n",
        "import collections\n",
        "import zipfile\n",
        "import torch\n",
        "import torch.nn as nn\n",
        "import torch.nn.functional as F\n",
        "from torch.autograd import Variable\n",
        "\n",
        "import torch\n",
        "import torch.nn as nn\n",
        "from torch.autograd import Variable\n",
        "from sklearn import metrics\n",
        "from sklearn.preprocessing import LabelBinarizer\n",
        "from scipy.special import softmax\n",
        "from scipy.stats import rankdata\n",
        "\n",
        "import torchaudio\n",
        "import torchaudio.functional as F\n",
        "import torchaudio.transforms as T\n",
        "\n",
        "# preprocessing/mtat_read.py\n",
        "import glob\n",
        "import librosa\n",
        "import fire\n",
        "import tqdm\n",
        "\n",
        "# training/main.py\n",
        "import argparse\n",
        "import time\n",
        "import datetime\n",
        "import tqdm\n",
        "from sklearn import metrics\n",
        "from sklearn.preprocessing import LabelBinarizer\n",
        "from torch.utils.tensorboard import SummaryWriter\n",
        "\n",
        "# training/data_loader\n",
        "import pickle\n",
        "import csv\n",
        "from torch.utils import data\n",
        "from sklearn.preprocessing import LabelBinarizer\n",
        "\n",
        "# prediction\n",
        "from IPython.display import Audio, display, clear_output\n",
        "from scipy.io import wavfile\n",
        "from dl_colab_notebooks.audio import record_audio, upload_audio"
      ],
      "metadata": {
        "id": "ifZUTGjUsDqE"
      },
      "execution_count": null,
      "outputs": []
    },
    {
      "cell_type": "markdown",
      "source": [
        "###Source Data Setup"
      ],
      "metadata": {
        "id": "usJ2Y2avPe82"
      }
    },
    {
      "cell_type": "markdown",
      "source": [
        "##### Methods for mount and download"
      ],
      "metadata": {
        "id": "6dg8OdTNFpKf"
      }
    },
    {
      "cell_type": "code",
      "execution_count": null,
      "metadata": {
        "id": "V_ndRUU34UDG"
      },
      "outputs": [],
      "source": [
        "from google.colab import drive\n",
        "import os\n",
        "import gdown\n",
        "\n",
        "def mount_drive(b):\n",
        "  google_drive_prefix = '/content/drive'\n",
        "  drive.mount(google_drive_prefix)\n",
        "\n",
        "  !ls /content/drive/\n",
        "\n",
        "  folder_directory = '/content/drive/MyDrive/CS376/'\n",
        "\n",
        "  if not os.path.exists(folder_directory):\n",
        "    os.mkdir(folder_directory)\n",
        "\n",
        "  print('Great Job!!!' if os.path.exists(folder_directory) else 'Something wrong. The folder has not yet been created')\n",
        "\n",
        "def download_src(dataset):\n",
        "  # https://drive.google.com/uc?id= >>>file id<<<\n",
        "  if dataset == \"audioautix(836)\":\n",
        "    # data-836-001.zip : https://drive.google.com/file/d/1Hr6RkVFlfKoTKw8CqPbjVG-Exe5M5XVW/view?usp=sharing\n",
        "    # data-836-002.zip : https://drive.google.com/file/d/1lDNASZXh62TM2Z3vN7Rcmf3b0yCVkwmD/view?usp=sharing\n",
        "    # data-836-003.zip : https://drive.google.com/file/d/1sNai5fRjJE1_8DVlBjLns7NjdtheufDX/view?usp=sharing\n",
        "\n",
        "    if not os.path.exists(save_path):\n",
        "      os.makedirs(save_path)\n",
        "      # !cd /content/drive/MyDrive/\n",
        "      !gdown https://drive.google.com/uc?id=1Hr6RkVFlfKoTKw8CqPbjVG-Exe5M5XVW\n",
        "      !gdown https://drive.google.com/uc?id=1lDNASZXh62TM2Z3vN7Rcmf3b0yCVkwmD\n",
        "      !gdown https://drive.google.com/uc?id=1sNai5fRjJE1_8DVlBjLns7NjdtheufDX\n",
        "      # print(\"appending zip files...\")\n",
        "      # os.system('cat {}/audioautix.zip.* > {}/MyDrive.zip'.format(zip_path, zip_path))\n",
        "      print(\"unzipping data-836-001.zip...\")\n",
        "      os.system('unzip {} -d {}'.format(os.path.join(zip_path, 'data-836-001.zip'), save_path))\n",
        "      print(\"unzipping data-836-002.zip...\")\n",
        "      os.system('unzip {} -d {}'.format(os.path.join(zip_path, 'data-836-002.zip'), save_path))\n",
        "      print(\"unzipping data-836-003.zip...\")\n",
        "      os.system('unzip {} -d {}'.format(os.path.join(zip_path, 'data-836-003.zip'), save_path))\n",
        "      print(\"Done!!\")\n",
        "\n",
        "  elif dataset == \"audioautix+fma(1136, only 46)\":\n",
        "    # data-1136-001.zip : https://drive.google.com/file/d/15tV1N9wqn4mtRuhHaBAZu3HhFXX3FXZP/view?usp=sharing\n",
        "    # data-1136-002.zip : https://drive.google.com/file/d/1Ko8wAVQy2dMnO7cgUTt8gaXJl3Ww2EzL/view?usp=sharing\n",
        "    # data-1136-003.zip : https://drive.google.com/file/d/1JOOgEtLOQ4JmHjILTPFCgb6Z8la-VepI/view?usp=sharing\n",
        "    # data-1136-004.zip : https://drive.google.com/file/d/1d1tK3wi2A4106tNw0ne_uGHAaSd-tt9-/view?usp=sharing\n",
        "\n",
        "    if not os.path.exists(save_path):\n",
        "      os.makedirs(save_path)\n",
        "      # !cd /content/drive/MyDrive/\n",
        "      !gdown https://drive.google.com/uc?id=15tV1N9wqn4mtRuhHaBAZu3HhFXX3FXZP\n",
        "      !gdown https://drive.google.com/uc?id=1Ko8wAVQy2dMnO7cgUTt8gaXJl3Ww2EzL\n",
        "      !gdown https://drive.google.com/uc?id=1JOOgEtLOQ4JmHjILTPFCgb6Z8la-VepI\n",
        "      !gdown https://drive.google.com/uc?id=1d1tK3wi2A4106tNw0ne_uGHAaSd-tt9-\n",
        "      # print(\"appending zip files...\")\n",
        "      # os.system('cat {}/audioautix.zip.* > {}/MyDrive.zip'.format(zip_path, zip_path))\n",
        "      print(\"unzipping data-1136-001.zip...\")\n",
        "      os.system('unzip {} -d {}'.format(os.path.join(zip_path, 'data-1136-001.zip'), save_path))\n",
        "      print(\"unzipping data-1136-002.zip...\")\n",
        "      os.system('unzip {} -d {}'.format(os.path.join(zip_path, 'data-1136-002.zip'), save_path))\n",
        "      print(\"unzipping data-1136-003.zip...\")\n",
        "      os.system('unzip {} -d {}'.format(os.path.join(zip_path, 'data-1136-003.zip'), save_path))\n",
        "      print(\"unzipping data-1136-004.zip...\")\n",
        "      os.system('unzip {} -d {}'.format(os.path.join(zip_path, 'data-1136-004.zip'), save_path))\n",
        "      print(\"Done!!\")\n",
        "  else :\n",
        "    print(\"Sorry, but not ready for other dataset\");"
      ]
    },
    {
      "cell_type": "markdown",
      "source": [
        "#####Mount your google drive, or download pre-made execution environment by our team."
      ],
      "metadata": {
        "id": "9bHhEpthrEPB"
      }
    },
    {
      "cell_type": "code",
      "source": [
        "setup = \"download\" #@param [\"mount\", \"download\"]\n",
        "dataset = \"audioautix(836)\" #@param [\"audioautix(836)\", \"audioautix+fma(1136, only 46)\"]\n",
        "\n",
        "zip_path = '/content/'\n",
        "save_path = os.path.join(zip_path, 'drive', 'MyDrive')\n",
        "\n",
        "if setup == \"mount\": \n",
        "  mount_drive(\"\")\n",
        "else:\n",
        "  download_src(dataset)"
      ],
      "metadata": {
        "id": "rtqPSwKXFbnu",
        "colab": {
          "base_uri": "https://localhost:8080/"
        },
        "outputId": "f0b3c219-2ca8-4d50-c4e1-9b10df55f93d"
      },
      "execution_count": null,
      "outputs": [
        {
          "output_type": "stream",
          "name": "stdout",
          "text": [
            "Downloading...\n",
            "From: https://drive.google.com/uc?id=1Hr6RkVFlfKoTKw8CqPbjVG-Exe5M5XVW\n",
            "To: /content/data-836-001.zip\n",
            "100% 1.24G/1.24G [00:10<00:00, 115MB/s]\n",
            "Downloading...\n",
            "From: https://drive.google.com/uc?id=1lDNASZXh62TM2Z3vN7Rcmf3b0yCVkwmD\n",
            "To: /content/data-836-002.zip\n",
            "100% 1.63G/1.63G [00:20<00:00, 78.9MB/s]\n",
            "Downloading...\n",
            "From: https://drive.google.com/uc?id=1sNai5fRjJE1_8DVlBjLns7NjdtheufDX\n",
            "To: /content/data-836-003.zip\n",
            "100% 1.64G/1.64G [00:16<00:00, 102MB/s]\n",
            "unzipping data-836-001.zip...\n",
            "unzipping data-836-002.zip...\n",
            "unzipping data-836-003.zip...\n",
            "Done!!\n"
          ]
        }
      ]
    },
    {
      "cell_type": "markdown",
      "source": [
        "###Preprocess data\n",
        "\n",
        "Preprocess the audio data, the wav format is recommended because of the resulting npy file size.\n",
        "\n",
        "If you already have processed npy file in your drive, you can skip this stage."
      ],
      "metadata": {
        "id": "LN2--1w9nkr0"
      }
    },
    {
      "cell_type": "code",
      "execution_count": null,
      "metadata": {
        "id": "1j95ZGHC6e_r",
        "colab": {
          "base_uri": "https://localhost:8080/"
        },
        "outputId": "fb3c6051-14ed-4180-d3ba-7bd392c47c85"
      },
      "outputs": [
        {
          "output_type": "stream",
          "name": "stderr",
          "text": [
            "  0%|          | 1/836 [00:02<27:54,  2.01s/it]"
          ]
        },
        {
          "output_type": "stream",
          "name": "stdout",
          "text": [
            "/content/drive/MyDrive/CS376/music_src/audionautix/mtat/npy/HorrorMusic_29_58.npy\n"
          ]
        },
        {
          "output_type": "stream",
          "name": "stderr",
          "text": [
            "\r  0%|          | 2/836 [00:03<21:46,  1.57s/it]"
          ]
        },
        {
          "output_type": "stream",
          "name": "stdout",
          "text": [
            "/content/drive/MyDrive/CS376/music_src/audionautix/mtat/npy/RedwoodHighway_58_87.npy\n"
          ]
        },
        {
          "output_type": "stream",
          "name": "stderr",
          "text": [
            "\r  0%|          | 3/836 [00:04<19:48,  1.43s/it]"
          ]
        },
        {
          "output_type": "stream",
          "name": "stdout",
          "text": [
            "/content/drive/MyDrive/CS376/music_src/audionautix/mtat/npy/FrontPorchSitter_58_87.npy\n"
          ]
        },
        {
          "output_type": "stream",
          "name": "stderr",
          "text": [
            "\r  0%|          | 4/836 [00:05<19:00,  1.37s/it]"
          ]
        },
        {
          "output_type": "stream",
          "name": "stdout",
          "text": [
            "/content/drive/MyDrive/CS376/music_src/audionautix/mtat/npy/RightOnRedFull_29_58.npy\n"
          ]
        },
        {
          "output_type": "stream",
          "name": "stderr",
          "text": [
            "\r  1%|          | 5/836 [00:07<18:28,  1.33s/it]"
          ]
        },
        {
          "output_type": "stream",
          "name": "stdout",
          "text": [
            "/content/drive/MyDrive/CS376/music_src/audionautix/mtat/npy/TemptingFate_58_87.npy\n"
          ]
        },
        {
          "output_type": "stream",
          "name": "stderr",
          "text": [
            "\r  1%|          | 6/836 [00:08<18:01,  1.30s/it]"
          ]
        },
        {
          "output_type": "stream",
          "name": "stdout",
          "text": [
            "/content/drive/MyDrive/CS376/music_src/audionautix/mtat/npy/HotSalsa_29_58.npy\n"
          ]
        },
        {
          "output_type": "stream",
          "name": "stderr",
          "text": [
            "\r  1%|          | 7/836 [00:09<17:49,  1.29s/it]"
          ]
        },
        {
          "output_type": "stream",
          "name": "stdout",
          "text": [
            "/content/drive/MyDrive/CS376/music_src/audionautix/mtat/npy/Cycles_58_87.npy\n"
          ]
        },
        {
          "output_type": "stream",
          "name": "stderr",
          "text": [
            "\r  1%|          | 8/836 [00:10<17:38,  1.28s/it]"
          ]
        },
        {
          "output_type": "stream",
          "name": "stdout",
          "text": [
            "/content/drive/MyDrive/CS376/music_src/audionautix/mtat/npy/ForeverBelieve_29_58.npy\n"
          ]
        },
        {
          "output_type": "stream",
          "name": "stderr",
          "text": [
            "\r  1%|          | 9/836 [00:12<17:33,  1.27s/it]"
          ]
        },
        {
          "output_type": "stream",
          "name": "stdout",
          "text": [
            "/content/drive/MyDrive/CS376/music_src/audionautix/mtat/npy/EmilyWalksAway_58_87.npy\n"
          ]
        },
        {
          "output_type": "stream",
          "name": "stderr",
          "text": [
            "\r  1%|          | 10/836 [00:13<17:27,  1.27s/it]"
          ]
        },
        {
          "output_type": "stream",
          "name": "stdout",
          "text": [
            "/content/drive/MyDrive/CS376/music_src/audionautix/mtat/npy/Wheels_29_58.npy\n"
          ]
        },
        {
          "output_type": "stream",
          "name": "stderr",
          "text": [
            "\r  1%|▏         | 11/836 [00:14<17:25,  1.27s/it]"
          ]
        },
        {
          "output_type": "stream",
          "name": "stdout",
          "text": [
            "/content/drive/MyDrive/CS376/music_src/audionautix/mtat/npy/WhatChildIsThis_58_87.npy\n"
          ]
        },
        {
          "output_type": "stream",
          "name": "stderr",
          "text": [
            "\r  1%|▏         | 12/836 [00:15<17:22,  1.27s/it]"
          ]
        },
        {
          "output_type": "stream",
          "name": "stdout",
          "text": [
            "/content/drive/MyDrive/CS376/music_src/audionautix/mtat/npy/GetAMoveOn_29_58.npy\n"
          ]
        },
        {
          "output_type": "stream",
          "name": "stderr",
          "text": [
            "\r  2%|▏         | 13/836 [00:17<17:18,  1.26s/it]"
          ]
        },
        {
          "output_type": "stream",
          "name": "stdout",
          "text": [
            "/content/drive/MyDrive/CS376/music_src/audionautix/mtat/npy/HappyUkulele_29_58.npy\n"
          ]
        },
        {
          "output_type": "stream",
          "name": "stderr",
          "text": [
            "\r  2%|▏         | 14/836 [00:18<17:20,  1.27s/it]"
          ]
        },
        {
          "output_type": "stream",
          "name": "stdout",
          "text": [
            "/content/drive/MyDrive/CS376/music_src/audionautix/mtat/npy/TimePassingBy.npy\n"
          ]
        },
        {
          "output_type": "stream",
          "name": "stderr",
          "text": [
            "\r  2%|▏         | 15/836 [00:19<17:17,  1.26s/it]"
          ]
        },
        {
          "output_type": "stream",
          "name": "stdout",
          "text": [
            "/content/drive/MyDrive/CS376/music_src/audionautix/mtat/npy/HardBounce_58_87.npy\n"
          ]
        },
        {
          "output_type": "stream",
          "name": "stderr",
          "text": [
            "\r  2%|▏         | 16/836 [00:20<17:17,  1.27s/it]"
          ]
        },
        {
          "output_type": "stream",
          "name": "stdout",
          "text": [
            "/content/drive/MyDrive/CS376/music_src/audionautix/mtat/npy/HipHopNoVocal_58_87.npy\n"
          ]
        },
        {
          "output_type": "stream",
          "name": "stderr",
          "text": [
            "\r  2%|▏         | 17/836 [00:22<17:34,  1.29s/it]"
          ]
        },
        {
          "output_type": "stream",
          "name": "stdout",
          "text": [
            "/content/drive/MyDrive/CS376/music_src/audionautix/mtat/npy/Whatdafunk.npy\n"
          ]
        },
        {
          "output_type": "stream",
          "name": "stderr",
          "text": [
            "\r  2%|▏         | 18/836 [00:23<17:26,  1.28s/it]"
          ]
        },
        {
          "output_type": "stream",
          "name": "stdout",
          "text": [
            "/content/drive/MyDrive/CS376/music_src/audionautix/mtat/npy/Alison_58_87.npy\n"
          ]
        },
        {
          "output_type": "stream",
          "name": "stderr",
          "text": [
            "\r  2%|▏         | 19/836 [00:24<17:20,  1.27s/it]"
          ]
        },
        {
          "output_type": "stream",
          "name": "stdout",
          "text": [
            "/content/drive/MyDrive/CS376/music_src/audionautix/mtat/npy/HopeAgainstHope_58_87.npy\n"
          ]
        },
        {
          "output_type": "stream",
          "name": "stderr",
          "text": [
            "\r  2%|▏         | 20/836 [00:26<17:14,  1.27s/it]"
          ]
        },
        {
          "output_type": "stream",
          "name": "stdout",
          "text": [
            "/content/drive/MyDrive/CS376/music_src/audionautix/mtat/npy/Edward_29_58.npy\n"
          ]
        },
        {
          "output_type": "stream",
          "name": "stderr",
          "text": [
            "\r  3%|▎         | 21/836 [00:27<17:11,  1.27s/it]"
          ]
        },
        {
          "output_type": "stream",
          "name": "stdout",
          "text": [
            "/content/drive/MyDrive/CS376/music_src/audionautix/mtat/npy/ZombieRock_58_87.npy\n"
          ]
        },
        {
          "output_type": "stream",
          "name": "stderr",
          "text": [
            "\r  3%|▎         | 22/836 [00:28<17:08,  1.26s/it]"
          ]
        },
        {
          "output_type": "stream",
          "name": "stdout",
          "text": [
            "/content/drive/MyDrive/CS376/music_src/audionautix/mtat/npy/BigSwingBand.npy\n"
          ]
        },
        {
          "output_type": "stream",
          "name": "stderr",
          "text": [
            "\r  3%|▎         | 23/836 [00:29<17:06,  1.26s/it]"
          ]
        },
        {
          "output_type": "stream",
          "name": "stdout",
          "text": [
            "/content/drive/MyDrive/CS376/music_src/audionautix/mtat/npy/WhatsItToYaPunk.npy\n"
          ]
        },
        {
          "output_type": "stream",
          "name": "stderr",
          "text": [
            "\r  3%|▎         | 24/836 [00:31<17:04,  1.26s/it]"
          ]
        },
        {
          "output_type": "stream",
          "name": "stdout",
          "text": [
            "/content/drive/MyDrive/CS376/music_src/audionautix/mtat/npy/ClowningAround_29_58.npy\n"
          ]
        },
        {
          "output_type": "stream",
          "name": "stderr",
          "text": [
            "\r  3%|▎         | 25/836 [00:32<16:58,  1.26s/it]"
          ]
        },
        {
          "output_type": "stream",
          "name": "stdout",
          "text": [
            "/content/drive/MyDrive/CS376/music_src/audionautix/mtat/npy/SundaysChild_58_87.npy\n"
          ]
        },
        {
          "output_type": "stream",
          "name": "stderr",
          "text": [
            "\r  3%|▎         | 26/836 [00:33<16:56,  1.26s/it]"
          ]
        },
        {
          "output_type": "stream",
          "name": "stdout",
          "text": [
            "/content/drive/MyDrive/CS376/music_src/audionautix/mtat/npy/Boom_29_58.npy\n"
          ]
        },
        {
          "output_type": "stream",
          "name": "stderr",
          "text": [
            "\r  3%|▎         | 27/836 [00:34<16:54,  1.25s/it]"
          ]
        },
        {
          "output_type": "stream",
          "name": "stdout",
          "text": [
            "/content/drive/MyDrive/CS376/music_src/audionautix/mtat/npy/Whoopsy.npy\n"
          ]
        },
        {
          "output_type": "stream",
          "name": "stderr",
          "text": [
            "\r  3%|▎         | 28/836 [00:36<16:52,  1.25s/it]"
          ]
        },
        {
          "output_type": "stream",
          "name": "stdout",
          "text": [
            "/content/drive/MyDrive/CS376/music_src/audionautix/mtat/npy/HappyLittleElves.npy\n"
          ]
        },
        {
          "output_type": "stream",
          "name": "stderr",
          "text": [
            "\r  3%|▎         | 29/836 [00:37<16:49,  1.25s/it]"
          ]
        },
        {
          "output_type": "stream",
          "name": "stdout",
          "text": [
            "/content/drive/MyDrive/CS376/music_src/audionautix/mtat/npy/Delusion32.npy\n"
          ]
        },
        {
          "output_type": "stream",
          "name": "stderr",
          "text": [
            "\r  4%|▎         | 30/836 [00:38<16:48,  1.25s/it]"
          ]
        },
        {
          "output_type": "stream",
          "name": "stdout",
          "text": [
            "/content/drive/MyDrive/CS376/music_src/audionautix/mtat/npy/Robin_29_58.npy\n"
          ]
        },
        {
          "output_type": "stream",
          "name": "stderr",
          "text": [
            "\r  4%|▎         | 31/836 [00:39<16:48,  1.25s/it]"
          ]
        },
        {
          "output_type": "stream",
          "name": "stdout",
          "text": [
            "/content/drive/MyDrive/CS376/music_src/audionautix/mtat/npy/PanamaHatNV_58_87.npy\n"
          ]
        },
        {
          "output_type": "stream",
          "name": "stderr",
          "text": [
            "\r  4%|▍         | 32/836 [00:41<16:52,  1.26s/it]"
          ]
        },
        {
          "output_type": "stream",
          "name": "stdout",
          "text": [
            "/content/drive/MyDrive/CS376/music_src/audionautix/mtat/npy/BigBluesBed_58_87.npy\n"
          ]
        },
        {
          "output_type": "stream",
          "name": "stderr",
          "text": [
            "\r  4%|▍         | 33/836 [00:42<16:52,  1.26s/it]"
          ]
        },
        {
          "output_type": "stream",
          "name": "stdout",
          "text": [
            "/content/drive/MyDrive/CS376/music_src/audionautix/mtat/npy/WhatsItToYaPunk_29_58.npy\n"
          ]
        },
        {
          "output_type": "stream",
          "name": "stderr",
          "text": [
            "\r  4%|▍         | 34/836 [00:43<16:52,  1.26s/it]"
          ]
        },
        {
          "output_type": "stream",
          "name": "stdout",
          "text": [
            "/content/drive/MyDrive/CS376/music_src/audionautix/mtat/npy/MinorWithCricket_29_58.npy\n"
          ]
        },
        {
          "output_type": "stream",
          "name": "stderr",
          "text": [
            "\r  4%|▍         | 35/836 [00:44<16:51,  1.26s/it]"
          ]
        },
        {
          "output_type": "stream",
          "name": "stdout",
          "text": [
            "/content/drive/MyDrive/CS376/music_src/audionautix/mtat/npy/TropicalContact_29_58.npy\n"
          ]
        },
        {
          "output_type": "stream",
          "name": "stderr",
          "text": [
            "\r  4%|▍         | 36/836 [00:46<16:51,  1.26s/it]"
          ]
        },
        {
          "output_type": "stream",
          "name": "stdout",
          "text": [
            "/content/drive/MyDrive/CS376/music_src/audionautix/mtat/npy/BoxcarRag_58_87.npy\n"
          ]
        },
        {
          "output_type": "stream",
          "name": "stderr",
          "text": [
            "\r  4%|▍         | 37/836 [00:47<16:50,  1.26s/it]"
          ]
        },
        {
          "output_type": "stream",
          "name": "stdout",
          "text": [
            "/content/drive/MyDrive/CS376/music_src/audionautix/mtat/npy/HillbillyBed_58_87.npy\n"
          ]
        },
        {
          "output_type": "stream",
          "name": "stderr",
          "text": [
            "\r  5%|▍         | 38/836 [00:48<16:45,  1.26s/it]"
          ]
        },
        {
          "output_type": "stream",
          "name": "stdout",
          "text": [
            "/content/drive/MyDrive/CS376/music_src/audionautix/mtat/npy/SoDramatic.npy\n"
          ]
        },
        {
          "output_type": "stream",
          "name": "stderr",
          "text": [
            "\r  5%|▍         | 39/836 [00:49<16:45,  1.26s/it]"
          ]
        },
        {
          "output_type": "stream",
          "name": "stdout",
          "text": [
            "/content/drive/MyDrive/CS376/music_src/audionautix/mtat/npy/NightRunner_29_58.npy\n"
          ]
        },
        {
          "output_type": "stream",
          "name": "stderr",
          "text": [
            "\r  5%|▍         | 40/836 [00:51<16:55,  1.28s/it]"
          ]
        },
        {
          "output_type": "stream",
          "name": "stdout",
          "text": [
            "/content/drive/MyDrive/CS376/music_src/audionautix/mtat/npy/MajesticPiano.npy\n"
          ]
        },
        {
          "output_type": "stream",
          "name": "stderr",
          "text": [
            "\r  5%|▍         | 41/836 [00:52<16:54,  1.28s/it]"
          ]
        },
        {
          "output_type": "stream",
          "name": "stdout",
          "text": [
            "/content/drive/MyDrive/CS376/music_src/audionautix/mtat/npy/Minstrel_29_58.npy\n"
          ]
        },
        {
          "output_type": "stream",
          "name": "stderr",
          "text": [
            "\r  5%|▌         | 42/836 [00:53<16:48,  1.27s/it]"
          ]
        },
        {
          "output_type": "stream",
          "name": "stdout",
          "text": [
            "/content/drive/MyDrive/CS376/music_src/audionautix/mtat/npy/AlienSunset.npy\n"
          ]
        },
        {
          "output_type": "stream",
          "name": "stderr",
          "text": [
            "\r  5%|▌         | 43/836 [00:55<16:48,  1.27s/it]"
          ]
        },
        {
          "output_type": "stream",
          "name": "stdout",
          "text": [
            "/content/drive/MyDrive/CS376/music_src/audionautix/mtat/npy/RP-InTheField.npy\n"
          ]
        },
        {
          "output_type": "stream",
          "name": "stderr",
          "text": [
            "\r  5%|▌         | 44/836 [00:56<16:43,  1.27s/it]"
          ]
        },
        {
          "output_type": "stream",
          "name": "stdout",
          "text": [
            "/content/drive/MyDrive/CS376/music_src/audionautix/mtat/npy/DarkMystery_29_58.npy\n"
          ]
        },
        {
          "output_type": "stream",
          "name": "stderr",
          "text": [
            "\r  5%|▌         | 45/836 [00:57<16:41,  1.27s/it]"
          ]
        },
        {
          "output_type": "stream",
          "name": "stdout",
          "text": [
            "/content/drive/MyDrive/CS376/music_src/audionautix/mtat/npy/OpusOne_29_58.npy\n"
          ]
        },
        {
          "output_type": "stream",
          "name": "stderr",
          "text": [
            "\r  6%|▌         | 46/836 [00:58<16:36,  1.26s/it]"
          ]
        },
        {
          "output_type": "stream",
          "name": "stdout",
          "text": [
            "/content/drive/MyDrive/CS376/music_src/audionautix/mtat/npy/Minstrel.npy\n"
          ]
        },
        {
          "output_type": "stream",
          "name": "stderr",
          "text": [
            "\r  6%|▌         | 47/836 [01:00<16:40,  1.27s/it]"
          ]
        },
        {
          "output_type": "stream",
          "name": "stdout",
          "text": [
            "/content/drive/MyDrive/CS376/music_src/audionautix/mtat/npy/12Mornings.npy\n"
          ]
        },
        {
          "output_type": "stream",
          "name": "stderr",
          "text": [
            "\r  6%|▌         | 48/836 [01:01<16:39,  1.27s/it]"
          ]
        },
        {
          "output_type": "stream",
          "name": "stdout",
          "text": [
            "/content/drive/MyDrive/CS376/music_src/audionautix/mtat/npy/BootsBootsBoots.npy\n"
          ]
        },
        {
          "output_type": "stream",
          "name": "stderr",
          "text": [
            "\r  6%|▌         | 49/836 [01:02<16:34,  1.26s/it]"
          ]
        },
        {
          "output_type": "stream",
          "name": "stdout",
          "text": [
            "/content/drive/MyDrive/CS376/music_src/audionautix/mtat/npy/Meditation1.npy\n"
          ]
        },
        {
          "output_type": "stream",
          "name": "stderr",
          "text": [
            "\r  6%|▌         | 50/836 [01:03<16:28,  1.26s/it]"
          ]
        },
        {
          "output_type": "stream",
          "name": "stdout",
          "text": [
            "/content/drive/MyDrive/CS376/music_src/audionautix/mtat/npy/TheAngelsWeep_29_58.npy\n"
          ]
        },
        {
          "output_type": "stream",
          "name": "stderr",
          "text": [
            "\r  6%|▌         | 51/836 [01:05<16:26,  1.26s/it]"
          ]
        },
        {
          "output_type": "stream",
          "name": "stdout",
          "text": [
            "/content/drive/MyDrive/CS376/music_src/audionautix/mtat/npy/BrookersBlues_58_87.npy\n"
          ]
        },
        {
          "output_type": "stream",
          "name": "stderr",
          "text": [
            "\r  6%|▌         | 52/836 [01:06<16:26,  1.26s/it]"
          ]
        },
        {
          "output_type": "stream",
          "name": "stdout",
          "text": [
            "/content/drive/MyDrive/CS376/music_src/audionautix/mtat/npy/Transition_29_58.npy\n"
          ]
        },
        {
          "output_type": "stream",
          "name": "stderr",
          "text": [
            "\r  6%|▋         | 53/836 [01:07<16:25,  1.26s/it]"
          ]
        },
        {
          "output_type": "stream",
          "name": "stdout",
          "text": [
            "/content/drive/MyDrive/CS376/music_src/audionautix/mtat/npy/HarshAlienMachine_58_87.npy\n"
          ]
        },
        {
          "output_type": "stream",
          "name": "stderr",
          "text": [
            "\r  6%|▋         | 54/836 [01:08<16:21,  1.26s/it]"
          ]
        },
        {
          "output_type": "stream",
          "name": "stdout",
          "text": [
            "/content/drive/MyDrive/CS376/music_src/audionautix/mtat/npy/SoloAcoustic3_29_58.npy\n"
          ]
        },
        {
          "output_type": "stream",
          "name": "stderr",
          "text": [
            "\r  7%|▋         | 55/836 [01:10<16:22,  1.26s/it]"
          ]
        },
        {
          "output_type": "stream",
          "name": "stdout",
          "text": [
            "/content/drive/MyDrive/CS376/music_src/audionautix/mtat/npy/DogHouse.npy\n"
          ]
        },
        {
          "output_type": "stream",
          "name": "stderr",
          "text": [
            "\r  7%|▋         | 56/836 [01:11<16:21,  1.26s/it]"
          ]
        },
        {
          "output_type": "stream",
          "name": "stdout",
          "text": [
            "/content/drive/MyDrive/CS376/music_src/audionautix/mtat/npy/InnerJourney_58_87.npy\n"
          ]
        },
        {
          "output_type": "stream",
          "name": "stderr",
          "text": [
            "\r  7%|▋         | 57/836 [01:12<16:19,  1.26s/it]"
          ]
        },
        {
          "output_type": "stream",
          "name": "stdout",
          "text": [
            "/content/drive/MyDrive/CS376/music_src/audionautix/mtat/npy/MedTempoRock_29_58.npy\n"
          ]
        },
        {
          "output_type": "stream",
          "name": "stderr",
          "text": [
            "\r  7%|▋         | 58/836 [01:13<16:17,  1.26s/it]"
          ]
        },
        {
          "output_type": "stream",
          "name": "stdout",
          "text": [
            "/content/drive/MyDrive/CS376/music_src/audionautix/mtat/npy/OohHey.npy\n"
          ]
        },
        {
          "output_type": "stream",
          "name": "stderr",
          "text": [
            "\r  7%|▋         | 59/836 [01:15<16:16,  1.26s/it]"
          ]
        },
        {
          "output_type": "stream",
          "name": "stdout",
          "text": [
            "/content/drive/MyDrive/CS376/music_src/audionautix/mtat/npy/BigBlues_29_58.npy\n"
          ]
        },
        {
          "output_type": "stream",
          "name": "stderr",
          "text": [
            "\r  7%|▋         | 60/836 [01:16<16:15,  1.26s/it]"
          ]
        },
        {
          "output_type": "stream",
          "name": "stdout",
          "text": [
            "/content/drive/MyDrive/CS376/music_src/audionautix/mtat/npy/MiddleEarth_58_87.npy\n"
          ]
        },
        {
          "output_type": "stream",
          "name": "stderr",
          "text": [
            "\r  7%|▋         | 61/836 [01:17<16:14,  1.26s/it]"
          ]
        },
        {
          "output_type": "stream",
          "name": "stdout",
          "text": [
            "/content/drive/MyDrive/CS376/music_src/audionautix/mtat/npy/CodeBlue_29_58.npy\n"
          ]
        },
        {
          "output_type": "stream",
          "name": "stderr",
          "text": [
            "\r  7%|▋         | 62/836 [01:18<16:11,  1.25s/it]"
          ]
        },
        {
          "output_type": "stream",
          "name": "stdout",
          "text": [
            "/content/drive/MyDrive/CS376/music_src/audionautix/mtat/npy/MallWalker.npy\n"
          ]
        },
        {
          "output_type": "stream",
          "name": "stderr",
          "text": [
            "\r  8%|▊         | 63/836 [01:20<16:08,  1.25s/it]"
          ]
        },
        {
          "output_type": "stream",
          "name": "stdout",
          "text": [
            "/content/drive/MyDrive/CS376/music_src/audionautix/mtat/npy/Edward_58_87.npy\n"
          ]
        },
        {
          "output_type": "stream",
          "name": "stderr",
          "text": [
            "\r  8%|▊         | 64/836 [01:21<16:07,  1.25s/it]"
          ]
        },
        {
          "output_type": "stream",
          "name": "stdout",
          "text": [
            "/content/drive/MyDrive/CS376/music_src/audionautix/mtat/npy/IDontWantToTalk_58_87.npy\n"
          ]
        },
        {
          "output_type": "stream",
          "name": "stderr",
          "text": [
            "\r  8%|▊         | 65/836 [01:22<16:06,  1.25s/it]"
          ]
        },
        {
          "output_type": "stream",
          "name": "stdout",
          "text": [
            "/content/drive/MyDrive/CS376/music_src/audionautix/mtat/npy/Transcend_58_87.npy\n"
          ]
        },
        {
          "output_type": "stream",
          "name": "stderr",
          "text": [
            "\r  8%|▊         | 66/836 [01:23<16:03,  1.25s/it]"
          ]
        },
        {
          "output_type": "stream",
          "name": "stdout",
          "text": [
            "/content/drive/MyDrive/CS376/music_src/audionautix/mtat/npy/AshesOfAnEmpire_29_58.npy\n"
          ]
        },
        {
          "output_type": "stream",
          "name": "stderr",
          "text": [
            "\r  8%|▊         | 67/836 [01:25<16:05,  1.25s/it]"
          ]
        },
        {
          "output_type": "stream",
          "name": "stdout",
          "text": [
            "/content/drive/MyDrive/CS376/music_src/audionautix/mtat/npy/Ohm.npy\n"
          ]
        },
        {
          "output_type": "stream",
          "name": "stderr",
          "text": [
            "\r  8%|▊         | 68/836 [01:26<16:03,  1.25s/it]"
          ]
        },
        {
          "output_type": "stream",
          "name": "stdout",
          "text": [
            "/content/drive/MyDrive/CS376/music_src/audionautix/mtat/npy/ADarkerHeart_58_87.npy\n"
          ]
        },
        {
          "output_type": "stream",
          "name": "stderr",
          "text": [
            "\r  8%|▊         | 69/836 [01:27<16:01,  1.25s/it]"
          ]
        },
        {
          "output_type": "stream",
          "name": "stdout",
          "text": [
            "/content/drive/MyDrive/CS376/music_src/audionautix/mtat/npy/BigBlues.npy\n"
          ]
        },
        {
          "output_type": "stream",
          "name": "stderr",
          "text": [
            "\r  8%|▊         | 70/836 [01:29<16:04,  1.26s/it]"
          ]
        },
        {
          "output_type": "stream",
          "name": "stdout",
          "text": [
            "/content/drive/MyDrive/CS376/music_src/audionautix/mtat/npy/TicketToNowhereMan.npy\n"
          ]
        },
        {
          "output_type": "stream",
          "name": "stderr",
          "text": [
            "\r  8%|▊         | 71/836 [01:30<16:02,  1.26s/it]"
          ]
        },
        {
          "output_type": "stream",
          "name": "stdout",
          "text": [
            "/content/drive/MyDrive/CS376/music_src/audionautix/mtat/npy/PanamaHatNV.npy\n"
          ]
        },
        {
          "output_type": "stream",
          "name": "stderr",
          "text": [
            "\r  9%|▊         | 72/836 [01:31<16:00,  1.26s/it]"
          ]
        },
        {
          "output_type": "stream",
          "name": "stdout",
          "text": [
            "/content/drive/MyDrive/CS376/music_src/audionautix/mtat/npy/ChecksForFree.npy\n"
          ]
        },
        {
          "output_type": "stream",
          "name": "stderr",
          "text": [
            "\r  9%|▊         | 73/836 [01:32<16:00,  1.26s/it]"
          ]
        },
        {
          "output_type": "stream",
          "name": "stdout",
          "text": [
            "/content/drive/MyDrive/CS376/music_src/audionautix/mtat/npy/90SecondsOfFunk_29_58.npy\n"
          ]
        },
        {
          "output_type": "stream",
          "name": "stderr",
          "text": [
            "\r  9%|▉         | 74/836 [01:34<15:59,  1.26s/it]"
          ]
        },
        {
          "output_type": "stream",
          "name": "stdout",
          "text": [
            "/content/drive/MyDrive/CS376/music_src/audionautix/mtat/npy/Ectoplasm_58_87.npy\n"
          ]
        },
        {
          "output_type": "stream",
          "name": "stderr",
          "text": [
            "\r  9%|▉         | 75/836 [01:35<15:58,  1.26s/it]"
          ]
        },
        {
          "output_type": "stream",
          "name": "stdout",
          "text": [
            "/content/drive/MyDrive/CS376/music_src/audionautix/mtat/npy/Azimuth_58_87.npy\n"
          ]
        },
        {
          "output_type": "stream",
          "name": "stderr",
          "text": [
            "\r  9%|▉         | 76/836 [01:36<15:59,  1.26s/it]"
          ]
        },
        {
          "output_type": "stream",
          "name": "stdout",
          "text": [
            "/content/drive/MyDrive/CS376/music_src/audionautix/mtat/npy/Lexicon.npy\n"
          ]
        },
        {
          "output_type": "stream",
          "name": "stderr",
          "text": [
            "\r  9%|▉         | 77/836 [01:37<16:01,  1.27s/it]"
          ]
        },
        {
          "output_type": "stream",
          "name": "stdout",
          "text": [
            "/content/drive/MyDrive/CS376/music_src/audionautix/mtat/npy/JoyToTheWorld_58_87.npy\n"
          ]
        },
        {
          "output_type": "stream",
          "name": "stderr",
          "text": [
            "\r  9%|▉         | 78/836 [01:39<16:04,  1.27s/it]"
          ]
        },
        {
          "output_type": "stream",
          "name": "stdout",
          "text": [
            "/content/drive/MyDrive/CS376/music_src/audionautix/mtat/npy/Transition_58_87.npy\n"
          ]
        },
        {
          "output_type": "stream",
          "name": "stderr",
          "text": [
            "\r  9%|▉         | 79/836 [01:40<16:03,  1.27s/it]"
          ]
        },
        {
          "output_type": "stream",
          "name": "stdout",
          "text": [
            "/content/drive/MyDrive/CS376/music_src/audionautix/mtat/npy/Jellyfish.npy\n"
          ]
        },
        {
          "output_type": "stream",
          "name": "stderr",
          "text": [
            "\r 10%|▉         | 80/836 [01:41<15:58,  1.27s/it]"
          ]
        },
        {
          "output_type": "stream",
          "name": "stdout",
          "text": [
            "/content/drive/MyDrive/CS376/music_src/audionautix/mtat/npy/MediumRock.npy\n"
          ]
        },
        {
          "output_type": "stream",
          "name": "stderr",
          "text": [
            "\r 10%|▉         | 81/836 [01:42<15:53,  1.26s/it]"
          ]
        },
        {
          "output_type": "stream",
          "name": "stdout",
          "text": [
            "/content/drive/MyDrive/CS376/music_src/audionautix/mtat/npy/GoNotGently_29_58.npy\n"
          ]
        },
        {
          "output_type": "stream",
          "name": "stderr",
          "text": [
            "\r 10%|▉         | 82/836 [01:44<15:51,  1.26s/it]"
          ]
        },
        {
          "output_type": "stream",
          "name": "stdout",
          "text": [
            "/content/drive/MyDrive/CS376/music_src/audionautix/mtat/npy/Metaphor.npy\n"
          ]
        },
        {
          "output_type": "stream",
          "name": "stderr",
          "text": [
            "\r 10%|▉         | 83/836 [01:45<15:51,  1.26s/it]"
          ]
        },
        {
          "output_type": "stream",
          "name": "stdout",
          "text": [
            "/content/drive/MyDrive/CS376/music_src/audionautix/mtat/npy/HarshAlienMachine_29_58.npy\n"
          ]
        },
        {
          "output_type": "stream",
          "name": "stderr",
          "text": [
            "\r 10%|█         | 84/836 [01:46<15:50,  1.26s/it]"
          ]
        },
        {
          "output_type": "stream",
          "name": "stdout",
          "text": [
            "/content/drive/MyDrive/CS376/music_src/audionautix/mtat/npy/OccupyTheDanceFloor_58_87.npy\n"
          ]
        },
        {
          "output_type": "stream",
          "name": "stderr",
          "text": [
            "\r 10%|█         | 85/836 [01:47<15:47,  1.26s/it]"
          ]
        },
        {
          "output_type": "stream",
          "name": "stdout",
          "text": [
            "/content/drive/MyDrive/CS376/music_src/audionautix/mtat/npy/Words_29_58.npy\n"
          ]
        },
        {
          "output_type": "stream",
          "name": "stderr",
          "text": [
            "\r 10%|█         | 86/836 [01:49<15:45,  1.26s/it]"
          ]
        },
        {
          "output_type": "stream",
          "name": "stdout",
          "text": [
            "/content/drive/MyDrive/CS376/music_src/audionautix/mtat/npy/Essence.npy\n"
          ]
        },
        {
          "output_type": "stream",
          "name": "stderr",
          "text": [
            "\r 10%|█         | 87/836 [01:50<15:44,  1.26s/it]"
          ]
        },
        {
          "output_type": "stream",
          "name": "stdout",
          "text": [
            "/content/drive/MyDrive/CS376/music_src/audionautix/mtat/npy/MinorWithCricket_58_87.npy\n"
          ]
        },
        {
          "output_type": "stream",
          "name": "stderr",
          "text": [
            "\r 11%|█         | 88/836 [01:51<15:41,  1.26s/it]"
          ]
        },
        {
          "output_type": "stream",
          "name": "stdout",
          "text": [
            "/content/drive/MyDrive/CS376/music_src/audionautix/mtat/npy/TheVisitors_29_58.npy\n"
          ]
        },
        {
          "output_type": "stream",
          "name": "stderr",
          "text": [
            "\r 11%|█         | 89/836 [01:53<15:40,  1.26s/it]"
          ]
        },
        {
          "output_type": "stream",
          "name": "stdout",
          "text": [
            "/content/drive/MyDrive/CS376/music_src/audionautix/mtat/npy/LineOfFire_29_58.npy\n"
          ]
        },
        {
          "output_type": "stream",
          "name": "stderr",
          "text": [
            "\r 11%|█         | 90/836 [01:54<15:41,  1.26s/it]"
          ]
        },
        {
          "output_type": "stream",
          "name": "stdout",
          "text": [
            "/content/drive/MyDrive/CS376/music_src/audionautix/mtat/npy/DatGroove_58_87.npy\n"
          ]
        },
        {
          "output_type": "stream",
          "name": "stderr",
          "text": [
            "\r 11%|█         | 91/836 [01:55<15:39,  1.26s/it]"
          ]
        },
        {
          "output_type": "stream",
          "name": "stdout",
          "text": [
            "/content/drive/MyDrive/CS376/music_src/audionautix/mtat/npy/ModernRockBoy_29_58.npy\n"
          ]
        },
        {
          "output_type": "stream",
          "name": "stderr",
          "text": [
            "\r 11%|█         | 92/836 [01:56<15:40,  1.26s/it]"
          ]
        },
        {
          "output_type": "stream",
          "name": "stdout",
          "text": [
            "/content/drive/MyDrive/CS376/music_src/audionautix/mtat/npy/ISawThreeShips.npy\n"
          ]
        },
        {
          "output_type": "stream",
          "name": "stderr",
          "text": [
            "\r 11%|█         | 93/836 [01:58<15:38,  1.26s/it]"
          ]
        },
        {
          "output_type": "stream",
          "name": "stdout",
          "text": [
            "/content/drive/MyDrive/CS376/music_src/audionautix/mtat/npy/LongLiveDeath.npy\n"
          ]
        },
        {
          "output_type": "stream",
          "name": "stderr",
          "text": [
            "\r 11%|█         | 94/836 [01:59<15:39,  1.27s/it]"
          ]
        },
        {
          "output_type": "stream",
          "name": "stdout",
          "text": [
            "/content/drive/MyDrive/CS376/music_src/audionautix/mtat/npy/GroovyBaby_58_87.npy\n"
          ]
        },
        {
          "output_type": "stream",
          "name": "stderr",
          "text": [
            "\r 11%|█▏        | 95/836 [02:00<15:38,  1.27s/it]"
          ]
        },
        {
          "output_type": "stream",
          "name": "stdout",
          "text": [
            "/content/drive/MyDrive/CS376/music_src/audionautix/mtat/npy/TrippinCoffee_58_87.npy\n"
          ]
        },
        {
          "output_type": "stream",
          "name": "stderr",
          "text": [
            "\r 11%|█▏        | 96/836 [02:01<15:33,  1.26s/it]"
          ]
        },
        {
          "output_type": "stream",
          "name": "stdout",
          "text": [
            "/content/drive/MyDrive/CS376/music_src/audionautix/mtat/npy/SundaysChild.npy\n"
          ]
        },
        {
          "output_type": "stream",
          "name": "stderr",
          "text": [
            "\r 12%|█▏        | 97/836 [02:03<15:34,  1.27s/it]"
          ]
        },
        {
          "output_type": "stream",
          "name": "stdout",
          "text": [
            "/content/drive/MyDrive/CS376/music_src/audionautix/mtat/npy/ForestRhythm_58_87.npy\n"
          ]
        },
        {
          "output_type": "stream",
          "name": "stderr",
          "text": [
            "\r 12%|█▏        | 98/836 [02:04<15:35,  1.27s/it]"
          ]
        },
        {
          "output_type": "stream",
          "name": "stdout",
          "text": [
            "/content/drive/MyDrive/CS376/music_src/audionautix/mtat/npy/FeelGoodRock.npy\n"
          ]
        },
        {
          "output_type": "stream",
          "name": "stderr",
          "text": [
            "\r 12%|█▏        | 99/836 [02:05<15:31,  1.26s/it]"
          ]
        },
        {
          "output_type": "stream",
          "name": "stdout",
          "text": [
            "/content/drive/MyDrive/CS376/music_src/audionautix/mtat/npy/TheChildrensRoom_29_58.npy\n"
          ]
        },
        {
          "output_type": "stream",
          "name": "stderr",
          "text": [
            "\r 12%|█▏        | 100/836 [02:06<15:30,  1.26s/it]"
          ]
        },
        {
          "output_type": "stream",
          "name": "stdout",
          "text": [
            "/content/drive/MyDrive/CS376/music_src/audionautix/mtat/npy/CoolRide.npy\n"
          ]
        },
        {
          "output_type": "stream",
          "name": "stderr",
          "text": [
            "\r 12%|█▏        | 101/836 [02:08<15:26,  1.26s/it]"
          ]
        },
        {
          "output_type": "stream",
          "name": "stdout",
          "text": [
            "/content/drive/MyDrive/CS376/music_src/audionautix/mtat/npy/Ion_29_58.npy\n"
          ]
        },
        {
          "output_type": "stream",
          "name": "stderr",
          "text": [
            "\r 12%|█▏        | 102/836 [02:09<15:37,  1.28s/it]"
          ]
        },
        {
          "output_type": "stream",
          "name": "stdout",
          "text": [
            "/content/drive/MyDrive/CS376/music_src/audionautix/mtat/npy/TheMaster_29_58.npy\n"
          ]
        },
        {
          "output_type": "stream",
          "name": "stderr",
          "text": [
            "\r 12%|█▏        | 103/836 [02:10<15:36,  1.28s/it]"
          ]
        },
        {
          "output_type": "stream",
          "name": "stdout",
          "text": [
            "/content/drive/MyDrive/CS376/music_src/audionautix/mtat/npy/DarkMystery.npy\n"
          ]
        },
        {
          "output_type": "stream",
          "name": "stderr",
          "text": [
            "\r 12%|█▏        | 104/836 [02:12<15:31,  1.27s/it]"
          ]
        },
        {
          "output_type": "stream",
          "name": "stdout",
          "text": [
            "/content/drive/MyDrive/CS376/music_src/audionautix/mtat/npy/Countermove_29_58.npy\n"
          ]
        },
        {
          "output_type": "stream",
          "name": "stderr",
          "text": [
            "\r 13%|█▎        | 105/836 [02:13<15:24,  1.26s/it]"
          ]
        },
        {
          "output_type": "stream",
          "name": "stdout",
          "text": [
            "/content/drive/MyDrive/CS376/music_src/audionautix/mtat/npy/Hoedown_29_58.npy\n"
          ]
        },
        {
          "output_type": "stream",
          "name": "stderr",
          "text": [
            "\r 13%|█▎        | 106/836 [02:14<15:24,  1.27s/it]"
          ]
        },
        {
          "output_type": "stream",
          "name": "stdout",
          "text": [
            "/content/drive/MyDrive/CS376/music_src/audionautix/mtat/npy/TrapBed_58_87.npy\n"
          ]
        },
        {
          "output_type": "stream",
          "name": "stderr",
          "text": [
            "\r 13%|█▎        | 107/836 [02:15<15:21,  1.26s/it]"
          ]
        },
        {
          "output_type": "stream",
          "name": "stdout",
          "text": [
            "/content/drive/MyDrive/CS376/music_src/audionautix/mtat/npy/GoNotGently_58_87.npy\n"
          ]
        },
        {
          "output_type": "stream",
          "name": "stderr",
          "text": [
            "\r 13%|█▎        | 108/836 [02:17<15:16,  1.26s/it]"
          ]
        },
        {
          "output_type": "stream",
          "name": "stdout",
          "text": [
            "/content/drive/MyDrive/CS376/music_src/audionautix/mtat/npy/HarkTheHeraldAngelsSing_58_87.npy\n"
          ]
        },
        {
          "output_type": "stream",
          "name": "stderr",
          "text": [
            "\r 13%|█▎        | 109/836 [02:18<15:15,  1.26s/it]"
          ]
        },
        {
          "output_type": "stream",
          "name": "stdout",
          "text": [
            "/content/drive/MyDrive/CS376/music_src/audionautix/mtat/npy/MediumRock_58_87.npy\n"
          ]
        },
        {
          "output_type": "stream",
          "name": "stderr",
          "text": [
            "\r 13%|█▎        | 110/836 [02:19<15:17,  1.26s/it]"
          ]
        },
        {
          "output_type": "stream",
          "name": "stdout",
          "text": [
            "/content/drive/MyDrive/CS376/music_src/audionautix/mtat/npy/FeelGoodRock_58_87.npy\n"
          ]
        },
        {
          "output_type": "stream",
          "name": "stderr",
          "text": [
            "\r 13%|█▎        | 111/836 [02:20<15:16,  1.26s/it]"
          ]
        },
        {
          "output_type": "stream",
          "name": "stdout",
          "text": [
            "/content/drive/MyDrive/CS376/music_src/audionautix/mtat/npy/AlienSunset_29_58.npy\n"
          ]
        },
        {
          "output_type": "stream",
          "name": "stderr",
          "text": [
            "\r 13%|█▎        | 112/836 [02:22<15:16,  1.27s/it]"
          ]
        },
        {
          "output_type": "stream",
          "name": "stdout",
          "text": [
            "/content/drive/MyDrive/CS376/music_src/audionautix/mtat/npy/EpicSeries_58_87.npy\n"
          ]
        },
        {
          "output_type": "stream",
          "name": "stderr",
          "text": [
            "\r 14%|█▎        | 113/836 [02:23<15:11,  1.26s/it]"
          ]
        },
        {
          "output_type": "stream",
          "name": "stdout",
          "text": [
            "/content/drive/MyDrive/CS376/music_src/audionautix/mtat/npy/12Mornings_29_58.npy\n"
          ]
        },
        {
          "output_type": "stream",
          "name": "stderr",
          "text": [
            "\r 14%|█▎        | 114/836 [02:24<15:09,  1.26s/it]"
          ]
        },
        {
          "output_type": "stream",
          "name": "stdout",
          "text": [
            "/content/drive/MyDrive/CS376/music_src/audionautix/mtat/npy/Essence2_58_87.npy\n"
          ]
        },
        {
          "output_type": "stream",
          "name": "stderr",
          "text": [
            "\r 14%|█▍        | 115/836 [02:25<15:06,  1.26s/it]"
          ]
        },
        {
          "output_type": "stream",
          "name": "stdout",
          "text": [
            "/content/drive/MyDrive/CS376/music_src/audionautix/mtat/npy/BustinLoose.npy\n"
          ]
        },
        {
          "output_type": "stream",
          "name": "stderr",
          "text": [
            "\r 14%|█▍        | 116/836 [02:27<15:04,  1.26s/it]"
          ]
        },
        {
          "output_type": "stream",
          "name": "stdout",
          "text": [
            "/content/drive/MyDrive/CS376/music_src/audionautix/mtat/npy/JumpinBoogieWoogie_58_87.npy\n"
          ]
        },
        {
          "output_type": "stream",
          "name": "stderr",
          "text": [
            "\r 14%|█▍        | 117/836 [02:28<15:02,  1.25s/it]"
          ]
        },
        {
          "output_type": "stream",
          "name": "stdout",
          "text": [
            "/content/drive/MyDrive/CS376/music_src/audionautix/mtat/npy/ModernRock2_58_87.npy\n"
          ]
        },
        {
          "output_type": "stream",
          "name": "stderr",
          "text": [
            "\r 14%|█▍        | 118/836 [02:29<15:07,  1.26s/it]"
          ]
        },
        {
          "output_type": "stream",
          "name": "stdout",
          "text": [
            "/content/drive/MyDrive/CS376/music_src/audionautix/mtat/npy/Rockytop_58_87.npy\n"
          ]
        },
        {
          "output_type": "stream",
          "name": "stderr",
          "text": [
            "\r 14%|█▍        | 119/836 [02:30<15:06,  1.26s/it]"
          ]
        },
        {
          "output_type": "stream",
          "name": "stdout",
          "text": [
            "/content/drive/MyDrive/CS376/music_src/audionautix/mtat/npy/WhatChildIsThis_29_58.npy\n"
          ]
        },
        {
          "output_type": "stream",
          "name": "stderr",
          "text": [
            "\r 14%|█▍        | 120/836 [02:32<15:47,  1.32s/it]"
          ]
        },
        {
          "output_type": "stream",
          "name": "stdout",
          "text": [
            "/content/drive/MyDrive/CS376/music_src/audionautix/mtat/npy/Transition.npy\n"
          ]
        },
        {
          "output_type": "stream",
          "name": "stderr",
          "text": [
            "\r 14%|█▍        | 121/836 [02:33<15:31,  1.30s/it]"
          ]
        },
        {
          "output_type": "stream",
          "name": "stdout",
          "text": [
            "/content/drive/MyDrive/CS376/music_src/audionautix/mtat/npy/TrippinCoffee_29_58.npy\n"
          ]
        },
        {
          "output_type": "stream",
          "name": "stderr",
          "text": [
            "\r 15%|█▍        | 122/836 [02:34<15:20,  1.29s/it]"
          ]
        },
        {
          "output_type": "stream",
          "name": "stdout",
          "text": [
            "/content/drive/MyDrive/CS376/music_src/audionautix/mtat/npy/Algorithm_58_87.npy\n"
          ]
        },
        {
          "output_type": "stream",
          "name": "stderr",
          "text": [
            "\r 15%|█▍        | 123/836 [02:36<15:09,  1.28s/it]"
          ]
        },
        {
          "output_type": "stream",
          "name": "stdout",
          "text": [
            "/content/drive/MyDrive/CS376/music_src/audionautix/mtat/npy/Azimuth_29_58.npy\n"
          ]
        },
        {
          "output_type": "stream",
          "name": "stderr",
          "text": [
            "\r 15%|█▍        | 124/836 [02:37<15:04,  1.27s/it]"
          ]
        },
        {
          "output_type": "stream",
          "name": "stdout",
          "text": [
            "/content/drive/MyDrive/CS376/music_src/audionautix/mtat/npy/HillbillyBed.npy\n"
          ]
        },
        {
          "output_type": "stream",
          "name": "stderr",
          "text": [
            "\r 15%|█▍        | 125/836 [02:38<14:59,  1.27s/it]"
          ]
        },
        {
          "output_type": "stream",
          "name": "stdout",
          "text": [
            "/content/drive/MyDrive/CS376/music_src/audionautix/mtat/npy/ThePlumbersRag.npy\n"
          ]
        },
        {
          "output_type": "stream",
          "name": "stderr",
          "text": [
            "\r 15%|█▌        | 126/836 [02:40<15:37,  1.32s/it]"
          ]
        },
        {
          "output_type": "stream",
          "name": "stdout",
          "text": [
            "/content/drive/MyDrive/CS376/music_src/audionautix/mtat/npy/LionsHeart.npy\n"
          ]
        },
        {
          "output_type": "stream",
          "name": "stderr",
          "text": [
            "\r 15%|█▌        | 127/836 [02:41<15:22,  1.30s/it]"
          ]
        },
        {
          "output_type": "stream",
          "name": "stdout",
          "text": [
            "/content/drive/MyDrive/CS376/music_src/audionautix/mtat/npy/BigCarTheft.npy\n"
          ]
        },
        {
          "output_type": "stream",
          "name": "stderr",
          "text": [
            "\r 15%|█▌        | 128/836 [02:42<15:14,  1.29s/it]"
          ]
        },
        {
          "output_type": "stream",
          "name": "stdout",
          "text": [
            "/content/drive/MyDrive/CS376/music_src/audionautix/mtat/npy/OnWaldenPond.npy\n"
          ]
        },
        {
          "output_type": "stream",
          "name": "stderr",
          "text": [
            "\r 15%|█▌        | 129/836 [02:43<15:04,  1.28s/it]"
          ]
        },
        {
          "output_type": "stream",
          "name": "stdout",
          "text": [
            "/content/drive/MyDrive/CS376/music_src/audionautix/mtat/npy/TroubledBridges_29_58.npy\n"
          ]
        },
        {
          "output_type": "stream",
          "name": "stderr",
          "text": [
            "\r 16%|█▌        | 130/836 [02:45<14:58,  1.27s/it]"
          ]
        },
        {
          "output_type": "stream",
          "name": "stdout",
          "text": [
            "/content/drive/MyDrive/CS376/music_src/audionautix/mtat/npy/FatCaps_29_58.npy\n"
          ]
        },
        {
          "output_type": "stream",
          "name": "stderr",
          "text": [
            "\r 16%|█▌        | 131/836 [02:46<14:52,  1.27s/it]"
          ]
        },
        {
          "output_type": "stream",
          "name": "stdout",
          "text": [
            "/content/drive/MyDrive/CS376/music_src/audionautix/mtat/npy/TheBigHouse_29_58.npy\n"
          ]
        },
        {
          "output_type": "stream",
          "name": "stderr",
          "text": [
            "\r 16%|█▌        | 132/836 [02:47<14:50,  1.26s/it]"
          ]
        },
        {
          "output_type": "stream",
          "name": "stdout",
          "text": [
            "/content/drive/MyDrive/CS376/music_src/audionautix/mtat/npy/Roboskater.npy\n"
          ]
        },
        {
          "output_type": "stream",
          "name": "stderr",
          "text": [
            "\r 16%|█▌        | 133/836 [02:48<14:50,  1.27s/it]"
          ]
        },
        {
          "output_type": "stream",
          "name": "stdout",
          "text": [
            "/content/drive/MyDrive/CS376/music_src/audionautix/mtat/npy/PanamaHat_29_58.npy\n"
          ]
        },
        {
          "output_type": "stream",
          "name": "stderr",
          "text": [
            "\r 16%|█▌        | 134/836 [02:50<14:55,  1.28s/it]"
          ]
        },
        {
          "output_type": "stream",
          "name": "stdout",
          "text": [
            "/content/drive/MyDrive/CS376/music_src/audionautix/mtat/npy/MarathonMan_58_87.npy\n"
          ]
        },
        {
          "output_type": "stream",
          "name": "stderr",
          "text": [
            "\r 16%|█▌        | 135/836 [02:51<14:50,  1.27s/it]"
          ]
        },
        {
          "output_type": "stream",
          "name": "stdout",
          "text": [
            "/content/drive/MyDrive/CS376/music_src/audionautix/mtat/npy/Pentagram_29_58.npy\n"
          ]
        },
        {
          "output_type": "stream",
          "name": "stderr",
          "text": [
            "\r 16%|█▋        | 136/836 [02:52<14:46,  1.27s/it]"
          ]
        },
        {
          "output_type": "stream",
          "name": "stdout",
          "text": [
            "/content/drive/MyDrive/CS376/music_src/audionautix/mtat/npy/PennyWhistle_58_87.npy\n"
          ]
        },
        {
          "output_type": "stream",
          "name": "stderr",
          "text": [
            "\r 16%|█▋        | 137/836 [02:54<14:41,  1.26s/it]"
          ]
        },
        {
          "output_type": "stream",
          "name": "stdout",
          "text": [
            "/content/drive/MyDrive/CS376/music_src/audionautix/mtat/npy/Drifting2_58_87.npy\n"
          ]
        },
        {
          "output_type": "stream",
          "name": "stderr",
          "text": [
            "\r 17%|█▋        | 138/836 [02:55<14:41,  1.26s/it]"
          ]
        },
        {
          "output_type": "stream",
          "name": "stdout",
          "text": [
            "/content/drive/MyDrive/CS376/music_src/audionautix/mtat/npy/MegatonDrop_58_87.npy\n"
          ]
        },
        {
          "output_type": "stream",
          "name": "stderr",
          "text": [
            "\r 17%|█▋        | 139/836 [02:56<14:39,  1.26s/it]"
          ]
        },
        {
          "output_type": "stream",
          "name": "stdout",
          "text": [
            "/content/drive/MyDrive/CS376/music_src/audionautix/mtat/npy/Ectoplasm.npy\n"
          ]
        },
        {
          "output_type": "stream",
          "name": "stderr",
          "text": [
            "\r 17%|█▋        | 140/836 [02:57<14:57,  1.29s/it]"
          ]
        },
        {
          "output_type": "stream",
          "name": "stdout",
          "text": [
            "/content/drive/MyDrive/CS376/music_src/audionautix/mtat/npy/Pyramids_58_87.npy\n"
          ]
        },
        {
          "output_type": "stream",
          "name": "stderr",
          "text": [
            "\r 17%|█▋        | 141/836 [02:59<14:56,  1.29s/it]"
          ]
        },
        {
          "output_type": "stream",
          "name": "stdout",
          "text": [
            "/content/drive/MyDrive/CS376/music_src/audionautix/mtat/npy/HeavyDrumsBass_29_58.npy\n"
          ]
        },
        {
          "output_type": "stream",
          "name": "stderr",
          "text": [
            "\r 17%|█▋        | 142/836 [03:00<14:59,  1.30s/it]"
          ]
        },
        {
          "output_type": "stream",
          "name": "stdout",
          "text": [
            "/content/drive/MyDrive/CS376/music_src/audionautix/mtat/npy/HorrorEpic_58_87.npy\n"
          ]
        },
        {
          "output_type": "stream",
          "name": "stderr",
          "text": [
            "\r 17%|█▋        | 143/836 [03:01<14:55,  1.29s/it]"
          ]
        },
        {
          "output_type": "stream",
          "name": "stdout",
          "text": [
            "/content/drive/MyDrive/CS376/music_src/audionautix/mtat/npy/OphelieasBlues_29_58.npy\n"
          ]
        },
        {
          "output_type": "stream",
          "name": "stderr",
          "text": [
            "\r 17%|█▋        | 144/836 [03:03<14:48,  1.28s/it]"
          ]
        },
        {
          "output_type": "stream",
          "name": "stdout",
          "text": [
            "/content/drive/MyDrive/CS376/music_src/audionautix/mtat/npy/12Mornings_58_87.npy\n"
          ]
        },
        {
          "output_type": "stream",
          "name": "stderr",
          "text": [
            "\r 17%|█▋        | 145/836 [03:04<14:43,  1.28s/it]"
          ]
        },
        {
          "output_type": "stream",
          "name": "stdout",
          "text": [
            "/content/drive/MyDrive/CS376/music_src/audionautix/mtat/npy/HighTension_58_87.npy\n"
          ]
        },
        {
          "output_type": "stream",
          "name": "stderr",
          "text": [
            "\r 17%|█▋        | 146/836 [03:05<14:40,  1.28s/it]"
          ]
        },
        {
          "output_type": "stream",
          "name": "stdout",
          "text": [
            "/content/drive/MyDrive/CS376/music_src/audionautix/mtat/npy/VforVictory_58_87.npy\n"
          ]
        },
        {
          "output_type": "stream",
          "name": "stderr",
          "text": [
            "\r 18%|█▊        | 147/836 [03:06<14:42,  1.28s/it]"
          ]
        },
        {
          "output_type": "stream",
          "name": "stdout",
          "text": [
            "/content/drive/MyDrive/CS376/music_src/audionautix/mtat/npy/UnitedWeGroove_29_58.npy\n"
          ]
        },
        {
          "output_type": "stream",
          "name": "stderr",
          "text": [
            "\r 18%|█▊        | 148/836 [03:08<14:45,  1.29s/it]"
          ]
        },
        {
          "output_type": "stream",
          "name": "stdout",
          "text": [
            "/content/drive/MyDrive/CS376/music_src/audionautix/mtat/npy/DestinationUnknown.npy\n"
          ]
        },
        {
          "output_type": "stream",
          "name": "stderr",
          "text": [
            "\r 18%|█▊        | 149/836 [03:09<14:45,  1.29s/it]"
          ]
        },
        {
          "output_type": "stream",
          "name": "stdout",
          "text": [
            "/content/drive/MyDrive/CS376/music_src/audionautix/mtat/npy/TriumphantReturn_29_58.npy\n"
          ]
        },
        {
          "output_type": "stream",
          "name": "stderr",
          "text": [
            "\r 18%|█▊        | 150/836 [03:10<14:42,  1.29s/it]"
          ]
        },
        {
          "output_type": "stream",
          "name": "stdout",
          "text": [
            "/content/drive/MyDrive/CS376/music_src/audionautix/mtat/npy/IceCold_29_58.npy\n"
          ]
        },
        {
          "output_type": "stream",
          "name": "stderr",
          "text": [
            "\r 18%|█▊        | 151/836 [03:12<14:38,  1.28s/it]"
          ]
        },
        {
          "output_type": "stream",
          "name": "stdout",
          "text": [
            "/content/drive/MyDrive/CS376/music_src/audionautix/mtat/npy/IceCold_58_87.npy\n"
          ]
        },
        {
          "output_type": "stream",
          "name": "stderr",
          "text": [
            "\r 18%|█▊        | 152/836 [03:13<14:49,  1.30s/it]"
          ]
        },
        {
          "output_type": "stream",
          "name": "stdout",
          "text": [
            "/content/drive/MyDrive/CS376/music_src/audionautix/mtat/npy/AcousticRock_29_58.npy\n"
          ]
        },
        {
          "output_type": "stream",
          "name": "stderr",
          "text": [
            "\r 18%|█▊        | 153/836 [03:14<14:51,  1.30s/it]"
          ]
        },
        {
          "output_type": "stream",
          "name": "stdout",
          "text": [
            "/content/drive/MyDrive/CS376/music_src/audionautix/mtat/npy/Metaphor_58_87.npy\n"
          ]
        },
        {
          "output_type": "stream",
          "name": "stderr",
          "text": [
            "\r 18%|█▊        | 154/836 [03:15<14:41,  1.29s/it]"
          ]
        },
        {
          "output_type": "stream",
          "name": "stdout",
          "text": [
            "/content/drive/MyDrive/CS376/music_src/audionautix/mtat/npy/Rockytop.npy\n"
          ]
        },
        {
          "output_type": "stream",
          "name": "stderr",
          "text": [
            "\r 19%|█▊        | 155/836 [03:17<14:34,  1.28s/it]"
          ]
        },
        {
          "output_type": "stream",
          "name": "stdout",
          "text": [
            "/content/drive/MyDrive/CS376/music_src/audionautix/mtat/npy/TheContract.npy\n"
          ]
        },
        {
          "output_type": "stream",
          "name": "stderr",
          "text": [
            "\r 19%|█▊        | 156/836 [03:18<14:33,  1.28s/it]"
          ]
        },
        {
          "output_type": "stream",
          "name": "stdout",
          "text": [
            "/content/drive/MyDrive/CS376/music_src/audionautix/mtat/npy/OceanFloor_29_58.npy\n"
          ]
        },
        {
          "output_type": "stream",
          "name": "stderr",
          "text": [
            "\r 19%|█▉        | 157/836 [03:19<14:31,  1.28s/it]"
          ]
        },
        {
          "output_type": "stream",
          "name": "stdout",
          "text": [
            "/content/drive/MyDrive/CS376/music_src/audionautix/mtat/npy/HappyUkulele.npy\n"
          ]
        },
        {
          "output_type": "stream",
          "name": "stderr",
          "text": [
            "\r 19%|█▉        | 158/836 [03:21<14:32,  1.29s/it]"
          ]
        },
        {
          "output_type": "stream",
          "name": "stdout",
          "text": [
            "/content/drive/MyDrive/CS376/music_src/audionautix/mtat/npy/TennesseeHayride_29_58.npy\n"
          ]
        },
        {
          "output_type": "stream",
          "name": "stderr",
          "text": [
            "\r 19%|█▉        | 159/836 [03:22<14:26,  1.28s/it]"
          ]
        },
        {
          "output_type": "stream",
          "name": "stdout",
          "text": [
            "/content/drive/MyDrive/CS376/music_src/audionautix/mtat/npy/HarshAlienMachine.npy\n"
          ]
        },
        {
          "output_type": "stream",
          "name": "stderr",
          "text": [
            "\r 19%|█▉        | 160/836 [03:23<14:21,  1.27s/it]"
          ]
        },
        {
          "output_type": "stream",
          "name": "stdout",
          "text": [
            "/content/drive/MyDrive/CS376/music_src/audionautix/mtat/npy/ADarkerHeart.npy\n"
          ]
        },
        {
          "output_type": "stream",
          "name": "stderr",
          "text": [
            "\r 19%|█▉        | 161/836 [03:24<14:20,  1.27s/it]"
          ]
        },
        {
          "output_type": "stream",
          "name": "stdout",
          "text": [
            "/content/drive/MyDrive/CS376/music_src/audionautix/mtat/npy/Marauder_29_58.npy\n"
          ]
        },
        {
          "output_type": "stream",
          "name": "stderr",
          "text": [
            "\r 19%|█▉        | 162/836 [03:26<14:14,  1.27s/it]"
          ]
        },
        {
          "output_type": "stream",
          "name": "stdout",
          "text": [
            "/content/drive/MyDrive/CS376/music_src/audionautix/mtat/npy/PinksGlass_29_58.npy\n"
          ]
        },
        {
          "output_type": "stream",
          "name": "stderr",
          "text": [
            "\r 19%|█▉        | 163/836 [03:27<14:14,  1.27s/it]"
          ]
        },
        {
          "output_type": "stream",
          "name": "stdout",
          "text": [
            "/content/drive/MyDrive/CS376/music_src/audionautix/mtat/npy/HeadingWest_58_87.npy\n"
          ]
        },
        {
          "output_type": "stream",
          "name": "stderr",
          "text": [
            "\r 20%|█▉        | 164/836 [03:28<14:12,  1.27s/it]"
          ]
        },
        {
          "output_type": "stream",
          "name": "stdout",
          "text": [
            "/content/drive/MyDrive/CS376/music_src/audionautix/mtat/npy/InTheField_58_87.npy\n"
          ]
        },
        {
          "output_type": "stream",
          "name": "stderr",
          "text": [
            "\r 20%|█▉        | 165/836 [03:29<14:12,  1.27s/it]"
          ]
        },
        {
          "output_type": "stream",
          "name": "stdout",
          "text": [
            "/content/drive/MyDrive/CS376/music_src/audionautix/mtat/npy/Meditation1_58_87.npy\n"
          ]
        },
        {
          "output_type": "stream",
          "name": "stderr",
          "text": [
            "\r 20%|█▉        | 166/836 [03:31<14:07,  1.27s/it]"
          ]
        },
        {
          "output_type": "stream",
          "name": "stdout",
          "text": [
            "/content/drive/MyDrive/CS376/music_src/audionautix/mtat/npy/OneFineDay.npy\n"
          ]
        },
        {
          "output_type": "stream",
          "name": "stderr",
          "text": [
            "\r 20%|█▉        | 167/836 [03:32<14:02,  1.26s/it]"
          ]
        },
        {
          "output_type": "stream",
          "name": "stdout",
          "text": [
            "/content/drive/MyDrive/CS376/music_src/audionautix/mtat/npy/VforVictory_29_58.npy\n"
          ]
        },
        {
          "output_type": "stream",
          "name": "stderr",
          "text": [
            "\r 20%|██        | 168/836 [03:33<14:01,  1.26s/it]"
          ]
        },
        {
          "output_type": "stream",
          "name": "stdout",
          "text": [
            "/content/drive/MyDrive/CS376/music_src/audionautix/mtat/npy/CarolOfTheBells_58_87.npy\n"
          ]
        },
        {
          "output_type": "stream",
          "name": "stderr",
          "text": [
            "\r 20%|██        | 169/836 [03:34<14:03,  1.27s/it]"
          ]
        },
        {
          "output_type": "stream",
          "name": "stdout",
          "text": [
            "/content/drive/MyDrive/CS376/music_src/audionautix/mtat/npy/OphelieasBlues_58_87.npy\n"
          ]
        },
        {
          "output_type": "stream",
          "name": "stderr",
          "text": [
            "\r 20%|██        | 170/836 [03:36<14:03,  1.27s/it]"
          ]
        },
        {
          "output_type": "stream",
          "name": "stdout",
          "text": [
            "/content/drive/MyDrive/CS376/music_src/audionautix/mtat/npy/AViewFromEarth.npy\n"
          ]
        },
        {
          "output_type": "stream",
          "name": "stderr",
          "text": [
            "\r 20%|██        | 171/836 [03:37<14:14,  1.29s/it]"
          ]
        },
        {
          "output_type": "stream",
          "name": "stdout",
          "text": [
            "/content/drive/MyDrive/CS376/music_src/audionautix/mtat/npy/Roboskater_58_87.npy\n"
          ]
        },
        {
          "output_type": "stream",
          "name": "stderr",
          "text": [
            "\r 21%|██        | 172/836 [03:38<14:36,  1.32s/it]"
          ]
        },
        {
          "output_type": "stream",
          "name": "stdout",
          "text": [
            "/content/drive/MyDrive/CS376/music_src/audionautix/mtat/npy/BanjoHop_29_58.npy\n"
          ]
        },
        {
          "output_type": "stream",
          "name": "stderr",
          "text": [
            "\r 21%|██        | 173/836 [03:40<14:52,  1.35s/it]"
          ]
        },
        {
          "output_type": "stream",
          "name": "stdout",
          "text": [
            "/content/drive/MyDrive/CS376/music_src/audionautix/mtat/npy/FolkBed_58_87.npy\n"
          ]
        },
        {
          "output_type": "stream",
          "name": "stderr",
          "text": [
            "\r 21%|██        | 174/836 [03:41<15:03,  1.36s/it]"
          ]
        },
        {
          "output_type": "stream",
          "name": "stdout",
          "text": [
            "/content/drive/MyDrive/CS376/music_src/audionautix/mtat/npy/LeavinTheLights_29_58.npy\n"
          ]
        },
        {
          "output_type": "stream",
          "name": "stderr",
          "text": [
            "\r 21%|██        | 175/836 [03:43<14:50,  1.35s/it]"
          ]
        },
        {
          "output_type": "stream",
          "name": "stdout",
          "text": [
            "/content/drive/MyDrive/CS376/music_src/audionautix/mtat/npy/PendulumWaltz_58_87.npy\n"
          ]
        },
        {
          "output_type": "stream",
          "name": "stderr",
          "text": [
            "\r 21%|██        | 176/836 [03:44<15:21,  1.40s/it]"
          ]
        },
        {
          "output_type": "stream",
          "name": "stdout",
          "text": [
            "/content/drive/MyDrive/CS376/music_src/audionautix/mtat/npy/AcousticGuitar1.npy\n"
          ]
        },
        {
          "output_type": "stream",
          "name": "stderr",
          "text": [
            "\r 21%|██        | 177/836 [03:45<14:51,  1.35s/it]"
          ]
        },
        {
          "output_type": "stream",
          "name": "stdout",
          "text": [
            "/content/drive/MyDrive/CS376/music_src/audionautix/mtat/npy/TheVisitors.npy\n"
          ]
        },
        {
          "output_type": "stream",
          "name": "stderr",
          "text": [
            "\r 21%|██▏       | 178/836 [03:47<14:31,  1.32s/it]"
          ]
        },
        {
          "output_type": "stream",
          "name": "stdout",
          "text": [
            "/content/drive/MyDrive/CS376/music_src/audionautix/mtat/npy/Namaste_29_58.npy\n"
          ]
        },
        {
          "output_type": "stream",
          "name": "stderr",
          "text": [
            "\r 21%|██▏       | 179/836 [03:48<14:17,  1.31s/it]"
          ]
        },
        {
          "output_type": "stream",
          "name": "stdout",
          "text": [
            "/content/drive/MyDrive/CS376/music_src/audionautix/mtat/npy/IntenseSuspense_29_58.npy\n"
          ]
        },
        {
          "output_type": "stream",
          "name": "stderr",
          "text": [
            "\r 22%|██▏       | 180/836 [03:49<14:10,  1.30s/it]"
          ]
        },
        {
          "output_type": "stream",
          "name": "stdout",
          "text": [
            "/content/drive/MyDrive/CS376/music_src/audionautix/mtat/npy/PinksGlass_58_87.npy\n"
          ]
        },
        {
          "output_type": "stream",
          "name": "stderr",
          "text": [
            "\r 22%|██▏       | 181/836 [03:50<14:01,  1.28s/it]"
          ]
        },
        {
          "output_type": "stream",
          "name": "stdout",
          "text": [
            "/content/drive/MyDrive/CS376/music_src/audionautix/mtat/npy/EmilyWalksAway.npy\n"
          ]
        },
        {
          "output_type": "stream",
          "name": "stderr",
          "text": [
            "\r 22%|██▏       | 182/836 [03:52<13:54,  1.28s/it]"
          ]
        },
        {
          "output_type": "stream",
          "name": "stdout",
          "text": [
            "/content/drive/MyDrive/CS376/music_src/audionautix/mtat/npy/Don'tStop_29_58.npy\n"
          ]
        },
        {
          "output_type": "stream",
          "name": "stderr",
          "text": [
            "\r 22%|██▏       | 183/836 [03:53<13:49,  1.27s/it]"
          ]
        },
        {
          "output_type": "stream",
          "name": "stdout",
          "text": [
            "/content/drive/MyDrive/CS376/music_src/audionautix/mtat/npy/AcousticGuitar1_58_87.npy\n"
          ]
        },
        {
          "output_type": "stream",
          "name": "stderr",
          "text": [
            "\r 22%|██▏       | 184/836 [03:54<13:48,  1.27s/it]"
          ]
        },
        {
          "output_type": "stream",
          "name": "stdout",
          "text": [
            "/content/drive/MyDrive/CS376/music_src/audionautix/mtat/npy/Continuum.npy\n"
          ]
        },
        {
          "output_type": "stream",
          "name": "stderr",
          "text": [
            "\r 22%|██▏       | 185/836 [03:55<13:47,  1.27s/it]"
          ]
        },
        {
          "output_type": "stream",
          "name": "stdout",
          "text": [
            "/content/drive/MyDrive/CS376/music_src/audionautix/mtat/npy/Plantation_29_58.npy\n"
          ]
        },
        {
          "output_type": "stream",
          "name": "stderr",
          "text": [
            "\r 22%|██▏       | 186/836 [03:57<13:43,  1.27s/it]"
          ]
        },
        {
          "output_type": "stream",
          "name": "stdout",
          "text": [
            "/content/drive/MyDrive/CS376/music_src/audionautix/mtat/npy/Renaissance_58_87.npy\n"
          ]
        },
        {
          "output_type": "stream",
          "name": "stderr",
          "text": [
            "\r 22%|██▏       | 187/836 [03:58<13:40,  1.26s/it]"
          ]
        },
        {
          "output_type": "stream",
          "name": "stdout",
          "text": [
            "/content/drive/MyDrive/CS376/music_src/audionautix/mtat/npy/BigSwingBand_58_87.npy\n"
          ]
        },
        {
          "output_type": "stream",
          "name": "stderr",
          "text": [
            "\r 22%|██▏       | 188/836 [03:59<13:43,  1.27s/it]"
          ]
        },
        {
          "output_type": "stream",
          "name": "stdout",
          "text": [
            "/content/drive/MyDrive/CS376/music_src/audionautix/mtat/npy/5CentsBack.npy\n"
          ]
        },
        {
          "output_type": "stream",
          "name": "stderr",
          "text": [
            "\r 23%|██▎       | 189/836 [04:01<13:42,  1.27s/it]"
          ]
        },
        {
          "output_type": "stream",
          "name": "stdout",
          "text": [
            "/content/drive/MyDrive/CS376/music_src/audionautix/mtat/npy/GrandeVista_29_58.npy\n"
          ]
        },
        {
          "output_type": "stream",
          "name": "stderr",
          "text": [
            "\r 23%|██▎       | 190/836 [04:02<13:38,  1.27s/it]"
          ]
        },
        {
          "output_type": "stream",
          "name": "stdout",
          "text": [
            "/content/drive/MyDrive/CS376/music_src/audionautix/mtat/npy/Lexicon_29_58.npy\n"
          ]
        },
        {
          "output_type": "stream",
          "name": "stderr",
          "text": [
            "\r 23%|██▎       | 191/836 [04:03<13:34,  1.26s/it]"
          ]
        },
        {
          "output_type": "stream",
          "name": "stdout",
          "text": [
            "/content/drive/MyDrive/CS376/music_src/audionautix/mtat/npy/Minstrel_58_87.npy\n"
          ]
        },
        {
          "output_type": "stream",
          "name": "stderr",
          "text": [
            "\r 23%|██▎       | 192/836 [04:04<13:32,  1.26s/it]"
          ]
        },
        {
          "output_type": "stream",
          "name": "stdout",
          "text": [
            "/content/drive/MyDrive/CS376/music_src/audionautix/mtat/npy/PaperWings.npy\n"
          ]
        },
        {
          "output_type": "stream",
          "name": "stderr",
          "text": [
            "\r 23%|██▎       | 193/836 [04:06<13:31,  1.26s/it]"
          ]
        },
        {
          "output_type": "stream",
          "name": "stdout",
          "text": [
            "/content/drive/MyDrive/CS376/music_src/audionautix/mtat/npy/CopAFeel_58_87.npy\n"
          ]
        },
        {
          "output_type": "stream",
          "name": "stderr",
          "text": [
            "\r 23%|██▎       | 194/836 [04:07<13:29,  1.26s/it]"
          ]
        },
        {
          "output_type": "stream",
          "name": "stdout",
          "text": [
            "/content/drive/MyDrive/CS376/music_src/audionautix/mtat/npy/RiverMeditation_58_87.npy\n"
          ]
        },
        {
          "output_type": "stream",
          "name": "stderr",
          "text": [
            "\r 23%|██▎       | 195/836 [04:08<13:33,  1.27s/it]"
          ]
        },
        {
          "output_type": "stream",
          "name": "stdout",
          "text": [
            "/content/drive/MyDrive/CS376/music_src/audionautix/mtat/npy/LightningBugs.npy\n"
          ]
        },
        {
          "output_type": "stream",
          "name": "stderr",
          "text": [
            "\r 23%|██▎       | 196/836 [04:09<13:34,  1.27s/it]"
          ]
        },
        {
          "output_type": "stream",
          "name": "stdout",
          "text": [
            "/content/drive/MyDrive/CS376/music_src/audionautix/mtat/npy/LandrasDream_58_87.npy\n"
          ]
        },
        {
          "output_type": "stream",
          "name": "stderr",
          "text": [
            "\r 24%|██▎       | 197/836 [04:11<13:31,  1.27s/it]"
          ]
        },
        {
          "output_type": "stream",
          "name": "stdout",
          "text": [
            "/content/drive/MyDrive/CS376/music_src/audionautix/mtat/npy/ForestRhythm_29_58.npy\n"
          ]
        },
        {
          "output_type": "stream",
          "name": "stderr",
          "text": [
            "\r 24%|██▎       | 198/836 [04:12<13:30,  1.27s/it]"
          ]
        },
        {
          "output_type": "stream",
          "name": "stdout",
          "text": [
            "/content/drive/MyDrive/CS376/music_src/audionautix/mtat/npy/AwayInAManger_58_87.npy\n"
          ]
        },
        {
          "output_type": "stream",
          "name": "stderr",
          "text": [
            "\r 24%|██▍       | 199/836 [04:13<13:28,  1.27s/it]"
          ]
        },
        {
          "output_type": "stream",
          "name": "stdout",
          "text": [
            "/content/drive/MyDrive/CS376/music_src/audionautix/mtat/npy/Boom_58_87.npy\n"
          ]
        },
        {
          "output_type": "stream",
          "name": "stderr",
          "text": [
            "\r 24%|██▍       | 200/836 [04:14<13:27,  1.27s/it]"
          ]
        },
        {
          "output_type": "stream",
          "name": "stdout",
          "text": [
            "/content/drive/MyDrive/CS376/music_src/audionautix/mtat/npy/OkeyDokeySmokey.npy\n"
          ]
        },
        {
          "output_type": "stream",
          "name": "stderr",
          "text": [
            "\r 24%|██▍       | 201/836 [04:16<13:25,  1.27s/it]"
          ]
        },
        {
          "output_type": "stream",
          "name": "stdout",
          "text": [
            "/content/drive/MyDrive/CS376/music_src/audionautix/mtat/npy/BigSwingBand_29_58.npy\n"
          ]
        },
        {
          "output_type": "stream",
          "name": "stderr",
          "text": [
            "\r 24%|██▍       | 202/836 [04:17<13:25,  1.27s/it]"
          ]
        },
        {
          "output_type": "stream",
          "name": "stdout",
          "text": [
            "/content/drive/MyDrive/CS376/music_src/audionautix/mtat/npy/WhatsItToYaPunk_58_87.npy\n"
          ]
        },
        {
          "output_type": "stream",
          "name": "stderr",
          "text": [
            "\r 24%|██▍       | 203/836 [04:18<13:24,  1.27s/it]"
          ]
        },
        {
          "output_type": "stream",
          "name": "stdout",
          "text": [
            "/content/drive/MyDrive/CS376/music_src/audionautix/mtat/npy/DirtRoadTraveler.npy\n"
          ]
        },
        {
          "output_type": "stream",
          "name": "stderr",
          "text": [
            "\r 24%|██▍       | 204/836 [04:20<13:26,  1.28s/it]"
          ]
        },
        {
          "output_type": "stream",
          "name": "stdout",
          "text": [
            "/content/drive/MyDrive/CS376/music_src/audionautix/mtat/npy/ZombieRock.npy\n"
          ]
        },
        {
          "output_type": "stream",
          "name": "stderr",
          "text": [
            "\r 25%|██▍       | 205/836 [04:21<13:23,  1.27s/it]"
          ]
        },
        {
          "output_type": "stream",
          "name": "stdout",
          "text": [
            "/content/drive/MyDrive/CS376/music_src/audionautix/mtat/npy/AmazingGrace_58_87.npy\n"
          ]
        },
        {
          "output_type": "stream",
          "name": "stderr",
          "text": [
            "\r 25%|██▍       | 206/836 [04:22<13:21,  1.27s/it]"
          ]
        },
        {
          "output_type": "stream",
          "name": "stdout",
          "text": [
            "/content/drive/MyDrive/CS376/music_src/audionautix/mtat/npy/Clouds_29_58.npy\n"
          ]
        },
        {
          "output_type": "stream",
          "name": "stderr",
          "text": [
            "\r 25%|██▍       | 207/836 [04:23<13:17,  1.27s/it]"
          ]
        },
        {
          "output_type": "stream",
          "name": "stdout",
          "text": [
            "/content/drive/MyDrive/CS376/music_src/audionautix/mtat/npy/Top40Rap.npy\n"
          ]
        },
        {
          "output_type": "stream",
          "name": "stderr",
          "text": [
            "\r 25%|██▍       | 208/836 [04:25<13:14,  1.27s/it]"
          ]
        },
        {
          "output_type": "stream",
          "name": "stdout",
          "text": [
            "/content/drive/MyDrive/CS376/music_src/audionautix/mtat/npy/DanceDubber_29_58.npy\n"
          ]
        },
        {
          "output_type": "stream",
          "name": "stderr",
          "text": [
            "\r 25%|██▌       | 209/836 [04:26<13:11,  1.26s/it]"
          ]
        },
        {
          "output_type": "stream",
          "name": "stdout",
          "text": [
            "/content/drive/MyDrive/CS376/music_src/audionautix/mtat/npy/PanamaHat.npy\n"
          ]
        },
        {
          "output_type": "stream",
          "name": "stderr",
          "text": [
            "\r 25%|██▌       | 210/836 [04:27<13:13,  1.27s/it]"
          ]
        },
        {
          "output_type": "stream",
          "name": "stdout",
          "text": [
            "/content/drive/MyDrive/CS376/music_src/audionautix/mtat/npy/AcousticBlues_58_87.npy\n"
          ]
        },
        {
          "output_type": "stream",
          "name": "stderr",
          "text": [
            "\r 25%|██▌       | 211/836 [04:28<13:19,  1.28s/it]"
          ]
        },
        {
          "output_type": "stream",
          "name": "stdout",
          "text": [
            "/content/drive/MyDrive/CS376/music_src/audionautix/mtat/npy/EpicTVTheme_29_58.npy\n"
          ]
        },
        {
          "output_type": "stream",
          "name": "stderr",
          "text": [
            "\r 25%|██▌       | 212/836 [04:30<13:21,  1.28s/it]"
          ]
        },
        {
          "output_type": "stream",
          "name": "stdout",
          "text": [
            "/content/drive/MyDrive/CS376/music_src/audionautix/mtat/npy/Namaste.npy\n"
          ]
        },
        {
          "output_type": "stream",
          "name": "stderr",
          "text": [
            "\r 25%|██▌       | 213/836 [04:31<13:20,  1.29s/it]"
          ]
        },
        {
          "output_type": "stream",
          "name": "stdout",
          "text": [
            "/content/drive/MyDrive/CS376/music_src/audionautix/mtat/npy/FurElise.npy\n"
          ]
        },
        {
          "output_type": "stream",
          "name": "stderr",
          "text": [
            "\r 26%|██▌       | 214/836 [04:32<13:17,  1.28s/it]"
          ]
        },
        {
          "output_type": "stream",
          "name": "stdout",
          "text": [
            "/content/drive/MyDrive/CS376/music_src/audionautix/mtat/npy/Countermove_58_87.npy\n"
          ]
        },
        {
          "output_type": "stream",
          "name": "stderr",
          "text": [
            "\r 26%|██▌       | 215/836 [04:34<13:12,  1.28s/it]"
          ]
        },
        {
          "output_type": "stream",
          "name": "stdout",
          "text": [
            "/content/drive/MyDrive/CS376/music_src/audionautix/mtat/npy/InnerJourney_29_58.npy\n"
          ]
        },
        {
          "output_type": "stream",
          "name": "stderr",
          "text": [
            "\r 26%|██▌       | 216/836 [04:35<13:07,  1.27s/it]"
          ]
        },
        {
          "output_type": "stream",
          "name": "stdout",
          "text": [
            "/content/drive/MyDrive/CS376/music_src/audionautix/mtat/npy/5CentsBack_58_87.npy\n"
          ]
        },
        {
          "output_type": "stream",
          "name": "stderr",
          "text": [
            "\r 26%|██▌       | 217/836 [04:36<13:02,  1.26s/it]"
          ]
        },
        {
          "output_type": "stream",
          "name": "stdout",
          "text": [
            "/content/drive/MyDrive/CS376/music_src/audionautix/mtat/npy/DownTheWay_29_58.npy\n"
          ]
        },
        {
          "output_type": "stream",
          "name": "stderr",
          "text": [
            "\r 26%|██▌       | 218/836 [04:37<12:58,  1.26s/it]"
          ]
        },
        {
          "output_type": "stream",
          "name": "stdout",
          "text": [
            "/content/drive/MyDrive/CS376/music_src/audionautix/mtat/npy/AViewFromEarth_58_87.npy\n"
          ]
        },
        {
          "output_type": "stream",
          "name": "stderr",
          "text": [
            "\r 26%|██▌       | 219/836 [04:39<12:56,  1.26s/it]"
          ]
        },
        {
          "output_type": "stream",
          "name": "stdout",
          "text": [
            "/content/drive/MyDrive/CS376/music_src/audionautix/mtat/npy/Essence_29_58.npy\n"
          ]
        },
        {
          "output_type": "stream",
          "name": "stderr",
          "text": [
            "\r 26%|██▋       | 220/836 [04:40<12:54,  1.26s/it]"
          ]
        },
        {
          "output_type": "stream",
          "name": "stdout",
          "text": [
            "/content/drive/MyDrive/CS376/music_src/audionautix/mtat/npy/WarfareBed_58_87.npy\n"
          ]
        },
        {
          "output_type": "stream",
          "name": "stderr",
          "text": [
            "\r 26%|██▋       | 221/836 [04:41<12:54,  1.26s/it]"
          ]
        },
        {
          "output_type": "stream",
          "name": "stdout",
          "text": [
            "/content/drive/MyDrive/CS376/music_src/audionautix/mtat/npy/Ectoplasm_29_58.npy\n"
          ]
        },
        {
          "output_type": "stream",
          "name": "stderr",
          "text": [
            "\r 27%|██▋       | 222/836 [04:42<12:53,  1.26s/it]"
          ]
        },
        {
          "output_type": "stream",
          "name": "stdout",
          "text": [
            "/content/drive/MyDrive/CS376/music_src/audionautix/mtat/npy/BustinLooseWLead_58_87.npy\n"
          ]
        },
        {
          "output_type": "stream",
          "name": "stderr",
          "text": [
            "\r 27%|██▋       | 223/836 [04:44<12:51,  1.26s/it]"
          ]
        },
        {
          "output_type": "stream",
          "name": "stdout",
          "text": [
            "/content/drive/MyDrive/CS376/music_src/audionautix/mtat/npy/MidnightClearEDM.npy\n"
          ]
        },
        {
          "output_type": "stream",
          "name": "stderr",
          "text": [
            "\r 27%|██▋       | 224/836 [04:45<12:50,  1.26s/it]"
          ]
        },
        {
          "output_type": "stream",
          "name": "stdout",
          "text": [
            "/content/drive/MyDrive/CS376/music_src/audionautix/mtat/npy/Crushin_29_58.npy\n"
          ]
        },
        {
          "output_type": "stream",
          "name": "stderr",
          "text": [
            "\r 27%|██▋       | 225/836 [04:46<12:49,  1.26s/it]"
          ]
        },
        {
          "output_type": "stream",
          "name": "stdout",
          "text": [
            "/content/drive/MyDrive/CS376/music_src/audionautix/mtat/npy/BrookersBlues_29_58.npy\n"
          ]
        },
        {
          "output_type": "stream",
          "name": "stderr",
          "text": [
            "\r 27%|██▋       | 226/836 [04:47<12:49,  1.26s/it]"
          ]
        },
        {
          "output_type": "stream",
          "name": "stdout",
          "text": [
            "/content/drive/MyDrive/CS376/music_src/audionautix/mtat/npy/Jellyfish_58_87.npy\n"
          ]
        },
        {
          "output_type": "stream",
          "name": "stderr",
          "text": [
            "\r 27%|██▋       | 227/836 [04:49<12:50,  1.27s/it]"
          ]
        },
        {
          "output_type": "stream",
          "name": "stdout",
          "text": [
            "/content/drive/MyDrive/CS376/music_src/audionautix/mtat/npy/MovieTheme1_58_87.npy\n"
          ]
        },
        {
          "output_type": "stream",
          "name": "stderr",
          "text": [
            "\r 27%|██▋       | 228/836 [04:50<12:50,  1.27s/it]"
          ]
        },
        {
          "output_type": "stream",
          "name": "stdout",
          "text": [
            "/content/drive/MyDrive/CS376/music_src/audionautix/mtat/npy/InTheField.npy\n"
          ]
        },
        {
          "output_type": "stream",
          "name": "stderr",
          "text": [
            "\r 27%|██▋       | 229/836 [04:51<12:50,  1.27s/it]"
          ]
        },
        {
          "output_type": "stream",
          "name": "stdout",
          "text": [
            "/content/drive/MyDrive/CS376/music_src/audionautix/mtat/npy/MovieTheme1.npy\n"
          ]
        },
        {
          "output_type": "stream",
          "name": "stderr",
          "text": [
            "\r 28%|██▊       | 230/836 [04:52<12:47,  1.27s/it]"
          ]
        },
        {
          "output_type": "stream",
          "name": "stdout",
          "text": [
            "/content/drive/MyDrive/CS376/music_src/audionautix/mtat/npy/TubaWaddle.npy\n"
          ]
        },
        {
          "output_type": "stream",
          "name": "stderr",
          "text": [
            "\r 28%|██▊       | 231/836 [04:54<12:42,  1.26s/it]"
          ]
        },
        {
          "output_type": "stream",
          "name": "stdout",
          "text": [
            "/content/drive/MyDrive/CS376/music_src/audionautix/mtat/npy/BackToTheWood.npy\n"
          ]
        },
        {
          "output_type": "stream",
          "name": "stderr",
          "text": [
            "\r 28%|██▊       | 232/836 [04:55<12:40,  1.26s/it]"
          ]
        },
        {
          "output_type": "stream",
          "name": "stdout",
          "text": [
            "/content/drive/MyDrive/CS376/music_src/audionautix/mtat/npy/PanamaHat_58_87.npy\n"
          ]
        },
        {
          "output_type": "stream",
          "name": "stderr",
          "text": [
            "\r 28%|██▊       | 233/836 [04:56<12:41,  1.26s/it]"
          ]
        },
        {
          "output_type": "stream",
          "name": "stdout",
          "text": [
            "/content/drive/MyDrive/CS376/music_src/audionautix/mtat/npy/ActThree.npy\n"
          ]
        },
        {
          "output_type": "stream",
          "name": "stderr",
          "text": [
            "\r 28%|██▊       | 234/836 [04:58<12:38,  1.26s/it]"
          ]
        },
        {
          "output_type": "stream",
          "name": "stdout",
          "text": [
            "/content/drive/MyDrive/CS376/music_src/audionautix/mtat/npy/AllGoodInTheWood.npy\n"
          ]
        },
        {
          "output_type": "stream",
          "name": "stderr",
          "text": [
            "\r 28%|██▊       | 235/836 [04:59<12:42,  1.27s/it]"
          ]
        },
        {
          "output_type": "stream",
          "name": "stdout",
          "text": [
            "/content/drive/MyDrive/CS376/music_src/audionautix/mtat/npy/Horror13.npy\n"
          ]
        },
        {
          "output_type": "stream",
          "name": "stderr",
          "text": [
            "\r 28%|██▊       | 236/836 [05:00<12:44,  1.27s/it]"
          ]
        },
        {
          "output_type": "stream",
          "name": "stdout",
          "text": [
            "/content/drive/MyDrive/CS376/music_src/audionautix/mtat/npy/OneFineDay_58_87.npy\n"
          ]
        },
        {
          "output_type": "stream",
          "name": "stderr",
          "text": [
            "\r 28%|██▊       | 237/836 [05:01<12:40,  1.27s/it]"
          ]
        },
        {
          "output_type": "stream",
          "name": "stdout",
          "text": [
            "/content/drive/MyDrive/CS376/music_src/audionautix/mtat/npy/ILikePeanuts_29_58.npy\n"
          ]
        },
        {
          "output_type": "stream",
          "name": "stderr",
          "text": [
            "\r 28%|██▊       | 238/836 [05:03<12:36,  1.27s/it]"
          ]
        },
        {
          "output_type": "stream",
          "name": "stdout",
          "text": [
            "/content/drive/MyDrive/CS376/music_src/audionautix/mtat/npy/TennesseeHayride_58_87.npy\n"
          ]
        },
        {
          "output_type": "stream",
          "name": "stderr",
          "text": [
            "\r 29%|██▊       | 239/836 [05:04<12:34,  1.26s/it]"
          ]
        },
        {
          "output_type": "stream",
          "name": "stdout",
          "text": [
            "/content/drive/MyDrive/CS376/music_src/audionautix/mtat/npy/Alison_29_58.npy\n"
          ]
        },
        {
          "output_type": "stream",
          "name": "stderr",
          "text": [
            "\r 29%|██▊       | 240/836 [05:05<12:32,  1.26s/it]"
          ]
        },
        {
          "output_type": "stream",
          "name": "stdout",
          "text": [
            "/content/drive/MyDrive/CS376/music_src/audionautix/mtat/npy/AwayInAManger.npy\n"
          ]
        },
        {
          "output_type": "stream",
          "name": "stderr",
          "text": [
            "\r 29%|██▉       | 241/836 [05:06<12:30,  1.26s/it]"
          ]
        },
        {
          "output_type": "stream",
          "name": "stdout",
          "text": [
            "/content/drive/MyDrive/CS376/music_src/audionautix/mtat/npy/JumpinBoogieWoogie_29_58.npy\n"
          ]
        },
        {
          "output_type": "stream",
          "name": "stderr",
          "text": [
            "\r 29%|██▉       | 242/836 [05:08<12:30,  1.26s/it]"
          ]
        },
        {
          "output_type": "stream",
          "name": "stdout",
          "text": [
            "/content/drive/MyDrive/CS376/music_src/audionautix/mtat/npy/Pentagram_58_87.npy\n"
          ]
        },
        {
          "output_type": "stream",
          "name": "stderr",
          "text": [
            "\r 29%|██▉       | 243/836 [05:09<12:32,  1.27s/it]"
          ]
        },
        {
          "output_type": "stream",
          "name": "stdout",
          "text": [
            "/content/drive/MyDrive/CS376/music_src/audionautix/mtat/npy/Serenity.npy\n"
          ]
        },
        {
          "output_type": "stream",
          "name": "stderr",
          "text": [
            "\r 29%|██▉       | 244/836 [05:10<12:30,  1.27s/it]"
          ]
        },
        {
          "output_type": "stream",
          "name": "stdout",
          "text": [
            "/content/drive/MyDrive/CS376/music_src/audionautix/mtat/npy/FightScene.npy\n"
          ]
        },
        {
          "output_type": "stream",
          "name": "stderr",
          "text": [
            "\r 29%|██▉       | 245/836 [05:11<12:28,  1.27s/it]"
          ]
        },
        {
          "output_type": "stream",
          "name": "stdout",
          "text": [
            "/content/drive/MyDrive/CS376/music_src/audionautix/mtat/npy/Somber_29_58.npy\n"
          ]
        },
        {
          "output_type": "stream",
          "name": "stderr",
          "text": [
            "\r 29%|██▉       | 246/836 [05:13<12:23,  1.26s/it]"
          ]
        },
        {
          "output_type": "stream",
          "name": "stdout",
          "text": [
            "/content/drive/MyDrive/CS376/music_src/audionautix/mtat/npy/FrontPorchSitter_29_58.npy\n"
          ]
        },
        {
          "output_type": "stream",
          "name": "stderr",
          "text": [
            "\r 30%|██▉       | 247/836 [05:14<12:23,  1.26s/it]"
          ]
        },
        {
          "output_type": "stream",
          "name": "stdout",
          "text": [
            "/content/drive/MyDrive/CS376/music_src/audionautix/mtat/npy/MegatonDrop_29_58.npy\n"
          ]
        },
        {
          "output_type": "stream",
          "name": "stderr",
          "text": [
            "\r 30%|██▉       | 248/836 [05:15<12:21,  1.26s/it]"
          ]
        },
        {
          "output_type": "stream",
          "name": "stdout",
          "text": [
            "/content/drive/MyDrive/CS376/music_src/audionautix/mtat/npy/BackToTheWood_29_58.npy\n"
          ]
        },
        {
          "output_type": "stream",
          "name": "stderr",
          "text": [
            "\r 30%|██▉       | 249/836 [05:16<12:20,  1.26s/it]"
          ]
        },
        {
          "output_type": "stream",
          "name": "stdout",
          "text": [
            "/content/drive/MyDrive/CS376/music_src/audionautix/mtat/npy/Serenity_29_58.npy\n"
          ]
        },
        {
          "output_type": "stream",
          "name": "stderr",
          "text": [
            "\r 30%|██▉       | 250/836 [05:18<12:24,  1.27s/it]"
          ]
        },
        {
          "output_type": "stream",
          "name": "stdout",
          "text": [
            "/content/drive/MyDrive/CS376/music_src/audionautix/mtat/npy/CalmBlueLake_29_58.npy\n"
          ]
        },
        {
          "output_type": "stream",
          "name": "stderr",
          "text": [
            "\r 30%|███       | 251/836 [05:19<12:24,  1.27s/it]"
          ]
        },
        {
          "output_type": "stream",
          "name": "stdout",
          "text": [
            "/content/drive/MyDrive/CS376/music_src/audionautix/mtat/npy/CryinInMyBeer_29_58.npy\n"
          ]
        },
        {
          "output_type": "stream",
          "name": "stderr",
          "text": [
            "\r 30%|███       | 252/836 [05:20<12:22,  1.27s/it]"
          ]
        },
        {
          "output_type": "stream",
          "name": "stdout",
          "text": [
            "/content/drive/MyDrive/CS376/music_src/audionautix/mtat/npy/TicketToNowhereMan_29_58.npy\n"
          ]
        },
        {
          "output_type": "stream",
          "name": "stderr",
          "text": [
            "\r 30%|███       | 253/836 [05:22<12:17,  1.26s/it]"
          ]
        },
        {
          "output_type": "stream",
          "name": "stdout",
          "text": [
            "/content/drive/MyDrive/CS376/music_src/audionautix/mtat/npy/BoogieWoogieBed.npy\n"
          ]
        },
        {
          "output_type": "stream",
          "name": "stderr",
          "text": [
            "\r 30%|███       | 254/836 [05:23<12:14,  1.26s/it]"
          ]
        },
        {
          "output_type": "stream",
          "name": "stdout",
          "text": [
            "/content/drive/MyDrive/CS376/music_src/audionautix/mtat/npy/HeroInPeril.npy\n"
          ]
        },
        {
          "output_type": "stream",
          "name": "stderr",
          "text": [
            "\r 31%|███       | 255/836 [05:24<12:12,  1.26s/it]"
          ]
        },
        {
          "output_type": "stream",
          "name": "stdout",
          "text": [
            "/content/drive/MyDrive/CS376/music_src/audionautix/mtat/npy/JumpinBoogieWoogie.npy\n"
          ]
        },
        {
          "output_type": "stream",
          "name": "stderr",
          "text": [
            "\r 31%|███       | 256/836 [05:25<12:10,  1.26s/it]"
          ]
        },
        {
          "output_type": "stream",
          "name": "stdout",
          "text": [
            "/content/drive/MyDrive/CS376/music_src/audionautix/mtat/npy/EpicSeries_29_58.npy\n"
          ]
        },
        {
          "output_type": "stream",
          "name": "stderr",
          "text": [
            "\r 31%|███       | 257/836 [05:27<12:08,  1.26s/it]"
          ]
        },
        {
          "output_type": "stream",
          "name": "stdout",
          "text": [
            "/content/drive/MyDrive/CS376/music_src/audionautix/mtat/npy/SoloAcoustic3.npy\n"
          ]
        },
        {
          "output_type": "stream",
          "name": "stderr",
          "text": [
            "\r 31%|███       | 258/836 [05:28<12:23,  1.29s/it]"
          ]
        },
        {
          "output_type": "stream",
          "name": "stdout",
          "text": [
            "/content/drive/MyDrive/CS376/music_src/audionautix/mtat/npy/BeBop25_29_58.npy\n"
          ]
        },
        {
          "output_type": "stream",
          "name": "stderr",
          "text": [
            "\r 31%|███       | 259/836 [05:29<12:21,  1.28s/it]"
          ]
        },
        {
          "output_type": "stream",
          "name": "stdout",
          "text": [
            "/content/drive/MyDrive/CS376/music_src/audionautix/mtat/npy/KickedUpPumps.npy\n"
          ]
        },
        {
          "output_type": "stream",
          "name": "stderr",
          "text": [
            "\r 31%|███       | 260/836 [05:31<12:17,  1.28s/it]"
          ]
        },
        {
          "output_type": "stream",
          "name": "stdout",
          "text": [
            "/content/drive/MyDrive/CS376/music_src/audionautix/mtat/npy/LightningBugs_58_87.npy\n"
          ]
        },
        {
          "output_type": "stream",
          "name": "stderr",
          "text": [
            "\r 31%|███       | 261/836 [05:32<12:13,  1.28s/it]"
          ]
        },
        {
          "output_type": "stream",
          "name": "stdout",
          "text": [
            "/content/drive/MyDrive/CS376/music_src/audionautix/mtat/npy/RP-FightScene_29_58.npy\n"
          ]
        },
        {
          "output_type": "stream",
          "name": "stderr",
          "text": [
            "\r 31%|███▏      | 262/836 [05:33<12:09,  1.27s/it]"
          ]
        },
        {
          "output_type": "stream",
          "name": "stdout",
          "text": [
            "/content/drive/MyDrive/CS376/music_src/audionautix/mtat/npy/NavajoNight_29_58.npy\n"
          ]
        },
        {
          "output_type": "stream",
          "name": "stderr",
          "text": [
            "\r 31%|███▏      | 263/836 [05:34<12:08,  1.27s/it]"
          ]
        },
        {
          "output_type": "stream",
          "name": "stdout",
          "text": [
            "/content/drive/MyDrive/CS376/music_src/audionautix/mtat/npy/5CentsBack_29_58.npy\n"
          ]
        },
        {
          "output_type": "stream",
          "name": "stderr",
          "text": [
            "\r 32%|███▏      | 264/836 [05:36<12:05,  1.27s/it]"
          ]
        },
        {
          "output_type": "stream",
          "name": "stdout",
          "text": [
            "/content/drive/MyDrive/CS376/music_src/audionautix/mtat/npy/BigCarTheft_29_58.npy\n"
          ]
        },
        {
          "output_type": "stream",
          "name": "stderr",
          "text": [
            "\r 32%|███▏      | 265/836 [05:37<12:02,  1.27s/it]"
          ]
        },
        {
          "output_type": "stream",
          "name": "stdout",
          "text": [
            "/content/drive/MyDrive/CS376/music_src/audionautix/mtat/npy/RockEnergy2.npy\n"
          ]
        },
        {
          "output_type": "stream",
          "name": "stderr",
          "text": [
            "\r 32%|███▏      | 266/836 [05:38<12:00,  1.26s/it]"
          ]
        },
        {
          "output_type": "stream",
          "name": "stdout",
          "text": [
            "/content/drive/MyDrive/CS376/music_src/audionautix/mtat/npy/Whatdafunk_58_87.npy\n"
          ]
        },
        {
          "output_type": "stream",
          "name": "stderr",
          "text": [
            "\r 32%|███▏      | 267/836 [05:39<11:59,  1.26s/it]"
          ]
        },
        {
          "output_type": "stream",
          "name": "stdout",
          "text": [
            "/content/drive/MyDrive/CS376/music_src/audionautix/mtat/npy/AcousticShuffle_29_58.npy\n"
          ]
        },
        {
          "output_type": "stream",
          "name": "stderr",
          "text": [
            "\r 32%|███▏      | 268/836 [05:41<12:00,  1.27s/it]"
          ]
        },
        {
          "output_type": "stream",
          "name": "stdout",
          "text": [
            "/content/drive/MyDrive/CS376/music_src/audionautix/mtat/npy/MiddleEarth_29_58.npy\n"
          ]
        },
        {
          "output_type": "stream",
          "name": "stderr",
          "text": [
            "\r 32%|███▏      | 269/836 [05:42<11:58,  1.27s/it]"
          ]
        },
        {
          "output_type": "stream",
          "name": "stdout",
          "text": [
            "/content/drive/MyDrive/CS376/music_src/audionautix/mtat/npy/ChasinIt.npy\n"
          ]
        },
        {
          "output_type": "stream",
          "name": "stderr",
          "text": [
            "\r 32%|███▏      | 270/836 [05:43<11:55,  1.26s/it]"
          ]
        },
        {
          "output_type": "stream",
          "name": "stdout",
          "text": [
            "/content/drive/MyDrive/CS376/music_src/audionautix/mtat/npy/LazyDay.npy\n"
          ]
        },
        {
          "output_type": "stream",
          "name": "stderr",
          "text": [
            "\r 32%|███▏      | 271/836 [05:44<11:53,  1.26s/it]"
          ]
        },
        {
          "output_type": "stream",
          "name": "stdout",
          "text": [
            "/content/drive/MyDrive/CS376/music_src/audionautix/mtat/npy/DatGrooveFullTrack.npy\n"
          ]
        },
        {
          "output_type": "stream",
          "name": "stderr",
          "text": [
            "\r 33%|███▎      | 272/836 [05:46<11:49,  1.26s/it]"
          ]
        },
        {
          "output_type": "stream",
          "name": "stdout",
          "text": [
            "/content/drive/MyDrive/CS376/music_src/audionautix/mtat/npy/HarkTheHeraldAngelsSing.npy\n"
          ]
        },
        {
          "output_type": "stream",
          "name": "stderr",
          "text": [
            "\r 33%|███▎      | 273/836 [05:47<11:48,  1.26s/it]"
          ]
        },
        {
          "output_type": "stream",
          "name": "stdout",
          "text": [
            "/content/drive/MyDrive/CS376/music_src/audionautix/mtat/npy/AcousticMeditation2_29_58.npy\n"
          ]
        },
        {
          "output_type": "stream",
          "name": "stderr",
          "text": [
            "\r 33%|███▎      | 274/836 [05:48<11:48,  1.26s/it]"
          ]
        },
        {
          "output_type": "stream",
          "name": "stdout",
          "text": [
            "/content/drive/MyDrive/CS376/music_src/audionautix/mtat/npy/HotSalsa_58_87.npy\n"
          ]
        },
        {
          "output_type": "stream",
          "name": "stderr",
          "text": [
            "\r 33%|███▎      | 275/836 [05:49<11:50,  1.27s/it]"
          ]
        },
        {
          "output_type": "stream",
          "name": "stdout",
          "text": [
            "/content/drive/MyDrive/CS376/music_src/audionautix/mtat/npy/Ion.npy\n"
          ]
        },
        {
          "output_type": "stream",
          "name": "stderr",
          "text": [
            "\r 33%|███▎      | 276/836 [05:51<11:49,  1.27s/it]"
          ]
        },
        {
          "output_type": "stream",
          "name": "stdout",
          "text": [
            "/content/drive/MyDrive/CS376/music_src/audionautix/mtat/npy/30SecondClassical.npy\n"
          ]
        },
        {
          "output_type": "stream",
          "name": "stderr",
          "text": [
            "\r 33%|███▎      | 277/836 [05:52<11:45,  1.26s/it]"
          ]
        },
        {
          "output_type": "stream",
          "name": "stdout",
          "text": [
            "/content/drive/MyDrive/CS376/music_src/audionautix/mtat/npy/Quiet_58_87.npy\n"
          ]
        },
        {
          "output_type": "stream",
          "name": "stderr",
          "text": [
            "\r 33%|███▎      | 278/836 [05:53<11:43,  1.26s/it]"
          ]
        },
        {
          "output_type": "stream",
          "name": "stdout",
          "text": [
            "/content/drive/MyDrive/CS376/music_src/audionautix/mtat/npy/NavajoNight.npy\n"
          ]
        },
        {
          "output_type": "stream",
          "name": "stderr",
          "text": [
            "\r 33%|███▎      | 279/836 [05:55<11:44,  1.26s/it]"
          ]
        },
        {
          "output_type": "stream",
          "name": "stdout",
          "text": [
            "/content/drive/MyDrive/CS376/music_src/audionautix/mtat/npy/AdagioInC_29_58.npy\n"
          ]
        },
        {
          "output_type": "stream",
          "name": "stderr",
          "text": [
            "\r 33%|███▎      | 280/836 [05:56<11:41,  1.26s/it]"
          ]
        },
        {
          "output_type": "stream",
          "name": "stdout",
          "text": [
            "/content/drive/MyDrive/CS376/music_src/audionautix/mtat/npy/AViewFromEarth_29_58.npy\n"
          ]
        },
        {
          "output_type": "stream",
          "name": "stderr",
          "text": [
            "\r 34%|███▎      | 281/836 [05:57<11:39,  1.26s/it]"
          ]
        },
        {
          "output_type": "stream",
          "name": "stdout",
          "text": [
            "/content/drive/MyDrive/CS376/music_src/audionautix/mtat/npy/BootsBootsBoots_58_87.npy\n"
          ]
        },
        {
          "output_type": "stream",
          "name": "stderr",
          "text": [
            "\r 34%|███▎      | 282/836 [05:58<11:38,  1.26s/it]"
          ]
        },
        {
          "output_type": "stream",
          "name": "stdout",
          "text": [
            "/content/drive/MyDrive/CS376/music_src/audionautix/mtat/npy/Touchpoint_58_87.npy\n"
          ]
        },
        {
          "output_type": "stream",
          "name": "stderr",
          "text": [
            "\r 34%|███▍      | 283/836 [06:00<11:39,  1.26s/it]"
          ]
        },
        {
          "output_type": "stream",
          "name": "stdout",
          "text": [
            "/content/drive/MyDrive/CS376/music_src/audionautix/mtat/npy/SeriousDrama_29_58.npy\n"
          ]
        },
        {
          "output_type": "stream",
          "name": "stderr",
          "text": [
            "\r 34%|███▍      | 284/836 [06:01<11:38,  1.26s/it]"
          ]
        },
        {
          "output_type": "stream",
          "name": "stdout",
          "text": [
            "/content/drive/MyDrive/CS376/music_src/audionautix/mtat/npy/BirdInHand.npy\n"
          ]
        },
        {
          "output_type": "stream",
          "name": "stderr",
          "text": [
            "\r 34%|███▍      | 285/836 [06:02<11:35,  1.26s/it]"
          ]
        },
        {
          "output_type": "stream",
          "name": "stdout",
          "text": [
            "/content/drive/MyDrive/CS376/music_src/audionautix/mtat/npy/HardBounce_29_58.npy\n"
          ]
        },
        {
          "output_type": "stream",
          "name": "stderr",
          "text": [
            "\r 34%|███▍      | 286/836 [06:03<11:33,  1.26s/it]"
          ]
        },
        {
          "output_type": "stream",
          "name": "stdout",
          "text": [
            "/content/drive/MyDrive/CS376/music_src/audionautix/mtat/npy/StandardJazzBars.npy\n"
          ]
        },
        {
          "output_type": "stream",
          "name": "stderr",
          "text": [
            "\r 34%|███▍      | 287/836 [06:05<11:32,  1.26s/it]"
          ]
        },
        {
          "output_type": "stream",
          "name": "stdout",
          "text": [
            "/content/drive/MyDrive/CS376/music_src/audionautix/mtat/npy/TexasTechno_58_87.npy\n"
          ]
        },
        {
          "output_type": "stream",
          "name": "stderr",
          "text": [
            "\r 34%|███▍      | 288/836 [06:06<11:37,  1.27s/it]"
          ]
        },
        {
          "output_type": "stream",
          "name": "stdout",
          "text": [
            "/content/drive/MyDrive/CS376/music_src/audionautix/mtat/npy/MovieTheme1_29_58.npy\n"
          ]
        },
        {
          "output_type": "stream",
          "name": "stderr",
          "text": [
            "\r 35%|███▍      | 289/836 [06:07<12:07,  1.33s/it]"
          ]
        },
        {
          "output_type": "stream",
          "name": "stdout",
          "text": [
            "/content/drive/MyDrive/CS376/music_src/audionautix/mtat/npy/ModernCombat.npy\n"
          ]
        },
        {
          "output_type": "stream",
          "name": "stderr",
          "text": [
            "\r 35%|███▍      | 290/836 [06:09<11:54,  1.31s/it]"
          ]
        },
        {
          "output_type": "stream",
          "name": "stdout",
          "text": [
            "/content/drive/MyDrive/CS376/music_src/audionautix/mtat/npy/AwayInAMangerEDM_29_58.npy\n"
          ]
        },
        {
          "output_type": "stream",
          "name": "stderr",
          "text": [
            "\r 35%|███▍      | 291/836 [06:10<11:46,  1.30s/it]"
          ]
        },
        {
          "output_type": "stream",
          "name": "stdout",
          "text": [
            "/content/drive/MyDrive/CS376/music_src/audionautix/mtat/npy/OkeyDokeySmokey_29_58.npy\n"
          ]
        },
        {
          "output_type": "stream",
          "name": "stderr",
          "text": [
            "\r 35%|███▍      | 292/836 [06:11<11:38,  1.28s/it]"
          ]
        },
        {
          "output_type": "stream",
          "name": "stdout",
          "text": [
            "/content/drive/MyDrive/CS376/music_src/audionautix/mtat/npy/AlienSunset_58_87.npy\n"
          ]
        },
        {
          "output_type": "stream",
          "name": "stderr",
          "text": [
            "\r 35%|███▌      | 293/836 [06:12<11:30,  1.27s/it]"
          ]
        },
        {
          "output_type": "stream",
          "name": "stdout",
          "text": [
            "/content/drive/MyDrive/CS376/music_src/audionautix/mtat/npy/RunningWatersFull_58_87.npy\n"
          ]
        },
        {
          "output_type": "stream",
          "name": "stderr",
          "text": [
            "\r 35%|███▌      | 294/836 [06:14<11:26,  1.27s/it]"
          ]
        },
        {
          "output_type": "stream",
          "name": "stdout",
          "text": [
            "/content/drive/MyDrive/CS376/music_src/audionautix/mtat/npy/BoxcarRag_29_58.npy\n"
          ]
        },
        {
          "output_type": "stream",
          "name": "stderr",
          "text": [
            "\r 35%|███▌      | 295/836 [06:15<11:24,  1.27s/it]"
          ]
        },
        {
          "output_type": "stream",
          "name": "stdout",
          "text": [
            "/content/drive/MyDrive/CS376/music_src/audionautix/mtat/npy/FightScene_58_87.npy\n"
          ]
        },
        {
          "output_type": "stream",
          "name": "stderr",
          "text": [
            "\r 35%|███▌      | 296/836 [06:16<11:23,  1.27s/it]"
          ]
        },
        {
          "output_type": "stream",
          "name": "stdout",
          "text": [
            "/content/drive/MyDrive/CS376/music_src/audionautix/mtat/npy/FolkBed_29_58.npy\n"
          ]
        },
        {
          "output_type": "stream",
          "name": "stderr",
          "text": [
            "\r 36%|███▌      | 297/836 [06:17<11:20,  1.26s/it]"
          ]
        },
        {
          "output_type": "stream",
          "name": "stdout",
          "text": [
            "/content/drive/MyDrive/CS376/music_src/audionautix/mtat/npy/RunningWatersFull.npy\n"
          ]
        },
        {
          "output_type": "stream",
          "name": "stderr",
          "text": [
            "\r 36%|███▌      | 298/836 [06:19<11:20,  1.26s/it]"
          ]
        },
        {
          "output_type": "stream",
          "name": "stdout",
          "text": [
            "/content/drive/MyDrive/CS376/music_src/audionautix/mtat/npy/CorporationMotivation_58_87.npy\n"
          ]
        },
        {
          "output_type": "stream",
          "name": "stderr",
          "text": [
            "\r 36%|███▌      | 299/836 [06:20<11:19,  1.27s/it]"
          ]
        },
        {
          "output_type": "stream",
          "name": "stdout",
          "text": [
            "/content/drive/MyDrive/CS376/music_src/audionautix/mtat/npy/LineOfFire.npy\n"
          ]
        },
        {
          "output_type": "stream",
          "name": "stderr",
          "text": [
            "\r 36%|███▌      | 300/836 [06:21<11:17,  1.26s/it]"
          ]
        },
        {
          "output_type": "stream",
          "name": "stdout",
          "text": [
            "/content/drive/MyDrive/CS376/music_src/audionautix/mtat/npy/EmeraldTherapy.npy\n"
          ]
        },
        {
          "output_type": "stream",
          "name": "stderr",
          "text": [
            "\r 36%|███▌      | 301/836 [06:22<11:15,  1.26s/it]"
          ]
        },
        {
          "output_type": "stream",
          "name": "stdout",
          "text": [
            "/content/drive/MyDrive/CS376/music_src/audionautix/mtat/npy/DubstepLight_58_87.npy\n"
          ]
        },
        {
          "output_type": "stream",
          "name": "stderr",
          "text": [
            "\r 36%|███▌      | 302/836 [06:24<11:11,  1.26s/it]"
          ]
        },
        {
          "output_type": "stream",
          "name": "stdout",
          "text": [
            "/content/drive/MyDrive/CS376/music_src/audionautix/mtat/npy/Yeah_29_58.npy\n"
          ]
        },
        {
          "output_type": "stream",
          "name": "stderr",
          "text": [
            "\r 36%|███▌      | 303/836 [06:25<11:10,  1.26s/it]"
          ]
        },
        {
          "output_type": "stream",
          "name": "stdout",
          "text": [
            "/content/drive/MyDrive/CS376/music_src/audionautix/mtat/npy/NiceAndEasy_58_87.npy\n"
          ]
        },
        {
          "output_type": "stream",
          "name": "stderr",
          "text": [
            "\r 36%|███▋      | 304/836 [06:26<11:07,  1.26s/it]"
          ]
        },
        {
          "output_type": "stream",
          "name": "stdout",
          "text": [
            "/content/drive/MyDrive/CS376/music_src/audionautix/mtat/npy/Piledriver_58_87.npy\n"
          ]
        },
        {
          "output_type": "stream",
          "name": "stderr",
          "text": [
            "\r 36%|███▋      | 305/836 [06:28<11:08,  1.26s/it]"
          ]
        },
        {
          "output_type": "stream",
          "name": "stdout",
          "text": [
            "/content/drive/MyDrive/CS376/music_src/audionautix/mtat/npy/AllaWhatParody.npy\n"
          ]
        },
        {
          "output_type": "stream",
          "name": "stderr",
          "text": [
            "\r 37%|███▋      | 306/836 [06:29<11:10,  1.27s/it]"
          ]
        },
        {
          "output_type": "stream",
          "name": "stdout",
          "text": [
            "/content/drive/MyDrive/CS376/music_src/audionautix/mtat/npy/EgyptianCrawl_29_58.npy\n"
          ]
        },
        {
          "output_type": "stream",
          "name": "stderr",
          "text": [
            "\r 37%|███▋      | 307/836 [06:30<11:10,  1.27s/it]"
          ]
        },
        {
          "output_type": "stream",
          "name": "stdout",
          "text": [
            "/content/drive/MyDrive/CS376/music_src/audionautix/mtat/npy/BeforeDawn_29_58.npy\n"
          ]
        },
        {
          "output_type": "stream",
          "name": "stderr",
          "text": [
            "\r 37%|███▋      | 308/836 [06:31<11:09,  1.27s/it]"
          ]
        },
        {
          "output_type": "stream",
          "name": "stdout",
          "text": [
            "/content/drive/MyDrive/CS376/music_src/audionautix/mtat/npy/DarkRedWine_29_58.npy\n"
          ]
        },
        {
          "output_type": "stream",
          "name": "stderr",
          "text": [
            "\r 37%|███▋      | 309/836 [06:33<11:06,  1.26s/it]"
          ]
        },
        {
          "output_type": "stream",
          "name": "stdout",
          "text": [
            "/content/drive/MyDrive/CS376/music_src/audionautix/mtat/npy/Touchpoint_29_58.npy\n"
          ]
        },
        {
          "output_type": "stream",
          "name": "stderr",
          "text": [
            "\r 37%|███▋      | 310/836 [06:34<11:04,  1.26s/it]"
          ]
        },
        {
          "output_type": "stream",
          "name": "stdout",
          "text": [
            "/content/drive/MyDrive/CS376/music_src/audionautix/mtat/npy/LionsHeart_29_58.npy\n"
          ]
        },
        {
          "output_type": "stream",
          "name": "stderr",
          "text": [
            "\r 37%|███▋      | 311/836 [06:35<11:02,  1.26s/it]"
          ]
        },
        {
          "output_type": "stream",
          "name": "stdout",
          "text": [
            "/content/drive/MyDrive/CS376/music_src/audionautix/mtat/npy/SmellsLikeGrunge_29_58.npy\n"
          ]
        },
        {
          "output_type": "stream",
          "name": "stderr",
          "text": [
            "\r 37%|███▋      | 312/836 [06:36<11:01,  1.26s/it]"
          ]
        },
        {
          "output_type": "stream",
          "name": "stdout",
          "text": [
            "/content/drive/MyDrive/CS376/music_src/audionautix/mtat/npy/ForeverBelieve.npy\n"
          ]
        },
        {
          "output_type": "stream",
          "name": "stderr",
          "text": [
            "\r 37%|███▋      | 313/836 [06:38<11:02,  1.27s/it]"
          ]
        },
        {
          "output_type": "stream",
          "name": "stdout",
          "text": [
            "/content/drive/MyDrive/CS376/music_src/audionautix/mtat/npy/Whoopsy_29_58.npy\n"
          ]
        },
        {
          "output_type": "stream",
          "name": "stderr",
          "text": [
            "\r 38%|███▊      | 314/836 [06:39<11:01,  1.27s/it]"
          ]
        },
        {
          "output_type": "stream",
          "name": "stdout",
          "text": [
            "/content/drive/MyDrive/CS376/music_src/audionautix/mtat/npy/ModernRock2.npy\n"
          ]
        },
        {
          "output_type": "stream",
          "name": "stderr",
          "text": [
            "\r 38%|███▊      | 315/836 [06:40<11:01,  1.27s/it]"
          ]
        },
        {
          "output_type": "stream",
          "name": "stdout",
          "text": [
            "/content/drive/MyDrive/CS376/music_src/audionautix/mtat/npy/Thump_29_58.npy\n"
          ]
        },
        {
          "output_type": "stream",
          "name": "stderr",
          "text": [
            "\r 38%|███▊      | 316/836 [06:41<10:59,  1.27s/it]"
          ]
        },
        {
          "output_type": "stream",
          "name": "stdout",
          "text": [
            "/content/drive/MyDrive/CS376/music_src/audionautix/mtat/npy/GreenLeaves.npy\n"
          ]
        },
        {
          "output_type": "stream",
          "name": "stderr",
          "text": [
            "\r 38%|███▊      | 317/836 [06:43<10:58,  1.27s/it]"
          ]
        },
        {
          "output_type": "stream",
          "name": "stdout",
          "text": [
            "/content/drive/MyDrive/CS376/music_src/audionautix/mtat/npy/LegendsOfTheRiver_29_58.npy\n"
          ]
        },
        {
          "output_type": "stream",
          "name": "stderr",
          "text": [
            "\r 38%|███▊      | 318/836 [06:44<10:56,  1.27s/it]"
          ]
        },
        {
          "output_type": "stream",
          "name": "stdout",
          "text": [
            "/content/drive/MyDrive/CS376/music_src/audionautix/mtat/npy/HeavyDrumsBass_58_87.npy\n"
          ]
        },
        {
          "output_type": "stream",
          "name": "stderr",
          "text": [
            "\r 38%|███▊      | 319/836 [06:45<10:53,  1.26s/it]"
          ]
        },
        {
          "output_type": "stream",
          "name": "stdout",
          "text": [
            "/content/drive/MyDrive/CS376/music_src/audionautix/mtat/npy/ADarkerHeart_29_58.npy\n"
          ]
        },
        {
          "output_type": "stream",
          "name": "stderr",
          "text": [
            "\r 38%|███▊      | 320/836 [06:47<10:50,  1.26s/it]"
          ]
        },
        {
          "output_type": "stream",
          "name": "stdout",
          "text": [
            "/content/drive/MyDrive/CS376/music_src/audionautix/mtat/npy/ChasinIt_29_58.npy\n"
          ]
        },
        {
          "output_type": "stream",
          "name": "stderr",
          "text": [
            "\r 38%|███▊      | 321/836 [06:48<10:50,  1.26s/it]"
          ]
        },
        {
          "output_type": "stream",
          "name": "stdout",
          "text": [
            "/content/drive/MyDrive/CS376/music_src/audionautix/mtat/npy/TrippinCoffee.npy\n"
          ]
        },
        {
          "output_type": "stream",
          "name": "stderr",
          "text": [
            "\r 39%|███▊      | 322/836 [06:49<10:51,  1.27s/it]"
          ]
        },
        {
          "output_type": "stream",
          "name": "stdout",
          "text": [
            "/content/drive/MyDrive/CS376/music_src/audionautix/mtat/npy/EpicSeries.npy\n"
          ]
        },
        {
          "output_type": "stream",
          "name": "stderr",
          "text": [
            "\r 39%|███▊      | 323/836 [06:50<10:49,  1.27s/it]"
          ]
        },
        {
          "output_type": "stream",
          "name": "stdout",
          "text": [
            "/content/drive/MyDrive/CS376/music_src/audionautix/mtat/npy/Robin.npy\n"
          ]
        },
        {
          "output_type": "stream",
          "name": "stderr",
          "text": [
            "\r 39%|███▉      | 324/836 [06:52<10:48,  1.27s/it]"
          ]
        },
        {
          "output_type": "stream",
          "name": "stdout",
          "text": [
            "/content/drive/MyDrive/CS376/music_src/audionautix/mtat/npy/Crushin.npy\n"
          ]
        },
        {
          "output_type": "stream",
          "name": "stderr",
          "text": [
            "\r 39%|███▉      | 325/836 [06:53<10:46,  1.27s/it]"
          ]
        },
        {
          "output_type": "stream",
          "name": "stdout",
          "text": [
            "/content/drive/MyDrive/CS376/music_src/audionautix/mtat/npy/OpenRoad_29_58.npy\n"
          ]
        },
        {
          "output_type": "stream",
          "name": "stderr",
          "text": [
            "\r 39%|███▉      | 326/836 [06:54<10:44,  1.26s/it]"
          ]
        },
        {
          "output_type": "stream",
          "name": "stdout",
          "text": [
            "/content/drive/MyDrive/CS376/music_src/audionautix/mtat/npy/Essence_58_87.npy\n"
          ]
        },
        {
          "output_type": "stream",
          "name": "stderr",
          "text": [
            "\r 39%|███▉      | 327/836 [06:55<10:41,  1.26s/it]"
          ]
        },
        {
          "output_type": "stream",
          "name": "stdout",
          "text": [
            "/content/drive/MyDrive/CS376/music_src/audionautix/mtat/npy/Transcend_29_58.npy\n"
          ]
        },
        {
          "output_type": "stream",
          "name": "stderr",
          "text": [
            "\r 39%|███▉      | 328/836 [06:57<10:41,  1.26s/it]"
          ]
        },
        {
          "output_type": "stream",
          "name": "stdout",
          "text": [
            "/content/drive/MyDrive/CS376/music_src/audionautix/mtat/npy/KeepItReal_58_87.npy\n"
          ]
        },
        {
          "output_type": "stream",
          "name": "stderr",
          "text": [
            "\r 39%|███▉      | 329/836 [06:58<10:40,  1.26s/it]"
          ]
        },
        {
          "output_type": "stream",
          "name": "stdout",
          "text": [
            "/content/drive/MyDrive/CS376/music_src/audionautix/mtat/npy/PartingGlass_58_87.npy\n"
          ]
        },
        {
          "output_type": "stream",
          "name": "stderr",
          "text": [
            "\r 39%|███▉      | 330/836 [06:59<10:42,  1.27s/it]"
          ]
        },
        {
          "output_type": "stream",
          "name": "stdout",
          "text": [
            "/content/drive/MyDrive/CS376/music_src/audionautix/mtat/npy/Drifting2_29_58.npy\n"
          ]
        },
        {
          "output_type": "stream",
          "name": "stderr",
          "text": [
            "\r 40%|███▉      | 331/836 [07:00<10:42,  1.27s/it]"
          ]
        },
        {
          "output_type": "stream",
          "name": "stdout",
          "text": [
            "/content/drive/MyDrive/CS376/music_src/audionautix/mtat/npy/SoDramatic_58_87.npy\n"
          ]
        },
        {
          "output_type": "stream",
          "name": "stderr",
          "text": [
            "\r 40%|███▉      | 332/836 [07:02<10:39,  1.27s/it]"
          ]
        },
        {
          "output_type": "stream",
          "name": "stdout",
          "text": [
            "/content/drive/MyDrive/CS376/music_src/audionautix/mtat/npy/HouseOfEvil.npy\n"
          ]
        },
        {
          "output_type": "stream",
          "name": "stderr",
          "text": [
            "\r 40%|███▉      | 333/836 [07:03<10:37,  1.27s/it]"
          ]
        },
        {
          "output_type": "stream",
          "name": "stdout",
          "text": [
            "/content/drive/MyDrive/CS376/music_src/audionautix/mtat/npy/AcousticShuffle.npy\n"
          ]
        },
        {
          "output_type": "stream",
          "name": "stderr",
          "text": [
            "\r 40%|███▉      | 334/836 [07:04<10:37,  1.27s/it]"
          ]
        },
        {
          "output_type": "stream",
          "name": "stdout",
          "text": [
            "/content/drive/MyDrive/CS376/music_src/audionautix/mtat/npy/BigBluesBed.npy\n"
          ]
        },
        {
          "output_type": "stream",
          "name": "stderr",
          "text": [
            "\r 40%|████      | 335/836 [07:05<10:29,  1.26s/it]"
          ]
        },
        {
          "output_type": "stream",
          "name": "stdout",
          "text": [
            "/content/drive/MyDrive/CS376/music_src/audionautix/mtat/npy/VanishingHorizon_29_58.npy\n"
          ]
        },
        {
          "output_type": "stream",
          "name": "stderr",
          "text": [
            "\r 40%|████      | 336/836 [07:07<10:29,  1.26s/it]"
          ]
        },
        {
          "output_type": "stream",
          "name": "stdout",
          "text": [
            "/content/drive/MyDrive/CS376/music_src/audionautix/mtat/npy/EcstasyX_58_87.npy\n"
          ]
        },
        {
          "output_type": "stream",
          "name": "stderr",
          "text": [
            "\r 40%|████      | 337/836 [07:08<10:28,  1.26s/it]"
          ]
        },
        {
          "output_type": "stream",
          "name": "stdout",
          "text": [
            "/content/drive/MyDrive/CS376/music_src/audionautix/mtat/npy/HappyStrummin_58_87.npy\n"
          ]
        },
        {
          "output_type": "stream",
          "name": "stderr",
          "text": [
            "\r 40%|████      | 338/836 [07:09<10:27,  1.26s/it]"
          ]
        },
        {
          "output_type": "stream",
          "name": "stdout",
          "text": [
            "/content/drive/MyDrive/CS376/music_src/audionautix/mtat/npy/TVDramaVersion2.npy\n"
          ]
        },
        {
          "output_type": "stream",
          "name": "stderr",
          "text": [
            "\r 41%|████      | 339/836 [07:11<10:28,  1.27s/it]"
          ]
        },
        {
          "output_type": "stream",
          "name": "stdout",
          "text": [
            "/content/drive/MyDrive/CS376/music_src/audionautix/mtat/npy/TimePassingBy_58_87.npy\n"
          ]
        },
        {
          "output_type": "stream",
          "name": "stderr",
          "text": [
            "\r 41%|████      | 340/836 [07:12<10:27,  1.27s/it]"
          ]
        },
        {
          "output_type": "stream",
          "name": "stdout",
          "text": [
            "/content/drive/MyDrive/CS376/music_src/audionautix/mtat/npy/MidnightClearEDM_58_87.npy\n"
          ]
        },
        {
          "output_type": "stream",
          "name": "stderr",
          "text": [
            "\r 41%|████      | 341/836 [07:13<10:27,  1.27s/it]"
          ]
        },
        {
          "output_type": "stream",
          "name": "stdout",
          "text": [
            "/content/drive/MyDrive/CS376/music_src/audionautix/mtat/npy/Marauder_58_87.npy\n"
          ]
        },
        {
          "output_type": "stream",
          "name": "stderr",
          "text": [
            "\r 41%|████      | 342/836 [07:14<10:30,  1.28s/it]"
          ]
        },
        {
          "output_type": "stream",
          "name": "stdout",
          "text": [
            "/content/drive/MyDrive/CS376/music_src/audionautix/mtat/npy/SoloAcousticBlues_58_87.npy\n"
          ]
        },
        {
          "output_type": "stream",
          "name": "stderr",
          "text": [
            "\r 41%|████      | 343/836 [07:16<10:26,  1.27s/it]"
          ]
        },
        {
          "output_type": "stream",
          "name": "stdout",
          "text": [
            "/content/drive/MyDrive/CS376/music_src/audionautix/mtat/npy/OkeyDokeySmokey_58_87.npy\n"
          ]
        },
        {
          "output_type": "stream",
          "name": "stderr",
          "text": [
            "\r 41%|████      | 344/836 [07:17<10:30,  1.28s/it]"
          ]
        },
        {
          "output_type": "stream",
          "name": "stdout",
          "text": [
            "/content/drive/MyDrive/CS376/music_src/audionautix/mtat/npy/CarolOfTheBells_29_58.npy\n"
          ]
        },
        {
          "output_type": "stream",
          "name": "stderr",
          "text": [
            "\r 41%|████▏     | 345/836 [07:18<10:32,  1.29s/it]"
          ]
        },
        {
          "output_type": "stream",
          "name": "stdout",
          "text": [
            "/content/drive/MyDrive/CS376/music_src/audionautix/mtat/npy/CoolSteelBreeze_29_58.npy\n"
          ]
        },
        {
          "output_type": "stream",
          "name": "stderr",
          "text": [
            "\r 41%|████▏     | 346/836 [07:20<10:33,  1.29s/it]"
          ]
        },
        {
          "output_type": "stream",
          "name": "stdout",
          "text": [
            "/content/drive/MyDrive/CS376/music_src/audionautix/mtat/npy/AdagioInC.npy\n"
          ]
        },
        {
          "output_type": "stream",
          "name": "stderr",
          "text": [
            "\r 42%|████▏     | 347/836 [07:21<10:31,  1.29s/it]"
          ]
        },
        {
          "output_type": "stream",
          "name": "stdout",
          "text": [
            "/content/drive/MyDrive/CS376/music_src/audionautix/mtat/npy/Essence2.npy\n"
          ]
        },
        {
          "output_type": "stream",
          "name": "stderr",
          "text": [
            "\r 42%|████▏     | 348/836 [07:22<10:29,  1.29s/it]"
          ]
        },
        {
          "output_type": "stream",
          "name": "stdout",
          "text": [
            "/content/drive/MyDrive/CS376/music_src/audionautix/mtat/npy/OneFineDay_29_58.npy\n"
          ]
        },
        {
          "output_type": "stream",
          "name": "stderr",
          "text": [
            "\r 42%|████▏     | 349/836 [07:23<10:27,  1.29s/it]"
          ]
        },
        {
          "output_type": "stream",
          "name": "stdout",
          "text": [
            "/content/drive/MyDrive/CS376/music_src/audionautix/mtat/npy/GreenLeaves_58_87.npy\n"
          ]
        },
        {
          "output_type": "stream",
          "name": "stderr",
          "text": [
            "\r 42%|████▏     | 350/836 [07:25<10:26,  1.29s/it]"
          ]
        },
        {
          "output_type": "stream",
          "name": "stdout",
          "text": [
            "/content/drive/MyDrive/CS376/music_src/audionautix/mtat/npy/AcousticShuffle_58_87.npy\n"
          ]
        },
        {
          "output_type": "stream",
          "name": "stderr",
          "text": [
            "\r 42%|████▏     | 351/836 [07:26<10:22,  1.28s/it]"
          ]
        },
        {
          "output_type": "stream",
          "name": "stdout",
          "text": [
            "/content/drive/MyDrive/CS376/music_src/audionautix/mtat/npy/FeelsGood2B.npy\n"
          ]
        },
        {
          "output_type": "stream",
          "name": "stderr",
          "text": [
            "\r 42%|████▏     | 352/836 [07:27<10:22,  1.29s/it]"
          ]
        },
        {
          "output_type": "stream",
          "name": "stdout",
          "text": [
            "/content/drive/MyDrive/CS376/music_src/audionautix/mtat/npy/AmazingGrace.npy\n"
          ]
        },
        {
          "output_type": "stream",
          "name": "stderr",
          "text": [
            "\r 42%|████▏     | 353/836 [07:29<10:22,  1.29s/it]"
          ]
        },
        {
          "output_type": "stream",
          "name": "stdout",
          "text": [
            "/content/drive/MyDrive/CS376/music_src/audionautix/mtat/npy/TexasTechno_29_58.npy\n"
          ]
        },
        {
          "output_type": "stream",
          "name": "stderr",
          "text": [
            "\r 42%|████▏     | 354/836 [07:30<10:22,  1.29s/it]"
          ]
        },
        {
          "output_type": "stream",
          "name": "stdout",
          "text": [
            "/content/drive/MyDrive/CS376/music_src/audionautix/mtat/npy/VanishingHorizon.npy\n"
          ]
        },
        {
          "output_type": "stream",
          "name": "stderr",
          "text": [
            "\r 42%|████▏     | 355/836 [07:31<10:23,  1.30s/it]"
          ]
        },
        {
          "output_type": "stream",
          "name": "stdout",
          "text": [
            "/content/drive/MyDrive/CS376/music_src/audionautix/mtat/npy/KickedUpPumps_58_87.npy\n"
          ]
        },
        {
          "output_type": "stream",
          "name": "stderr",
          "text": [
            "\r 43%|████▎     | 356/836 [07:32<10:16,  1.29s/it]"
          ]
        },
        {
          "output_type": "stream",
          "name": "stdout",
          "text": [
            "/content/drive/MyDrive/CS376/music_src/audionautix/mtat/npy/RiverMeditation_29_58.npy\n"
          ]
        },
        {
          "output_type": "stream",
          "name": "stderr",
          "text": [
            "\r 43%|████▎     | 357/836 [07:34<10:15,  1.28s/it]"
          ]
        },
        {
          "output_type": "stream",
          "name": "stdout",
          "text": [
            "/content/drive/MyDrive/CS376/music_src/audionautix/mtat/npy/TheBigDecision.npy\n"
          ]
        },
        {
          "output_type": "stream",
          "name": "stderr",
          "text": [
            "\r 43%|████▎     | 358/836 [07:35<10:15,  1.29s/it]"
          ]
        },
        {
          "output_type": "stream",
          "name": "stdout",
          "text": [
            "/content/drive/MyDrive/CS376/music_src/audionautix/mtat/npy/TemptingFate_29_58.npy\n"
          ]
        },
        {
          "output_type": "stream",
          "name": "stderr",
          "text": [
            "\r 43%|████▎     | 359/836 [07:36<10:14,  1.29s/it]"
          ]
        },
        {
          "output_type": "stream",
          "name": "stdout",
          "text": [
            "/content/drive/MyDrive/CS376/music_src/audionautix/mtat/npy/GreekDance_29_58.npy\n"
          ]
        },
        {
          "output_type": "stream",
          "name": "stderr",
          "text": [
            "\r 43%|████▎     | 360/836 [07:38<10:12,  1.29s/it]"
          ]
        },
        {
          "output_type": "stream",
          "name": "stdout",
          "text": [
            "/content/drive/MyDrive/CS376/music_src/audionautix/mtat/npy/Algorithm_29_58.npy\n"
          ]
        },
        {
          "output_type": "stream",
          "name": "stderr",
          "text": [
            "\r 43%|████▎     | 361/836 [07:39<10:11,  1.29s/it]"
          ]
        },
        {
          "output_type": "stream",
          "name": "stdout",
          "text": [
            "/content/drive/MyDrive/CS376/music_src/audionautix/mtat/npy/LeavinTheLights.npy\n"
          ]
        },
        {
          "output_type": "stream",
          "name": "stderr",
          "text": [
            "\r 43%|████▎     | 362/836 [07:40<10:09,  1.29s/it]"
          ]
        },
        {
          "output_type": "stream",
          "name": "stdout",
          "text": [
            "/content/drive/MyDrive/CS376/music_src/audionautix/mtat/npy/MegatonDrop.npy\n"
          ]
        },
        {
          "output_type": "stream",
          "name": "stderr",
          "text": [
            "\r 43%|████▎     | 363/836 [07:41<10:08,  1.29s/it]"
          ]
        },
        {
          "output_type": "stream",
          "name": "stdout",
          "text": [
            "/content/drive/MyDrive/CS376/music_src/audionautix/mtat/npy/TurkishDance_58_87.npy\n"
          ]
        },
        {
          "output_type": "stream",
          "name": "stderr",
          "text": [
            "\r 44%|████▎     | 364/836 [07:43<10:04,  1.28s/it]"
          ]
        },
        {
          "output_type": "stream",
          "name": "stdout",
          "text": [
            "/content/drive/MyDrive/CS376/music_src/audionautix/mtat/npy/DirtRoadTraveler_29_58.npy\n"
          ]
        },
        {
          "output_type": "stream",
          "name": "stderr",
          "text": [
            "\r 44%|████▎     | 365/836 [07:44<10:02,  1.28s/it]"
          ]
        },
        {
          "output_type": "stream",
          "name": "stdout",
          "text": [
            "/content/drive/MyDrive/CS376/music_src/audionautix/mtat/npy/Triangle_58_87.npy\n"
          ]
        },
        {
          "output_type": "stream",
          "name": "stderr",
          "text": [
            "\r 44%|████▍     | 366/836 [07:45<09:59,  1.28s/it]"
          ]
        },
        {
          "output_type": "stream",
          "name": "stdout",
          "text": [
            "/content/drive/MyDrive/CS376/music_src/audionautix/mtat/npy/ChecksForFree_29_58.npy\n"
          ]
        },
        {
          "output_type": "stream",
          "name": "stderr",
          "text": [
            "\r 44%|████▍     | 367/836 [07:47<09:58,  1.28s/it]"
          ]
        },
        {
          "output_type": "stream",
          "name": "stdout",
          "text": [
            "/content/drive/MyDrive/CS376/music_src/audionautix/mtat/npy/FunkyJunky_58_87.npy\n"
          ]
        },
        {
          "output_type": "stream",
          "name": "stderr",
          "text": [
            "\r 44%|████▍     | 368/836 [07:48<09:55,  1.27s/it]"
          ]
        },
        {
          "output_type": "stream",
          "name": "stdout",
          "text": [
            "/content/drive/MyDrive/CS376/music_src/audionautix/mtat/npy/HappyStrummin_29_58.npy\n"
          ]
        },
        {
          "output_type": "stream",
          "name": "stderr",
          "text": [
            "\r 44%|████▍     | 369/836 [07:49<09:53,  1.27s/it]"
          ]
        },
        {
          "output_type": "stream",
          "name": "stdout",
          "text": [
            "/content/drive/MyDrive/CS376/music_src/audionautix/mtat/npy/Serenity_58_87.npy\n"
          ]
        },
        {
          "output_type": "stream",
          "name": "stderr",
          "text": [
            "\r 44%|████▍     | 370/836 [07:50<09:53,  1.27s/it]"
          ]
        },
        {
          "output_type": "stream",
          "name": "stdout",
          "text": [
            "/content/drive/MyDrive/CS376/music_src/audionautix/mtat/npy/KickedUpPumps_29_58.npy\n"
          ]
        },
        {
          "output_type": "stream",
          "name": "stderr",
          "text": [
            "\r 44%|████▍     | 371/836 [07:52<09:51,  1.27s/it]"
          ]
        },
        {
          "output_type": "stream",
          "name": "stdout",
          "text": [
            "/content/drive/MyDrive/CS376/music_src/audionautix/mtat/npy/Ohm_29_58.npy\n"
          ]
        },
        {
          "output_type": "stream",
          "name": "stderr",
          "text": [
            "\r 44%|████▍     | 372/836 [07:53<09:48,  1.27s/it]"
          ]
        },
        {
          "output_type": "stream",
          "name": "stdout",
          "text": [
            "/content/drive/MyDrive/CS376/music_src/audionautix/mtat/npy/HeadingWest.npy\n"
          ]
        },
        {
          "output_type": "stream",
          "name": "stderr",
          "text": [
            "\r 45%|████▍     | 373/836 [07:54<09:48,  1.27s/it]"
          ]
        },
        {
          "output_type": "stream",
          "name": "stdout",
          "text": [
            "/content/drive/MyDrive/CS376/music_src/audionautix/mtat/npy/FeelGoodRock_29_58.npy\n"
          ]
        },
        {
          "output_type": "stream",
          "name": "stderr",
          "text": [
            "\r 45%|████▍     | 374/836 [07:55<09:45,  1.27s/it]"
          ]
        },
        {
          "output_type": "stream",
          "name": "stdout",
          "text": [
            "/content/drive/MyDrive/CS376/music_src/audionautix/mtat/npy/GoNotGentlyRedux_29_58.npy\n"
          ]
        },
        {
          "output_type": "stream",
          "name": "stderr",
          "text": [
            "\r 45%|████▍     | 375/836 [07:57<09:43,  1.27s/it]"
          ]
        },
        {
          "output_type": "stream",
          "name": "stdout",
          "text": [
            "/content/drive/MyDrive/CS376/music_src/audionautix/mtat/npy/CoolSteelBreeze_58_87.npy\n"
          ]
        },
        {
          "output_type": "stream",
          "name": "stderr",
          "text": [
            "\r 45%|████▍     | 376/836 [07:58<09:43,  1.27s/it]"
          ]
        },
        {
          "output_type": "stream",
          "name": "stdout",
          "text": [
            "/content/drive/MyDrive/CS376/music_src/audionautix/mtat/npy/OpusOne.npy\n"
          ]
        },
        {
          "output_type": "stream",
          "name": "stderr",
          "text": [
            "\r 45%|████▌     | 377/836 [07:59<09:44,  1.27s/it]"
          ]
        },
        {
          "output_type": "stream",
          "name": "stdout",
          "text": [
            "/content/drive/MyDrive/CS376/music_src/audionautix/mtat/npy/CopAFeel.npy\n"
          ]
        },
        {
          "output_type": "stream",
          "name": "stderr",
          "text": [
            "\r 45%|████▌     | 378/836 [08:00<09:42,  1.27s/it]"
          ]
        },
        {
          "output_type": "stream",
          "name": "stdout",
          "text": [
            "/content/drive/MyDrive/CS376/music_src/audionautix/mtat/npy/TropicalContact_58_87.npy\n"
          ]
        },
        {
          "output_type": "stream",
          "name": "stderr",
          "text": [
            "\r 45%|████▌     | 379/836 [08:02<09:40,  1.27s/it]"
          ]
        },
        {
          "output_type": "stream",
          "name": "stdout",
          "text": [
            "/content/drive/MyDrive/CS376/music_src/audionautix/mtat/npy/TurnUpTheWatts_29_58.npy\n"
          ]
        },
        {
          "output_type": "stream",
          "name": "stderr",
          "text": [
            "\r 45%|████▌     | 380/836 [08:03<09:36,  1.26s/it]"
          ]
        },
        {
          "output_type": "stream",
          "name": "stdout",
          "text": [
            "/content/drive/MyDrive/CS376/music_src/audionautix/mtat/npy/EcstasyX_29_58.npy\n"
          ]
        },
        {
          "output_type": "stream",
          "name": "stderr",
          "text": [
            "\r 46%|████▌     | 381/836 [08:04<09:33,  1.26s/it]"
          ]
        },
        {
          "output_type": "stream",
          "name": "stdout",
          "text": [
            "/content/drive/MyDrive/CS376/music_src/audionautix/mtat/npy/Alison.npy\n"
          ]
        },
        {
          "output_type": "stream",
          "name": "stderr",
          "text": [
            "\r 46%|████▌     | 382/836 [08:06<09:31,  1.26s/it]"
          ]
        },
        {
          "output_type": "stream",
          "name": "stdout",
          "text": [
            "/content/drive/MyDrive/CS376/music_src/audionautix/mtat/npy/PaperWings_58_87.npy\n"
          ]
        },
        {
          "output_type": "stream",
          "name": "stderr",
          "text": [
            "\r 46%|████▌     | 383/836 [08:07<09:31,  1.26s/it]"
          ]
        },
        {
          "output_type": "stream",
          "name": "stdout",
          "text": [
            "/content/drive/MyDrive/CS376/music_src/audionautix/mtat/npy/Piledriver_29_58.npy\n"
          ]
        },
        {
          "output_type": "stream",
          "name": "stderr",
          "text": [
            "\r 46%|████▌     | 384/836 [08:08<09:29,  1.26s/it]"
          ]
        },
        {
          "output_type": "stream",
          "name": "stdout",
          "text": [
            "/content/drive/MyDrive/CS376/music_src/audionautix/mtat/npy/DarkRedWine_58_87.npy\n"
          ]
        },
        {
          "output_type": "stream",
          "name": "stderr",
          "text": [
            "\r 46%|████▌     | 385/836 [08:09<09:28,  1.26s/it]"
          ]
        },
        {
          "output_type": "stream",
          "name": "stdout",
          "text": [
            "/content/drive/MyDrive/CS376/music_src/audionautix/mtat/npy/TurkishDance.npy\n"
          ]
        },
        {
          "output_type": "stream",
          "name": "stderr",
          "text": [
            "\r 46%|████▌     | 386/836 [08:11<09:30,  1.27s/it]"
          ]
        },
        {
          "output_type": "stream",
          "name": "stdout",
          "text": [
            "/content/drive/MyDrive/CS376/music_src/audionautix/mtat/npy/DeepSpace_58_87.npy\n"
          ]
        },
        {
          "output_type": "stream",
          "name": "stderr",
          "text": [
            "\r 46%|████▋     | 387/836 [08:12<09:31,  1.27s/it]"
          ]
        },
        {
          "output_type": "stream",
          "name": "stdout",
          "text": [
            "/content/drive/MyDrive/CS376/music_src/audionautix/mtat/npy/90SecondsOfFunk.npy\n"
          ]
        },
        {
          "output_type": "stream",
          "name": "stderr",
          "text": [
            "\r 46%|████▋     | 388/836 [08:13<09:31,  1.28s/it]"
          ]
        },
        {
          "output_type": "stream",
          "name": "stdout",
          "text": [
            "/content/drive/MyDrive/CS376/music_src/audionautix/mtat/npy/ModernRockBoy_58_87.npy\n"
          ]
        },
        {
          "output_type": "stream",
          "name": "stderr",
          "text": [
            "\r 47%|████▋     | 389/836 [08:14<09:31,  1.28s/it]"
          ]
        },
        {
          "output_type": "stream",
          "name": "stdout",
          "text": [
            "/content/drive/MyDrive/CS376/music_src/audionautix/mtat/npy/ForestRhythm.npy\n"
          ]
        },
        {
          "output_type": "stream",
          "name": "stderr",
          "text": [
            "\r 47%|████▋     | 390/836 [08:16<09:28,  1.27s/it]"
          ]
        },
        {
          "output_type": "stream",
          "name": "stdout",
          "text": [
            "/content/drive/MyDrive/CS376/music_src/audionautix/mtat/npy/ILikePeanuts.npy\n"
          ]
        },
        {
          "output_type": "stream",
          "name": "stderr",
          "text": [
            "\r 47%|████▋     | 391/836 [08:17<09:29,  1.28s/it]"
          ]
        },
        {
          "output_type": "stream",
          "name": "stdout",
          "text": [
            "/content/drive/MyDrive/CS376/music_src/audionautix/mtat/npy/WorldsAway_29_58.npy\n"
          ]
        },
        {
          "output_type": "stream",
          "name": "stderr",
          "text": [
            "\r 47%|████▋     | 392/836 [08:18<09:30,  1.28s/it]"
          ]
        },
        {
          "output_type": "stream",
          "name": "stdout",
          "text": [
            "/content/drive/MyDrive/CS376/music_src/audionautix/mtat/npy/Limosine_29_58.npy\n"
          ]
        },
        {
          "output_type": "stream",
          "name": "stderr",
          "text": [
            "\r 47%|████▋     | 393/836 [08:20<09:29,  1.29s/it]"
          ]
        },
        {
          "output_type": "stream",
          "name": "stdout",
          "text": [
            "/content/drive/MyDrive/CS376/music_src/audionautix/mtat/npy/DoubleBlues_58_87.npy\n"
          ]
        },
        {
          "output_type": "stream",
          "name": "stderr",
          "text": [
            "\r 47%|████▋     | 394/836 [08:21<09:29,  1.29s/it]"
          ]
        },
        {
          "output_type": "stream",
          "name": "stdout",
          "text": [
            "/content/drive/MyDrive/CS376/music_src/audionautix/mtat/npy/CorporationMotivation_29_58.npy\n"
          ]
        },
        {
          "output_type": "stream",
          "name": "stderr",
          "text": [
            "\r 47%|████▋     | 395/836 [08:22<09:26,  1.29s/it]"
          ]
        },
        {
          "output_type": "stream",
          "name": "stdout",
          "text": [
            "/content/drive/MyDrive/CS376/music_src/audionautix/mtat/npy/VforVictory.npy\n"
          ]
        },
        {
          "output_type": "stream",
          "name": "stderr",
          "text": [
            "\r 47%|████▋     | 396/836 [08:23<09:23,  1.28s/it]"
          ]
        },
        {
          "output_type": "stream",
          "name": "stdout",
          "text": [
            "/content/drive/MyDrive/CS376/music_src/audionautix/mtat/npy/GrandeVista.npy\n"
          ]
        },
        {
          "output_type": "stream",
          "name": "stderr",
          "text": [
            "\r 47%|████▋     | 397/836 [08:25<09:21,  1.28s/it]"
          ]
        },
        {
          "output_type": "stream",
          "name": "stdout",
          "text": [
            "/content/drive/MyDrive/CS376/music_src/audionautix/mtat/npy/PartingGlass.npy\n"
          ]
        },
        {
          "output_type": "stream",
          "name": "stderr",
          "text": [
            "\r 48%|████▊     | 398/836 [08:26<09:18,  1.27s/it]"
          ]
        },
        {
          "output_type": "stream",
          "name": "stdout",
          "text": [
            "/content/drive/MyDrive/CS376/music_src/audionautix/mtat/npy/SummerHeat_29_58.npy\n"
          ]
        },
        {
          "output_type": "stream",
          "name": "stderr",
          "text": [
            "\r 48%|████▊     | 399/836 [08:27<09:16,  1.27s/it]"
          ]
        },
        {
          "output_type": "stream",
          "name": "stdout",
          "text": [
            "/content/drive/MyDrive/CS376/music_src/audionautix/mtat/npy/ClapAlong_29_58.npy\n"
          ]
        },
        {
          "output_type": "stream",
          "name": "stderr",
          "text": [
            "\r 48%|████▊     | 400/836 [08:29<09:17,  1.28s/it]"
          ]
        },
        {
          "output_type": "stream",
          "name": "stdout",
          "text": [
            "/content/drive/MyDrive/CS376/music_src/audionautix/mtat/npy/UnitedWeGroove.npy\n"
          ]
        },
        {
          "output_type": "stream",
          "name": "stderr",
          "text": [
            "\r 48%|████▊     | 401/836 [08:30<09:21,  1.29s/it]"
          ]
        },
        {
          "output_type": "stream",
          "name": "stdout",
          "text": [
            "/content/drive/MyDrive/CS376/music_src/audionautix/mtat/npy/Top40Rap_29_58.npy\n"
          ]
        },
        {
          "output_type": "stream",
          "name": "stderr",
          "text": [
            "\r 48%|████▊     | 402/836 [08:31<09:19,  1.29s/it]"
          ]
        },
        {
          "output_type": "stream",
          "name": "stdout",
          "text": [
            "/content/drive/MyDrive/CS376/music_src/audionautix/mtat/npy/RockEnergy2_29_58.npy\n"
          ]
        },
        {
          "output_type": "stream",
          "name": "stderr",
          "text": [
            "\r 48%|████▊     | 403/836 [08:32<09:14,  1.28s/it]"
          ]
        },
        {
          "output_type": "stream",
          "name": "stdout",
          "text": [
            "/content/drive/MyDrive/CS376/music_src/audionautix/mtat/npy/Atlantis.npy\n"
          ]
        },
        {
          "output_type": "stream",
          "name": "stderr",
          "text": [
            "\r 48%|████▊     | 404/836 [08:34<09:11,  1.28s/it]"
          ]
        },
        {
          "output_type": "stream",
          "name": "stdout",
          "text": [
            "/content/drive/MyDrive/CS376/music_src/audionautix/mtat/npy/DarkMystery_58_87.npy\n"
          ]
        },
        {
          "output_type": "stream",
          "name": "stderr",
          "text": [
            "\r 48%|████▊     | 405/836 [08:35<09:08,  1.27s/it]"
          ]
        },
        {
          "output_type": "stream",
          "name": "stdout",
          "text": [
            "/content/drive/MyDrive/CS376/music_src/audionautix/mtat/npy/HopeAgainstHope.npy\n"
          ]
        },
        {
          "output_type": "stream",
          "name": "stderr",
          "text": [
            "\r 49%|████▊     | 406/836 [08:36<09:07,  1.27s/it]"
          ]
        },
        {
          "output_type": "stream",
          "name": "stdout",
          "text": [
            "/content/drive/MyDrive/CS376/music_src/audionautix/mtat/npy/FeelGoodFeel_29_58.npy\n"
          ]
        },
        {
          "output_type": "stream",
          "name": "stderr",
          "text": [
            "\r 49%|████▊     | 407/836 [08:37<09:07,  1.28s/it]"
          ]
        },
        {
          "output_type": "stream",
          "name": "stdout",
          "text": [
            "/content/drive/MyDrive/CS376/music_src/audionautix/mtat/npy/Words.npy\n"
          ]
        },
        {
          "output_type": "stream",
          "name": "stderr",
          "text": [
            "\r 49%|████▉     | 408/836 [08:39<09:11,  1.29s/it]"
          ]
        },
        {
          "output_type": "stream",
          "name": "stdout",
          "text": [
            "/content/drive/MyDrive/CS376/music_src/audionautix/mtat/npy/Quiet.npy\n"
          ]
        },
        {
          "output_type": "stream",
          "name": "stderr",
          "text": [
            "\r 49%|████▉     | 409/836 [08:40<09:08,  1.28s/it]"
          ]
        },
        {
          "output_type": "stream",
          "name": "stdout",
          "text": [
            "/content/drive/MyDrive/CS376/music_src/audionautix/mtat/npy/IntenseSuspense.npy\n"
          ]
        },
        {
          "output_type": "stream",
          "name": "stderr",
          "text": [
            "\r 49%|████▉     | 410/836 [08:41<09:09,  1.29s/it]"
          ]
        },
        {
          "output_type": "stream",
          "name": "stdout",
          "text": [
            "/content/drive/MyDrive/CS376/music_src/audionautix/mtat/npy/ColdMorning_58_87.npy\n"
          ]
        },
        {
          "output_type": "stream",
          "name": "stderr",
          "text": [
            "\r 49%|████▉     | 411/836 [08:43<09:08,  1.29s/it]"
          ]
        },
        {
          "output_type": "stream",
          "name": "stdout",
          "text": [
            "/content/drive/MyDrive/CS376/music_src/audionautix/mtat/npy/Continuum_29_58.npy\n"
          ]
        },
        {
          "output_type": "stream",
          "name": "stderr",
          "text": [
            "\r 49%|████▉     | 412/836 [08:44<09:06,  1.29s/it]"
          ]
        },
        {
          "output_type": "stream",
          "name": "stdout",
          "text": [
            "/content/drive/MyDrive/CS376/music_src/audionautix/mtat/npy/FurElise_29_58.npy\n"
          ]
        },
        {
          "output_type": "stream",
          "name": "stderr",
          "text": [
            "\r 49%|████▉     | 413/836 [08:45<09:06,  1.29s/it]"
          ]
        },
        {
          "output_type": "stream",
          "name": "stdout",
          "text": [
            "/content/drive/MyDrive/CS376/music_src/audionautix/mtat/npy/Busybody_29_58.npy\n"
          ]
        },
        {
          "output_type": "stream",
          "name": "stderr",
          "text": [
            "\r 50%|████▉     | 414/836 [08:47<09:03,  1.29s/it]"
          ]
        },
        {
          "output_type": "stream",
          "name": "stdout",
          "text": [
            "/content/drive/MyDrive/CS376/music_src/audionautix/mtat/npy/OverTime_29_58.npy\n"
          ]
        },
        {
          "output_type": "stream",
          "name": "stderr",
          "text": [
            "\r 50%|████▉     | 415/836 [08:48<09:04,  1.29s/it]"
          ]
        },
        {
          "output_type": "stream",
          "name": "stdout",
          "text": [
            "/content/drive/MyDrive/CS376/music_src/audionautix/mtat/npy/ImperialMorning.npy\n"
          ]
        },
        {
          "output_type": "stream",
          "name": "stderr",
          "text": [
            "\r 50%|████▉     | 416/836 [08:49<09:02,  1.29s/it]"
          ]
        },
        {
          "output_type": "stream",
          "name": "stdout",
          "text": [
            "/content/drive/MyDrive/CS376/music_src/audionautix/mtat/npy/InAWorld.npy\n"
          ]
        },
        {
          "output_type": "stream",
          "name": "stderr",
          "text": [
            "\r 50%|████▉     | 417/836 [08:50<09:00,  1.29s/it]"
          ]
        },
        {
          "output_type": "stream",
          "name": "stdout",
          "text": [
            "/content/drive/MyDrive/CS376/music_src/audionautix/mtat/npy/Beginning.npy\n"
          ]
        },
        {
          "output_type": "stream",
          "name": "stderr",
          "text": [
            "\r 50%|█████     | 418/836 [08:52<08:55,  1.28s/it]"
          ]
        },
        {
          "output_type": "stream",
          "name": "stdout",
          "text": [
            "/content/drive/MyDrive/CS376/music_src/audionautix/mtat/npy/TheChildrensRoom_58_87.npy\n"
          ]
        },
        {
          "output_type": "stream",
          "name": "stderr",
          "text": [
            "\r 50%|█████     | 419/836 [08:53<08:56,  1.29s/it]"
          ]
        },
        {
          "output_type": "stream",
          "name": "stdout",
          "text": [
            "/content/drive/MyDrive/CS376/music_src/audionautix/mtat/npy/GroovyBaby_29_58.npy\n"
          ]
        },
        {
          "output_type": "stream",
          "name": "stderr",
          "text": [
            "\r 50%|█████     | 420/836 [08:54<08:53,  1.28s/it]"
          ]
        },
        {
          "output_type": "stream",
          "name": "stdout",
          "text": [
            "/content/drive/MyDrive/CS376/music_src/audionautix/mtat/npy/BustinLoose_29_58.npy\n"
          ]
        },
        {
          "output_type": "stream",
          "name": "stderr",
          "text": [
            "\r 50%|█████     | 421/836 [08:56<08:54,  1.29s/it]"
          ]
        },
        {
          "output_type": "stream",
          "name": "stdout",
          "text": [
            "/content/drive/MyDrive/CS376/music_src/audionautix/mtat/npy/TexasTechno.npy\n"
          ]
        },
        {
          "output_type": "stream",
          "name": "stderr",
          "text": [
            "\r 50%|█████     | 422/836 [08:57<09:00,  1.31s/it]"
          ]
        },
        {
          "output_type": "stream",
          "name": "stdout",
          "text": [
            "/content/drive/MyDrive/CS376/music_src/audionautix/mtat/npy/KeepItReal_29_58.npy\n"
          ]
        },
        {
          "output_type": "stream",
          "name": "stderr",
          "text": [
            "\r 51%|█████     | 423/836 [08:58<09:00,  1.31s/it]"
          ]
        },
        {
          "output_type": "stream",
          "name": "stdout",
          "text": [
            "/content/drive/MyDrive/CS376/music_src/audionautix/mtat/npy/Pyramids.npy\n"
          ]
        },
        {
          "output_type": "stream",
          "name": "stderr",
          "text": [
            "\r 51%|█████     | 424/836 [09:00<09:03,  1.32s/it]"
          ]
        },
        {
          "output_type": "stream",
          "name": "stdout",
          "text": [
            "/content/drive/MyDrive/CS376/music_src/audionautix/mtat/npy/BootsBootsBoots_29_58.npy\n"
          ]
        },
        {
          "output_type": "stream",
          "name": "stderr",
          "text": [
            "\r 51%|█████     | 425/836 [09:01<09:02,  1.32s/it]"
          ]
        },
        {
          "output_type": "stream",
          "name": "stdout",
          "text": [
            "/content/drive/MyDrive/CS376/music_src/audionautix/mtat/npy/BeautifulDaughter_58_87.npy\n"
          ]
        },
        {
          "output_type": "stream",
          "name": "stderr",
          "text": [
            "\r 51%|█████     | 426/836 [09:02<09:00,  1.32s/it]"
          ]
        },
        {
          "output_type": "stream",
          "name": "stdout",
          "text": [
            "/content/drive/MyDrive/CS376/music_src/audionautix/mtat/npy/BridesBallad.npy\n"
          ]
        },
        {
          "output_type": "stream",
          "name": "stderr",
          "text": [
            "\r 51%|█████     | 427/836 [09:03<08:56,  1.31s/it]"
          ]
        },
        {
          "output_type": "stream",
          "name": "stdout",
          "text": [
            "/content/drive/MyDrive/CS376/music_src/audionautix/mtat/npy/OohHey_29_58.npy\n"
          ]
        },
        {
          "output_type": "stream",
          "name": "stderr",
          "text": [
            "\r 51%|█████     | 428/836 [09:05<08:52,  1.30s/it]"
          ]
        },
        {
          "output_type": "stream",
          "name": "stdout",
          "text": [
            "/content/drive/MyDrive/CS376/music_src/audionautix/mtat/npy/HopeAgainstHope_29_58.npy\n"
          ]
        },
        {
          "output_type": "stream",
          "name": "stderr",
          "text": [
            "\r 51%|█████▏    | 429/836 [09:06<08:46,  1.29s/it]"
          ]
        },
        {
          "output_type": "stream",
          "name": "stdout",
          "text": [
            "/content/drive/MyDrive/CS376/music_src/audionautix/mtat/npy/SoloAcousticBlues.npy\n"
          ]
        },
        {
          "output_type": "stream",
          "name": "stderr",
          "text": [
            "\r 51%|█████▏    | 430/836 [09:07<08:42,  1.29s/it]"
          ]
        },
        {
          "output_type": "stream",
          "name": "stdout",
          "text": [
            "/content/drive/MyDrive/CS376/music_src/audionautix/mtat/npy/EventHorizon_29_58.npy\n"
          ]
        },
        {
          "output_type": "stream",
          "name": "stderr",
          "text": [
            "\r 52%|█████▏    | 431/836 [09:09<08:38,  1.28s/it]"
          ]
        },
        {
          "output_type": "stream",
          "name": "stdout",
          "text": [
            "/content/drive/MyDrive/CS376/music_src/audionautix/mtat/npy/BigBlues_58_87.npy\n"
          ]
        },
        {
          "output_type": "stream",
          "name": "stderr",
          "text": [
            "\r 52%|█████▏    | 432/836 [09:10<08:36,  1.28s/it]"
          ]
        },
        {
          "output_type": "stream",
          "name": "stdout",
          "text": [
            "/content/drive/MyDrive/CS376/music_src/audionautix/mtat/npy/GrandeVista_58_87.npy\n"
          ]
        },
        {
          "output_type": "stream",
          "name": "stderr",
          "text": [
            "\r 52%|█████▏    | 433/836 [09:11<08:32,  1.27s/it]"
          ]
        },
        {
          "output_type": "stream",
          "name": "stdout",
          "text": [
            "/content/drive/MyDrive/CS376/music_src/audionautix/mtat/npy/HipHopNoVocal.npy\n"
          ]
        },
        {
          "output_type": "stream",
          "name": "stderr",
          "text": [
            "\r 52%|█████▏    | 434/836 [09:12<08:30,  1.27s/it]"
          ]
        },
        {
          "output_type": "stream",
          "name": "stdout",
          "text": [
            "/content/drive/MyDrive/CS376/music_src/audionautix/mtat/npy/Atlantis_29_58.npy\n"
          ]
        },
        {
          "output_type": "stream",
          "name": "stderr",
          "text": [
            "\r 52%|█████▏    | 435/836 [09:14<08:28,  1.27s/it]"
          ]
        },
        {
          "output_type": "stream",
          "name": "stdout",
          "text": [
            "/content/drive/MyDrive/CS376/music_src/audionautix/mtat/npy/Somber.npy\n"
          ]
        },
        {
          "output_type": "stream",
          "name": "stderr",
          "text": [
            "\r 52%|█████▏    | 436/836 [09:15<08:26,  1.27s/it]"
          ]
        },
        {
          "output_type": "stream",
          "name": "stdout",
          "text": [
            "/content/drive/MyDrive/CS376/music_src/audionautix/mtat/npy/WalkInTheParkFull_29_58.npy\n"
          ]
        },
        {
          "output_type": "stream",
          "name": "stderr",
          "text": [
            "\r 52%|█████▏    | 437/836 [09:16<08:25,  1.27s/it]"
          ]
        },
        {
          "output_type": "stream",
          "name": "stdout",
          "text": [
            "/content/drive/MyDrive/CS376/music_src/audionautix/mtat/npy/HotMess_58_87.npy\n"
          ]
        },
        {
          "output_type": "stream",
          "name": "stderr",
          "text": [
            "\r 52%|█████▏    | 438/836 [09:17<08:26,  1.27s/it]"
          ]
        },
        {
          "output_type": "stream",
          "name": "stdout",
          "text": [
            "/content/drive/MyDrive/CS376/music_src/audionautix/mtat/npy/ProgressiveRock.npy\n"
          ]
        },
        {
          "output_type": "stream",
          "name": "stderr",
          "text": [
            "\r 53%|█████▎    | 439/836 [09:19<08:27,  1.28s/it]"
          ]
        },
        {
          "output_type": "stream",
          "name": "stdout",
          "text": [
            "/content/drive/MyDrive/CS376/music_src/audionautix/mtat/npy/ABrighterHeart_58_87.npy\n"
          ]
        },
        {
          "output_type": "stream",
          "name": "stderr",
          "text": [
            "\r 53%|█████▎    | 440/836 [09:20<08:28,  1.28s/it]"
          ]
        },
        {
          "output_type": "stream",
          "name": "stdout",
          "text": [
            "/content/drive/MyDrive/CS376/music_src/audionautix/mtat/npy/RockYourWorld.npy\n"
          ]
        },
        {
          "output_type": "stream",
          "name": "stderr",
          "text": [
            "\r 53%|█████▎    | 441/836 [09:21<08:25,  1.28s/it]"
          ]
        },
        {
          "output_type": "stream",
          "name": "stdout",
          "text": [
            "/content/drive/MyDrive/CS376/music_src/audionautix/mtat/npy/EventHorizon.npy\n"
          ]
        },
        {
          "output_type": "stream",
          "name": "stderr",
          "text": [
            "\r 53%|█████▎    | 442/836 [09:23<08:21,  1.27s/it]"
          ]
        },
        {
          "output_type": "stream",
          "name": "stdout",
          "text": [
            "/content/drive/MyDrive/CS376/music_src/audionautix/mtat/npy/TrapBed_29_58.npy\n"
          ]
        },
        {
          "output_type": "stream",
          "name": "stderr",
          "text": [
            "\r 53%|█████▎    | 443/836 [09:24<08:19,  1.27s/it]"
          ]
        },
        {
          "output_type": "stream",
          "name": "stdout",
          "text": [
            "/content/drive/MyDrive/CS376/music_src/audionautix/mtat/npy/GetAMoveOn_58_87.npy\n"
          ]
        },
        {
          "output_type": "stream",
          "name": "stderr",
          "text": [
            "\r 53%|█████▎    | 444/836 [09:25<08:17,  1.27s/it]"
          ]
        },
        {
          "output_type": "stream",
          "name": "stdout",
          "text": [
            "/content/drive/MyDrive/CS376/music_src/audionautix/mtat/npy/TheBigHouse.npy\n"
          ]
        },
        {
          "output_type": "stream",
          "name": "stderr",
          "text": [
            "\r 53%|█████▎    | 445/836 [09:26<08:15,  1.27s/it]"
          ]
        },
        {
          "output_type": "stream",
          "name": "stdout",
          "text": [
            "/content/drive/MyDrive/CS376/music_src/audionautix/mtat/npy/SunsetStrip.npy\n"
          ]
        },
        {
          "output_type": "stream",
          "name": "stderr",
          "text": [
            "\r 53%|█████▎    | 446/836 [09:28<08:14,  1.27s/it]"
          ]
        },
        {
          "output_type": "stream",
          "name": "stdout",
          "text": [
            "/content/drive/MyDrive/CS376/music_src/audionautix/mtat/npy/AcousticBlues.npy\n"
          ]
        },
        {
          "output_type": "stream",
          "name": "stderr",
          "text": [
            "\r 53%|█████▎    | 447/836 [09:29<08:19,  1.28s/it]"
          ]
        },
        {
          "output_type": "stream",
          "name": "stdout",
          "text": [
            "/content/drive/MyDrive/CS376/music_src/audionautix/mtat/npy/HiFiBrutality_29_58.npy\n"
          ]
        },
        {
          "output_type": "stream",
          "name": "stderr",
          "text": [
            "\r 54%|█████▎    | 448/836 [09:30<08:20,  1.29s/it]"
          ]
        },
        {
          "output_type": "stream",
          "name": "stdout",
          "text": [
            "/content/drive/MyDrive/CS376/music_src/audionautix/mtat/npy/Macaroon5.npy\n"
          ]
        },
        {
          "output_type": "stream",
          "name": "stderr",
          "text": [
            "\r 54%|█████▎    | 449/836 [09:31<08:15,  1.28s/it]"
          ]
        },
        {
          "output_type": "stream",
          "name": "stdout",
          "text": [
            "/content/drive/MyDrive/CS376/music_src/audionautix/mtat/npy/KeepItReal.npy\n"
          ]
        },
        {
          "output_type": "stream",
          "name": "stderr",
          "text": [
            "\r 54%|█████▍    | 450/836 [09:33<08:10,  1.27s/it]"
          ]
        },
        {
          "output_type": "stream",
          "name": "stdout",
          "text": [
            "/content/drive/MyDrive/CS376/music_src/audionautix/mtat/npy/Busybody_58_87.npy\n"
          ]
        },
        {
          "output_type": "stream",
          "name": "stderr",
          "text": [
            "\r 54%|█████▍    | 451/836 [09:34<08:10,  1.27s/it]"
          ]
        },
        {
          "output_type": "stream",
          "name": "stdout",
          "text": [
            "/content/drive/MyDrive/CS376/music_src/audionautix/mtat/npy/Transcend.npy\n"
          ]
        },
        {
          "output_type": "stream",
          "name": "stderr",
          "text": [
            "\r 54%|█████▍    | 452/836 [09:35<08:09,  1.27s/it]"
          ]
        },
        {
          "output_type": "stream",
          "name": "stdout",
          "text": [
            "/content/drive/MyDrive/CS376/music_src/audionautix/mtat/npy/SundaysChild_29_58.npy\n"
          ]
        },
        {
          "output_type": "stream",
          "name": "stderr",
          "text": [
            "\r 54%|█████▍    | 453/836 [09:37<08:05,  1.27s/it]"
          ]
        },
        {
          "output_type": "stream",
          "name": "stdout",
          "text": [
            "/content/drive/MyDrive/CS376/music_src/audionautix/mtat/npy/HiFiBrutality_58_87.npy\n"
          ]
        },
        {
          "output_type": "stream",
          "name": "stderr",
          "text": [
            "\r 54%|█████▍    | 454/836 [09:38<08:06,  1.27s/it]"
          ]
        },
        {
          "output_type": "stream",
          "name": "stdout",
          "text": [
            "/content/drive/MyDrive/CS376/music_src/audionautix/mtat/npy/FallingSky_58_87.npy\n"
          ]
        },
        {
          "output_type": "stream",
          "name": "stderr",
          "text": [
            "\r 54%|█████▍    | 455/836 [09:39<08:04,  1.27s/it]"
          ]
        },
        {
          "output_type": "stream",
          "name": "stdout",
          "text": [
            "/content/drive/MyDrive/CS376/music_src/audionautix/mtat/npy/CloserToJazz.npy\n"
          ]
        },
        {
          "output_type": "stream",
          "name": "stderr",
          "text": [
            "\r 55%|█████▍    | 456/836 [09:40<08:02,  1.27s/it]"
          ]
        },
        {
          "output_type": "stream",
          "name": "stdout",
          "text": [
            "/content/drive/MyDrive/CS376/music_src/audionautix/mtat/npy/Sk8board.npy\n"
          ]
        },
        {
          "output_type": "stream",
          "name": "stderr",
          "text": [
            "\r 55%|█████▍    | 457/836 [09:42<08:00,  1.27s/it]"
          ]
        },
        {
          "output_type": "stream",
          "name": "stdout",
          "text": [
            "/content/drive/MyDrive/CS376/music_src/audionautix/mtat/npy/DatGroove_29_58.npy\n"
          ]
        },
        {
          "output_type": "stream",
          "name": "stderr",
          "text": [
            "\r 55%|█████▍    | 458/836 [09:43<07:58,  1.27s/it]"
          ]
        },
        {
          "output_type": "stream",
          "name": "stdout",
          "text": [
            "/content/drive/MyDrive/CS376/music_src/audionautix/mtat/npy/MidnightClearEDM_29_58.npy\n"
          ]
        },
        {
          "output_type": "stream",
          "name": "stderr",
          "text": [
            "\r 55%|█████▍    | 459/836 [09:44<07:57,  1.27s/it]"
          ]
        },
        {
          "output_type": "stream",
          "name": "stdout",
          "text": [
            "/content/drive/MyDrive/CS376/music_src/audionautix/mtat/npy/AutumnSunset_29_58.npy\n"
          ]
        },
        {
          "output_type": "stream",
          "name": "stderr",
          "text": [
            "\r 55%|█████▌    | 460/836 [09:45<07:54,  1.26s/it]"
          ]
        },
        {
          "output_type": "stream",
          "name": "stdout",
          "text": [
            "/content/drive/MyDrive/CS376/music_src/audionautix/mtat/npy/Rockytop_29_58.npy\n"
          ]
        },
        {
          "output_type": "stream",
          "name": "stderr",
          "text": [
            "\r 55%|█████▌    | 461/836 [09:47<07:52,  1.26s/it]"
          ]
        },
        {
          "output_type": "stream",
          "name": "stdout",
          "text": [
            "/content/drive/MyDrive/CS376/music_src/audionautix/mtat/npy/Noel.npy\n"
          ]
        },
        {
          "output_type": "stream",
          "name": "stderr",
          "text": [
            "\r 55%|█████▌    | 462/836 [09:48<07:52,  1.26s/it]"
          ]
        },
        {
          "output_type": "stream",
          "name": "stdout",
          "text": [
            "/content/drive/MyDrive/CS376/music_src/audionautix/mtat/npy/Pentagram.npy\n"
          ]
        },
        {
          "output_type": "stream",
          "name": "stderr",
          "text": [
            "\r 55%|█████▌    | 463/836 [09:49<07:54,  1.27s/it]"
          ]
        },
        {
          "output_type": "stream",
          "name": "stdout",
          "text": [
            "/content/drive/MyDrive/CS376/music_src/audionautix/mtat/npy/MiddleEarth.npy\n"
          ]
        },
        {
          "output_type": "stream",
          "name": "stderr",
          "text": [
            "\r 56%|█████▌    | 464/836 [09:50<07:50,  1.27s/it]"
          ]
        },
        {
          "output_type": "stream",
          "name": "stdout",
          "text": [
            "/content/drive/MyDrive/CS376/music_src/audionautix/mtat/npy/Antarctica.npy\n"
          ]
        },
        {
          "output_type": "stream",
          "name": "stderr",
          "text": [
            "\r 56%|█████▌    | 465/836 [09:52<07:48,  1.26s/it]"
          ]
        },
        {
          "output_type": "stream",
          "name": "stdout",
          "text": [
            "/content/drive/MyDrive/CS376/music_src/audionautix/mtat/npy/TheBigHouse_58_87.npy\n"
          ]
        },
        {
          "output_type": "stream",
          "name": "stderr",
          "text": [
            "\r 56%|█████▌    | 466/836 [09:53<07:47,  1.26s/it]"
          ]
        },
        {
          "output_type": "stream",
          "name": "stdout",
          "text": [
            "/content/drive/MyDrive/CS376/music_src/audionautix/mtat/npy/AMomentsReflection.npy\n"
          ]
        },
        {
          "output_type": "stream",
          "name": "stderr",
          "text": [
            "\r 56%|█████▌    | 467/836 [09:54<07:46,  1.26s/it]"
          ]
        },
        {
          "output_type": "stream",
          "name": "stdout",
          "text": [
            "/content/drive/MyDrive/CS376/music_src/audionautix/mtat/npy/HorrorMusic.npy\n"
          ]
        },
        {
          "output_type": "stream",
          "name": "stderr",
          "text": [
            "\r 56%|█████▌    | 468/836 [09:56<07:44,  1.26s/it]"
          ]
        },
        {
          "output_type": "stream",
          "name": "stdout",
          "text": [
            "/content/drive/MyDrive/CS376/music_src/audionautix/mtat/npy/NightRunner.npy\n"
          ]
        },
        {
          "output_type": "stream",
          "name": "stderr",
          "text": [
            "\r 56%|█████▌    | 469/836 [09:57<07:42,  1.26s/it]"
          ]
        },
        {
          "output_type": "stream",
          "name": "stdout",
          "text": [
            "/content/drive/MyDrive/CS376/music_src/audionautix/mtat/npy/BeforeDawn_58_87.npy\n"
          ]
        },
        {
          "output_type": "stream",
          "name": "stderr",
          "text": [
            "\r 56%|█████▌    | 470/836 [09:58<07:42,  1.26s/it]"
          ]
        },
        {
          "output_type": "stream",
          "name": "stdout",
          "text": [
            "/content/drive/MyDrive/CS376/music_src/audionautix/mtat/npy/OpenRoad.npy\n"
          ]
        },
        {
          "output_type": "stream",
          "name": "stderr",
          "text": [
            "\r 56%|█████▋    | 471/836 [09:59<07:47,  1.28s/it]"
          ]
        },
        {
          "output_type": "stream",
          "name": "stdout",
          "text": [
            "/content/drive/MyDrive/CS376/music_src/audionautix/mtat/npy/Beginning_29_58.npy\n"
          ]
        },
        {
          "output_type": "stream",
          "name": "stderr",
          "text": [
            "\r 56%|█████▋    | 472/836 [10:01<07:45,  1.28s/it]"
          ]
        },
        {
          "output_type": "stream",
          "name": "stdout",
          "text": [
            "/content/drive/MyDrive/CS376/music_src/audionautix/mtat/npy/HotSalsa.npy\n"
          ]
        },
        {
          "output_type": "stream",
          "name": "stderr",
          "text": [
            "\r 57%|█████▋    | 473/836 [10:02<07:41,  1.27s/it]"
          ]
        },
        {
          "output_type": "stream",
          "name": "stdout",
          "text": [
            "/content/drive/MyDrive/CS376/music_src/audionautix/mtat/npy/ClapAlong_58_87.npy\n"
          ]
        },
        {
          "output_type": "stream",
          "name": "stderr",
          "text": [
            "\r 57%|█████▋    | 474/836 [10:03<07:37,  1.27s/it]"
          ]
        },
        {
          "output_type": "stream",
          "name": "stdout",
          "text": [
            "/content/drive/MyDrive/CS376/music_src/audionautix/mtat/npy/RoadToKilcoo_29_58.npy\n"
          ]
        },
        {
          "output_type": "stream",
          "name": "stderr",
          "text": [
            "\r 57%|█████▋    | 475/836 [10:04<07:35,  1.26s/it]"
          ]
        },
        {
          "output_type": "stream",
          "name": "stdout",
          "text": [
            "/content/drive/MyDrive/CS376/music_src/audionautix/mtat/npy/CloserToJazz_58_87.npy\n"
          ]
        },
        {
          "output_type": "stream",
          "name": "stderr",
          "text": [
            "\r 57%|█████▋    | 476/836 [10:06<07:44,  1.29s/it]"
          ]
        },
        {
          "output_type": "stream",
          "name": "stdout",
          "text": [
            "/content/drive/MyDrive/CS376/music_src/audionautix/mtat/npy/BeBop25_58_87.npy\n"
          ]
        },
        {
          "output_type": "stream",
          "name": "stderr",
          "text": [
            "\r 57%|█████▋    | 477/836 [10:07<07:41,  1.28s/it]"
          ]
        },
        {
          "output_type": "stream",
          "name": "stdout",
          "text": [
            "/content/drive/MyDrive/CS376/music_src/audionautix/mtat/npy/ForeverBelieve_58_87.npy\n"
          ]
        },
        {
          "output_type": "stream",
          "name": "stderr",
          "text": [
            "\r 57%|█████▋    | 478/836 [10:08<07:38,  1.28s/it]"
          ]
        },
        {
          "output_type": "stream",
          "name": "stdout",
          "text": [
            "/content/drive/MyDrive/CS376/music_src/audionautix/mtat/npy/IntenseSuspense_58_87.npy\n"
          ]
        },
        {
          "output_type": "stream",
          "name": "stderr",
          "text": [
            "\r 57%|█████▋    | 479/836 [10:10<07:35,  1.27s/it]"
          ]
        },
        {
          "output_type": "stream",
          "name": "stdout",
          "text": [
            "/content/drive/MyDrive/CS376/music_src/audionautix/mtat/npy/TheChildrensRoom.npy\n"
          ]
        },
        {
          "output_type": "stream",
          "name": "stderr",
          "text": [
            "\r 57%|█████▋    | 480/836 [10:11<07:33,  1.27s/it]"
          ]
        },
        {
          "output_type": "stream",
          "name": "stdout",
          "text": [
            "/content/drive/MyDrive/CS376/music_src/audionautix/mtat/npy/MinorWithCricket.npy\n"
          ]
        },
        {
          "output_type": "stream",
          "name": "stderr",
          "text": [
            "\r 58%|█████▊    | 481/836 [10:12<07:31,  1.27s/it]"
          ]
        },
        {
          "output_type": "stream",
          "name": "stdout",
          "text": [
            "/content/drive/MyDrive/CS376/music_src/audionautix/mtat/npy/ModernRock2_29_58.npy\n"
          ]
        },
        {
          "output_type": "stream",
          "name": "stderr",
          "text": [
            "\r 58%|█████▊    | 482/836 [10:13<07:29,  1.27s/it]"
          ]
        },
        {
          "output_type": "stream",
          "name": "stdout",
          "text": [
            "/content/drive/MyDrive/CS376/music_src/audionautix/mtat/npy/2ABOVEZERO.npy\n"
          ]
        },
        {
          "output_type": "stream",
          "name": "stderr",
          "text": [
            "\r 58%|█████▊    | 483/836 [10:15<07:27,  1.27s/it]"
          ]
        },
        {
          "output_type": "stream",
          "name": "stdout",
          "text": [
            "/content/drive/MyDrive/CS376/music_src/audionautix/mtat/npy/QuirkyJerk_29_58.npy\n"
          ]
        },
        {
          "output_type": "stream",
          "name": "stderr",
          "text": [
            "\r 58%|█████▊    | 484/836 [10:16<07:25,  1.27s/it]"
          ]
        },
        {
          "output_type": "stream",
          "name": "stdout",
          "text": [
            "/content/drive/MyDrive/CS376/music_src/audionautix/mtat/npy/PaperWings_29_58.npy\n"
          ]
        },
        {
          "output_type": "stream",
          "name": "stderr",
          "text": [
            "\r 58%|█████▊    | 485/836 [10:17<07:28,  1.28s/it]"
          ]
        },
        {
          "output_type": "stream",
          "name": "stdout",
          "text": [
            "/content/drive/MyDrive/CS376/music_src/audionautix/mtat/npy/FallingSky.npy\n"
          ]
        },
        {
          "output_type": "stream",
          "name": "stderr",
          "text": [
            "\r 58%|█████▊    | 486/836 [10:18<07:27,  1.28s/it]"
          ]
        },
        {
          "output_type": "stream",
          "name": "stdout",
          "text": [
            "/content/drive/MyDrive/CS376/music_src/audionautix/mtat/npy/Roboskater_29_58.npy\n"
          ]
        },
        {
          "output_type": "stream",
          "name": "stderr",
          "text": [
            "\r 58%|█████▊    | 487/836 [10:20<07:26,  1.28s/it]"
          ]
        },
        {
          "output_type": "stream",
          "name": "stdout",
          "text": [
            "/content/drive/MyDrive/CS376/music_src/audionautix/mtat/npy/RockYourWorld_29_58.npy\n"
          ]
        },
        {
          "output_type": "stream",
          "name": "stderr",
          "text": [
            "\r 58%|█████▊    | 488/836 [10:21<07:23,  1.28s/it]"
          ]
        },
        {
          "output_type": "stream",
          "name": "stdout",
          "text": [
            "/content/drive/MyDrive/CS376/music_src/audionautix/mtat/npy/OccupyTheDanceFloor_29_58.npy\n"
          ]
        },
        {
          "output_type": "stream",
          "name": "stderr",
          "text": [
            "\r 58%|█████▊    | 489/836 [10:22<07:20,  1.27s/it]"
          ]
        },
        {
          "output_type": "stream",
          "name": "stdout",
          "text": [
            "/content/drive/MyDrive/CS376/music_src/audionautix/mtat/npy/InAWorld_58_87.npy\n"
          ]
        },
        {
          "output_type": "stream",
          "name": "stderr",
          "text": [
            "\r 59%|█████▊    | 490/836 [10:24<07:18,  1.27s/it]"
          ]
        },
        {
          "output_type": "stream",
          "name": "stdout",
          "text": [
            "/content/drive/MyDrive/CS376/music_src/audionautix/mtat/npy/Pyramids_29_58.npy\n"
          ]
        },
        {
          "output_type": "stream",
          "name": "stderr",
          "text": [
            "\r 59%|█████▊    | 491/836 [10:25<07:16,  1.27s/it]"
          ]
        },
        {
          "output_type": "stream",
          "name": "stdout",
          "text": [
            "/content/drive/MyDrive/CS376/music_src/audionautix/mtat/npy/TheMightyKingdom.npy\n"
          ]
        },
        {
          "output_type": "stream",
          "name": "stderr",
          "text": [
            "\r 59%|█████▉    | 492/836 [10:26<07:15,  1.26s/it]"
          ]
        },
        {
          "output_type": "stream",
          "name": "stdout",
          "text": [
            "/content/drive/MyDrive/CS376/music_src/audionautix/mtat/npy/CodeBlue.npy\n"
          ]
        },
        {
          "output_type": "stream",
          "name": "stderr",
          "text": [
            "\r 59%|█████▉    | 493/836 [10:27<07:14,  1.27s/it]"
          ]
        },
        {
          "output_type": "stream",
          "name": "stdout",
          "text": [
            "/content/drive/MyDrive/CS376/music_src/audionautix/mtat/npy/HeavyDrumsBass.npy\n"
          ]
        },
        {
          "output_type": "stream",
          "name": "stderr",
          "text": [
            "\r 59%|█████▉    | 494/836 [10:29<07:15,  1.27s/it]"
          ]
        },
        {
          "output_type": "stream",
          "name": "stdout",
          "text": [
            "/content/drive/MyDrive/CS376/music_src/audionautix/mtat/npy/IDontWantToTalk.npy\n"
          ]
        },
        {
          "output_type": "stream",
          "name": "stderr",
          "text": [
            "\r 59%|█████▉    | 495/836 [10:30<07:18,  1.29s/it]"
          ]
        },
        {
          "output_type": "stream",
          "name": "stdout",
          "text": [
            "/content/drive/MyDrive/CS376/music_src/audionautix/mtat/npy/Wheels_58_87.npy\n"
          ]
        },
        {
          "output_type": "stream",
          "name": "stderr",
          "text": [
            "\r 59%|█████▉    | 496/836 [10:31<07:17,  1.29s/it]"
          ]
        },
        {
          "output_type": "stream",
          "name": "stdout",
          "text": [
            "/content/drive/MyDrive/CS376/music_src/audionautix/mtat/npy/HorrorEpic_29_58.npy\n"
          ]
        },
        {
          "output_type": "stream",
          "name": "stderr",
          "text": [
            "\r 59%|█████▉    | 497/836 [10:33<07:13,  1.28s/it]"
          ]
        },
        {
          "output_type": "stream",
          "name": "stdout",
          "text": [
            "/content/drive/MyDrive/CS376/music_src/audionautix/mtat/npy/UnitedWeGroove_58_87.npy\n"
          ]
        },
        {
          "output_type": "stream",
          "name": "stderr",
          "text": [
            "\r 60%|█████▉    | 498/836 [10:34<07:11,  1.28s/it]"
          ]
        },
        {
          "output_type": "stream",
          "name": "stdout",
          "text": [
            "/content/drive/MyDrive/CS376/music_src/audionautix/mtat/npy/MedTempoRock.npy\n"
          ]
        },
        {
          "output_type": "stream",
          "name": "stderr",
          "text": [
            "\r 60%|█████▉    | 499/836 [10:35<07:09,  1.28s/it]"
          ]
        },
        {
          "output_type": "stream",
          "name": "stdout",
          "text": [
            "/content/drive/MyDrive/CS376/music_src/audionautix/mtat/npy/QuirkyJerk.npy\n"
          ]
        },
        {
          "output_type": "stream",
          "name": "stderr",
          "text": [
            "\r 60%|█████▉    | 500/836 [10:36<07:06,  1.27s/it]"
          ]
        },
        {
          "output_type": "stream",
          "name": "stdout",
          "text": [
            "/content/drive/MyDrive/CS376/music_src/audionautix/mtat/npy/LegendsOfTheRiver.npy\n"
          ]
        },
        {
          "output_type": "stream",
          "name": "stderr",
          "text": [
            "\r 60%|█████▉    | 501/836 [10:38<07:04,  1.27s/it]"
          ]
        },
        {
          "output_type": "stream",
          "name": "stdout",
          "text": [
            "/content/drive/MyDrive/CS376/music_src/audionautix/mtat/npy/JoyToTheWorld_29_58.npy\n"
          ]
        },
        {
          "output_type": "stream",
          "name": "stderr",
          "text": [
            "\r 60%|██████    | 502/836 [10:39<07:03,  1.27s/it]"
          ]
        },
        {
          "output_type": "stream",
          "name": "stdout",
          "text": [
            "/content/drive/MyDrive/CS376/music_src/audionautix/mtat/npy/SoloAcousticBlues_29_58.npy\n"
          ]
        },
        {
          "output_type": "stream",
          "name": "stderr",
          "text": [
            "\r 60%|██████    | 503/836 [10:40<07:03,  1.27s/it]"
          ]
        },
        {
          "output_type": "stream",
          "name": "stdout",
          "text": [
            "/content/drive/MyDrive/CS376/music_src/audionautix/mtat/npy/Periscope_58_87.npy\n"
          ]
        },
        {
          "output_type": "stream",
          "name": "stderr",
          "text": [
            "\r 60%|██████    | 504/836 [10:41<07:00,  1.27s/it]"
          ]
        },
        {
          "output_type": "stream",
          "name": "stdout",
          "text": [
            "/content/drive/MyDrive/CS376/music_src/audionautix/mtat/npy/LazyDay_58_87.npy\n"
          ]
        },
        {
          "output_type": "stream",
          "name": "stderr",
          "text": [
            "\r 60%|██████    | 505/836 [10:43<06:58,  1.26s/it]"
          ]
        },
        {
          "output_type": "stream",
          "name": "stdout",
          "text": [
            "/content/drive/MyDrive/CS376/music_src/audionautix/mtat/npy/2ABOVEZERO_29_58.npy\n"
          ]
        },
        {
          "output_type": "stream",
          "name": "stderr",
          "text": [
            "\r 61%|██████    | 506/836 [10:44<06:56,  1.26s/it]"
          ]
        },
        {
          "output_type": "stream",
          "name": "stdout",
          "text": [
            "/content/drive/MyDrive/CS376/music_src/audionautix/mtat/npy/FeelGoodFeel_58_87.npy\n"
          ]
        },
        {
          "output_type": "stream",
          "name": "stderr",
          "text": [
            "\r 61%|██████    | 507/836 [10:45<06:55,  1.26s/it]"
          ]
        },
        {
          "output_type": "stream",
          "name": "stdout",
          "text": [
            "/content/drive/MyDrive/CS376/music_src/audionautix/mtat/npy/EgyptianCrawl.npy\n"
          ]
        },
        {
          "output_type": "stream",
          "name": "stderr",
          "text": [
            "\r 61%|██████    | 508/836 [10:46<06:54,  1.26s/it]"
          ]
        },
        {
          "output_type": "stream",
          "name": "stdout",
          "text": [
            "/content/drive/MyDrive/CS376/music_src/audionautix/mtat/npy/ColdMorning.npy\n"
          ]
        },
        {
          "output_type": "stream",
          "name": "stderr",
          "text": [
            "\r 61%|██████    | 509/836 [10:48<06:55,  1.27s/it]"
          ]
        },
        {
          "output_type": "stream",
          "name": "stdout",
          "text": [
            "/content/drive/MyDrive/CS376/music_src/audionautix/mtat/npy/Macaroon5_58_87.npy\n"
          ]
        },
        {
          "output_type": "stream",
          "name": "stderr",
          "text": [
            "\r 61%|██████    | 510/836 [10:49<06:54,  1.27s/it]"
          ]
        },
        {
          "output_type": "stream",
          "name": "stdout",
          "text": [
            "/content/drive/MyDrive/CS376/music_src/audionautix/mtat/npy/InMotion.npy\n"
          ]
        },
        {
          "output_type": "stream",
          "name": "stderr",
          "text": [
            "\r 61%|██████    | 511/836 [10:50<06:53,  1.27s/it]"
          ]
        },
        {
          "output_type": "stream",
          "name": "stdout",
          "text": [
            "/content/drive/MyDrive/CS376/music_src/audionautix/mtat/npy/FolkBed.npy\n"
          ]
        },
        {
          "output_type": "stream",
          "name": "stderr",
          "text": [
            "\r 61%|██████    | 512/836 [10:52<06:52,  1.27s/it]"
          ]
        },
        {
          "output_type": "stream",
          "name": "stdout",
          "text": [
            "/content/drive/MyDrive/CS376/music_src/audionautix/mtat/npy/BeautifulDaughter_29_58.npy\n"
          ]
        },
        {
          "output_type": "stream",
          "name": "stderr",
          "text": [
            "\r 61%|██████▏   | 513/836 [10:53<06:51,  1.27s/it]"
          ]
        },
        {
          "output_type": "stream",
          "name": "stdout",
          "text": [
            "/content/drive/MyDrive/CS376/music_src/audionautix/mtat/npy/DoubleBlues_29_58.npy\n"
          ]
        },
        {
          "output_type": "stream",
          "name": "stderr",
          "text": [
            "\r 61%|██████▏   | 514/836 [10:54<06:51,  1.28s/it]"
          ]
        },
        {
          "output_type": "stream",
          "name": "stdout",
          "text": [
            "/content/drive/MyDrive/CS376/music_src/audionautix/mtat/npy/BustinLooseWLead_29_58.npy\n"
          ]
        },
        {
          "output_type": "stream",
          "name": "stderr",
          "text": [
            "\r 62%|██████▏   | 515/836 [10:55<06:49,  1.28s/it]"
          ]
        },
        {
          "output_type": "stream",
          "name": "stdout",
          "text": [
            "/content/drive/MyDrive/CS376/music_src/audionautix/mtat/npy/Busybody.npy\n"
          ]
        },
        {
          "output_type": "stream",
          "name": "stderr",
          "text": [
            "\r 62%|██████▏   | 516/836 [10:57<06:47,  1.27s/it]"
          ]
        },
        {
          "output_type": "stream",
          "name": "stdout",
          "text": [
            "/content/drive/MyDrive/CS376/music_src/audionautix/mtat/npy/PartingGlass_29_58.npy\n"
          ]
        },
        {
          "output_type": "stream",
          "name": "stderr",
          "text": [
            "\r 62%|██████▏   | 517/836 [10:58<06:45,  1.27s/it]"
          ]
        },
        {
          "output_type": "stream",
          "name": "stdout",
          "text": [
            "/content/drive/MyDrive/CS376/music_src/audionautix/mtat/npy/SoDramatic_29_58.npy\n"
          ]
        },
        {
          "output_type": "stream",
          "name": "stderr",
          "text": [
            "\r 62%|██████▏   | 518/836 [10:59<06:49,  1.29s/it]"
          ]
        },
        {
          "output_type": "stream",
          "name": "stdout",
          "text": [
            "/content/drive/MyDrive/CS376/music_src/audionautix/mtat/npy/GreenDaze.npy\n"
          ]
        },
        {
          "output_type": "stream",
          "name": "stderr",
          "text": [
            "\r 62%|██████▏   | 519/836 [11:01<06:48,  1.29s/it]"
          ]
        },
        {
          "output_type": "stream",
          "name": "stdout",
          "text": [
            "/content/drive/MyDrive/CS376/music_src/audionautix/mtat/npy/Whatdafunk_29_58.npy\n"
          ]
        },
        {
          "output_type": "stream",
          "name": "stderr",
          "text": [
            "\r 62%|██████▏   | 520/836 [11:02<06:44,  1.28s/it]"
          ]
        },
        {
          "output_type": "stream",
          "name": "stdout",
          "text": [
            "/content/drive/MyDrive/CS376/music_src/audionautix/mtat/npy/SoloAcoustic3_58_87.npy\n"
          ]
        },
        {
          "output_type": "stream",
          "name": "stderr",
          "text": [
            "\r 62%|██████▏   | 521/836 [11:03<06:46,  1.29s/it]"
          ]
        },
        {
          "output_type": "stream",
          "name": "stdout",
          "text": [
            "/content/drive/MyDrive/CS376/music_src/audionautix/mtat/npy/FightScene_29_58.npy\n"
          ]
        },
        {
          "output_type": "stream",
          "name": "stderr",
          "text": [
            "\r 62%|██████▏   | 522/836 [11:04<06:45,  1.29s/it]"
          ]
        },
        {
          "output_type": "stream",
          "name": "stdout",
          "text": [
            "/content/drive/MyDrive/CS376/music_src/audionautix/mtat/npy/Hoedown_58_87.npy\n"
          ]
        },
        {
          "output_type": "stream",
          "name": "stderr",
          "text": [
            "\r 63%|██████▎   | 523/836 [11:06<06:45,  1.30s/it]"
          ]
        },
        {
          "output_type": "stream",
          "name": "stdout",
          "text": [
            "/content/drive/MyDrive/CS376/music_src/audionautix/mtat/npy/MajesticPiano_29_58.npy\n"
          ]
        },
        {
          "output_type": "stream",
          "name": "stderr",
          "text": [
            "\r 63%|██████▎   | 524/836 [11:07<06:41,  1.29s/it]"
          ]
        },
        {
          "output_type": "stream",
          "name": "stdout",
          "text": [
            "/content/drive/MyDrive/CS376/music_src/audionautix/mtat/npy/CodeBlue_58_87.npy\n"
          ]
        },
        {
          "output_type": "stream",
          "name": "stderr",
          "text": [
            "\r 63%|██████▎   | 525/836 [11:08<06:39,  1.29s/it]"
          ]
        },
        {
          "output_type": "stream",
          "name": "stdout",
          "text": [
            "/content/drive/MyDrive/CS376/music_src/audionautix/mtat/npy/ISawThreeShips_29_58.npy\n"
          ]
        },
        {
          "output_type": "stream",
          "name": "stderr",
          "text": [
            "\r 63%|██████▎   | 526/836 [11:10<06:37,  1.28s/it]"
          ]
        },
        {
          "output_type": "stream",
          "name": "stdout",
          "text": [
            "/content/drive/MyDrive/CS376/music_src/audionautix/mtat/npy/TriumphantReturn_58_87.npy\n"
          ]
        },
        {
          "output_type": "stream",
          "name": "stderr",
          "text": [
            "\r 63%|██████▎   | 527/836 [11:11<06:34,  1.28s/it]"
          ]
        },
        {
          "output_type": "stream",
          "name": "stdout",
          "text": [
            "/content/drive/MyDrive/CS376/music_src/audionautix/mtat/npy/WorldsAway.npy\n"
          ]
        },
        {
          "output_type": "stream",
          "name": "stderr",
          "text": [
            "\r 63%|██████▎   | 528/836 [11:12<06:30,  1.27s/it]"
          ]
        },
        {
          "output_type": "stream",
          "name": "stdout",
          "text": [
            "/content/drive/MyDrive/CS376/music_src/audionautix/mtat/npy/TennesseeHayride.npy\n"
          ]
        },
        {
          "output_type": "stream",
          "name": "stderr",
          "text": [
            "\r 63%|██████▎   | 529/836 [11:13<06:27,  1.26s/it]"
          ]
        },
        {
          "output_type": "stream",
          "name": "stdout",
          "text": [
            "/content/drive/MyDrive/CS376/music_src/audionautix/mtat/npy/TimePassingBy_29_58.npy\n"
          ]
        },
        {
          "output_type": "stream",
          "name": "stderr",
          "text": [
            "\r 63%|██████▎   | 530/836 [11:15<06:25,  1.26s/it]"
          ]
        },
        {
          "output_type": "stream",
          "name": "stdout",
          "text": [
            "/content/drive/MyDrive/CS376/music_src/audionautix/mtat/npy/BridesBallad_29_58.npy\n"
          ]
        },
        {
          "output_type": "stream",
          "name": "stderr",
          "text": [
            "\r 64%|██████▎   | 531/836 [11:16<06:24,  1.26s/it]"
          ]
        },
        {
          "output_type": "stream",
          "name": "stdout",
          "text": [
            "/content/drive/MyDrive/CS376/music_src/audionautix/mtat/npy/Sk8board_58_87.npy\n"
          ]
        },
        {
          "output_type": "stream",
          "name": "stderr",
          "text": [
            "\r 64%|██████▎   | 532/836 [11:17<06:24,  1.26s/it]"
          ]
        },
        {
          "output_type": "stream",
          "name": "stdout",
          "text": [
            "/content/drive/MyDrive/CS376/music_src/audionautix/mtat/npy/CorporationMotivation.npy\n"
          ]
        },
        {
          "output_type": "stream",
          "name": "stderr",
          "text": [
            "\r 64%|██████▍   | 533/836 [11:18<06:23,  1.27s/it]"
          ]
        },
        {
          "output_type": "stream",
          "name": "stdout",
          "text": [
            "/content/drive/MyDrive/CS376/music_src/audionautix/mtat/npy/LeavinTheLights_58_87.npy\n"
          ]
        },
        {
          "output_type": "stream",
          "name": "stderr",
          "text": [
            "\r 64%|██████▍   | 534/836 [11:20<06:21,  1.26s/it]"
          ]
        },
        {
          "output_type": "stream",
          "name": "stdout",
          "text": [
            "/content/drive/MyDrive/CS376/music_src/audionautix/mtat/npy/AwayInAManger_29_58.npy\n"
          ]
        },
        {
          "output_type": "stream",
          "name": "stderr",
          "text": [
            "\r 64%|██████▍   | 535/836 [11:21<06:21,  1.27s/it]"
          ]
        },
        {
          "output_type": "stream",
          "name": "stdout",
          "text": [
            "/content/drive/MyDrive/CS376/music_src/audionautix/mtat/npy/OccupyTheDanceFloor.npy\n"
          ]
        },
        {
          "output_type": "stream",
          "name": "stderr",
          "text": [
            "\r 64%|██████▍   | 536/836 [11:22<06:19,  1.27s/it]"
          ]
        },
        {
          "output_type": "stream",
          "name": "stdout",
          "text": [
            "/content/drive/MyDrive/CS376/music_src/audionautix/mtat/npy/AutumnSunset.npy\n"
          ]
        },
        {
          "output_type": "stream",
          "name": "stderr",
          "text": [
            "\r 64%|██████▍   | 537/836 [11:23<06:17,  1.26s/it]"
          ]
        },
        {
          "output_type": "stream",
          "name": "stdout",
          "text": [
            "/content/drive/MyDrive/CS376/music_src/audionautix/mtat/npy/HipHopNoVocal_29_58.npy\n"
          ]
        },
        {
          "output_type": "stream",
          "name": "stderr",
          "text": [
            "\r 64%|██████▍   | 538/836 [11:25<06:16,  1.26s/it]"
          ]
        },
        {
          "output_type": "stream",
          "name": "stdout",
          "text": [
            "/content/drive/MyDrive/CS376/music_src/audionautix/mtat/npy/Edward.npy\n"
          ]
        },
        {
          "output_type": "stream",
          "name": "stderr",
          "text": [
            "\r 64%|██████▍   | 539/836 [11:26<06:13,  1.26s/it]"
          ]
        },
        {
          "output_type": "stream",
          "name": "stdout",
          "text": [
            "/content/drive/MyDrive/CS376/music_src/audionautix/mtat/npy/TheAngelsWeep.npy\n"
          ]
        },
        {
          "output_type": "stream",
          "name": "stderr",
          "text": [
            "\r 65%|██████▍   | 540/836 [11:27<06:12,  1.26s/it]"
          ]
        },
        {
          "output_type": "stream",
          "name": "stdout",
          "text": [
            "/content/drive/MyDrive/CS376/music_src/audionautix/mtat/npy/CoolRide_29_58.npy\n"
          ]
        },
        {
          "output_type": "stream",
          "name": "stderr",
          "text": [
            "\r 65%|██████▍   | 541/836 [11:28<06:11,  1.26s/it]"
          ]
        },
        {
          "output_type": "stream",
          "name": "stdout",
          "text": [
            "/content/drive/MyDrive/CS376/music_src/audionautix/mtat/npy/DatGrooveFullTrack_58_87.npy\n"
          ]
        },
        {
          "output_type": "stream",
          "name": "stderr",
          "text": [
            "\r 65%|██████▍   | 542/836 [11:30<06:15,  1.28s/it]"
          ]
        },
        {
          "output_type": "stream",
          "name": "stdout",
          "text": [
            "/content/drive/MyDrive/CS376/music_src/audionautix/mtat/npy/BanjoHop.npy\n"
          ]
        },
        {
          "output_type": "stream",
          "name": "stderr",
          "text": [
            "\r 65%|██████▍   | 543/836 [11:31<06:13,  1.27s/it]"
          ]
        },
        {
          "output_type": "stream",
          "name": "stdout",
          "text": [
            "/content/drive/MyDrive/CS376/music_src/audionautix/mtat/npy/CoolRide_58_87.npy\n"
          ]
        },
        {
          "output_type": "stream",
          "name": "stderr",
          "text": [
            "\r 65%|██████▌   | 544/836 [11:32<06:09,  1.27s/it]"
          ]
        },
        {
          "output_type": "stream",
          "name": "stdout",
          "text": [
            "/content/drive/MyDrive/CS376/music_src/audionautix/mtat/npy/DanceDubber_58_87.npy\n"
          ]
        },
        {
          "output_type": "stream",
          "name": "stderr",
          "text": [
            "\r 65%|██████▌   | 545/836 [11:34<06:08,  1.27s/it]"
          ]
        },
        {
          "output_type": "stream",
          "name": "stdout",
          "text": [
            "/content/drive/MyDrive/CS376/music_src/audionautix/mtat/npy/GetAMoveOn.npy\n"
          ]
        },
        {
          "output_type": "stream",
          "name": "stderr",
          "text": [
            "\r 65%|██████▌   | 546/836 [11:35<06:06,  1.26s/it]"
          ]
        },
        {
          "output_type": "stream",
          "name": "stdout",
          "text": [
            "/content/drive/MyDrive/CS376/music_src/audionautix/mtat/npy/Periscope.npy\n"
          ]
        },
        {
          "output_type": "stream",
          "name": "stderr",
          "text": [
            "\r 65%|██████▌   | 547/836 [11:36<06:04,  1.26s/it]"
          ]
        },
        {
          "output_type": "stream",
          "name": "stdout",
          "text": [
            "/content/drive/MyDrive/CS376/music_src/audionautix/mtat/npy/CryinInMyBeer.npy\n"
          ]
        },
        {
          "output_type": "stream",
          "name": "stderr",
          "text": [
            "\r 66%|██████▌   | 548/836 [11:37<06:03,  1.26s/it]"
          ]
        },
        {
          "output_type": "stream",
          "name": "stdout",
          "text": [
            "/content/drive/MyDrive/CS376/music_src/audionautix/mtat/npy/TVDramaVersion2_29_58.npy\n"
          ]
        },
        {
          "output_type": "stream",
          "name": "stderr",
          "text": [
            "\r 66%|██████▌   | 549/836 [11:39<06:02,  1.26s/it]"
          ]
        },
        {
          "output_type": "stream",
          "name": "stdout",
          "text": [
            "/content/drive/MyDrive/CS376/music_src/audionautix/mtat/npy/PendulumWaltz_29_58.npy\n"
          ]
        },
        {
          "output_type": "stream",
          "name": "stderr",
          "text": [
            "\r 66%|██████▌   | 550/836 [11:40<06:01,  1.27s/it]"
          ]
        },
        {
          "output_type": "stream",
          "name": "stdout",
          "text": [
            "/content/drive/MyDrive/CS376/music_src/audionautix/mtat/npy/HorrorDrone1_58_87.npy\n"
          ]
        },
        {
          "output_type": "stream",
          "name": "stderr",
          "text": [
            "\r 66%|██████▌   | 551/836 [11:41<05:59,  1.26s/it]"
          ]
        },
        {
          "output_type": "stream",
          "name": "stdout",
          "text": [
            "/content/drive/MyDrive/CS376/music_src/audionautix/mtat/npy/AdagioInC_58_87.npy\n"
          ]
        },
        {
          "output_type": "stream",
          "name": "stderr",
          "text": [
            "\r 66%|██████▌   | 552/836 [11:42<05:57,  1.26s/it]"
          ]
        },
        {
          "output_type": "stream",
          "name": "stdout",
          "text": [
            "/content/drive/MyDrive/CS376/music_src/audionautix/mtat/npy/OphelieasBlues.npy\n"
          ]
        },
        {
          "output_type": "stream",
          "name": "stderr",
          "text": [
            "\r 66%|██████▌   | 553/836 [11:44<05:55,  1.26s/it]"
          ]
        },
        {
          "output_type": "stream",
          "name": "stdout",
          "text": [
            "/content/drive/MyDrive/CS376/music_src/audionautix/mtat/npy/Atlantis_58_87.npy\n"
          ]
        },
        {
          "output_type": "stream",
          "name": "stderr",
          "text": [
            "\r 66%|██████▋   | 554/836 [11:45<05:54,  1.26s/it]"
          ]
        },
        {
          "output_type": "stream",
          "name": "stdout",
          "text": [
            "/content/drive/MyDrive/CS376/music_src/audionautix/mtat/npy/Namaste_58_87.npy\n"
          ]
        },
        {
          "output_type": "stream",
          "name": "stderr",
          "text": [
            "\r 66%|██████▋   | 555/836 [11:46<05:54,  1.26s/it]"
          ]
        },
        {
          "output_type": "stream",
          "name": "stdout",
          "text": [
            "/content/drive/MyDrive/CS376/music_src/audionautix/mtat/npy/BoogieWoogieBed_58_87.npy\n"
          ]
        },
        {
          "output_type": "stream",
          "name": "stderr",
          "text": [
            "\r 67%|██████▋   | 556/836 [11:47<05:54,  1.27s/it]"
          ]
        },
        {
          "output_type": "stream",
          "name": "stdout",
          "text": [
            "/content/drive/MyDrive/CS376/music_src/audionautix/mtat/npy/BoogieWoogieBed_29_58.npy\n"
          ]
        },
        {
          "output_type": "stream",
          "name": "stderr",
          "text": [
            "\r 67%|██████▋   | 557/836 [11:49<05:52,  1.26s/it]"
          ]
        },
        {
          "output_type": "stream",
          "name": "stdout",
          "text": [
            "/content/drive/MyDrive/CS376/music_src/audionautix/mtat/npy/Plantation_58_87.npy\n"
          ]
        },
        {
          "output_type": "stream",
          "name": "stderr",
          "text": [
            "\r 67%|██████▋   | 558/836 [11:50<05:52,  1.27s/it]"
          ]
        },
        {
          "output_type": "stream",
          "name": "stdout",
          "text": [
            "/content/drive/MyDrive/CS376/music_src/audionautix/mtat/npy/Meditation1_29_58.npy\n"
          ]
        },
        {
          "output_type": "stream",
          "name": "stderr",
          "text": [
            "\r 67%|██████▋   | 559/836 [11:51<05:49,  1.26s/it]"
          ]
        },
        {
          "output_type": "stream",
          "name": "stdout",
          "text": [
            "/content/drive/MyDrive/CS376/music_src/audionautix/mtat/npy/AutumnSunset_58_87.npy\n"
          ]
        },
        {
          "output_type": "stream",
          "name": "stderr",
          "text": [
            "\r 67%|██████▋   | 560/836 [11:52<05:48,  1.26s/it]"
          ]
        },
        {
          "output_type": "stream",
          "name": "stdout",
          "text": [
            "/content/drive/MyDrive/CS376/music_src/audionautix/mtat/npy/EpicTVTheme.npy\n"
          ]
        },
        {
          "output_type": "stream",
          "name": "stderr",
          "text": [
            "\r 67%|██████▋   | 561/836 [11:54<05:46,  1.26s/it]"
          ]
        },
        {
          "output_type": "stream",
          "name": "stdout",
          "text": [
            "/content/drive/MyDrive/CS376/music_src/audionautix/mtat/npy/ISawThreeShips_58_87.npy\n"
          ]
        },
        {
          "output_type": "stream",
          "name": "stderr",
          "text": [
            "\r 67%|██████▋   | 562/836 [11:55<05:45,  1.26s/it]"
          ]
        },
        {
          "output_type": "stream",
          "name": "stdout",
          "text": [
            "/content/drive/MyDrive/CS376/music_src/audionautix/mtat/npy/FatCaps_58_87.npy\n"
          ]
        },
        {
          "output_type": "stream",
          "name": "stderr",
          "text": [
            "\r 67%|██████▋   | 563/836 [11:56<05:43,  1.26s/it]"
          ]
        },
        {
          "output_type": "stream",
          "name": "stdout",
          "text": [
            "/content/drive/MyDrive/CS376/music_src/audionautix/mtat/npy/InMotion_29_58.npy\n"
          ]
        },
        {
          "output_type": "stream",
          "name": "stderr",
          "text": [
            "\r 67%|██████▋   | 564/836 [11:57<05:43,  1.26s/it]"
          ]
        },
        {
          "output_type": "stream",
          "name": "stdout",
          "text": [
            "/content/drive/MyDrive/CS376/music_src/audionautix/mtat/npy/MediumRock_29_58.npy\n"
          ]
        },
        {
          "output_type": "stream",
          "name": "stderr",
          "text": [
            "\r 68%|██████▊   | 565/836 [11:59<05:55,  1.31s/it]"
          ]
        },
        {
          "output_type": "stream",
          "name": "stdout",
          "text": [
            "/content/drive/MyDrive/CS376/music_src/audionautix/mtat/npy/SunriseOnMars_29_58.npy\n"
          ]
        },
        {
          "output_type": "stream",
          "name": "stderr",
          "text": [
            "\r 68%|██████▊   | 566/836 [12:01<06:29,  1.44s/it]"
          ]
        },
        {
          "output_type": "stream",
          "name": "stdout",
          "text": [
            "/content/drive/MyDrive/CS376/music_src/audionautix/mtat/npy/Don'tStop_58_87.npy\n"
          ]
        },
        {
          "output_type": "stream",
          "name": "stderr",
          "text": [
            "\r 68%|██████▊   | 567/836 [12:02<06:45,  1.51s/it]"
          ]
        },
        {
          "output_type": "stream",
          "name": "stdout",
          "text": [
            "/content/drive/MyDrive/CS376/music_src/audionautix/mtat/npy/TheAngelsWeep_58_87.npy\n"
          ]
        },
        {
          "output_type": "stream",
          "name": "stderr",
          "text": [
            "\r 68%|██████▊   | 568/836 [12:04<07:19,  1.64s/it]"
          ]
        },
        {
          "output_type": "stream",
          "name": "stdout",
          "text": [
            "/content/drive/MyDrive/CS376/music_src/audionautix/mtat/npy/ABrighterHeart_29_58.npy\n"
          ]
        },
        {
          "output_type": "stream",
          "name": "stderr",
          "text": [
            "\r 68%|██████▊   | 569/836 [12:06<07:02,  1.58s/it]"
          ]
        },
        {
          "output_type": "stream",
          "name": "stdout",
          "text": [
            "/content/drive/MyDrive/CS376/music_src/audionautix/mtat/npy/CopAFeel_29_58.npy\n"
          ]
        },
        {
          "output_type": "stream",
          "name": "stderr",
          "text": [
            "\r 68%|██████▊   | 570/836 [12:07<06:38,  1.50s/it]"
          ]
        },
        {
          "output_type": "stream",
          "name": "stdout",
          "text": [
            "/content/drive/MyDrive/CS376/music_src/audionautix/mtat/npy/HiFiBrutality.npy\n"
          ]
        },
        {
          "output_type": "stream",
          "name": "stderr",
          "text": [
            "\r 68%|██████▊   | 571/836 [12:08<06:18,  1.43s/it]"
          ]
        },
        {
          "output_type": "stream",
          "name": "stdout",
          "text": [
            "/content/drive/MyDrive/CS376/music_src/audionautix/mtat/npy/Words_58_87.npy\n"
          ]
        },
        {
          "output_type": "stream",
          "name": "stderr",
          "text": [
            "\r 68%|██████▊   | 572/836 [12:10<06:09,  1.40s/it]"
          ]
        },
        {
          "output_type": "stream",
          "name": "stdout",
          "text": [
            "/content/drive/MyDrive/CS376/music_src/audionautix/mtat/npy/Boom.npy\n"
          ]
        },
        {
          "output_type": "stream",
          "name": "stderr",
          "text": [
            "\r 69%|██████▊   | 573/836 [12:11<05:59,  1.37s/it]"
          ]
        },
        {
          "output_type": "stream",
          "name": "stdout",
          "text": [
            "/content/drive/MyDrive/CS376/music_src/audionautix/mtat/npy/GreekDance_58_87.npy\n"
          ]
        },
        {
          "output_type": "stream",
          "name": "stderr",
          "text": [
            "\r 69%|██████▊   | 574/836 [12:12<05:52,  1.35s/it]"
          ]
        },
        {
          "output_type": "stream",
          "name": "stdout",
          "text": [
            "/content/drive/MyDrive/CS376/music_src/audionautix/mtat/npy/ProgressiveRock_29_58.npy\n"
          ]
        },
        {
          "output_type": "stream",
          "name": "stderr",
          "text": [
            "\r 69%|██████▉   | 575/836 [12:13<05:47,  1.33s/it]"
          ]
        },
        {
          "output_type": "stream",
          "name": "stdout",
          "text": [
            "/content/drive/MyDrive/CS376/music_src/audionautix/mtat/npy/ThePlumbersRag_29_58.npy\n"
          ]
        },
        {
          "output_type": "stream",
          "name": "stderr",
          "text": [
            "\r 69%|██████▉   | 576/836 [12:15<05:43,  1.32s/it]"
          ]
        },
        {
          "output_type": "stream",
          "name": "stdout",
          "text": [
            "/content/drive/MyDrive/CS376/music_src/audionautix/mtat/npy/AmazingGrace_29_58.npy\n"
          ]
        },
        {
          "output_type": "stream",
          "name": "stderr",
          "text": [
            "\r 69%|██████▉   | 577/836 [12:16<05:41,  1.32s/it]"
          ]
        },
        {
          "output_type": "stream",
          "name": "stdout",
          "text": [
            "/content/drive/MyDrive/CS376/music_src/audionautix/mtat/npy/Yeah.npy\n"
          ]
        },
        {
          "output_type": "stream",
          "name": "stderr",
          "text": [
            "\r 69%|██████▉   | 578/836 [12:17<05:40,  1.32s/it]"
          ]
        },
        {
          "output_type": "stream",
          "name": "stdout",
          "text": [
            "/content/drive/MyDrive/CS376/music_src/audionautix/mtat/npy/MallWalker_29_58.npy\n"
          ]
        },
        {
          "output_type": "stream",
          "name": "stderr",
          "text": [
            "\r 69%|██████▉   | 579/836 [12:19<05:39,  1.32s/it]"
          ]
        },
        {
          "output_type": "stream",
          "name": "stdout",
          "text": [
            "/content/drive/MyDrive/CS376/music_src/audionautix/mtat/npy/EcstasyX.npy\n"
          ]
        },
        {
          "output_type": "stream",
          "name": "stderr",
          "text": [
            "\r 69%|██████▉   | 580/836 [12:20<05:38,  1.32s/it]"
          ]
        },
        {
          "output_type": "stream",
          "name": "stdout",
          "text": [
            "/content/drive/MyDrive/CS376/music_src/audionautix/mtat/npy/BlackFly.npy\n"
          ]
        },
        {
          "output_type": "stream",
          "name": "stderr",
          "text": [
            "\r 69%|██████▉   | 581/836 [12:21<05:38,  1.33s/it]"
          ]
        },
        {
          "output_type": "stream",
          "name": "stdout",
          "text": [
            "/content/drive/MyDrive/CS376/music_src/audionautix/mtat/npy/ClowningAround_58_87.npy\n"
          ]
        },
        {
          "output_type": "stream",
          "name": "stderr",
          "text": [
            "\r 70%|██████▉   | 582/836 [12:23<05:34,  1.32s/it]"
          ]
        },
        {
          "output_type": "stream",
          "name": "stdout",
          "text": [
            "/content/drive/MyDrive/CS376/music_src/audionautix/mtat/npy/BoxcarRag.npy\n"
          ]
        },
        {
          "output_type": "stream",
          "name": "stderr",
          "text": [
            "\r 70%|██████▉   | 583/836 [12:24<05:32,  1.31s/it]"
          ]
        },
        {
          "output_type": "stream",
          "name": "stdout",
          "text": [
            "/content/drive/MyDrive/CS376/music_src/audionautix/mtat/npy/AMomentsReflection_29_58.npy\n"
          ]
        },
        {
          "output_type": "stream",
          "name": "stderr",
          "text": [
            "\r 70%|██████▉   | 584/836 [12:25<05:29,  1.31s/it]"
          ]
        },
        {
          "output_type": "stream",
          "name": "stdout",
          "text": [
            "/content/drive/MyDrive/CS376/music_src/audionautix/mtat/npy/GroovyBaby.npy\n"
          ]
        },
        {
          "output_type": "stream",
          "name": "stderr",
          "text": [
            "\r 70%|██████▉   | 585/836 [12:27<05:27,  1.30s/it]"
          ]
        },
        {
          "output_type": "stream",
          "name": "stdout",
          "text": [
            "/content/drive/MyDrive/CS376/music_src/audionautix/mtat/npy/Don'tStop.npy\n"
          ]
        },
        {
          "output_type": "stream",
          "name": "stderr",
          "text": [
            "\r 70%|███████   | 586/836 [12:28<05:27,  1.31s/it]"
          ]
        },
        {
          "output_type": "stream",
          "name": "stdout",
          "text": [
            "/content/drive/MyDrive/CS376/music_src/audionautix/mtat/npy/Ohm_58_87.npy\n"
          ]
        },
        {
          "output_type": "stream",
          "name": "stderr",
          "text": [
            "\r 70%|███████   | 587/836 [12:29<05:29,  1.32s/it]"
          ]
        },
        {
          "output_type": "stream",
          "name": "stdout",
          "text": [
            "/content/drive/MyDrive/CS376/music_src/audionautix/mtat/npy/HeavyAction.npy\n"
          ]
        },
        {
          "output_type": "stream",
          "name": "stderr",
          "text": [
            "\r 70%|███████   | 588/836 [12:31<05:28,  1.32s/it]"
          ]
        },
        {
          "output_type": "stream",
          "name": "stdout",
          "text": [
            "/content/drive/MyDrive/CS376/music_src/audionautix/mtat/npy/DownTheWay.npy\n"
          ]
        },
        {
          "output_type": "stream",
          "name": "stderr",
          "text": [
            "\r 70%|███████   | 589/836 [12:32<05:25,  1.32s/it]"
          ]
        },
        {
          "output_type": "stream",
          "name": "stdout",
          "text": [
            "/content/drive/MyDrive/CS376/music_src/audionautix/mtat/npy/AcousticRock.npy\n"
          ]
        },
        {
          "output_type": "stream",
          "name": "stderr",
          "text": [
            "\r 71%|███████   | 590/836 [12:33<05:25,  1.32s/it]"
          ]
        },
        {
          "output_type": "stream",
          "name": "stdout",
          "text": [
            "/content/drive/MyDrive/CS376/music_src/audionautix/mtat/npy/Thump_58_87.npy\n"
          ]
        },
        {
          "output_type": "stream",
          "name": "stderr",
          "text": [
            "\r 71%|███████   | 591/836 [12:35<05:25,  1.33s/it]"
          ]
        },
        {
          "output_type": "stream",
          "name": "stdout",
          "text": [
            "/content/drive/MyDrive/CS376/music_src/audionautix/mtat/npy/AcousticBlues_29_58.npy\n"
          ]
        },
        {
          "output_type": "stream",
          "name": "stderr",
          "text": [
            "\r 71%|███████   | 592/836 [12:36<05:22,  1.32s/it]"
          ]
        },
        {
          "output_type": "stream",
          "name": "stdout",
          "text": [
            "/content/drive/MyDrive/CS376/music_src/audionautix/mtat/npy/Jellyfish_29_58.npy\n"
          ]
        },
        {
          "output_type": "stream",
          "name": "stderr",
          "text": [
            "\r 71%|███████   | 593/836 [12:37<05:21,  1.32s/it]"
          ]
        },
        {
          "output_type": "stream",
          "name": "stdout",
          "text": [
            "/content/drive/MyDrive/CS376/music_src/audionautix/mtat/npy/FeelsGood2B_29_58.npy\n"
          ]
        },
        {
          "output_type": "stream",
          "name": "stderr",
          "text": [
            "\r 71%|███████   | 594/836 [12:39<05:19,  1.32s/it]"
          ]
        },
        {
          "output_type": "stream",
          "name": "stdout",
          "text": [
            "/content/drive/MyDrive/CS376/music_src/audionautix/mtat/npy/SummerHeat.npy\n"
          ]
        },
        {
          "output_type": "stream",
          "name": "stderr",
          "text": [
            "\r 71%|███████   | 595/836 [12:40<05:14,  1.30s/it]"
          ]
        },
        {
          "output_type": "stream",
          "name": "stdout",
          "text": [
            "/content/drive/MyDrive/CS376/music_src/audionautix/mtat/npy/SportsAction_58_87.npy\n"
          ]
        },
        {
          "output_type": "stream",
          "name": "stderr",
          "text": [
            "\r 71%|███████▏  | 596/836 [12:41<05:12,  1.30s/it]"
          ]
        },
        {
          "output_type": "stream",
          "name": "stdout",
          "text": [
            "/content/drive/MyDrive/CS376/music_src/audionautix/mtat/npy/ClowningAround.npy\n"
          ]
        },
        {
          "output_type": "stream",
          "name": "stderr",
          "text": [
            "\r 71%|███████▏  | 597/836 [12:42<05:09,  1.30s/it]"
          ]
        },
        {
          "output_type": "stream",
          "name": "stdout",
          "text": [
            "/content/drive/MyDrive/CS376/music_src/audionautix/mtat/npy/TurnUpTheWatts.npy\n"
          ]
        },
        {
          "output_type": "stream",
          "name": "stderr",
          "text": [
            "\r 72%|███████▏  | 598/836 [12:44<05:08,  1.30s/it]"
          ]
        },
        {
          "output_type": "stream",
          "name": "stdout",
          "text": [
            "/content/drive/MyDrive/CS376/music_src/audionautix/mtat/npy/NiceAndEasy.npy\n"
          ]
        },
        {
          "output_type": "stream",
          "name": "stderr",
          "text": [
            "\r 72%|███████▏  | 599/836 [12:45<05:07,  1.30s/it]"
          ]
        },
        {
          "output_type": "stream",
          "name": "stdout",
          "text": [
            "/content/drive/MyDrive/CS376/music_src/audionautix/mtat/npy/Somber_58_87.npy\n"
          ]
        },
        {
          "output_type": "stream",
          "name": "stderr",
          "text": [
            "\r 72%|███████▏  | 600/836 [12:46<05:05,  1.30s/it]"
          ]
        },
        {
          "output_type": "stream",
          "name": "stdout",
          "text": [
            "/content/drive/MyDrive/CS376/music_src/audionautix/mtat/npy/PensivePiano_29_58.npy\n"
          ]
        },
        {
          "output_type": "stream",
          "name": "stderr",
          "text": [
            "\r 72%|███████▏  | 601/836 [12:48<05:04,  1.30s/it]"
          ]
        },
        {
          "output_type": "stream",
          "name": "stdout",
          "text": [
            "/content/drive/MyDrive/CS376/music_src/audionautix/mtat/npy/AcousticMeditation2.npy\n"
          ]
        },
        {
          "output_type": "stream",
          "name": "stderr",
          "text": [
            "\r 72%|███████▏  | 602/836 [12:49<05:05,  1.31s/it]"
          ]
        },
        {
          "output_type": "stream",
          "name": "stdout",
          "text": [
            "/content/drive/MyDrive/CS376/music_src/audionautix/mtat/npy/TheHunter.npy\n"
          ]
        },
        {
          "output_type": "stream",
          "name": "stderr",
          "text": [
            "\r 72%|███████▏  | 603/836 [12:50<05:02,  1.30s/it]"
          ]
        },
        {
          "output_type": "stream",
          "name": "stdout",
          "text": [
            "/content/drive/MyDrive/CS376/music_src/audionautix/mtat/npy/Macaroon5_29_58.npy\n"
          ]
        },
        {
          "output_type": "stream",
          "name": "stderr",
          "text": [
            "\r 72%|███████▏  | 604/836 [12:51<05:00,  1.30s/it]"
          ]
        },
        {
          "output_type": "stream",
          "name": "stdout",
          "text": [
            "/content/drive/MyDrive/CS376/music_src/audionautix/mtat/npy/Johanna.npy\n"
          ]
        },
        {
          "output_type": "stream",
          "name": "stderr",
          "text": [
            "\r 72%|███████▏  | 605/836 [12:53<04:57,  1.29s/it]"
          ]
        },
        {
          "output_type": "stream",
          "name": "stdout",
          "text": [
            "/content/drive/MyDrive/CS376/music_src/audionautix/mtat/npy/RedwoodHighway_29_58.npy\n"
          ]
        },
        {
          "output_type": "stream",
          "name": "stderr",
          "text": [
            "\r 72%|███████▏  | 606/836 [12:54<04:54,  1.28s/it]"
          ]
        },
        {
          "output_type": "stream",
          "name": "stdout",
          "text": [
            "/content/drive/MyDrive/CS376/music_src/audionautix/mtat/npy/DogHouse_58_87.npy\n"
          ]
        },
        {
          "output_type": "stream",
          "name": "stderr",
          "text": [
            "\r 73%|███████▎  | 607/836 [12:55<04:52,  1.28s/it]"
          ]
        },
        {
          "output_type": "stream",
          "name": "stdout",
          "text": [
            "/content/drive/MyDrive/CS376/music_src/audionautix/mtat/npy/Yeah_58_87.npy\n"
          ]
        },
        {
          "output_type": "stream",
          "name": "stderr",
          "text": [
            "\r 73%|███████▎  | 608/836 [12:57<04:50,  1.27s/it]"
          ]
        },
        {
          "output_type": "stream",
          "name": "stdout",
          "text": [
            "/content/drive/MyDrive/CS376/music_src/audionautix/mtat/npy/Assasins_29_58.npy\n"
          ]
        },
        {
          "output_type": "stream",
          "name": "stderr",
          "text": [
            "\r 73%|███████▎  | 609/836 [12:58<04:47,  1.27s/it]"
          ]
        },
        {
          "output_type": "stream",
          "name": "stdout",
          "text": [
            "/content/drive/MyDrive/CS376/music_src/audionautix/mtat/npy/FeelGoodFeel.npy\n"
          ]
        },
        {
          "output_type": "stream",
          "name": "stderr",
          "text": [
            "\r 73%|███████▎  | 610/836 [12:59<04:48,  1.28s/it]"
          ]
        },
        {
          "output_type": "stream",
          "name": "stdout",
          "text": [
            "/content/drive/MyDrive/CS376/music_src/audionautix/mtat/npy/OceanFloor_58_87.npy\n"
          ]
        },
        {
          "output_type": "stream",
          "name": "stderr",
          "text": [
            "\r 73%|███████▎  | 611/836 [13:00<04:47,  1.28s/it]"
          ]
        },
        {
          "output_type": "stream",
          "name": "stdout",
          "text": [
            "/content/drive/MyDrive/CS376/music_src/audionautix/mtat/npy/2ABOVEZERO_58_87.npy\n"
          ]
        },
        {
          "output_type": "stream",
          "name": "stderr",
          "text": [
            "\r 73%|███████▎  | 612/836 [13:02<04:45,  1.27s/it]"
          ]
        },
        {
          "output_type": "stream",
          "name": "stdout",
          "text": [
            "/content/drive/MyDrive/CS376/music_src/audionautix/mtat/npy/Clouds_58_87.npy\n"
          ]
        },
        {
          "output_type": "stream",
          "name": "stderr",
          "text": [
            "\r 73%|███████▎  | 613/836 [13:03<04:42,  1.27s/it]"
          ]
        },
        {
          "output_type": "stream",
          "name": "stdout",
          "text": [
            "/content/drive/MyDrive/CS376/music_src/audionautix/mtat/npy/ColdMorning_29_58.npy\n"
          ]
        },
        {
          "output_type": "stream",
          "name": "stderr",
          "text": [
            "\r 73%|███████▎  | 614/836 [13:04<04:41,  1.27s/it]"
          ]
        },
        {
          "output_type": "stream",
          "name": "stdout",
          "text": [
            "/content/drive/MyDrive/CS376/music_src/audionautix/mtat/npy/GoNotGently.npy\n"
          ]
        },
        {
          "output_type": "stream",
          "name": "stderr",
          "text": [
            "\r 74%|███████▎  | 615/836 [13:05<04:39,  1.26s/it]"
          ]
        },
        {
          "output_type": "stream",
          "name": "stdout",
          "text": [
            "/content/drive/MyDrive/CS376/music_src/audionautix/mtat/npy/BeautifulDaughter.npy\n"
          ]
        },
        {
          "output_type": "stream",
          "name": "stderr",
          "text": [
            "\r 74%|███████▎  | 616/836 [13:07<04:37,  1.26s/it]"
          ]
        },
        {
          "output_type": "stream",
          "name": "stdout",
          "text": [
            "/content/drive/MyDrive/CS376/music_src/audionautix/mtat/npy/Cycles_29_58.npy\n"
          ]
        },
        {
          "output_type": "stream",
          "name": "stderr",
          "text": [
            "\r 74%|███████▍  | 617/836 [13:08<04:37,  1.27s/it]"
          ]
        },
        {
          "output_type": "stream",
          "name": "stdout",
          "text": [
            "/content/drive/MyDrive/CS376/music_src/audionautix/mtat/npy/Assasins_58_87.npy\n"
          ]
        },
        {
          "output_type": "stream",
          "name": "stderr",
          "text": [
            "\r 74%|███████▍  | 618/836 [13:09<04:36,  1.27s/it]"
          ]
        },
        {
          "output_type": "stream",
          "name": "stdout",
          "text": [
            "/content/drive/MyDrive/CS376/music_src/audionautix/mtat/npy/TroubledBridges.npy\n"
          ]
        },
        {
          "output_type": "stream",
          "name": "stderr",
          "text": [
            "\r 74%|███████▍  | 619/836 [13:10<04:34,  1.27s/it]"
          ]
        },
        {
          "output_type": "stream",
          "name": "stdout",
          "text": [
            "/content/drive/MyDrive/CS376/music_src/audionautix/mtat/npy/SunriseOnMars_58_87.npy\n"
          ]
        },
        {
          "output_type": "stream",
          "name": "stderr",
          "text": [
            "\r 74%|███████▍  | 620/836 [13:12<04:33,  1.27s/it]"
          ]
        },
        {
          "output_type": "stream",
          "name": "stdout",
          "text": [
            "/content/drive/MyDrive/CS376/music_src/audionautix/mtat/npy/MedTempoRock_58_87.npy\n"
          ]
        },
        {
          "output_type": "stream",
          "name": "stderr",
          "text": [
            "\r 74%|███████▍  | 621/836 [13:13<04:32,  1.27s/it]"
          ]
        },
        {
          "output_type": "stream",
          "name": "stdout",
          "text": [
            "/content/drive/MyDrive/CS376/music_src/audionautix/mtat/npy/DarkRedWine.npy\n"
          ]
        },
        {
          "output_type": "stream",
          "name": "stderr",
          "text": [
            "\r 74%|███████▍  | 622/836 [13:14<04:31,  1.27s/it]"
          ]
        },
        {
          "output_type": "stream",
          "name": "stdout",
          "text": [
            "/content/drive/MyDrive/CS376/music_src/audionautix/mtat/npy/RP-FightScene_58_87.npy\n"
          ]
        },
        {
          "output_type": "stream",
          "name": "stderr",
          "text": [
            "\r 75%|███████▍  | 623/836 [13:16<04:29,  1.26s/it]"
          ]
        },
        {
          "output_type": "stream",
          "name": "stdout",
          "text": [
            "/content/drive/MyDrive/CS376/music_src/audionautix/mtat/npy/BlackFly_58_87.npy\n"
          ]
        },
        {
          "output_type": "stream",
          "name": "stderr",
          "text": [
            "\r 75%|███████▍  | 624/836 [13:17<04:28,  1.27s/it]"
          ]
        },
        {
          "output_type": "stream",
          "name": "stdout",
          "text": [
            "/content/drive/MyDrive/CS376/music_src/audionautix/mtat/npy/Renaissance_29_58.npy\n"
          ]
        },
        {
          "output_type": "stream",
          "name": "stderr",
          "text": [
            "\r 75%|███████▍  | 625/836 [13:18<04:27,  1.27s/it]"
          ]
        },
        {
          "output_type": "stream",
          "name": "stdout",
          "text": [
            "/content/drive/MyDrive/CS376/music_src/audionautix/mtat/npy/FunkyJunky_29_58.npy\n"
          ]
        },
        {
          "output_type": "stream",
          "name": "stderr",
          "text": [
            "\r 75%|███████▍  | 626/836 [13:19<04:27,  1.28s/it]"
          ]
        },
        {
          "output_type": "stream",
          "name": "stdout",
          "text": [
            "/content/drive/MyDrive/CS376/music_src/audionautix/mtat/npy/HeavyAction_58_87.npy\n"
          ]
        },
        {
          "output_type": "stream",
          "name": "stderr",
          "text": [
            "\r 75%|███████▌  | 627/836 [13:21<04:26,  1.27s/it]"
          ]
        },
        {
          "output_type": "stream",
          "name": "stdout",
          "text": [
            "/content/drive/MyDrive/CS376/music_src/audionautix/mtat/npy/RoadToKilcoo_58_87.npy\n"
          ]
        },
        {
          "output_type": "stream",
          "name": "stderr",
          "text": [
            "\r 75%|███████▌  | 628/836 [13:22<04:24,  1.27s/it]"
          ]
        },
        {
          "output_type": "stream",
          "name": "stdout",
          "text": [
            "/content/drive/MyDrive/CS376/music_src/audionautix/mtat/npy/TriumphantReturn.npy\n"
          ]
        },
        {
          "output_type": "stream",
          "name": "stderr",
          "text": [
            "\r 75%|███████▌  | 629/836 [13:23<04:23,  1.28s/it]"
          ]
        },
        {
          "output_type": "stream",
          "name": "stdout",
          "text": [
            "/content/drive/MyDrive/CS376/music_src/audionautix/mtat/npy/HeadingWest_29_58.npy\n"
          ]
        },
        {
          "output_type": "stream",
          "name": "stderr",
          "text": [
            "\r 75%|███████▌  | 630/836 [13:24<04:22,  1.27s/it]"
          ]
        },
        {
          "output_type": "stream",
          "name": "stdout",
          "text": [
            "/content/drive/MyDrive/CS376/music_src/audionautix/mtat/npy/HarkTheHeraldAngelsSing_29_58.npy\n"
          ]
        },
        {
          "output_type": "stream",
          "name": "stderr",
          "text": [
            "\r 75%|███████▌  | 631/836 [13:26<04:20,  1.27s/it]"
          ]
        },
        {
          "output_type": "stream",
          "name": "stdout",
          "text": [
            "/content/drive/MyDrive/CS376/music_src/audionautix/mtat/npy/TurnUpTheWatts_58_87.npy\n"
          ]
        },
        {
          "output_type": "stream",
          "name": "stderr",
          "text": [
            "\r 76%|███████▌  | 632/836 [13:27<04:18,  1.27s/it]"
          ]
        },
        {
          "output_type": "stream",
          "name": "stdout",
          "text": [
            "/content/drive/MyDrive/CS376/music_src/audionautix/mtat/npy/HappyUkulele_58_87.npy\n"
          ]
        },
        {
          "output_type": "stream",
          "name": "stderr",
          "text": [
            "\r 76%|███████▌  | 633/836 [13:28<04:16,  1.26s/it]"
          ]
        },
        {
          "output_type": "stream",
          "name": "stdout",
          "text": [
            "/content/drive/MyDrive/CS376/music_src/audionautix/mtat/npy/RockYourWorld_58_87.npy\n"
          ]
        },
        {
          "output_type": "stream",
          "name": "stderr",
          "text": [
            "\r 76%|███████▌  | 634/836 [13:30<04:17,  1.27s/it]"
          ]
        },
        {
          "output_type": "stream",
          "name": "stdout",
          "text": [
            "/content/drive/MyDrive/CS376/music_src/audionautix/mtat/npy/DubstepLight_29_58.npy\n"
          ]
        },
        {
          "output_type": "stream",
          "name": "stderr",
          "text": [
            "\r 76%|███████▌  | 635/836 [13:31<04:15,  1.27s/it]"
          ]
        },
        {
          "output_type": "stream",
          "name": "stdout",
          "text": [
            "/content/drive/MyDrive/CS376/music_src/audionautix/mtat/npy/BustinLoose_58_87.npy\n"
          ]
        },
        {
          "output_type": "stream",
          "name": "stderr",
          "text": [
            "\r 76%|███████▌  | 636/836 [13:32<04:14,  1.27s/it]"
          ]
        },
        {
          "output_type": "stream",
          "name": "stdout",
          "text": [
            "/content/drive/MyDrive/CS376/music_src/audionautix/mtat/npy/RedwoodHighway.npy\n"
          ]
        },
        {
          "output_type": "stream",
          "name": "stderr",
          "text": [
            "\r 76%|███████▌  | 637/836 [13:33<04:11,  1.27s/it]"
          ]
        },
        {
          "output_type": "stream",
          "name": "stdout",
          "text": [
            "/content/drive/MyDrive/CS376/music_src/audionautix/mtat/npy/SunriseOnMars.npy\n"
          ]
        },
        {
          "output_type": "stream",
          "name": "stderr",
          "text": [
            "\r 76%|███████▋  | 638/836 [13:35<04:10,  1.26s/it]"
          ]
        },
        {
          "output_type": "stream",
          "name": "stdout",
          "text": [
            "/content/drive/MyDrive/CS376/music_src/audionautix/mtat/npy/TropicalContact.npy\n"
          ]
        },
        {
          "output_type": "stream",
          "name": "stderr",
          "text": [
            "\r 76%|███████▋  | 639/836 [13:36<04:08,  1.26s/it]"
          ]
        },
        {
          "output_type": "stream",
          "name": "stdout",
          "text": [
            "/content/drive/MyDrive/CS376/music_src/audionautix/mtat/npy/RightOnRedFull.npy\n"
          ]
        },
        {
          "output_type": "stream",
          "name": "stderr",
          "text": [
            "\r 77%|███████▋  | 640/836 [13:37<04:06,  1.26s/it]"
          ]
        },
        {
          "output_type": "stream",
          "name": "stdout",
          "text": [
            "/content/drive/MyDrive/CS376/music_src/audionautix/mtat/npy/BlackFly_29_58.npy\n"
          ]
        },
        {
          "output_type": "stream",
          "name": "stderr",
          "text": [
            "\r 77%|███████▋  | 641/836 [13:38<04:04,  1.26s/it]"
          ]
        },
        {
          "output_type": "stream",
          "name": "stdout",
          "text": [
            "/content/drive/MyDrive/CS376/music_src/audionautix/mtat/npy/LightningBugs_29_58.npy\n"
          ]
        },
        {
          "output_type": "stream",
          "name": "stderr",
          "text": [
            "\r 77%|███████▋  | 642/836 [13:40<04:04,  1.26s/it]"
          ]
        },
        {
          "output_type": "stream",
          "name": "stdout",
          "text": [
            "/content/drive/MyDrive/CS376/music_src/audionautix/mtat/npy/AMomentsReflection_58_87.npy\n"
          ]
        },
        {
          "output_type": "stream",
          "name": "stderr",
          "text": [
            "\r 77%|███████▋  | 643/836 [13:41<04:03,  1.26s/it]"
          ]
        },
        {
          "output_type": "stream",
          "name": "stdout",
          "text": [
            "/content/drive/MyDrive/CS376/music_src/audionautix/mtat/npy/HighTension_29_58.npy\n"
          ]
        },
        {
          "output_type": "stream",
          "name": "stderr",
          "text": [
            "\r 77%|███████▋  | 644/836 [13:42<04:02,  1.26s/it]"
          ]
        },
        {
          "output_type": "stream",
          "name": "stdout",
          "text": [
            "/content/drive/MyDrive/CS376/music_src/audionautix/mtat/npy/RP-FightScene.npy\n"
          ]
        },
        {
          "output_type": "stream",
          "name": "stderr",
          "text": [
            "\r 77%|███████▋  | 645/836 [13:43<04:00,  1.26s/it]"
          ]
        },
        {
          "output_type": "stream",
          "name": "stdout",
          "text": [
            "/content/drive/MyDrive/CS376/music_src/audionautix/mtat/npy/AcousticGuitar1_29_58.npy\n"
          ]
        },
        {
          "output_type": "stream",
          "name": "stderr",
          "text": [
            "\r 77%|███████▋  | 646/836 [13:45<03:59,  1.26s/it]"
          ]
        },
        {
          "output_type": "stream",
          "name": "stdout",
          "text": [
            "/content/drive/MyDrive/CS376/music_src/audionautix/mtat/npy/SportsAction_29_58.npy\n"
          ]
        },
        {
          "output_type": "stream",
          "name": "stderr",
          "text": [
            "\r 77%|███████▋  | 647/836 [13:46<03:59,  1.27s/it]"
          ]
        },
        {
          "output_type": "stream",
          "name": "stdout",
          "text": [
            "/content/drive/MyDrive/CS376/music_src/audionautix/mtat/npy/VanishingHorizon_58_87.npy\n"
          ]
        },
        {
          "output_type": "stream",
          "name": "stderr",
          "text": [
            "\r 78%|███████▊  | 648/836 [13:47<04:03,  1.29s/it]"
          ]
        },
        {
          "output_type": "stream",
          "name": "stdout",
          "text": [
            "/content/drive/MyDrive/CS376/music_src/audionautix/mtat/npy/WhatWouldIGive.npy\n"
          ]
        },
        {
          "output_type": "stream",
          "name": "stderr",
          "text": [
            "\r 78%|███████▊  | 649/836 [13:49<04:01,  1.29s/it]"
          ]
        },
        {
          "output_type": "stream",
          "name": "stdout",
          "text": [
            "/content/drive/MyDrive/CS376/music_src/audionautix/mtat/npy/Triangle.npy\n"
          ]
        },
        {
          "output_type": "stream",
          "name": "stderr",
          "text": [
            "\r 78%|███████▊  | 650/836 [13:50<04:05,  1.32s/it]"
          ]
        },
        {
          "output_type": "stream",
          "name": "stdout",
          "text": [
            "/content/drive/MyDrive/CS376/music_src/audionautix/mtat/npy/CloserToJazz_29_58.npy\n"
          ]
        },
        {
          "output_type": "stream",
          "name": "stderr",
          "text": [
            "\r 78%|███████▊  | 651/836 [13:51<04:02,  1.31s/it]"
          ]
        },
        {
          "output_type": "stream",
          "name": "stdout",
          "text": [
            "/content/drive/MyDrive/CS376/music_src/audionautix/mtat/npy/EmilyWalksAway_29_58.npy\n"
          ]
        },
        {
          "output_type": "stream",
          "name": "stderr",
          "text": [
            "\r 78%|███████▊  | 652/836 [13:53<04:03,  1.32s/it]"
          ]
        },
        {
          "output_type": "stream",
          "name": "stdout",
          "text": [
            "/content/drive/MyDrive/CS376/music_src/audionautix/mtat/npy/WheelOfKarma.npy\n"
          ]
        },
        {
          "output_type": "stream",
          "name": "stderr",
          "text": [
            "\r 78%|███████▊  | 653/836 [13:54<04:01,  1.32s/it]"
          ]
        },
        {
          "output_type": "stream",
          "name": "stdout",
          "text": [
            "/content/drive/MyDrive/CS376/music_src/audionautix/mtat/npy/HardBounce.npy\n"
          ]
        },
        {
          "output_type": "stream",
          "name": "stderr",
          "text": [
            "\r 78%|███████▊  | 654/836 [13:55<03:58,  1.31s/it]"
          ]
        },
        {
          "output_type": "stream",
          "name": "stdout",
          "text": [
            "/content/drive/MyDrive/CS376/music_src/audionautix/mtat/npy/AcousticRock_58_87.npy\n"
          ]
        },
        {
          "output_type": "stream",
          "name": "stderr",
          "text": [
            "\r 78%|███████▊  | 655/836 [13:56<03:54,  1.29s/it]"
          ]
        },
        {
          "output_type": "stream",
          "name": "stdout",
          "text": [
            "/content/drive/MyDrive/CS376/music_src/audionautix/mtat/npy/NiceAndEasy_29_58.npy\n"
          ]
        },
        {
          "output_type": "stream",
          "name": "stderr",
          "text": [
            "\r 78%|███████▊  | 656/836 [13:58<03:51,  1.28s/it]"
          ]
        },
        {
          "output_type": "stream",
          "name": "stdout",
          "text": [
            "/content/drive/MyDrive/CS376/music_src/audionautix/mtat/npy/StandardJazzBars_58_87.npy\n"
          ]
        },
        {
          "output_type": "stream",
          "name": "stderr",
          "text": [
            "\r 79%|███████▊  | 657/836 [13:59<03:49,  1.28s/it]"
          ]
        },
        {
          "output_type": "stream",
          "name": "stdout",
          "text": [
            "/content/drive/MyDrive/CS376/music_src/audionautix/mtat/npy/90SecondsOfFunk_58_87.npy\n"
          ]
        },
        {
          "output_type": "stream",
          "name": "stderr",
          "text": [
            "\r 79%|███████▊  | 658/836 [14:00<03:48,  1.28s/it]"
          ]
        },
        {
          "output_type": "stream",
          "name": "stdout",
          "text": [
            "/content/drive/MyDrive/CS376/music_src/audionautix/mtat/npy/Lexicon_58_87.npy\n"
          ]
        },
        {
          "output_type": "stream",
          "name": "stderr",
          "text": [
            "\r 79%|███████▉  | 659/836 [14:02<03:46,  1.28s/it]"
          ]
        },
        {
          "output_type": "stream",
          "name": "stdout",
          "text": [
            "/content/drive/MyDrive/CS376/music_src/audionautix/mtat/npy/SmellsLikeGrunge.npy\n"
          ]
        },
        {
          "output_type": "stream",
          "name": "stderr",
          "text": [
            "\r 79%|███████▉  | 660/836 [14:03<03:45,  1.28s/it]"
          ]
        },
        {
          "output_type": "stream",
          "name": "stdout",
          "text": [
            "/content/drive/MyDrive/CS376/music_src/audionautix/mtat/npy/InnerJourney.npy\n"
          ]
        },
        {
          "output_type": "stream",
          "name": "stderr",
          "text": [
            "\r 79%|███████▉  | 661/836 [14:04<03:42,  1.27s/it]"
          ]
        },
        {
          "output_type": "stream",
          "name": "stdout",
          "text": [
            "/content/drive/MyDrive/CS376/music_src/audionautix/mtat/npy/LazyDay_29_58.npy\n"
          ]
        },
        {
          "output_type": "stream",
          "name": "stderr",
          "text": [
            "\r 79%|███████▉  | 662/836 [14:05<03:41,  1.27s/it]"
          ]
        },
        {
          "output_type": "stream",
          "name": "stdout",
          "text": [
            "/content/drive/MyDrive/CS376/music_src/audionautix/mtat/npy/PennyWhistle_29_58.npy\n"
          ]
        },
        {
          "output_type": "stream",
          "name": "stderr",
          "text": [
            "\r 79%|███████▉  | 663/836 [14:07<03:38,  1.26s/it]"
          ]
        },
        {
          "output_type": "stream",
          "name": "stdout",
          "text": [
            "/content/drive/MyDrive/CS376/music_src/audionautix/mtat/npy/ABrighterHeart.npy\n"
          ]
        },
        {
          "output_type": "stream",
          "name": "stderr",
          "text": [
            "\r 79%|███████▉  | 664/836 [14:08<03:37,  1.27s/it]"
          ]
        },
        {
          "output_type": "stream",
          "name": "stdout",
          "text": [
            "/content/drive/MyDrive/CS376/music_src/audionautix/mtat/npy/OpusOne_58_87.npy\n"
          ]
        },
        {
          "output_type": "stream",
          "name": "stderr",
          "text": [
            "\r 80%|███████▉  | 665/836 [14:09<03:38,  1.28s/it]"
          ]
        },
        {
          "output_type": "stream",
          "name": "stdout",
          "text": [
            "/content/drive/MyDrive/CS376/music_src/audionautix/mtat/npy/LegendsOfTheRiver_58_87.npy\n"
          ]
        },
        {
          "output_type": "stream",
          "name": "stderr",
          "text": [
            "\r 80%|███████▉  | 666/836 [14:10<03:36,  1.27s/it]"
          ]
        },
        {
          "output_type": "stream",
          "name": "stdout",
          "text": [
            "/content/drive/MyDrive/CS376/music_src/audionautix/mtat/npy/EgyptianCrawl_58_87.npy\n"
          ]
        },
        {
          "output_type": "stream",
          "name": "stderr",
          "text": [
            "\r 80%|███████▉  | 667/836 [14:12<03:36,  1.28s/it]"
          ]
        },
        {
          "output_type": "stream",
          "name": "stdout",
          "text": [
            "/content/drive/MyDrive/CS376/music_src/audionautix/mtat/npy/BigBluesBed_29_58.npy\n"
          ]
        },
        {
          "output_type": "stream",
          "name": "stderr",
          "text": [
            "\r 80%|███████▉  | 668/836 [14:13<03:35,  1.28s/it]"
          ]
        },
        {
          "output_type": "stream",
          "name": "stdout",
          "text": [
            "/content/drive/MyDrive/CS376/music_src/audionautix/mtat/npy/WhatChildIsThis.npy\n"
          ]
        },
        {
          "output_type": "stream",
          "name": "stderr",
          "text": [
            "\r 80%|████████  | 669/836 [14:14<03:34,  1.28s/it]"
          ]
        },
        {
          "output_type": "stream",
          "name": "stdout",
          "text": [
            "/content/drive/MyDrive/CS376/music_src/audionautix/mtat/npy/Top40Rap_58_87.npy\n"
          ]
        },
        {
          "output_type": "stream",
          "name": "stderr",
          "text": [
            "\r 80%|████████  | 670/836 [14:16<03:32,  1.28s/it]"
          ]
        },
        {
          "output_type": "stream",
          "name": "stdout",
          "text": [
            "/content/drive/MyDrive/CS376/music_src/audionautix/mtat/npy/FrontPorchSitter.npy\n"
          ]
        },
        {
          "output_type": "stream",
          "name": "stderr",
          "text": [
            "\r 80%|████████  | 671/836 [14:17<03:30,  1.28s/it]"
          ]
        },
        {
          "output_type": "stream",
          "name": "stdout",
          "text": [
            "/content/drive/MyDrive/CS376/music_src/audionautix/mtat/npy/DubstepLight.npy\n"
          ]
        },
        {
          "output_type": "stream",
          "name": "stderr",
          "text": [
            "\r 80%|████████  | 672/836 [14:18<03:29,  1.28s/it]"
          ]
        },
        {
          "output_type": "stream",
          "name": "stdout",
          "text": [
            "/content/drive/MyDrive/CS376/music_src/audionautix/mtat/npy/TheMaster.npy\n"
          ]
        },
        {
          "output_type": "stream",
          "name": "stderr",
          "text": [
            "\r 81%|████████  | 673/836 [14:19<03:28,  1.28s/it]"
          ]
        },
        {
          "output_type": "stream",
          "name": "stdout",
          "text": [
            "/content/drive/MyDrive/CS376/music_src/audionautix/mtat/npy/IceCold.npy\n"
          ]
        },
        {
          "output_type": "stream",
          "name": "stderr",
          "text": [
            "\r 81%|████████  | 674/836 [14:21<03:26,  1.27s/it]"
          ]
        },
        {
          "output_type": "stream",
          "name": "stdout",
          "text": [
            "/content/drive/MyDrive/CS376/music_src/audionautix/mtat/npy/BirdInHand_29_58.npy\n"
          ]
        },
        {
          "output_type": "stream",
          "name": "stderr",
          "text": [
            "\r 81%|████████  | 675/836 [14:22<03:24,  1.27s/it]"
          ]
        },
        {
          "output_type": "stream",
          "name": "stdout",
          "text": [
            "/content/drive/MyDrive/CS376/music_src/audionautix/mtat/npy/DirtRoadTraveler_58_87.npy\n"
          ]
        },
        {
          "output_type": "stream",
          "name": "stderr",
          "text": [
            "\r 81%|████████  | 676/836 [14:23<03:22,  1.27s/it]"
          ]
        },
        {
          "output_type": "stream",
          "name": "stdout",
          "text": [
            "/content/drive/MyDrive/CS376/music_src/audionautix/mtat/npy/Sk8board_29_58.npy\n"
          ]
        },
        {
          "output_type": "stream",
          "name": "stderr",
          "text": [
            "\r 81%|████████  | 677/836 [14:24<03:20,  1.26s/it]"
          ]
        },
        {
          "output_type": "stream",
          "name": "stdout",
          "text": [
            "/content/drive/MyDrive/CS376/music_src/audionautix/mtat/npy/ActThree_58_87.npy\n"
          ]
        },
        {
          "output_type": "stream",
          "name": "stderr",
          "text": [
            "\r 81%|████████  | 678/836 [14:26<03:19,  1.26s/it]"
          ]
        },
        {
          "output_type": "stream",
          "name": "stdout",
          "text": [
            "/content/drive/MyDrive/CS376/music_src/audionautix/mtat/npy/RightOnRedFull_58_87.npy\n"
          ]
        },
        {
          "output_type": "stream",
          "name": "stderr",
          "text": [
            "\r 81%|████████  | 679/836 [14:27<03:18,  1.26s/it]"
          ]
        },
        {
          "output_type": "stream",
          "name": "stdout",
          "text": [
            "/content/drive/MyDrive/CS376/music_src/audionautix/mtat/npy/HighTension.npy\n"
          ]
        },
        {
          "output_type": "stream",
          "name": "stderr",
          "text": [
            "\r 81%|████████▏ | 680/836 [14:28<03:18,  1.27s/it]"
          ]
        },
        {
          "output_type": "stream",
          "name": "stdout",
          "text": [
            "/content/drive/MyDrive/CS376/music_src/audionautix/mtat/npy/InMotion_58_87.npy\n"
          ]
        },
        {
          "output_type": "stream",
          "name": "stderr",
          "text": [
            "\r 81%|████████▏ | 681/836 [14:30<03:17,  1.28s/it]"
          ]
        },
        {
          "output_type": "stream",
          "name": "stdout",
          "text": [
            "/content/drive/MyDrive/CS376/music_src/audionautix/mtat/npy/Metaphor_29_58.npy\n"
          ]
        },
        {
          "output_type": "stream",
          "name": "stderr",
          "text": [
            "\r 82%|████████▏ | 682/836 [14:31<03:15,  1.27s/it]"
          ]
        },
        {
          "output_type": "stream",
          "name": "stdout",
          "text": [
            "/content/drive/MyDrive/CS376/music_src/audionautix/mtat/npy/Transportation_58_87.npy\n"
          ]
        },
        {
          "output_type": "stream",
          "name": "stderr",
          "text": [
            "\r 82%|████████▏ | 683/836 [14:32<03:14,  1.27s/it]"
          ]
        },
        {
          "output_type": "stream",
          "name": "stdout",
          "text": [
            "/content/drive/MyDrive/CS376/music_src/audionautix/mtat/npy/Assasins.npy\n"
          ]
        },
        {
          "output_type": "stream",
          "name": "stderr",
          "text": [
            "\r 82%|████████▏ | 684/836 [14:33<03:12,  1.27s/it]"
          ]
        },
        {
          "output_type": "stream",
          "name": "stdout",
          "text": [
            "/content/drive/MyDrive/CS376/music_src/audionautix/mtat/npy/WalkInTheParkFull.npy\n"
          ]
        },
        {
          "output_type": "stream",
          "name": "stderr",
          "text": [
            "\r 82%|████████▏ | 685/836 [14:35<03:11,  1.27s/it]"
          ]
        },
        {
          "output_type": "stream",
          "name": "stdout",
          "text": [
            "/content/drive/MyDrive/CS376/music_src/audionautix/mtat/npy/BeforeDawn.npy\n"
          ]
        },
        {
          "output_type": "stream",
          "name": "stderr",
          "text": [
            "\r 82%|████████▏ | 686/836 [14:36<03:09,  1.27s/it]"
          ]
        },
        {
          "output_type": "stream",
          "name": "stdout",
          "text": [
            "/content/drive/MyDrive/CS376/music_src/audionautix/mtat/npy/WalkInTheParkFull_58_87.npy\n"
          ]
        },
        {
          "output_type": "stream",
          "name": "stderr",
          "text": [
            "\r 82%|████████▏ | 687/836 [14:37<03:08,  1.26s/it]"
          ]
        },
        {
          "output_type": "stream",
          "name": "stdout",
          "text": [
            "/content/drive/MyDrive/CS376/music_src/audionautix/mtat/npy/HorrorMusic_58_87.npy\n"
          ]
        },
        {
          "output_type": "stream",
          "name": "stderr",
          "text": [
            "\r 82%|████████▏ | 688/836 [14:38<03:10,  1.29s/it]"
          ]
        },
        {
          "output_type": "stream",
          "name": "stdout",
          "text": [
            "/content/drive/MyDrive/CS376/music_src/audionautix/mtat/npy/BeBop25.npy\n"
          ]
        },
        {
          "output_type": "stream",
          "name": "stderr",
          "text": [
            "\r 82%|████████▏ | 689/836 [14:40<03:09,  1.29s/it]"
          ]
        },
        {
          "output_type": "stream",
          "name": "stdout",
          "text": [
            "/content/drive/MyDrive/CS376/music_src/audionautix/mtat/npy/Plantation.npy\n"
          ]
        },
        {
          "output_type": "stream",
          "name": "stderr",
          "text": [
            "\r 83%|████████▎ | 690/836 [14:41<03:07,  1.28s/it]"
          ]
        },
        {
          "output_type": "stream",
          "name": "stdout",
          "text": [
            "/content/drive/MyDrive/CS376/music_src/audionautix/mtat/npy/PennyWhistle.npy\n"
          ]
        },
        {
          "output_type": "stream",
          "name": "stderr",
          "text": [
            "\r 83%|████████▎ | 691/836 [14:42<03:05,  1.28s/it]"
          ]
        },
        {
          "output_type": "stream",
          "name": "stdout",
          "text": [
            "/content/drive/MyDrive/CS376/music_src/audionautix/mtat/npy/RockEnergy2_58_87.npy\n"
          ]
        },
        {
          "output_type": "stream",
          "name": "stderr",
          "text": [
            "\r 83%|████████▎ | 692/836 [14:44<03:04,  1.28s/it]"
          ]
        },
        {
          "output_type": "stream",
          "name": "stdout",
          "text": [
            "/content/drive/MyDrive/CS376/music_src/audionautix/mtat/npy/FurElise_58_87.npy\n"
          ]
        },
        {
          "output_type": "stream",
          "name": "stderr",
          "text": [
            "\r 83%|████████▎ | 693/836 [14:45<03:02,  1.28s/it]"
          ]
        },
        {
          "output_type": "stream",
          "name": "stdout",
          "text": [
            "/content/drive/MyDrive/CS376/music_src/audionautix/mtat/npy/HarkTheHeraldAngelsEDM_29_58.npy\n"
          ]
        },
        {
          "output_type": "stream",
          "name": "stderr",
          "text": [
            "\r 83%|████████▎ | 694/836 [14:46<03:01,  1.28s/it]"
          ]
        },
        {
          "output_type": "stream",
          "name": "stdout",
          "text": [
            "/content/drive/MyDrive/CS376/music_src/audionautix/mtat/npy/Antarctica_58_87.npy\n"
          ]
        },
        {
          "output_type": "stream",
          "name": "stderr",
          "text": [
            "\r 83%|████████▎ | 695/836 [14:47<02:59,  1.28s/it]"
          ]
        },
        {
          "output_type": "stream",
          "name": "stdout",
          "text": [
            "/content/drive/MyDrive/CS376/music_src/audionautix/mtat/npy/ThePlumbersRag_58_87.npy\n"
          ]
        },
        {
          "output_type": "stream",
          "name": "stderr",
          "text": [
            "\r 83%|████████▎ | 696/836 [14:49<02:59,  1.28s/it]"
          ]
        },
        {
          "output_type": "stream",
          "name": "stdout",
          "text": [
            "/content/drive/MyDrive/CS376/music_src/audionautix/mtat/npy/ModernCombat_29_58.npy\n"
          ]
        },
        {
          "output_type": "stream",
          "name": "stderr",
          "text": [
            "\r 83%|████████▎ | 697/836 [14:50<02:57,  1.28s/it]"
          ]
        },
        {
          "output_type": "stream",
          "name": "stdout",
          "text": [
            "/content/drive/MyDrive/CS376/music_src/audionautix/mtat/npy/NavajoNight_58_87.npy\n"
          ]
        },
        {
          "output_type": "stream",
          "name": "stderr",
          "text": [
            "\r 83%|████████▎ | 698/836 [14:51<02:56,  1.28s/it]"
          ]
        },
        {
          "output_type": "stream",
          "name": "stdout",
          "text": [
            "/content/drive/MyDrive/CS376/music_src/audionautix/mtat/npy/DanceDubber.npy\n"
          ]
        },
        {
          "output_type": "stream",
          "name": "stderr",
          "text": [
            "\r 84%|████████▎ | 699/836 [14:52<02:54,  1.27s/it]"
          ]
        },
        {
          "output_type": "stream",
          "name": "stdout",
          "text": [
            "/content/drive/MyDrive/CS376/music_src/audionautix/mtat/npy/Essence2_29_58.npy\n"
          ]
        },
        {
          "output_type": "stream",
          "name": "stderr",
          "text": [
            "\r 84%|████████▎ | 700/836 [14:54<02:52,  1.27s/it]"
          ]
        },
        {
          "output_type": "stream",
          "name": "stdout",
          "text": [
            "/content/drive/MyDrive/CS376/music_src/audionautix/mtat/npy/IDontWantToTalk_29_58.npy\n"
          ]
        },
        {
          "output_type": "stream",
          "name": "stderr",
          "text": [
            "\r 84%|████████▍ | 701/836 [14:55<02:51,  1.27s/it]"
          ]
        },
        {
          "output_type": "stream",
          "name": "stdout",
          "text": [
            "/content/drive/MyDrive/CS376/music_src/audionautix/mtat/npy/BigCarTheft_58_87.npy\n"
          ]
        },
        {
          "output_type": "stream",
          "name": "stderr",
          "text": [
            "\r 84%|████████▍ | 702/836 [14:56<02:50,  1.27s/it]"
          ]
        },
        {
          "output_type": "stream",
          "name": "stdout",
          "text": [
            "/content/drive/MyDrive/CS376/music_src/audionautix/mtat/npy/Triangle_29_58.npy\n"
          ]
        },
        {
          "output_type": "stream",
          "name": "stderr",
          "text": [
            "\r 84%|████████▍ | 703/836 [14:58<02:49,  1.27s/it]"
          ]
        },
        {
          "output_type": "stream",
          "name": "stdout",
          "text": [
            "/content/drive/MyDrive/CS376/music_src/audionautix/mtat/npy/Renaissance.npy\n"
          ]
        },
        {
          "output_type": "stream",
          "name": "stderr",
          "text": [
            "\r 84%|████████▍ | 704/836 [14:59<02:48,  1.28s/it]"
          ]
        },
        {
          "output_type": "stream",
          "name": "stdout",
          "text": [
            "/content/drive/MyDrive/CS376/music_src/audionautix/mtat/npy/LandrasDream.npy\n"
          ]
        },
        {
          "output_type": "stream",
          "name": "stderr",
          "text": [
            "\r 84%|████████▍ | 705/836 [15:00<02:47,  1.28s/it]"
          ]
        },
        {
          "output_type": "stream",
          "name": "stdout",
          "text": [
            "/content/drive/MyDrive/CS376/music_src/audionautix/mtat/npy/OceanFloor.npy\n"
          ]
        },
        {
          "output_type": "stream",
          "name": "stderr",
          "text": [
            "\r 84%|████████▍ | 706/836 [15:01<02:46,  1.28s/it]"
          ]
        },
        {
          "output_type": "stream",
          "name": "stdout",
          "text": [
            "/content/drive/MyDrive/CS376/music_src/audionautix/mtat/npy/Continuum_58_87.npy\n"
          ]
        },
        {
          "output_type": "stream",
          "name": "stderr",
          "text": [
            "\r 85%|████████▍ | 707/836 [15:03<02:43,  1.27s/it]"
          ]
        },
        {
          "output_type": "stream",
          "name": "stdout",
          "text": [
            "/content/drive/MyDrive/CS376/music_src/audionautix/mtat/npy/Antarctica_29_58.npy\n"
          ]
        },
        {
          "output_type": "stream",
          "name": "stderr",
          "text": [
            "\r 85%|████████▍ | 708/836 [15:04<02:42,  1.27s/it]"
          ]
        },
        {
          "output_type": "stream",
          "name": "stdout",
          "text": [
            "/content/drive/MyDrive/CS376/music_src/audionautix/mtat/npy/PensivePiano.npy\n"
          ]
        },
        {
          "output_type": "stream",
          "name": "stderr",
          "text": [
            "\r 85%|████████▍ | 709/836 [15:05<02:41,  1.27s/it]"
          ]
        },
        {
          "output_type": "stream",
          "name": "stdout",
          "text": [
            "/content/drive/MyDrive/CS376/music_src/audionautix/mtat/npy/Marauder.npy\n"
          ]
        },
        {
          "output_type": "stream",
          "name": "stderr",
          "text": [
            "\r 85%|████████▍ | 710/836 [15:06<02:39,  1.27s/it]"
          ]
        },
        {
          "output_type": "stream",
          "name": "stdout",
          "text": [
            "/content/drive/MyDrive/CS376/music_src/audionautix/mtat/npy/BirdInHand_58_87.npy\n"
          ]
        },
        {
          "output_type": "stream",
          "name": "stderr",
          "text": [
            "\r 85%|████████▌ | 711/836 [15:08<02:37,  1.26s/it]"
          ]
        },
        {
          "output_type": "stream",
          "name": "stdout",
          "text": [
            "/content/drive/MyDrive/CS376/music_src/audionautix/mtat/npy/GreekDance.npy\n"
          ]
        },
        {
          "output_type": "stream",
          "name": "stderr",
          "text": [
            "\r 85%|████████▌ | 712/836 [15:09<02:36,  1.26s/it]"
          ]
        },
        {
          "output_type": "stream",
          "name": "stdout",
          "text": [
            "/content/drive/MyDrive/CS376/music_src/audionautix/mtat/npy/ATallShip.npy\n"
          ]
        },
        {
          "output_type": "stream",
          "name": "stderr",
          "text": [
            "\r 85%|████████▌ | 713/836 [15:10<02:35,  1.26s/it]"
          ]
        },
        {
          "output_type": "stream",
          "name": "stdout",
          "text": [
            "/content/drive/MyDrive/CS376/music_src/audionautix/mtat/npy/Transportation_29_58.npy\n"
          ]
        },
        {
          "output_type": "stream",
          "name": "stderr",
          "text": [
            "\r 85%|████████▌ | 714/836 [15:12<02:33,  1.26s/it]"
          ]
        },
        {
          "output_type": "stream",
          "name": "stdout",
          "text": [
            "/content/drive/MyDrive/CS376/music_src/audionautix/mtat/npy/MarathonMan_29_58.npy\n"
          ]
        },
        {
          "output_type": "stream",
          "name": "stderr",
          "text": [
            "\r 86%|████████▌ | 715/836 [15:13<02:32,  1.26s/it]"
          ]
        },
        {
          "output_type": "stream",
          "name": "stdout",
          "text": [
            "/content/drive/MyDrive/CS376/music_src/audionautix/mtat/npy/Azimuth.npy\n"
          ]
        },
        {
          "output_type": "stream",
          "name": "stderr",
          "text": [
            "\r 86%|████████▌ | 716/836 [15:14<02:31,  1.26s/it]"
          ]
        },
        {
          "output_type": "stream",
          "name": "stdout",
          "text": [
            "/content/drive/MyDrive/CS376/music_src/audionautix/mtat/npy/BustinLooseWLead.npy\n"
          ]
        },
        {
          "output_type": "stream",
          "name": "stderr",
          "text": [
            "\r 86%|████████▌ | 717/836 [15:15<02:30,  1.26s/it]"
          ]
        },
        {
          "output_type": "stream",
          "name": "stdout",
          "text": [
            "/content/drive/MyDrive/CS376/music_src/audionautix/mtat/npy/DatGroove.npy\n"
          ]
        },
        {
          "output_type": "stream",
          "name": "stderr",
          "text": [
            "\r 86%|████████▌ | 718/836 [15:17<02:29,  1.27s/it]"
          ]
        },
        {
          "output_type": "stream",
          "name": "stdout",
          "text": [
            "/content/drive/MyDrive/CS376/music_src/audionautix/mtat/npy/HipHop1.npy\n"
          ]
        },
        {
          "output_type": "stream",
          "name": "stderr",
          "text": [
            "\r 86%|████████▌ | 719/836 [15:18<02:28,  1.27s/it]"
          ]
        },
        {
          "output_type": "stream",
          "name": "stdout",
          "text": [
            "/content/drive/MyDrive/CS376/music_src/audionautix/mtat/npy/TemptingFate.npy\n"
          ]
        },
        {
          "output_type": "stream",
          "name": "stderr",
          "text": [
            "\r 86%|████████▌ | 720/836 [15:19<02:27,  1.27s/it]"
          ]
        },
        {
          "output_type": "stream",
          "name": "stdout",
          "text": [
            "/content/drive/MyDrive/CS376/music_src/audionautix/mtat/npy/ModernCombat_58_87.npy\n"
          ]
        },
        {
          "output_type": "stream",
          "name": "stderr",
          "text": [
            "\r 86%|████████▌ | 721/836 [15:20<02:26,  1.27s/it]"
          ]
        },
        {
          "output_type": "stream",
          "name": "stdout",
          "text": [
            "/content/drive/MyDrive/CS376/music_src/audionautix/mtat/npy/PendulumWaltz.npy\n"
          ]
        },
        {
          "output_type": "stream",
          "name": "stderr",
          "text": [
            "\r 86%|████████▋ | 722/836 [15:22<02:27,  1.29s/it]"
          ]
        },
        {
          "output_type": "stream",
          "name": "stdout",
          "text": [
            "/content/drive/MyDrive/CS376/music_src/audionautix/mtat/npy/JennysTheme.npy\n"
          ]
        },
        {
          "output_type": "stream",
          "name": "stderr",
          "text": [
            "\r 86%|████████▋ | 723/836 [15:23<02:27,  1.30s/it]"
          ]
        },
        {
          "output_type": "stream",
          "name": "stdout",
          "text": [
            "/content/drive/MyDrive/CS376/music_src/audionautix/mtat/npy/Limosine_58_87.npy\n"
          ]
        },
        {
          "output_type": "stream",
          "name": "stderr",
          "text": [
            "\r 87%|████████▋ | 724/836 [15:24<02:26,  1.30s/it]"
          ]
        },
        {
          "output_type": "stream",
          "name": "stdout",
          "text": [
            "/content/drive/MyDrive/CS376/music_src/audionautix/mtat/npy/JoyToTheWorld.npy\n"
          ]
        },
        {
          "output_type": "stream",
          "name": "stderr",
          "text": [
            "\r 87%|████████▋ | 725/836 [15:26<02:25,  1.31s/it]"
          ]
        },
        {
          "output_type": "stream",
          "name": "stdout",
          "text": [
            "/content/drive/MyDrive/CS376/music_src/audionautix/mtat/npy/RoadToKilcoo.npy\n"
          ]
        },
        {
          "output_type": "stream",
          "name": "stderr",
          "text": [
            "\r 87%|████████▋ | 726/836 [15:27<02:24,  1.32s/it]"
          ]
        },
        {
          "output_type": "stream",
          "name": "stdout",
          "text": [
            "/content/drive/MyDrive/CS376/music_src/audionautix/mtat/npy/Ion_58_87.npy\n"
          ]
        },
        {
          "output_type": "stream",
          "name": "stderr",
          "text": [
            "\r 87%|████████▋ | 727/836 [15:28<02:23,  1.32s/it]"
          ]
        },
        {
          "output_type": "stream",
          "name": "stdout",
          "text": [
            "/content/drive/MyDrive/CS376/music_src/audionautix/mtat/npy/ClapAlong.npy\n"
          ]
        },
        {
          "output_type": "stream",
          "name": "stderr",
          "text": [
            "\r 87%|████████▋ | 728/836 [15:30<02:22,  1.32s/it]"
          ]
        },
        {
          "output_type": "stream",
          "name": "stdout",
          "text": [
            "/content/drive/MyDrive/CS376/music_src/audionautix/mtat/npy/DogHouse_29_58.npy\n"
          ]
        },
        {
          "output_type": "stream",
          "name": "stderr",
          "text": [
            "\r 87%|████████▋ | 729/836 [15:31<02:20,  1.32s/it]"
          ]
        },
        {
          "output_type": "stream",
          "name": "stdout",
          "text": [
            "/content/drive/MyDrive/CS376/music_src/audionautix/mtat/npy/WorldsAway_58_87.npy\n"
          ]
        },
        {
          "output_type": "stream",
          "name": "stderr",
          "text": [
            "\r 87%|████████▋ | 730/836 [15:32<02:19,  1.32s/it]"
          ]
        },
        {
          "output_type": "stream",
          "name": "stdout",
          "text": [
            "/content/drive/MyDrive/CS376/music_src/audionautix/mtat/npy/AshesOfAnEmpire.npy\n"
          ]
        },
        {
          "output_type": "stream",
          "name": "stderr",
          "text": [
            "\r 87%|████████▋ | 731/836 [15:34<02:17,  1.31s/it]"
          ]
        },
        {
          "output_type": "stream",
          "name": "stdout",
          "text": [
            "/content/drive/MyDrive/CS376/music_src/audionautix/mtat/npy/Cycles.npy\n"
          ]
        },
        {
          "output_type": "stream",
          "name": "stderr",
          "text": [
            "\r 88%|████████▊ | 732/836 [15:35<02:16,  1.31s/it]"
          ]
        },
        {
          "output_type": "stream",
          "name": "stdout",
          "text": [
            "/content/drive/MyDrive/CS376/music_src/audionautix/mtat/npy/EventHorizon_58_87.npy\n"
          ]
        },
        {
          "output_type": "stream",
          "name": "stderr",
          "text": [
            "\r 88%|████████▊ | 733/836 [15:36<02:14,  1.31s/it]"
          ]
        },
        {
          "output_type": "stream",
          "name": "stdout",
          "text": [
            "/content/drive/MyDrive/CS376/music_src/audionautix/mtat/npy/YouSoZany.npy\n"
          ]
        },
        {
          "output_type": "stream",
          "name": "stderr",
          "text": [
            "\r 88%|████████▊ | 734/836 [15:38<02:14,  1.32s/it]"
          ]
        },
        {
          "output_type": "stream",
          "name": "stdout",
          "text": [
            "/content/drive/MyDrive/CS376/music_src/audionautix/mtat/npy/Periscope_29_58.npy\n"
          ]
        },
        {
          "output_type": "stream",
          "name": "stderr",
          "text": [
            "\r 88%|████████▊ | 735/836 [15:39<02:13,  1.32s/it]"
          ]
        },
        {
          "output_type": "stream",
          "name": "stdout",
          "text": [
            "/content/drive/MyDrive/CS376/music_src/audionautix/mtat/npy/ZombieRock_29_58.npy\n"
          ]
        },
        {
          "output_type": "stream",
          "name": "stderr",
          "text": [
            "\r 88%|████████▊ | 736/836 [15:40<02:11,  1.32s/it]"
          ]
        },
        {
          "output_type": "stream",
          "name": "stdout",
          "text": [
            "/content/drive/MyDrive/CS376/music_src/audionautix/mtat/npy/ActThree_29_58.npy\n"
          ]
        },
        {
          "output_type": "stream",
          "name": "stderr",
          "text": [
            "\r 88%|████████▊ | 737/836 [15:42<02:11,  1.32s/it]"
          ]
        },
        {
          "output_type": "stream",
          "name": "stdout",
          "text": [
            "/content/drive/MyDrive/CS376/music_src/audionautix/mtat/npy/EpicTVTheme_58_87.npy\n"
          ]
        },
        {
          "output_type": "stream",
          "name": "stderr",
          "text": [
            "\r 88%|████████▊ | 738/836 [15:43<02:09,  1.32s/it]"
          ]
        },
        {
          "output_type": "stream",
          "name": "stdout",
          "text": [
            "/content/drive/MyDrive/CS376/music_src/audionautix/mtat/npy/CryinInMyBeer_58_87.npy\n"
          ]
        },
        {
          "output_type": "stream",
          "name": "stderr",
          "text": [
            "\r 88%|████████▊ | 739/836 [15:44<02:07,  1.32s/it]"
          ]
        },
        {
          "output_type": "stream",
          "name": "stdout",
          "text": [
            "/content/drive/MyDrive/CS376/music_src/audionautix/mtat/npy/CoolSteelBreeze.npy\n"
          ]
        },
        {
          "output_type": "stream",
          "name": "stderr",
          "text": [
            "\r 89%|████████▊ | 740/836 [15:45<02:06,  1.32s/it]"
          ]
        },
        {
          "output_type": "stream",
          "name": "stdout",
          "text": [
            "/content/drive/MyDrive/CS376/music_src/audionautix/mtat/npy/CalmBlueLake_58_87.npy\n"
          ]
        },
        {
          "output_type": "stream",
          "name": "stderr",
          "text": [
            "\r 89%|████████▊ | 741/836 [15:47<02:04,  1.31s/it]"
          ]
        },
        {
          "output_type": "stream",
          "name": "stdout",
          "text": [
            "/content/drive/MyDrive/CS376/music_src/audionautix/mtat/npy/CarolOfTheBells.npy\n"
          ]
        },
        {
          "output_type": "stream",
          "name": "stderr",
          "text": [
            "\r 89%|████████▉ | 742/836 [15:48<02:02,  1.30s/it]"
          ]
        },
        {
          "output_type": "stream",
          "name": "stdout",
          "text": [
            "/content/drive/MyDrive/CS376/music_src/audionautix/mtat/npy/WeWishYouAMerryXmas.npy\n"
          ]
        },
        {
          "output_type": "stream",
          "name": "stderr",
          "text": [
            "\r 89%|████████▉ | 743/836 [15:49<02:01,  1.31s/it]"
          ]
        },
        {
          "output_type": "stream",
          "name": "stdout",
          "text": [
            "/content/drive/MyDrive/CS376/music_src/audionautix/mtat/npy/DoubleBlues.npy\n"
          ]
        },
        {
          "output_type": "stream",
          "name": "stderr",
          "text": [
            "\r 89%|████████▉ | 744/836 [15:51<02:00,  1.31s/it]"
          ]
        },
        {
          "output_type": "stream",
          "name": "stdout",
          "text": [
            "/content/drive/MyDrive/CS376/music_src/audionautix/mtat/npy/IntroAction.npy\n"
          ]
        },
        {
          "output_type": "stream",
          "name": "stderr",
          "text": [
            "\r 89%|████████▉ | 745/836 [15:52<01:58,  1.30s/it]"
          ]
        },
        {
          "output_type": "stream",
          "name": "stdout",
          "text": [
            "/content/drive/MyDrive/CS376/music_src/audionautix/mtat/npy/HipHop1_29_58.npy\n"
          ]
        },
        {
          "output_type": "stream",
          "name": "stderr",
          "text": [
            "\r 89%|████████▉ | 746/836 [15:53<01:56,  1.29s/it]"
          ]
        },
        {
          "output_type": "stream",
          "name": "stdout",
          "text": [
            "/content/drive/MyDrive/CS376/music_src/audionautix/mtat/npy/HarkTheHeraldAngelsEDM_58_87.npy\n"
          ]
        },
        {
          "output_type": "stream",
          "name": "stderr",
          "text": [
            "\r 89%|████████▉ | 747/836 [15:55<01:54,  1.29s/it]"
          ]
        },
        {
          "output_type": "stream",
          "name": "stdout",
          "text": [
            "/content/drive/MyDrive/CS376/music_src/audionautix/mtat/npy/OohHey_58_87.npy\n"
          ]
        },
        {
          "output_type": "stream",
          "name": "stderr",
          "text": [
            "\r 89%|████████▉ | 748/836 [15:56<01:53,  1.29s/it]"
          ]
        },
        {
          "output_type": "stream",
          "name": "stdout",
          "text": [
            "/content/drive/MyDrive/CS376/music_src/audionautix/mtat/npy/OnWaldenPond_29_58.npy\n"
          ]
        },
        {
          "output_type": "stream",
          "name": "stderr",
          "text": [
            "\r 90%|████████▉ | 749/836 [15:57<01:52,  1.29s/it]"
          ]
        },
        {
          "output_type": "stream",
          "name": "stdout",
          "text": [
            "/content/drive/MyDrive/CS376/music_src/audionautix/mtat/npy/TrapBed.npy\n"
          ]
        },
        {
          "output_type": "stream",
          "name": "stderr",
          "text": [
            "\r 90%|████████▉ | 750/836 [15:58<01:51,  1.29s/it]"
          ]
        },
        {
          "output_type": "stream",
          "name": "stdout",
          "text": [
            "/content/drive/MyDrive/CS376/music_src/audionautix/mtat/npy/AwayInAMangerEDM.npy\n"
          ]
        },
        {
          "output_type": "stream",
          "name": "stderr",
          "text": [
            "\r 90%|████████▉ | 751/836 [16:00<01:50,  1.30s/it]"
          ]
        },
        {
          "output_type": "stream",
          "name": "stdout",
          "text": [
            "/content/drive/MyDrive/CS376/music_src/audionautix/mtat/npy/Crushin_58_87.npy\n"
          ]
        },
        {
          "output_type": "stream",
          "name": "stderr",
          "text": [
            "\r 90%|████████▉ | 752/836 [16:01<01:48,  1.29s/it]"
          ]
        },
        {
          "output_type": "stream",
          "name": "stdout",
          "text": [
            "/content/drive/MyDrive/CS376/music_src/audionautix/mtat/npy/Robin_58_87.npy\n"
          ]
        },
        {
          "output_type": "stream",
          "name": "stderr",
          "text": [
            "\r 90%|█████████ | 753/836 [16:02<01:46,  1.28s/it]"
          ]
        },
        {
          "output_type": "stream",
          "name": "stdout",
          "text": [
            "/content/drive/MyDrive/CS376/music_src/audionautix/mtat/npy/HorrorDrone1_29_58.npy\n"
          ]
        },
        {
          "output_type": "stream",
          "name": "stderr",
          "text": [
            "\r 90%|█████████ | 754/836 [16:04<01:44,  1.28s/it]"
          ]
        },
        {
          "output_type": "stream",
          "name": "stdout",
          "text": [
            "/content/drive/MyDrive/CS376/music_src/audionautix/mtat/npy/AcousticMeditation2_58_87.npy\n"
          ]
        },
        {
          "output_type": "stream",
          "name": "stderr",
          "text": [
            "\r 90%|█████████ | 755/836 [16:05<01:43,  1.28s/it]"
          ]
        },
        {
          "output_type": "stream",
          "name": "stdout",
          "text": [
            "/content/drive/MyDrive/CS376/music_src/audionautix/mtat/npy/DeepSpace_29_58.npy\n"
          ]
        },
        {
          "output_type": "stream",
          "name": "stderr",
          "text": [
            "\r 90%|█████████ | 756/836 [16:06<01:41,  1.27s/it]"
          ]
        },
        {
          "output_type": "stream",
          "name": "stdout",
          "text": [
            "/content/drive/MyDrive/CS376/music_src/audionautix/mtat/npy/Touchpoint.npy\n"
          ]
        },
        {
          "output_type": "stream",
          "name": "stderr",
          "text": [
            "\r 91%|█████████ | 757/836 [16:07<01:40,  1.27s/it]"
          ]
        },
        {
          "output_type": "stream",
          "name": "stdout",
          "text": [
            "/content/drive/MyDrive/CS376/music_src/audionautix/mtat/npy/GreenDaze_58_87.npy\n"
          ]
        },
        {
          "output_type": "stream",
          "name": "stderr",
          "text": [
            "\r 91%|█████████ | 758/836 [16:09<01:39,  1.28s/it]"
          ]
        },
        {
          "output_type": "stream",
          "name": "stdout",
          "text": [
            "/content/drive/MyDrive/CS376/music_src/audionautix/mtat/npy/WarfareBed.npy\n"
          ]
        },
        {
          "output_type": "stream",
          "name": "stderr",
          "text": [
            "\r 91%|█████████ | 759/836 [16:10<01:37,  1.27s/it]"
          ]
        },
        {
          "output_type": "stream",
          "name": "stdout",
          "text": [
            "/content/drive/MyDrive/CS376/music_src/audionautix/mtat/npy/DestinationUnknown_29_58.npy\n"
          ]
        },
        {
          "output_type": "stream",
          "name": "stderr",
          "text": [
            "\r 91%|█████████ | 760/836 [16:11<01:36,  1.27s/it]"
          ]
        },
        {
          "output_type": "stream",
          "name": "stdout",
          "text": [
            "/content/drive/MyDrive/CS376/music_src/audionautix/mtat/npy/HotMess_29_58.npy\n"
          ]
        },
        {
          "output_type": "stream",
          "name": "stderr",
          "text": [
            "\r 91%|█████████ | 761/836 [16:12<01:34,  1.26s/it]"
          ]
        },
        {
          "output_type": "stream",
          "name": "stdout",
          "text": [
            "/content/drive/MyDrive/CS376/music_src/audionautix/mtat/npy/Johanna_29_58.npy\n"
          ]
        },
        {
          "output_type": "stream",
          "name": "stderr",
          "text": [
            "\r 91%|█████████ | 762/836 [16:14<01:33,  1.26s/it]"
          ]
        },
        {
          "output_type": "stream",
          "name": "stdout",
          "text": [
            "/content/drive/MyDrive/CS376/music_src/audionautix/mtat/npy/Countermove.npy\n"
          ]
        },
        {
          "output_type": "stream",
          "name": "stderr",
          "text": [
            "\r 91%|█████████▏| 763/836 [16:15<01:32,  1.26s/it]"
          ]
        },
        {
          "output_type": "stream",
          "name": "stdout",
          "text": [
            "/content/drive/MyDrive/CS376/music_src/audionautix/mtat/npy/Algorithm.npy\n"
          ]
        },
        {
          "output_type": "stream",
          "name": "stderr",
          "text": [
            "\r 91%|█████████▏| 764/836 [16:16<01:31,  1.27s/it]"
          ]
        },
        {
          "output_type": "stream",
          "name": "stdout",
          "text": [
            "/content/drive/MyDrive/CS376/music_src/audionautix/mtat/npy/TurkishDance_29_58.npy\n"
          ]
        },
        {
          "output_type": "stream",
          "name": "stderr",
          "text": [
            "\r 92%|█████████▏| 765/836 [16:17<01:30,  1.27s/it]"
          ]
        },
        {
          "output_type": "stream",
          "name": "stdout",
          "text": [
            "/content/drive/MyDrive/CS376/music_src/audionautix/mtat/npy/DatGrooveFullTrack_29_58.npy\n"
          ]
        },
        {
          "output_type": "stream",
          "name": "stderr",
          "text": [
            "\r 92%|█████████▏| 766/836 [16:19<01:29,  1.28s/it]"
          ]
        },
        {
          "output_type": "stream",
          "name": "stdout",
          "text": [
            "/content/drive/MyDrive/CS376/music_src/audionautix/mtat/npy/Drifting2.npy\n"
          ]
        },
        {
          "output_type": "stream",
          "name": "stderr",
          "text": [
            "\r 92%|█████████▏| 767/836 [16:20<01:27,  1.27s/it]"
          ]
        },
        {
          "output_type": "stream",
          "name": "stdout",
          "text": [
            "/content/drive/MyDrive/CS376/music_src/audionautix/mtat/npy/EnemyShips.npy\n"
          ]
        },
        {
          "output_type": "stream",
          "name": "stderr",
          "text": [
            "\r 92%|█████████▏| 768/836 [16:21<01:26,  1.27s/it]"
          ]
        },
        {
          "output_type": "stream",
          "name": "stdout",
          "text": [
            "/content/drive/MyDrive/CS376/music_src/audionautix/mtat/npy/BrookersBlues.npy\n"
          ]
        },
        {
          "output_type": "stream",
          "name": "stderr",
          "text": [
            "\r 92%|█████████▏| 769/836 [16:23<01:24,  1.27s/it]"
          ]
        },
        {
          "output_type": "stream",
          "name": "stdout",
          "text": [
            "/content/drive/MyDrive/CS376/music_src/audionautix/mtat/npy/InAWorld_29_58.npy\n"
          ]
        },
        {
          "output_type": "stream",
          "name": "stderr",
          "text": [
            "\r 92%|█████████▏| 770/836 [16:24<01:23,  1.26s/it]"
          ]
        },
        {
          "output_type": "stream",
          "name": "stdout",
          "text": [
            "/content/drive/MyDrive/CS376/music_src/audionautix/mtat/npy/StandardJazzBars_29_58.npy\n"
          ]
        },
        {
          "output_type": "stream",
          "name": "stderr",
          "text": [
            "\r 92%|█████████▏| 771/836 [16:25<01:22,  1.26s/it]"
          ]
        },
        {
          "output_type": "stream",
          "name": "stdout",
          "text": [
            "/content/drive/MyDrive/CS376/music_src/audionautix/mtat/npy/WheelOfKarma_58_87.npy\n"
          ]
        },
        {
          "output_type": "stream",
          "name": "stderr",
          "text": [
            "\r 92%|█████████▏| 772/836 [16:26<01:20,  1.26s/it]"
          ]
        },
        {
          "output_type": "stream",
          "name": "stdout",
          "text": [
            "/content/drive/MyDrive/CS376/music_src/audionautix/mtat/npy/DeepSpace.npy\n"
          ]
        },
        {
          "output_type": "stream",
          "name": "stderr",
          "text": [
            "\r 92%|█████████▏| 773/836 [16:28<01:19,  1.26s/it]"
          ]
        },
        {
          "output_type": "stream",
          "name": "stdout",
          "text": [
            "/content/drive/MyDrive/CS376/music_src/audionautix/mtat/npy/WheelOfKarma_29_58.npy\n"
          ]
        },
        {
          "output_type": "stream",
          "name": "stderr",
          "text": [
            "\r 93%|█████████▎| 774/836 [16:29<01:18,  1.27s/it]"
          ]
        },
        {
          "output_type": "stream",
          "name": "stdout",
          "text": [
            "/content/drive/MyDrive/CS376/music_src/audionautix/mtat/npy/FeelsGood2B_58_87.npy\n"
          ]
        },
        {
          "output_type": "stream",
          "name": "stderr",
          "text": [
            "\r 93%|█████████▎| 775/836 [16:30<01:17,  1.27s/it]"
          ]
        },
        {
          "output_type": "stream",
          "name": "stdout",
          "text": [
            "/content/drive/MyDrive/CS376/music_src/audionautix/mtat/npy/PinksGlass.npy\n"
          ]
        },
        {
          "output_type": "stream",
          "name": "stderr",
          "text": [
            "\r 93%|█████████▎| 776/836 [16:31<01:16,  1.28s/it]"
          ]
        },
        {
          "output_type": "stream",
          "name": "stdout",
          "text": [
            "/content/drive/MyDrive/CS376/music_src/audionautix/mtat/npy/OverTime.npy\n"
          ]
        },
        {
          "output_type": "stream",
          "name": "stderr",
          "text": [
            "\r 93%|█████████▎| 777/836 [16:33<01:14,  1.27s/it]"
          ]
        },
        {
          "output_type": "stream",
          "name": "stdout",
          "text": [
            "/content/drive/MyDrive/CS376/music_src/audionautix/mtat/npy/NightRunner_58_87.npy\n"
          ]
        },
        {
          "output_type": "stream",
          "name": "stderr",
          "text": [
            "\r 93%|█████████▎| 778/836 [16:34<01:13,  1.26s/it]"
          ]
        },
        {
          "output_type": "stream",
          "name": "stdout",
          "text": [
            "/content/drive/MyDrive/CS376/music_src/audionautix/mtat/npy/Piledriver.npy\n"
          ]
        },
        {
          "output_type": "stream",
          "name": "stderr",
          "text": [
            "\r 93%|█████████▎| 779/836 [16:35<01:12,  1.26s/it]"
          ]
        },
        {
          "output_type": "stream",
          "name": "stdout",
          "text": [
            "/content/drive/MyDrive/CS376/music_src/audionautix/mtat/npy/YouSoZany_29_58.npy\n"
          ]
        },
        {
          "output_type": "stream",
          "name": "stderr",
          "text": [
            "\r 93%|█████████▎| 780/836 [16:36<01:10,  1.27s/it]"
          ]
        },
        {
          "output_type": "stream",
          "name": "stdout",
          "text": [
            "/content/drive/MyDrive/CS376/music_src/audionautix/mtat/npy/Thump.npy\n"
          ]
        },
        {
          "output_type": "stream",
          "name": "stderr",
          "text": [
            "\r 93%|█████████▎| 781/836 [16:38<01:09,  1.27s/it]"
          ]
        },
        {
          "output_type": "stream",
          "name": "stdout",
          "text": [
            "/content/drive/MyDrive/CS376/music_src/audionautix/mtat/npy/Quiet_29_58.npy\n"
          ]
        },
        {
          "output_type": "stream",
          "name": "stderr",
          "text": [
            "\r 94%|█████████▎| 782/836 [16:39<01:08,  1.28s/it]"
          ]
        },
        {
          "output_type": "stream",
          "name": "stdout",
          "text": [
            "/content/drive/MyDrive/CS376/music_src/audionautix/mtat/npy/HarkTheHeraldAngelsEDM.npy\n"
          ]
        },
        {
          "output_type": "stream",
          "name": "stderr",
          "text": [
            "\r 94%|█████████▎| 783/836 [16:40<01:07,  1.27s/it]"
          ]
        },
        {
          "output_type": "stream",
          "name": "stdout",
          "text": [
            "/content/drive/MyDrive/CS376/music_src/audionautix/mtat/npy/HeavyAction_29_58.npy\n"
          ]
        },
        {
          "output_type": "stream",
          "name": "stderr",
          "text": [
            "\r 94%|█████████▍| 784/836 [16:42<01:05,  1.27s/it]"
          ]
        },
        {
          "output_type": "stream",
          "name": "stdout",
          "text": [
            "/content/drive/MyDrive/CS376/music_src/audionautix/mtat/npy/PanamaHatNV_29_58.npy\n"
          ]
        },
        {
          "output_type": "stream",
          "name": "stderr",
          "text": [
            "\r 94%|█████████▍| 785/836 [16:43<01:04,  1.26s/it]"
          ]
        },
        {
          "output_type": "stream",
          "name": "stdout",
          "text": [
            "/content/drive/MyDrive/CS376/music_src/audionautix/mtat/npy/FallingSky_29_58.npy\n"
          ]
        },
        {
          "output_type": "stream",
          "name": "stderr",
          "text": [
            "\r 94%|█████████▍| 786/836 [16:44<01:03,  1.27s/it]"
          ]
        },
        {
          "output_type": "stream",
          "name": "stdout",
          "text": [
            "/content/drive/MyDrive/CS376/music_src/audionautix/mtat/npy/MallWalker_58_87.npy\n"
          ]
        },
        {
          "output_type": "stream",
          "name": "stderr",
          "text": [
            "\r 94%|█████████▍| 787/836 [16:45<01:01,  1.26s/it]"
          ]
        },
        {
          "output_type": "stream",
          "name": "stdout",
          "text": [
            "/content/drive/MyDrive/CS376/music_src/audionautix/mtat/npy/FatCaps.npy\n"
          ]
        },
        {
          "output_type": "stream",
          "name": "stderr",
          "text": [
            "\r 94%|█████████▍| 788/836 [16:47<01:01,  1.27s/it]"
          ]
        },
        {
          "output_type": "stream",
          "name": "stdout",
          "text": [
            "/content/drive/MyDrive/CS376/music_src/audionautix/mtat/npy/Limosine.npy\n"
          ]
        },
        {
          "output_type": "stream",
          "name": "stderr",
          "text": [
            "\r 94%|█████████▍| 789/836 [16:48<01:00,  1.28s/it]"
          ]
        },
        {
          "output_type": "stream",
          "name": "stdout",
          "text": [
            "/content/drive/MyDrive/CS376/music_src/audionautix/mtat/npy/AshesOfAnEmpire_58_87.npy\n"
          ]
        },
        {
          "output_type": "stream",
          "name": "stderr",
          "text": [
            "\r 94%|█████████▍| 790/836 [16:49<00:59,  1.29s/it]"
          ]
        },
        {
          "output_type": "stream",
          "name": "stdout",
          "text": [
            "/content/drive/MyDrive/CS376/music_src/audionautix/mtat/npy/Horror13_29_58.npy\n"
          ]
        },
        {
          "output_type": "stream",
          "name": "stderr",
          "text": [
            "\r 95%|█████████▍| 791/836 [16:51<00:58,  1.29s/it]"
          ]
        },
        {
          "output_type": "stream",
          "name": "stdout",
          "text": [
            "/content/drive/MyDrive/CS376/music_src/audionautix/mtat/npy/HorrorDrone1.npy\n"
          ]
        },
        {
          "output_type": "stream",
          "name": "stderr",
          "text": [
            "\r 95%|█████████▍| 792/836 [16:52<00:56,  1.29s/it]"
          ]
        },
        {
          "output_type": "stream",
          "name": "stdout",
          "text": [
            "/content/drive/MyDrive/CS376/music_src/audionautix/mtat/npy/GoNotGentlyRedux.npy\n"
          ]
        },
        {
          "output_type": "stream",
          "name": "stderr",
          "text": [
            "\r 95%|█████████▍| 793/836 [16:53<00:54,  1.28s/it]"
          ]
        },
        {
          "output_type": "stream",
          "name": "stdout",
          "text": [
            "/content/drive/MyDrive/CS376/music_src/audionautix/mtat/npy/RP-InTheField_58_87.npy\n"
          ]
        },
        {
          "output_type": "stream",
          "name": "stderr",
          "text": [
            "\r 95%|█████████▍| 794/836 [16:54<00:53,  1.28s/it]"
          ]
        },
        {
          "output_type": "stream",
          "name": "stdout",
          "text": [
            "/content/drive/MyDrive/CS376/music_src/audionautix/mtat/npy/SundaySpirit_29_58.npy\n"
          ]
        },
        {
          "output_type": "stream",
          "name": "stderr",
          "text": [
            "\r 95%|█████████▌| 795/836 [16:56<00:52,  1.28s/it]"
          ]
        },
        {
          "output_type": "stream",
          "name": "stdout",
          "text": [
            "/content/drive/MyDrive/CS376/music_src/audionautix/mtat/npy/Clouds.npy\n"
          ]
        },
        {
          "output_type": "stream",
          "name": "stderr",
          "text": [
            "\r 95%|█████████▌| 796/836 [16:57<00:51,  1.28s/it]"
          ]
        },
        {
          "output_type": "stream",
          "name": "stdout",
          "text": [
            "/content/drive/MyDrive/CS376/music_src/audionautix/mtat/npy/RunningWatersFull_29_58.npy\n"
          ]
        },
        {
          "output_type": "stream",
          "name": "stderr",
          "text": [
            "\r 95%|█████████▌| 797/836 [16:58<00:49,  1.28s/it]"
          ]
        },
        {
          "output_type": "stream",
          "name": "stdout",
          "text": [
            "/content/drive/MyDrive/CS376/music_src/audionautix/mtat/npy/SeriousDrama.npy\n"
          ]
        },
        {
          "output_type": "stream",
          "name": "stderr",
          "text": [
            "\r 95%|█████████▌| 798/836 [17:00<00:49,  1.30s/it]"
          ]
        },
        {
          "output_type": "stream",
          "name": "stdout",
          "text": [
            "/content/drive/MyDrive/CS376/music_src/audionautix/mtat/npy/EmeraldTherapy_29_58.npy\n"
          ]
        },
        {
          "output_type": "stream",
          "name": "stderr",
          "text": [
            "\r 96%|█████████▌| 799/836 [17:01<00:47,  1.30s/it]"
          ]
        },
        {
          "output_type": "stream",
          "name": "stdout",
          "text": [
            "/content/drive/MyDrive/CS376/music_src/audionautix/mtat/npy/HotMess.npy\n"
          ]
        },
        {
          "output_type": "stream",
          "name": "stderr",
          "text": [
            "\r 96%|█████████▌| 800/836 [17:02<00:46,  1.29s/it]"
          ]
        },
        {
          "output_type": "stream",
          "name": "stdout",
          "text": [
            "/content/drive/MyDrive/CS376/music_src/audionautix/mtat/npy/WarfareBed_29_58.npy\n"
          ]
        },
        {
          "output_type": "stream",
          "name": "stderr",
          "text": [
            "\r 96%|█████████▌| 801/836 [17:03<00:44,  1.28s/it]"
          ]
        },
        {
          "output_type": "stream",
          "name": "stdout",
          "text": [
            "/content/drive/MyDrive/CS376/music_src/audionautix/mtat/npy/GreenLeaves_29_58.npy\n"
          ]
        },
        {
          "output_type": "stream",
          "name": "stderr",
          "text": [
            "\r 96%|█████████▌| 802/836 [17:05<00:43,  1.29s/it]"
          ]
        },
        {
          "output_type": "stream",
          "name": "stdout",
          "text": [
            "/content/drive/MyDrive/CS376/music_src/audionautix/mtat/npy/GoNotGentlyRedux_58_87.npy\n"
          ]
        },
        {
          "output_type": "stream",
          "name": "stderr",
          "text": [
            "\r 96%|█████████▌| 803/836 [17:06<00:42,  1.28s/it]"
          ]
        },
        {
          "output_type": "stream",
          "name": "stdout",
          "text": [
            "/content/drive/MyDrive/CS376/music_src/audionautix/mtat/npy/SundaySpirit.npy\n"
          ]
        },
        {
          "output_type": "stream",
          "name": "stderr",
          "text": [
            "\r 96%|█████████▌| 804/836 [17:07<00:41,  1.28s/it]"
          ]
        },
        {
          "output_type": "stream",
          "name": "stdout",
          "text": [
            "/content/drive/MyDrive/CS376/music_src/audionautix/mtat/npy/OnWaldenPond_58_87.npy\n"
          ]
        },
        {
          "output_type": "stream",
          "name": "stderr",
          "text": [
            "\r 96%|█████████▋| 805/836 [17:09<00:39,  1.28s/it]"
          ]
        },
        {
          "output_type": "stream",
          "name": "stdout",
          "text": [
            "/content/drive/MyDrive/CS376/music_src/audionautix/mtat/npy/AwayInAMangerEDM_58_87.npy\n"
          ]
        },
        {
          "output_type": "stream",
          "name": "stderr",
          "text": [
            "\r 96%|█████████▋| 806/836 [17:10<00:38,  1.29s/it]"
          ]
        },
        {
          "output_type": "stream",
          "name": "stdout",
          "text": [
            "/content/drive/MyDrive/CS376/music_src/audionautix/mtat/npy/SundaySpirit_58_87.npy\n"
          ]
        },
        {
          "output_type": "stream",
          "name": "stderr",
          "text": [
            "\r 97%|█████████▋| 807/836 [17:11<00:37,  1.28s/it]"
          ]
        },
        {
          "output_type": "stream",
          "name": "stdout",
          "text": [
            "/content/drive/MyDrive/CS376/music_src/audionautix/mtat/npy/InTheField_29_58.npy\n"
          ]
        },
        {
          "output_type": "stream",
          "name": "stderr",
          "text": [
            "\r 97%|█████████▋| 808/836 [17:12<00:36,  1.29s/it]"
          ]
        },
        {
          "output_type": "stream",
          "name": "stdout",
          "text": [
            "/content/drive/MyDrive/CS376/music_src/audionautix/mtat/npy/ZapDance.npy\n"
          ]
        },
        {
          "output_type": "stream",
          "name": "stderr",
          "text": [
            "\r 97%|█████████▋| 809/836 [17:14<00:34,  1.29s/it]"
          ]
        },
        {
          "output_type": "stream",
          "name": "stdout",
          "text": [
            "/content/drive/MyDrive/CS376/music_src/audionautix/mtat/npy/FunkyJunky.npy\n"
          ]
        },
        {
          "output_type": "stream",
          "name": "stderr",
          "text": [
            "\r 97%|█████████▋| 810/836 [17:15<00:33,  1.29s/it]"
          ]
        },
        {
          "output_type": "stream",
          "name": "stdout",
          "text": [
            "/content/drive/MyDrive/CS376/music_src/audionautix/mtat/npy/LionsHeart_58_87.npy\n"
          ]
        },
        {
          "output_type": "stream",
          "name": "stderr",
          "text": [
            "\r 97%|█████████▋| 811/836 [17:16<00:32,  1.28s/it]"
          ]
        },
        {
          "output_type": "stream",
          "name": "stdout",
          "text": [
            "/content/drive/MyDrive/CS376/music_src/audionautix/mtat/npy/Wheels.npy\n"
          ]
        },
        {
          "output_type": "stream",
          "name": "stderr",
          "text": [
            "\r 97%|█████████▋| 812/836 [17:18<00:30,  1.28s/it]"
          ]
        },
        {
          "output_type": "stream",
          "name": "stdout",
          "text": [
            "/content/drive/MyDrive/CS376/music_src/audionautix/mtat/npy/Transportation.npy\n"
          ]
        },
        {
          "output_type": "stream",
          "name": "stderr",
          "text": [
            "\r 97%|█████████▋| 813/836 [17:19<00:29,  1.29s/it]"
          ]
        },
        {
          "output_type": "stream",
          "name": "stdout",
          "text": [
            "/content/drive/MyDrive/CS376/music_src/audionautix/mtat/npy/HorrorEpic.npy\n"
          ]
        },
        {
          "output_type": "stream",
          "name": "stderr",
          "text": [
            "\r 97%|█████████▋| 814/836 [17:20<00:28,  1.32s/it]"
          ]
        },
        {
          "output_type": "stream",
          "name": "stdout",
          "text": [
            "/content/drive/MyDrive/CS376/music_src/audionautix/mtat/npy/TheVisitors_58_87.npy\n"
          ]
        },
        {
          "output_type": "stream",
          "name": "stderr",
          "text": [
            "\r 97%|█████████▋| 815/836 [17:22<00:27,  1.31s/it]"
          ]
        },
        {
          "output_type": "stream",
          "name": "stdout",
          "text": [
            "/content/drive/MyDrive/CS376/music_src/audionautix/mtat/npy/HappyStrummin.npy\n"
          ]
        },
        {
          "output_type": "stream",
          "name": "stderr",
          "text": [
            "\r 98%|█████████▊| 816/836 [17:23<00:26,  1.30s/it]"
          ]
        },
        {
          "output_type": "stream",
          "name": "stdout",
          "text": [
            "/content/drive/MyDrive/CS376/music_src/audionautix/mtat/npy/BridesBallad_58_87.npy\n"
          ]
        },
        {
          "output_type": "stream",
          "name": "stderr",
          "text": [
            "\r 98%|█████████▊| 817/836 [17:24<00:24,  1.29s/it]"
          ]
        },
        {
          "output_type": "stream",
          "name": "stdout",
          "text": [
            "/content/drive/MyDrive/CS376/music_src/audionautix/mtat/npy/ModernRockBoy.npy\n"
          ]
        },
        {
          "output_type": "stream",
          "name": "stderr",
          "text": [
            "\r 98%|█████████▊| 818/836 [17:25<00:23,  1.28s/it]"
          ]
        },
        {
          "output_type": "stream",
          "name": "stdout",
          "text": [
            "/content/drive/MyDrive/CS376/music_src/audionautix/mtat/npy/TheMaster_58_87.npy\n"
          ]
        },
        {
          "output_type": "stream",
          "name": "stderr",
          "text": [
            "\r 98%|█████████▊| 819/836 [17:27<00:21,  1.28s/it]"
          ]
        },
        {
          "output_type": "stream",
          "name": "stdout",
          "text": [
            "/content/drive/MyDrive/CS376/music_src/audionautix/mtat/npy/LongLiveDeath_29_58.npy\n"
          ]
        },
        {
          "output_type": "stream",
          "name": "stderr",
          "text": [
            "\r 98%|█████████▊| 820/836 [17:28<00:20,  1.28s/it]"
          ]
        },
        {
          "output_type": "stream",
          "name": "stdout",
          "text": [
            "/content/drive/MyDrive/CS376/music_src/audionautix/mtat/npy/LandrasDream_29_58.npy\n"
          ]
        },
        {
          "output_type": "stream",
          "name": "stderr",
          "text": [
            "\r 98%|█████████▊| 821/836 [17:29<00:19,  1.29s/it]"
          ]
        },
        {
          "output_type": "stream",
          "name": "stdout",
          "text": [
            "/content/drive/MyDrive/CS376/music_src/audionautix/mtat/npy/OverTime_58_87.npy\n"
          ]
        },
        {
          "output_type": "stream",
          "name": "stderr",
          "text": [
            "\r 98%|█████████▊| 822/836 [17:30<00:18,  1.29s/it]"
          ]
        },
        {
          "output_type": "stream",
          "name": "stdout",
          "text": [
            "/content/drive/MyDrive/CS376/music_src/audionautix/mtat/npy/TheMightyKingdom_58_87.npy\n"
          ]
        },
        {
          "output_type": "stream",
          "name": "stderr",
          "text": [
            "\r 98%|█████████▊| 823/836 [17:32<00:16,  1.28s/it]"
          ]
        },
        {
          "output_type": "stream",
          "name": "stdout",
          "text": [
            "/content/drive/MyDrive/CS376/music_src/audionautix/mtat/npy/Hoedown.npy\n"
          ]
        },
        {
          "output_type": "stream",
          "name": "stderr",
          "text": [
            "\r 99%|█████████▊| 824/836 [17:33<00:15,  1.28s/it]"
          ]
        },
        {
          "output_type": "stream",
          "name": "stdout",
          "text": [
            "/content/drive/MyDrive/CS376/music_src/audionautix/mtat/npy/HipHop1_58_87.npy\n"
          ]
        },
        {
          "output_type": "stream",
          "name": "stderr",
          "text": [
            "\r 99%|█████████▊| 825/836 [17:34<00:14,  1.28s/it]"
          ]
        },
        {
          "output_type": "stream",
          "name": "stdout",
          "text": [
            "/content/drive/MyDrive/CS376/music_src/audionautix/mtat/npy/GreenDaze_29_58.npy\n"
          ]
        },
        {
          "output_type": "stream",
          "name": "stderr",
          "text": [
            "\r 99%|█████████▉| 826/836 [17:36<00:12,  1.27s/it]"
          ]
        },
        {
          "output_type": "stream",
          "name": "stdout",
          "text": [
            "/content/drive/MyDrive/CS376/music_src/audionautix/mtat/npy/ATallShip_29_58.npy\n"
          ]
        },
        {
          "output_type": "stream",
          "name": "stderr",
          "text": [
            "\r 99%|█████████▉| 827/836 [17:37<00:11,  1.27s/it]"
          ]
        },
        {
          "output_type": "stream",
          "name": "stdout",
          "text": [
            "/content/drive/MyDrive/CS376/music_src/audionautix/mtat/npy/Horror13_58_87.npy\n"
          ]
        },
        {
          "output_type": "stream",
          "name": "stderr",
          "text": [
            "\r 99%|█████████▉| 828/836 [17:38<00:10,  1.27s/it]"
          ]
        },
        {
          "output_type": "stream",
          "name": "stdout",
          "text": [
            "/content/drive/MyDrive/CS376/music_src/audionautix/mtat/npy/WhatWouldIGive_29_58.npy\n"
          ]
        },
        {
          "output_type": "stream",
          "name": "stderr",
          "text": [
            "\r 99%|█████████▉| 829/836 [17:39<00:08,  1.27s/it]"
          ]
        },
        {
          "output_type": "stream",
          "name": "stdout",
          "text": [
            "/content/drive/MyDrive/CS376/music_src/audionautix/mtat/npy/SportsAction.npy\n"
          ]
        },
        {
          "output_type": "stream",
          "name": "stderr",
          "text": [
            "\r 99%|█████████▉| 830/836 [17:41<00:07,  1.27s/it]"
          ]
        },
        {
          "output_type": "stream",
          "name": "stdout",
          "text": [
            "/content/drive/MyDrive/CS376/music_src/audionautix/mtat/npy/CalmBlueLake.npy\n"
          ]
        },
        {
          "output_type": "stream",
          "name": "stderr",
          "text": [
            "\r 99%|█████████▉| 831/836 [17:42<00:06,  1.27s/it]"
          ]
        },
        {
          "output_type": "stream",
          "name": "stdout",
          "text": [
            "/content/drive/MyDrive/CS376/music_src/audionautix/mtat/npy/RP-InTheField_29_58.npy\n"
          ]
        },
        {
          "output_type": "stream",
          "name": "stderr",
          "text": [
            "\r100%|█████████▉| 832/836 [17:43<00:05,  1.27s/it]"
          ]
        },
        {
          "output_type": "stream",
          "name": "stdout",
          "text": [
            "/content/drive/MyDrive/CS376/music_src/audionautix/mtat/npy/SmellsLikeGrunge_58_87.npy\n"
          ]
        },
        {
          "output_type": "stream",
          "name": "stderr",
          "text": [
            "\r100%|█████████▉| 833/836 [17:44<00:03,  1.27s/it]"
          ]
        },
        {
          "output_type": "stream",
          "name": "stdout",
          "text": [
            "/content/drive/MyDrive/CS376/music_src/audionautix/mtat/npy/HillbillyBed_29_58.npy\n"
          ]
        },
        {
          "output_type": "stream",
          "name": "stderr",
          "text": [
            "\r100%|█████████▉| 834/836 [17:46<00:02,  1.27s/it]"
          ]
        },
        {
          "output_type": "stream",
          "name": "stdout",
          "text": [
            "/content/drive/MyDrive/CS376/music_src/audionautix/mtat/npy/MarathonMan.npy\n"
          ]
        },
        {
          "output_type": "stream",
          "name": "stderr",
          "text": [
            "\r100%|█████████▉| 835/836 [17:47<00:01,  1.27s/it]"
          ]
        },
        {
          "output_type": "stream",
          "name": "stdout",
          "text": [
            "/content/drive/MyDrive/CS376/music_src/audionautix/mtat/npy/RiverMeditation.npy\n"
          ]
        },
        {
          "output_type": "stream",
          "name": "stderr",
          "text": [
            "100%|██████████| 836/836 [17:48<00:00,  1.28s/it]"
          ]
        },
        {
          "output_type": "stream",
          "name": "stdout",
          "text": [
            "/content/drive/MyDrive/CS376/music_src/audionautix/mtat/npy/TheMightyKingdom_29_58.npy\n"
          ]
        },
        {
          "output_type": "stream",
          "name": "stderr",
          "text": [
            "\n"
          ]
        }
      ],
      "source": [
        "# Preprocessing\n",
        "# preprocessing/mtat_read.py\n",
        "class Processor:\n",
        "  def __init__(self):\n",
        "    self.fs = 16000\n",
        "    \n",
        "  def get_paths(self, data_path):\n",
        "    self.files = glob.glob(os.path.join(data_path, '*.wav'))\n",
        "    # print(data_path)\n",
        "    self.npy_path = os.path.join(data_path, 'mtat', 'npy')\n",
        "    if not os.path.exists(self.npy_path):\n",
        "      os.makedirs(self.npy_path)\n",
        "   \n",
        "  def get_npy(self, fn):\n",
        "    x, sr = librosa.core.load(fn, sr = self.fs)\n",
        "    return x\n",
        "    \n",
        "  def iterate(self, data_path):\n",
        "    iter_cnt = 0\n",
        "    self.get_paths(data_path)\n",
        "    for fn in tqdm.tqdm(self.files):\n",
        "      npy_fn = os.path.join(self.npy_path, fn.split('/')[-1][:-3]+'npy')\n",
        "      if not os.path.exists(npy_fn):\n",
        "        try:\n",
        "          x = self.get_npy(fn)\n",
        "          print(npy_fn)\n",
        "          np.save(open(npy_fn, 'wb'), x)\n",
        "        except RuntimeError:\n",
        "          # some audio files are broken\n",
        "          print(fn)\n",
        "          continue\n",
        "\n",
        "p = Processor()\n",
        "directory = '/content/drive/MyDrive/CS376/music_src/audionautix/'\n",
        "p.iterate(directory)"
      ]
    },
    {
      "cell_type": "markdown",
      "source": [
        "###Modules\n",
        "\n",
        "Some module classes that are needed for the following models."
      ],
      "metadata": {
        "id": "rc5afidpYRHG"
      }
    },
    {
      "cell_type": "code",
      "source": [
        "# training/modules.py\n",
        "class Conv_1d(nn.Module):\n",
        "    def __init__(self, input_channels, output_channels, shape=3, stride=1, pooling=2):\n",
        "        super(Conv_1d, self).__init__()\n",
        "        self.conv = nn.Conv1d(input_channels, output_channels, shape, stride=stride, padding=shape//2)\n",
        "        self.bn = nn.BatchNorm1d(output_channels)\n",
        "        self.relu = nn.ReLU()\n",
        "        self.mp = nn.MaxPool1d(pooling)\n",
        "    def forward(self, x):\n",
        "        out = self.mp(self.relu(self.bn(self.conv(x))))\n",
        "        return out\n",
        "\n",
        "class Conv_2d(nn.Module):\n",
        "    def __init__(self, input_channels, output_channels, shape=3, stride=1, pooling=2):\n",
        "        super(Conv_2d, self).__init__()\n",
        "        self.conv = nn.Conv2d(input_channels, output_channels, shape, stride=stride, padding=shape//2)\n",
        "        self.bn = nn.BatchNorm2d(output_channels)\n",
        "        self.relu = nn.ReLU()\n",
        "        self.mp = nn.MaxPool2d(pooling)\n",
        "    def forward(self, x):\n",
        "        out = self.mp(self.relu(self.bn(self.conv(x))))\n",
        "        return out\n",
        "\n",
        "class Conv_V(nn.Module):\n",
        "    # vertical convolution\n",
        "    def __init__(self, input_channels, output_channels, filter_shape):\n",
        "        super(Conv_V, self).__init__()\n",
        "        self.conv = nn.Conv2d(input_channels, output_channels, filter_shape,\n",
        "                              padding=(0, filter_shape[1]//2))\n",
        "        self.bn = nn.BatchNorm2d(output_channels)\n",
        "        self.relu = nn.ReLU()\n",
        "\n",
        "    def forward(self, x):\n",
        "        x = self.relu(self.bn(self.conv(x)))\n",
        "        freq = x.size(2)\n",
        "        out = nn.MaxPool2d((freq, 1), stride=(freq, 1))(x)\n",
        "        out = out.squeeze(2)\n",
        "        return out\n",
        "\n",
        "\n",
        "class Conv_H(nn.Module):\n",
        "    # horizontal convolution\n",
        "    def __init__(self, input_channels, output_channels, filter_length):\n",
        "        super(Conv_H, self).__init__()\n",
        "        self.conv = nn.Conv1d(input_channels, output_channels, filter_length,\n",
        "                              padding=filter_length//2)\n",
        "        self.bn = nn.BatchNorm1d(output_channels)\n",
        "        self.relu = nn.ReLU()\n",
        "\n",
        "    def forward(self, x):\n",
        "        freq = x.size(2)\n",
        "        out = nn.AvgPool2d((freq, 1), stride=(freq, 1))(x)\n",
        "        out = out.squeeze(2)\n",
        "        out = self.relu(self.bn(self.conv(out)))\n",
        "        return out"
      ],
      "metadata": {
        "id": "VesqUC6yYV-p"
      },
      "execution_count": null,
      "outputs": []
    },
    {
      "cell_type": "markdown",
      "source": [
        "###Model\n"
      ],
      "metadata": {
        "id": "CcVJenGLnoJQ"
      }
    },
    {
      "cell_type": "markdown",
      "source": [
        "#####Before moving on, don't forget to choose the model and specify the total number of tags first"
      ],
      "metadata": {
        "id": "BsqX81YT5RI8"
      }
    },
    {
      "cell_type": "code",
      "source": [
        "TAG_NUM =  30#@param {type:\"number\"}\n",
        "MODEL = 'musicnn' #@param [\"crnn\", \"musicnn\"]"
      ],
      "metadata": {
        "id": "xdVtFKK95L7Q"
      },
      "execution_count": null,
      "outputs": []
    },
    {
      "cell_type": "markdown",
      "source": [
        "#####Now you can run the code!"
      ],
      "metadata": {
        "id": "KB0UuEu95d8U"
      }
    },
    {
      "cell_type": "code",
      "execution_count": null,
      "metadata": {
        "id": "VM0uckL6_Ce-"
      },
      "outputs": [],
      "source": [
        "# training/model.py\n",
        "SEED = 4\n",
        "if MODEL == \"musicnn\":\n",
        "  SEED = 2\n",
        "np.random.seed(SEED)\n",
        "class CRNN(nn.Module):\n",
        "    '''\n",
        "    Choi et al. 2017\n",
        "    Convolution recurrent neural networks for music classification.\n",
        "    Feature extraction with CNN + temporal summary with RNN\n",
        "    '''\n",
        "    def __init__(self,\n",
        "                sample_rate=16000,\n",
        "                n_fft=512,\n",
        "                f_min=0.0,\n",
        "                f_max=8000.0,\n",
        "                n_mels=128,\n",
        "                n_class=TAG_NUM):\n",
        "        super(CRNN, self).__init__()\n",
        "\n",
        "        # Spectrogram\n",
        "        self.spec = torchaudio.transforms.MelSpectrogram(sample_rate=sample_rate,\n",
        "                                                         n_fft=n_fft,\n",
        "                                                         f_min=f_min,\n",
        "                                                         f_max=f_max,\n",
        "                                                         n_mels=n_mels)\n",
        "        self.to_db = torchaudio.transforms.AmplitudeToDB()\n",
        "        self.spec_bn = nn.BatchNorm2d(1)\n",
        "\n",
        "        # CNN\n",
        "        self.layer1 = Conv_2d(1, 64, pooling=(2,2))\n",
        "        self.layer2 = Conv_2d(64, 128, pooling=(3,3))\n",
        "        self.layer3 = Conv_2d(128, 128, pooling=(4,4))\n",
        "        self.layer4 = Conv_2d(128, 128, pooling=(4,4))\n",
        "\n",
        "        # RNN\n",
        "        self.layer5 = nn.GRU(128, 64, 2, batch_first=True)\n",
        "\n",
        "        # Dense\n",
        "        self.dropout = nn.Dropout(0.1)\n",
        "        self.dense = nn.Linear(64, TAG_NUM)\n",
        "\n",
        "    def forward(self, x):\n",
        "        # Spectrogram\n",
        "        x = self.spec(x)\n",
        "        x = self.to_db(x)\n",
        "        x = x.unsqueeze(1)\n",
        "        x = self.spec_bn(x)\n",
        "\n",
        "        # CCN\n",
        "        x = self.layer1(x)\n",
        "        x = self.layer2(x)\n",
        "        x = self.layer3(x)\n",
        "        x = self.layer4(x)\n",
        "\n",
        "        # RNN\n",
        "        x = x.squeeze(2)\n",
        "        x = x.permute(0, 2, 1)\n",
        "        x, _ = self.layer5(x)\n",
        "        x = x[:, -1, :]\n",
        "\n",
        "        # Dense\n",
        "        x = self.dropout(x)\n",
        "        x = self.dense(x)\n",
        "        x = nn.Sigmoid()(x)\n",
        "\n",
        "        return x\n",
        "\n",
        "\n",
        "class Musicnn(nn.Module):\n",
        "    '''\n",
        "    Pons et al. 2017\n",
        "    End-to-end learning for music audio tagging at scale.\n",
        "    This is the updated implementation of the original paper. Referred to the Musicnn code.\n",
        "    https://github.com/jordipons/musicnn\n",
        "    '''\n",
        "    def __init__(self,\n",
        "                sample_rate=16000,\n",
        "                n_fft=512,\n",
        "                f_min=0.0,\n",
        "                f_max=8000.0,\n",
        "                n_mels=96,\n",
        "                n_class=TAG_NUM,\n",
        "                dataset='mtat'):\n",
        "        super(Musicnn, self).__init__()\n",
        "\n",
        "        # Spectrogram\n",
        "        self.spec = torchaudio.transforms.MelSpectrogram(sample_rate=sample_rate,\n",
        "                                                         n_fft=n_fft,\n",
        "                                                         f_min=f_min,\n",
        "                                                         f_max=f_max,\n",
        "                                                         n_mels=n_mels)\n",
        "        self.to_db = torchaudio.transforms.AmplitudeToDB()\n",
        "        self.spec_bn = nn.BatchNorm2d(1)\n",
        "\n",
        "        # Pons front-end\n",
        "        m1 = Conv_V(1, 204, (int(0.7*96), 7))\n",
        "        m2 = Conv_V(1, 204, (int(0.4*96), 7))\n",
        "        m3 = Conv_H(1, 51, 129)\n",
        "        m4 = Conv_H(1, 51, 65)\n",
        "        m5 = Conv_H(1, 51, 33)\n",
        "        self.layers = nn.ModuleList([m1, m2, m3, m4, m5])\n",
        "\n",
        "        # Pons back-end\n",
        "        backend_channel= 64\n",
        "        self.layer1 = Conv_1d(561, backend_channel, 7, 1, 1)\n",
        "        self.layer2 = Conv_1d(backend_channel, backend_channel, 7, 1, 1)\n",
        "        self.layer3 = Conv_1d(backend_channel, backend_channel, 7, 1, 1)\n",
        "        self.layer4 = Conv_1d(backend_channel, backend_channel, 7, 1, 1)\n",
        "\n",
        "        # Dense\n",
        "        dense_channel = 200\n",
        "        self.dense1 = nn.Linear((561+(backend_channel*4))*2, dense_channel)\n",
        "        self.bn = nn.BatchNorm1d(dense_channel)\n",
        "        self.relu = nn.ReLU()\n",
        "        self.dropout = nn.Dropout(0.1)\n",
        "        self.dense2 = nn.Linear(dense_channel, n_class)\n",
        "\n",
        "    def forward(self, x):\n",
        "        # Spectrogram\n",
        "        x = self.spec(x)\n",
        "        x = self.to_db(x)\n",
        "        x = x.unsqueeze(1)\n",
        "        x = self.spec_bn(x)\n",
        "\n",
        "        # Pons front-end\n",
        "        out = []\n",
        "        for layer in self.layers:\n",
        "            out.append(layer(x))\n",
        "        out = torch.cat(out, dim=1)\n",
        "\n",
        "        # Pons back-end\n",
        "        length = out.size(2)\n",
        "        res1 = self.layer1(out)\n",
        "        res2 = self.layer2(res1) + res1\n",
        "        res3 = self.layer3(res2) + res2\n",
        "        res4 = self.layer4(res3) + res3\n",
        "        out = torch.cat([out, res1, res2, res3, res4], 1)\n",
        "\n",
        "        mp = nn.MaxPool1d(length)(out)\n",
        "        avgp = nn.AvgPool1d(length)(out)\n",
        "\n",
        "        out = torch.cat([mp, avgp], dim=1)\n",
        "        out = out.squeeze(2)\n",
        "\n",
        "        out = self.relu(self.bn(self.dense1(out)))\n",
        "        out = self.dropout(out)\n",
        "        out = self.dense2(out)\n",
        "        out = nn.Sigmoid()(out)\n",
        "\n",
        "        return out"
      ]
    },
    {
      "cell_type": "code",
      "execution_count": null,
      "metadata": {
        "id": "-yW7uSMc_FeB"
      },
      "outputs": [],
      "source": [
        "from scipy.stats import rankdata\n",
        "\n",
        "# training/solver.py\n",
        "if TAG_NUM == 30:\n",
        "  TAGS = ['calming', 'relaxing', 'uplifting', 'bright', 'grooving', 'energy', 'sad',\n",
        "          'driving', 'bouncy', 'dark', 'pensive', 'somber', 'epic', 'cool',\n",
        "          'guest-composer', 'groove', 'meloncholy', 'mysterious', 'moody', 'meditative',\n",
        "          'intense', 'humorous', 'short-bits', 'suspenseful', 'christmas', 'action',\n",
        "          'aggressive', 'meditation', 'melancholy', 'dramatic', 'vocal', 'dance',\n",
        "          'soothing', 'light', 'happy', 'angry', 'ominous', 'evil', 'inspiration',\n",
        "          'bird-house-music', 'goofy', 'silly', 'smooth', 'chill', 'bossa-nova', 'jazz']\n",
        "else:\n",
        "  TAGS = ['calming' 'relaxing' 'uplifting' 'bright' 'grooving' 'energy' 'sad'\n",
        "          'driving' 'bouncy' 'dark' 'pensive' 'somber' 'epic' 'cool' 'melancholy'\n",
        "          'mysterious' 'moody' 'meditation' 'intense' 'humorous' 'suspenseful'\n",
        "          'christmas' 'action' 'aggressive' 'dramatic' 'soothing' 'happy' 'angry'\n",
        "          'ominous' 'jazz']\n",
        "\n",
        "def read_file(tsv_file):\n",
        "    tracks = {}\n",
        "    with open(tsv_file) as fp:\n",
        "        reader = csv.reader(fp, delimiter='\\t')\n",
        "        next(reader, None)  # skip header\n",
        "        for row in reader:\n",
        "            track_id = row[0]\n",
        "            tracks[track_id] = {\n",
        "                'path': row[3].replace('.\\wav', '.npy'),\n",
        "                'tags': row[5:],\n",
        "            }\n",
        "    return tracks\n",
        "\n",
        "class Solver(object):\n",
        "    def __init__(self, data_loader, config):\n",
        "        # data loader\n",
        "        self.data_loader = data_loader\n",
        "        self.dataset = config[\"dataset\"]\n",
        "        self.data_path = config[\"data_path\"]\n",
        "        self.input_length = config[\"input_length\"]\n",
        "\n",
        "        # training settings\n",
        "        self.n_epochs = config[\"n_epochs\"]\n",
        "        self.lr = config[\"lr\"]\n",
        "        self.use_tensorboard = config[\"use_tensorboard\"]\n",
        "\n",
        "        # model path and step size\n",
        "        self.model_save_path = config[\"model_save_path\"]\n",
        "        self.model_load_path = config[\"model_load_path\"]\n",
        "        self.log_step = config[\"log_step\"]\n",
        "        self.batch_size = config[\"batch_size\"]\n",
        "        self.model_type = config[\"model_type\"]\n",
        "\n",
        "        # Build model\n",
        "        self.get_dataset()\n",
        "        self.build_model()\n",
        "\n",
        "        # Tensorboard\n",
        "        self.writer = SummaryWriter()\n",
        "\n",
        "        self.file_count = 0\n",
        "\n",
        "    def get_dataset(self):\n",
        "        if self.dataset == 'mtat':\n",
        "          if TAG_NUM == 30:\n",
        "            self.train_list = np.load('./../split/mtat/30_train.npy')\n",
        "            self.valid_list = np.load('./../split/mtat/30_valid.npy')\n",
        "            self.binary = np.load('./../split/mtat/30_binary.npy')\n",
        "          else:\n",
        "            self.train_list = np.load('./../split/mtat/46_train.npy')\n",
        "            self.valid_list = np.load('./../split/mtat/46_valid.npy')\n",
        "            self.binary = np.load('./../split/mtat/46_binary.npy')\n",
        "            # self.train_list = np.load('./../split/mtat/train.npy')\n",
        "            # self.valid_list = np.load('./../split/mtat/valid.npy')\n",
        "            # self.binary = np.load('./../split/mtat/binary.npy')\n",
        "\n",
        "    def get_model(self):\n",
        "        if self.model_type == 'crnn':\n",
        "            return crnn\n",
        "        elif self.model_type == 'musicnn':\n",
        "            return musicnn\n",
        "\n",
        "    def build_model(self):\n",
        "        # model\n",
        "        self.model = self.get_model()\n",
        "\n",
        "        # load pretrained model\n",
        "        if len(self.model_load_path) > 1:\n",
        "            self.load(self.model_load_path)\n",
        "\n",
        "        # optimizers\n",
        "        self.optimizer = torch.optim.Adam(self.model.parameters(), self.lr, weight_decay=1e-4)\n",
        "\n",
        "    def load(self, filename):\n",
        "        S = torch.load(filename)\n",
        "        if 'spec.mel_scale.fb' in S.keys():\n",
        "            self.model.spec.mel_scale.fb = S['spec.mel_scale.fb']\n",
        "        self.model.load_state_dict(S)\n",
        "\n",
        "    def to_var(self, x):\n",
        "        return Variable(x)\n",
        "\n",
        "    def get_loss_function(self):\n",
        "        # return nn.BCELoss()\n",
        "        return nn.BCEWithLogitsLoss()\n",
        "\n",
        "    def train(self):\n",
        "        # Start training\n",
        "        print(\"start training with %s model...\" %(self.model_type))\n",
        "        start_t = time.time()\n",
        "        reconst_loss = self.get_loss_function()\n",
        "        best_metric = 0\n",
        "        drop_counter = 0\n",
        "\n",
        "        # Iterate\n",
        "        for epoch in range(self.n_epochs):\n",
        "            ctr = 0\n",
        "            drop_counter += 1\n",
        "            self.model = self.model.train()\n",
        "            for x, y in self.data_loader:\n",
        "                ctr += 1\n",
        "                # Forward\n",
        "                x = self.to_var(x)\n",
        "                y = self.to_var(y)\n",
        "                out = self.model(x)\n",
        "\n",
        "                # Backward\n",
        "                loss = reconst_loss(out, y)\n",
        "                self.optimizer.zero_grad()\n",
        "                loss.backward()\n",
        "                self.optimizer.step()\n",
        "                \n",
        "            self.writer.add_scalar('Loss/train', loss.item(), epoch)\n",
        "\n",
        "        print(\"[%s] Train finished. Elapsed: %s\"\n",
        "                % (datetime.datetime.now().strftime('%Y-%m-%d %H:%M:%S'),\n",
        "                    datetime.timedelta(seconds=time.time() - start_t)))\n",
        "\n",
        "    def save(self, filename):\n",
        "        model = self.model.state_dict()\n",
        "        torch.save({'model': model}, filename)\n",
        "\n",
        "    def get_tensor(self, fn):\n",
        "      # load audio\n",
        "      if self.dataset == 'mtat':\n",
        "          npy_path = os.path.join(self.data_path, 'mtat', 'npy', fn[:-3]) + 'npy'\n",
        "      raw = np.load(npy_path, mmap_mode='r')\n",
        "\n",
        "      # split chunk\n",
        "      length = len(raw)\n",
        "      hop = (length - self.input_length) // self.batch_size\n",
        "      x = torch.zeros(self.batch_size, self.input_length)\n",
        "      for i in range(self.batch_size):\n",
        "          x[i] = torch.Tensor(raw[i*hop:i*hop+self.input_length]).unsqueeze(0)\n",
        "      return x"
      ]
    },
    {
      "cell_type": "code",
      "execution_count": null,
      "metadata": {
        "id": "NWm1uaB-AuSh"
      },
      "outputs": [],
      "source": [
        "# coding: utf-8\n",
        "import os\n",
        "import numpy as np\n",
        "from torch.utils import data\n",
        "\n",
        "class AudioFolder(data.Dataset):\n",
        "  def __init__(self, root, split, input_length=None):\n",
        "    self.root = root\n",
        "    self.split = split\n",
        "    self.input_length = input_length\n",
        "    self.get_songlist()\n",
        "    if TAG_NUM == 30:\n",
        "      self.binary = np.load('./../split/mtat/30_binary.npy')\n",
        "    else:\n",
        "      self.binary = np.load('./../split/mtat/46_binary.npy')\n",
        "    # self.binary = np.load('./../split/mtat/binary.npy')\n",
        "    self.count = 0;\n",
        "\n",
        "  def __getitem__(self, index):\n",
        "    npy, tag_binary, exist = self.get_npy(index)\n",
        "    return npy.astype('float32'), tag_binary.astype('float32')\n",
        "\n",
        "  def get_songlist(self):\n",
        "    if self.split == 'TRAIN':\n",
        "      if TAG_NUM == 30:\n",
        "        self.fl = np.load('./../split/mtat/30_train.npy')\n",
        "      else:\n",
        "        self.fl = np.load('./../split/mtat/46_train.npy')\n",
        "      # self.fl = np.load('./../split/mtat/train.npy')\n",
        "    elif self.split == 'VALID':\n",
        "      if TAG_NUM == 30:\n",
        "        self.fl = np.load('./../split/mtat/30_valid.npy')\n",
        "      else:\n",
        "        self.fl = np.load('./../split/mtat/46_valid.npy')\n",
        "      # self.fl = np.load('./../split/mtat/valid.npy')\n",
        "    elif self.split == 'TEST':\n",
        "      if TAG_NUM == 30:\n",
        "        self.fl = np.load('./../split/mtat/30_test.npy')\n",
        "      else:\n",
        "        self.fl = np.load('./../split/mtat/46_test.npy')\n",
        "      # self.fl = np.load('./../split/mtat/test.npy')\n",
        "    else:\n",
        "      print('Split should be one of [TRAIN, VALID, TEST]')\n",
        "\n",
        "  def get_npy(self, index):\n",
        "    ix, fn = self.fl[index].split('\\t')\n",
        "    npy_path = os.path.join(self.root, 'mtat', 'npy', fn[:-3]) + 'npy'\n",
        "    if self.count % 50 == 0:\n",
        "      print(\"\b\\nOpen count:\", self.count, \"Current file\", npy_path)\n",
        "    self.count += 1\n",
        "    npy, tag_binary = None, None\n",
        "    exist = True\n",
        "    npy = np.load(npy_path, mmap_mode='r')\n",
        "    # random_idx = int(np.floor(np.random.random(1) * (len(npy)-self.input_length)))\n",
        "    # npy = np.array(npy[random_idx:random_idx+self.input_length])\n",
        "    npy = np.array(npy[-self.input_length:])\n",
        "    tag_binary = self.binary[int(ix)]\n",
        "    return npy, tag_binary, exist\n",
        "\n",
        "  def __len__(self):\n",
        "    return len(self.fl)\n",
        "\n",
        "def get_audio_loader(root, batch_size, split='TRAIN', num_workers=0, input_length=None):\n",
        "  data_loader = data.DataLoader(dataset=AudioFolder(root, split=split, input_length=input_length),\n",
        "    batch_size=batch_size,\n",
        "    shuffle=False,\n",
        "    drop_last=False,\n",
        "    num_workers=num_workers)\n",
        "  return data_loader"
      ]
    },
    {
      "cell_type": "markdown",
      "source": [
        "###\bTraining"
      ],
      "metadata": {
        "id": "kSWO3a5LDx3u"
      }
    },
    {
      "cell_type": "markdown",
      "source": [
        "#####Code for training"
      ],
      "metadata": {
        "id": "-UHRRDo7GmzH"
      }
    },
    {
      "cell_type": "code",
      "execution_count": null,
      "metadata": {
        "id": "OPXRnWqU_LX-",
        "colab": {
          "base_uri": "https://localhost:8080/"
        },
        "outputId": "f43c1b86-b704-41c4-c2f3-57be5dffab50"
      },
      "outputs": [
        {
          "output_type": "stream",
          "name": "stderr",
          "text": [
            "/usr/local/lib/python3.7/dist-packages/torchaudio/functional/functional.py:508: UserWarning: At least one mel filterbank has all zero values. The value for `n_mels` (128) may be set too high. Or, the value for `n_freqs` (257) may be set too low.\n",
            "  \"At least one mel filterbank has all zero values. \"\n"
          ]
        },
        {
          "output_type": "execute_result",
          "data": {
            "text/plain": [
              "_StoreAction(option_strings=['--model_type'], dest='model_type', nargs=None, const=None, default='musicnn', type=<class 'str'>, choices=None, help=None, metavar=None)"
            ]
          },
          "metadata": {},
          "execution_count": 12
        }
      ],
      "source": [
        "# training/main.py\n",
        "crnn = CRNN()\n",
        "musicnn = Musicnn()\n",
        "\n",
        "def main(config):\n",
        "    np.random.seed(SEED)\n",
        "    # path for models\n",
        "    if not os.path.exists(config[\"model_save_path\"]):\n",
        "        os.makedirs(config[\"model_save_path\"])\n",
        "\n",
        "    # import data loader\n",
        "\n",
        "    # audio length\n",
        "    if config[\"model_type\"] == 'crnn':\n",
        "        config[\"input_length\"] = 29 * 16000\n",
        "    elif config[\"model_type\"] == 'musicnn':\n",
        "        #config[\"input_length\"] = 3 * 16000\n",
        "        config[\"input_length\"] = 29 * 16000\n",
        "\n",
        "    # get data loder\n",
        "    train_loader = get_audio_loader(config[\"data_path\"],\n",
        "                                    config[\"batch_size\"],\n",
        "\t\t\t\t\t\t\t\t\t                  split='TRAIN',\n",
        "                                    input_length=config[\"input_length\"],\n",
        "                                    num_workers=config[\"num_workers\"])\n",
        "    solver = Solver(train_loader, config)\n",
        "    solver.train()\n",
        "\n",
        "# if __name__ == '__main__':\n",
        "parser = argparse.ArgumentParser(formatter_class=argparse.ArgumentDefaultsHelpFormatter)\n",
        "\n",
        "parser.add_argument('--num_workers', type=int, default=0)\n",
        "parser.add_argument('--dataset', type=str, default='mtat')\n",
        "parser.add_argument('--n_epochs', type=int, default=1) # 200\n",
        "parser.add_argument('--batch_size', type=int, default=32)\n",
        "parser.add_argument('--lr', type=float, default=0.0001)\n",
        "parser.add_argument('--use_tensorboard', type=int, default=1)\n",
        "parser.add_argument('--model_save_path', type=str, default='/content/drive/MyDrive/CS376/')\n",
        "parser.add_argument('--model_load_path', type=str, default='.')\n",
        "parser.add_argument('--data_path', type=str, default='/content/drive/MyDrive/CS376/music_src/audionautix/')\n",
        "parser.add_argument('--log_step', type=int, default=20)\n",
        "parser.add_argument(\"-f\", \"--file\", required=False) \n",
        "parser.add_argument('--model_type', type=str, default=MODEL)"
      ]
    },
    {
      "cell_type": "markdown",
      "source": [
        "#####Start training"
      ],
      "metadata": {
        "id": "wXB_WXp6Gihj"
      }
    },
    {
      "cell_type": "code",
      "source": [
        "# current directory position (!pwd) should be like below\n",
        "# content/drive/MyDrive/CS376/split\n",
        "\n",
        "# use cd to move to proper directory\n",
        "# !pwd\n",
        "%cd ./drive/MyDrive/CS376/split\n",
        "\n",
        "config = vars(parser.parse_args())\n",
        "main(config)"
      ],
      "metadata": {
        "id": "GtB5iihhLNv6",
        "colab": {
          "base_uri": "https://localhost:8080/"
        },
        "outputId": "c29af680-0730-4b32-bebc-370a755a328a"
      },
      "execution_count": null,
      "outputs": [
        {
          "output_type": "stream",
          "name": "stdout",
          "text": [
            "/content/drive/MyDrive/CS376/split\n",
            "start training with musicnn model...\n",
            "\b\n",
            "Open count: 0 Current file /content/drive/MyDrive/CS376/music_src/audionautix/mtat/npy/HipHop1_29_58.npy\n",
            "\b\n",
            "Open count: 50 Current file /content/drive/MyDrive/CS376/music_src/audionautix/mtat/npy/DatGrooveFullTrack.npy\n",
            "\b\n",
            "Open count: 100 Current file /content/drive/MyDrive/CS376/music_src/audionautix/mtat/npy/AMomentsReflection_58_87.npy\n",
            "\b\n",
            "Open count: 150 Current file /content/drive/MyDrive/CS376/music_src/audionautix/mtat/npy/90SecondsOfFunk_58_87.npy\n",
            "\b\n",
            "Open count: 200 Current file /content/drive/MyDrive/CS376/music_src/audionautix/mtat/npy/RightOnRedFull_29_58.npy\n",
            "\b\n",
            "Open count: 250 Current file /content/drive/MyDrive/CS376/music_src/audionautix/mtat/npy/Clouds_58_87.npy\n",
            "\b\n",
            "Open count: 300 Current file /content/drive/MyDrive/CS376/music_src/audionautix/mtat/npy/Essence2.npy\n",
            "\b\n",
            "Open count: 350 Current file /content/drive/MyDrive/CS376/music_src/audionautix/mtat/npy/TheBigHouse_29_58.npy\n",
            "\b\n",
            "Open count: 400 Current file /content/drive/MyDrive/CS376/music_src/audionautix/mtat/npy/Transcend_58_87.npy\n",
            "\b\n",
            "Open count: 450 Current file /content/drive/MyDrive/CS376/music_src/audionautix/mtat/npy/TheContract.npy\n",
            "\b\n",
            "Open count: 500 Current file /content/drive/MyDrive/CS376/music_src/audionautix/mtat/npy/BustinLoose.npy\n",
            "\b\n",
            "Open count: 550 Current file /content/drive/MyDrive/CS376/music_src/audionautix/mtat/npy/RedwoodHighway_58_87.npy\n",
            "\b\n",
            "Open count: 600 Current file /content/drive/MyDrive/CS376/music_src/audionautix/mtat/npy/ChecksForFree_29_58.npy\n",
            "[2022-06-08 15:03:22] Train finished. Elapsed: 0:49:35.749636\n"
          ]
        }
      ]
    },
    {
      "cell_type": "markdown",
      "source": [
        "###Evaluation"
      ],
      "metadata": {
        "id": "mqQYISXtxDZf"
      }
    },
    {
      "cell_type": "markdown",
      "source": [
        "#####Code for evaluation"
      ],
      "metadata": {
        "id": "qq6v1SNDGrpg"
      }
    },
    {
      "cell_type": "code",
      "source": [
        "if TAG_NUM == 30:\n",
        "  TAGS = ['calming' 'relaxing' 'uplifting' 'bright' 'grooving' 'energy' 'sad'\n",
        "          'driving' 'bouncy' 'dark' 'pensive' 'somber' 'epic' 'cool' 'melancholy'\n",
        "          'mysterious' 'moody' 'meditation' 'intense' 'humorous' 'suspenseful'\n",
        "          'christmas' 'action' 'aggressive' 'dramatic' 'soothing' 'happy' 'angry'\n",
        "          'ominous' 'jazz']\n",
        "else:\n",
        "  TAGS = ['calming', 'relaxing', 'uplifting', 'bright', 'grooving', 'energy', 'sad',\n",
        "          'driving', 'bouncy', 'dark', 'pensive', 'somber', 'epic', 'cool',\n",
        "          'guest-composer', 'groove', 'meloncholy', 'mysterious', 'moody', 'meditative',\n",
        "          'intense', 'humorous', 'short-bits', 'suspenseful', 'christmas', 'action',\n",
        "          'aggressive', 'meditation', 'melancholy', 'dramatic', 'vocal', 'dance',\n",
        "          'soothing', 'light', 'happy', 'angry', 'ominous', 'evil', 'inspiration',\n",
        "          'bird-house-music', 'goofy', 'silly', 'smooth', 'chill', 'bossa-nova', 'jazz']\n",
        "        \n",
        "def read_file(tsv_file):\n",
        "    tracks = {}\n",
        "    with open(tsv_file) as fp:\n",
        "        reader = csv.reader(fp, delimiter='\\t')\n",
        "        next(reader, None)  # skip header\n",
        "        for row in reader:\n",
        "            track_id = row[0]\n",
        "            tracks[track_id] = {\n",
        "                'path': row[3].replace('.wav', '.npy'),\n",
        "                'tags': row[5:],\n",
        "            }\n",
        "    return tracks\n",
        "\n",
        "class Predict(object):\n",
        "    def __init__(self):\n",
        "        self.model_type = MODEL\n",
        "        self.model_load_path = '/content/drive/MyDrive/CS376/training/model.py'\n",
        "        self.dataset = 'mtat'\n",
        "        self.data_path = '/content/drive/MyDrive/CS376/music_src/audionautix'\n",
        "        self.batch_size = 16\n",
        "        self.build_model()\n",
        "        self.get_dataset()\n",
        "\n",
        "    def get_model(self):\n",
        "        if self.model_type == 'crnn':\n",
        "            self.input_length = 29 * 16000\n",
        "            return crnn\n",
        "        elif self.model_type == 'musicnn':\n",
        "            #self.input_length = 3 * 16000\n",
        "            self.input_length = 29 * 16000\n",
        "            return musicnn\n",
        "        else:\n",
        "            print('model_type has to be one of [musicnn, crnn]')\n",
        "\n",
        "    def build_model(self):\n",
        "        self.model = self.get_model()\n",
        "\n",
        "    def get_dataset(self):\n",
        "        if self.dataset == 'mtat':\n",
        "          if TAG_NUM == 30:\n",
        "              self.valid_list = np.load('./../split/mtat/30_valid.npy')\n",
        "              self.test_list = np.load('./../split/mtat/30_test.npy')\n",
        "              self.binary = np.load('./../split/mtat/30_binary.npy')\n",
        "          else:\n",
        "              self.valid_list = np.load('./../split/mtat/46_valid.npy')\n",
        "              self.test_list = np.load('./../split/mtat/46_test.npy')\n",
        "              self.binary = np.load('./../split/mtat/46_binary.npy')\n",
        "          # small-size data with 46 tags\n",
        "              # self.valid_list = np.load('./../split/mtat/valid.npy')\n",
        "              # self.test_list = np.load('./../split/mtat/test.npy')\n",
        "              # self.binary = np.load('./../split/mtat/binary.npy')\n",
        "\n",
        "    def load(self, filename):\n",
        "        print(\"file load\", filename)\n",
        "        S = torch.load(filename)\n",
        "        if 'spec.mel_scale.fb' in S.keys():\n",
        "            self.model.spec.mel_scale.fb = S['spec.mel_scale.fb']\n",
        "        self.model.load_state_dict(S)\n",
        "\n",
        "    def to_var(self, x):\n",
        "        return Variable(x)\n",
        "\n",
        "    def get_tensor(self, fn):\n",
        "        # load audio\n",
        "        if self.dataset == 'mtat':\n",
        "            npy_path = os.path.join(self.data_path, 'mtat', 'npy', fn[:-3]) + 'npy'\n",
        "        raw = np.load(npy_path, mmap_mode='r')\n",
        "\n",
        "        # split chunk\n",
        "        length = len(raw)\n",
        "        hop = (length - self.input_length) // self.batch_size\n",
        "        x = torch.zeros(self.batch_size, self.input_length)\n",
        "        for i in range(self.batch_size):\n",
        "            x[i] = torch.Tensor(raw[i*hop:i*hop+self.input_length]).unsqueeze(0)\n",
        "        return x\n",
        "\n",
        "    def get_auc(self, est_array, gt_array):\n",
        "        accuracy = []\n",
        "        precision = []\n",
        "        recall = []\n",
        "        f1 = []\n",
        "        roc = []\n",
        "        pr = []\n",
        "\n",
        "        hit_count = 0\n",
        "        for i in range(len(gt_array)):\n",
        "          hit = 0\n",
        "          y_true = gt_array[i].astype(np.float32)\n",
        "          y_true = y_true.astype(np.int32)\n",
        "          y_pred = est_array[i]\n",
        "          # ranks = rankdata(y_pred)\n",
        "          for j in range(len(y_pred)):\n",
        "            # print(y_pred[j], y_true[j])\n",
        "            if y_pred[j] > 0.52:\n",
        "              y_pred[j] = 1\n",
        "              if y_true[j] == 1:\n",
        "                hit = 1\n",
        "            else:\n",
        "              y_pred[j] = 0\n",
        "\n",
        "          hit_count += hit\n",
        "          y_pred = y_pred.astype(np.int32)\n",
        "          # using confusion matrix\n",
        "          accuracy_score = metrics.accuracy_score(y_true, y_pred)\n",
        "          precision_score = metrics.precision_score(y_true, y_pred, average='macro', zero_division=1)\n",
        "          recall_score = metrics.recall_score(y_true, y_pred, average='macro', zero_division=1)\n",
        "          f1_score = metrics.f1_score(y_true, y_pred, average='macro', zero_division=1)\n",
        "\n",
        "          accuracy.append(accuracy_score)\n",
        "          precision.append(precision_score)\n",
        "          recall.append(recall_score)\n",
        "          f1.append(f1_score)\n",
        "\n",
        "        # print(\"HIT COUNT:\", hit_count, \" out of\", len(gt_array))\n",
        "        return np.mean(accuracy), np.mean(precision), np.mean(recall), np.mean(f1)\n",
        "\n",
        "    def valid(self):\n",
        "        accuracy_score, precision_score, recall_score, f1_score, loss = self.get_test_score(1)\n",
        "        print('loss: %.4f' % loss)\n",
        "        print('accuracy_score: %.4f' % accuracy_score)    # 전체 중 모델이 바르게 분류한 비율\n",
        "        print('precision_score: %.4f' % precision_score)  # 모델이 positive라 분류한 것 중 실제 값이 positive인 비율\n",
        "        print('recall_score: %.4f' % recall_score)        # 실제 값이 positive인 것 중 모델이 positivie라 분류한 비율\n",
        "        print('f1_score: %.4f' % f1_score)                # precision과 recall의 조화평균\n",
        "\n",
        "    def test(self):\n",
        "        accuracy_score, precision_score, recall_score, f1_score, loss = self.get_test_score(2)\n",
        "        print('loss: %.4f' % loss)\n",
        "        print('accuracy_score: %.4f' % accuracy_score)    # 전체 중 모델이 바르게 분류한 비율\n",
        "        print('precision_score: %.4f' % precision_score)  # 모델이 positive라 분류한 것 중 실제 값이 positive인 비율\n",
        "        print('recall_score: %.4f' % recall_score)        # 실제 값이 positive인 것 중 모델이 positivie라 분류한 비율\n",
        "        print('f1_score: %.4f' % f1_score)                # precision과 recall의 조화평균\n",
        "\n",
        "    def get_test_score(self, vort):\n",
        "        self.model = self.model.eval()\n",
        "        est_array = []\n",
        "        gt_array = []\n",
        "        losses = []\n",
        "        reconst_loss = nn.BCEWithLogitsLoss()\n",
        "        if vort == 1:\n",
        "          print(\"start validation ...\")\n",
        "          run_list = self.valid_list\n",
        "        else:\n",
        "          print(\"start testing ...\")\n",
        "          run_list = self.test_list\n",
        "\n",
        "        for line in tqdm.tqdm(run_list):\n",
        "            if self.dataset == 'mtat':\n",
        "                ix, fn = line.split('\\t')\n",
        "\n",
        "            # load and split\n",
        "            x = self.get_tensor(fn)\n",
        "\n",
        "            # ground truth\n",
        "            if self.dataset == 'mtat':\n",
        "                ground_truth = self.binary[int(ix)]\n",
        "\n",
        "            # forward\n",
        "            x = self.to_var(x)\n",
        "            y = torch.tensor([ground_truth.astype(np.float32) for i in range(self.batch_size)]) #.cuda()\n",
        "            out = self.model(x)\n",
        "            loss = reconst_loss(out, y)\n",
        "            losses.append(float(loss.data))\n",
        "            out = out.detach().cpu()\n",
        "\n",
        "            # estimate\n",
        "            estimated = np.array(out).mean(axis=0)\n",
        "            est_array.append(estimated)\n",
        "            gt_array.append(ground_truth)\n",
        "\n",
        "        est_array, gt_array = np.array(est_array), np.array(gt_array)\n",
        "        loss = np.mean(losses)\n",
        "\n",
        "        accuracy_score, precision_score, recall_score, f1_score = self.get_auc(est_array, gt_array)\n",
        "        return accuracy_score, precision_score, recall_score, f1_score, loss"
      ],
      "metadata": {
        "id": "6ar7VxinqhmN"
      },
      "execution_count": null,
      "outputs": []
    },
    {
      "cell_type": "markdown",
      "source": [
        "#####Run validation or test, whatever you want"
      ],
      "metadata": {
        "id": "qc6zVHdeGv_Z"
      }
    },
    {
      "cell_type": "code",
      "source": [
        "p = Predict()\n",
        "\n",
        "# validation\n",
        "p.valid()\n",
        "\n",
        "# test\n",
        "p.test()"
      ],
      "metadata": {
        "colab": {
          "base_uri": "https://localhost:8080/"
        },
        "id": "vdd6gmyzGzQa",
        "outputId": "917d57c5-b3cb-482a-dcbf-7e95224f9a1c"
      },
      "execution_count": null,
      "outputs": [
        {
          "output_type": "stream",
          "name": "stdout",
          "text": [
            "start validation ...\n"
          ]
        },
        {
          "output_type": "stream",
          "name": "stderr",
          "text": [
            "\r  0%|          | 0/100 [00:00<?, ?it/s]/usr/local/lib/python3.7/dist-packages/ipykernel_launcher.py:89: UserWarning: The given NumPy array is not writable, and PyTorch does not support non-writable tensors. This means writing to this tensor will result in undefined behavior. You may want to copy the array to protect its data or make it writable before converting it to a tensor. This type of warning will be suppressed for the rest of this program. (Triggered internally at  ../torch/csrc/utils/tensor_numpy.cpp:178.)\n",
            "/usr/local/lib/python3.7/dist-packages/ipykernel_launcher.py:174: UserWarning: Creating a tensor from a list of numpy.ndarrays is extremely slow. Please consider converting the list to a single numpy.ndarray with numpy.array() before converting to a tensor. (Triggered internally at  ../torch/csrc/utils/tensor_new.cpp:210.)\n",
            "100%|██████████| 100/100 [12:54<00:00,  7.75s/it]\n"
          ]
        },
        {
          "output_type": "stream",
          "name": "stdout",
          "text": [
            "loss: 0.8958\n",
            "accuracy_score: 0.7837\n",
            "precision_score: 0.5443\n",
            "recall_score: 0.5767\n",
            "f1_score: 0.5368\n",
            "start testing ...\n"
          ]
        },
        {
          "output_type": "stream",
          "name": "stderr",
          "text": [
            "100%|██████████| 100/100 [13:07<00:00,  7.87s/it]\n"
          ]
        },
        {
          "output_type": "stream",
          "name": "stdout",
          "text": [
            "loss: 0.8998\n",
            "accuracy_score: 0.7683\n",
            "precision_score: 0.5273\n",
            "recall_score: 0.5607\n",
            "f1_score: 0.5200\n"
          ]
        }
      ]
    },
    {
      "cell_type": "markdown",
      "source": [
        "###Prediction\n",
        "\n",
        "Run this cell to load the song that you want to predict the tags.\n",
        "\n",
        "Upload widget is only available when the cell has been executed in the current browser session."
      ],
      "metadata": {
        "id": "gnkzUrYd4JgK"
      }
    },
    {
      "cell_type": "code",
      "source": [
        "SAMPLE_RATE = 16000\n",
        "DATASET = \"mtat\"\n",
        "MODEL_NAMES = {\n",
        "    \"CRNN\": \"crnn\",\n",
        "    \"MusiCNN\": \"musicnn\"\n",
        "}\n",
        "\n",
        "class Predictor():\n",
        "    def predict(self, input, variant, output_format):\n",
        "        key = MODEL\n",
        "        if TAG_NUM == 30:\n",
        "          self.tags = np.load(\"./mtat/30_tags.npy\")\n",
        "        else:\n",
        "          self.tags = np.load(\"./mtat/tags.npy\")\n",
        "        \n",
        "        if variant == 'crnn':\n",
        "          model = crnn.eval()\n",
        "          input_length = 29 * 16000\n",
        "        elif variant == \"musicnn\":\n",
        "          model = musicnn.eval()\n",
        "          #input_length = 3 * 16000\n",
        "          input_length = 29 * 16000\n",
        "        else:\n",
        "            print('model_type has to be one of [musicnn, crnn]')\n",
        "\n",
        "        signal, _ = librosa.core.load(str(input), sr=SAMPLE_RATE)\n",
        "        length = len(signal)\n",
        "        hop = length // 2 - input_length // 2\n",
        "        x = torch.zeros(1, input_length)\n",
        "        x[0] = torch.Tensor(signal[hop : hop + input_length]).unsqueeze(0)\n",
        "        x = Variable(x)\n",
        "        out = model(x)\n",
        "        result = dict(zip(self.tags, out[0].detach().numpy().tolist()))\n",
        "\n",
        "        # return result\n",
        "        result_list = list(sorted(result.items(), key=lambda x: x[1]))\n",
        "        plt.figure(figsize=[5, 10])\n",
        "        plt.barh(\n",
        "            np.arange(len(result_list)), [r[1] for r in result_list], align=\"center\"\n",
        "        )\n",
        "        plt.yticks(np.arange(len(result_list)), [r[0] for r in result_list])\n",
        "        plt.tight_layout()\n",
        "\n",
        "        print(\"TAGS of top 5 probability: \")\n",
        "        for i in range(5):\n",
        "          print(\"rank\", i+1, \": \", result_list[-i-1][0])\n",
        "\n",
        "        return result\n",
        "\n",
        "        # out_path = Path(tempfile.mkdtemp()) / \"out.png\"\n",
        "        # plt.savefig(out_path)\n",
        "        # return out_path\n",
        "\n",
        "# current directory position (!pwd) should be like below\n",
        "# content/drive/MyDrive/CS376/split\n",
        "\n",
        "def _recognize(audio):\n",
        "  display(Audio(audio, rate=SAMPLE_RATE, autoplay=True))\n",
        "  wavfile.write('test.wav', SAMPLE_RATE, (32767*audio).astype(np.int16))\n",
        "\n",
        "  predictor = Predictor()\n",
        "  predictor.predict('/content/drive/MyDrive/CS376/split/test.wav',\n",
        "                 MODEL, 'JSON')\n",
        "\n",
        "\n",
        "def _upload_audio(b):\n",
        "  clear_output()\n",
        "  audio = upload_audio(sample_rate=SAMPLE_RATE)\n",
        "  _recognize(audio)\n",
        "\n",
        "try:\n",
        "  _upload_audio(\"\")\n",
        "except TypeError:\n",
        "  print(\"uploading failed\")"
      ],
      "metadata": {
        "id": "Wwn4zupz4LV_"
      },
      "execution_count": null,
      "outputs": []
    }
  ],
  "metadata": {
    "colab": {
      "collapsed_sections": [
        "3G6xQAEnsHYj",
        "OkBpQY5QsB_4",
        "6dg8OdTNFpKf",
        "LN2--1w9nkr0",
        "rc5afidpYRHG",
        "KB0UuEu95d8U",
        "-UHRRDo7GmzH",
        "qq6v1SNDGrpg"
      ],
      "name": "Team16_Final_MusiCNN_result_29",
      "provenance": [],
      "machine_shape": "hm",
      "include_colab_link": true
    },
    "kernelspec": {
      "display_name": "Python 3",
      "name": "python3"
    },
    "language_info": {
      "name": "python"
    }
  },
  "nbformat": 4,
  "nbformat_minor": 0
}